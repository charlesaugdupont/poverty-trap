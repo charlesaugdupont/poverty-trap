{
 "cells": [
  {
   "cell_type": "code",
   "execution_count": 2,
   "id": "49802e64",
   "metadata": {},
   "outputs": [],
   "source": [
    "import time\n",
    "import sys\n",
    "#!{sys.executable} -m pip install [arg]\n",
    "\n",
    "\n",
    "import torch\n",
    "from torch_geometric.data import Data\n",
    "from torch_geometric.nn import MessagePassing\n",
    "from torch_geometric.utils import add_self_loops, degree\n",
    "\n",
    "\n",
    "import numpy as np\n",
    "from itertools import permutations"
   ]
  },
  {
   "cell_type": "markdown",
   "id": "ee42ab13",
   "metadata": {},
   "source": [
    "# Example"
   ]
  },
  {
   "cell_type": "code",
   "execution_count": 3,
   "id": "882b2f0d",
   "metadata": {},
   "outputs": [],
   "source": [
    "edge_index = torch.tensor([[0, 1, 1, 2],\n",
    "                           [1, 0, 2, 1]], dtype=torch.long)\n",
    "\n",
    "x = torch.tensor([[-1], [0], [1]], dtype=torch.float)"
   ]
  },
  {
   "cell_type": "code",
   "execution_count": 4,
   "id": "bd0fac3f",
   "metadata": {},
   "outputs": [],
   "source": [
    "data = Data(x=x, edge_index=edge_index)"
   ]
  },
  {
   "attachments": {
    "Screen%20Shot%202023-04-26%20at%205.33.43%20PM.png": {
     "image/png": "[encoded data removed]"
    }
   },
   "cell_type": "markdown",
   "id": "349e5cfd",
   "metadata": {},
   "source": [
    "![Screen%20Shot%202023-04-26%20at%205.33.43%20PM.png](attachment:Screen%20Shot%202023-04-26%20at%205.33.43%20PM.png)"
   ]
  },
  {
   "cell_type": "markdown",
   "id": "f5a03322",
   "metadata": {},
   "source": [
    "# Model"
   ]
  },
  {
   "cell_type": "markdown",
   "id": "d0da4770",
   "metadata": {},
   "source": [
    "`propagate()` internally calls `message()`, `aggregate()` and `update()`"
   ]
  },
  {
   "cell_type": "code",
   "execution_count": 10,
   "id": "66b6de9e",
   "metadata": {},
   "outputs": [],
   "source": [
    "class Graph(MessagePassing):\n",
    "    \n",
    "    \n",
    "    def __init__(self, N, w_init):\n",
    "        \"\"\"\n",
    "        N      : number of agent nodes\n",
    "        w_init : initial wealth of agents\n",
    "        \"\"\"\n",
    "        # construct edges\n",
    "        pairs = list(permutations(range(N), 2))    \n",
    "        edge_index = torch.tensor(pairs, dtype=torch.long).t().contiguous()\n",
    "\n",
    "        # initial wealth levels\n",
    "        x = torch.tensor([[w_init]*N], dtype=torch.float).t()\n",
    "\n",
    "        # construct Data object\n",
    "        # weights all equal since wealth distribution is uniform initially\n",
    "        self.data = Data(x=x, edge_index=edge_index, edge_weights=torch.ones(edge_index.shape))\n",
    "        \n",
    "        \n",
    "    def forward(self):\n",
    "        pass\n",
    "    \n",
    "\n",
    "    def message(self):\n",
    "        pass"
   ]
  },
  {
   "cell_type": "code",
   "execution_count": 5,
   "id": "0f2b5749",
   "metadata": {},
   "outputs": [],
   "source": [
    "def connection_probability(D, alpha, b, num):\n",
    "    return 1/(1+np.exp(alpha*(D-b))) > num"
   ]
  },
  {
   "cell_type": "code",
   "execution_count": null,
   "id": "957195e7",
   "metadata": {},
   "outputs": [],
   "source": []
  },
  {
   "cell_type": "code",
   "execution_count": 17,
   "id": "9717e435",
   "metadata": {},
   "outputs": [
    {
     "data": {
      "text/plain": [
       "tensor([[0, 0, 0, 1, 1, 1, 2, 2, 2, 3, 3, 3],\n",
       "        [1, 2, 3, 0, 2, 3, 0, 1, 3, 0, 1, 2]])"
      ]
     },
     "execution_count": 17,
     "metadata": {},
     "output_type": "execute_result"
    }
   ],
   "source": [
    "G = Graph(4, 0.1)\n",
    "G.data.edge_index"
   ]
  },
  {
   "cell_type": "code",
   "execution_count": null,
   "id": "4d175d30",
   "metadata": {},
   "outputs": [],
   "source": []
  }
 ],
 "metadata": {
  "kernelspec": {
   "display_name": "Python 3",
   "language": "python",
   "name": "python3"
  }
 },
 "nbformat": 4,
 "nbformat_minor": 5
}
