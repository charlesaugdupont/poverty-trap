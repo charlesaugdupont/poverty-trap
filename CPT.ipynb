{
 "cells": [
  {
   "cell_type": "code",
   "execution_count": 2,
   "id": "670df076",
   "metadata": {},
   "outputs": [],
   "source": [
    "import numpy as np\n",
    "from scipy.optimize import minimize\n",
    "\n",
    "from network_model import *\n",
    "import time\n",
    "\n",
    "np.random.seed(23)\n",
    "\n",
    "from cptopt.optimizer import MeanVarianceFrontierOptimizer\n",
    "from cptopt.utility import CPTUtility\n",
    "\n",
    "import matplotlib\n",
    "import matplotlib.pyplot as plt\n",
    "from mpl_toolkits.axes_grid1 import ImageGrid\n",
    "plt.rcParams.update(plt.rcParamsDefault)\n",
    "plt.rcParams.update({\"font.size\" : 15,\n",
    "                     \"figure.dpi\" : 100, \n",
    "                     \"grid.alpha\" : 0.3,\n",
    "                     \"axes.grid\": True,\n",
    "                     \"axes.axisbelow\" : True,\n",
    "                     \"figure.figsize\":(8,6),\n",
    "                     \"mathtext.fontset\":\"cm\",\n",
    "                     \"xtick.labelsize\": 14,\n",
    "                     \"ytick.labelsize\": 14,\n",
    "                     \"axes.labelsize\": 16, \n",
    "                     \"legend.fontsize\": 13.5})\n",
    "\n",
    "USE_TEX = False\n",
    "if USE_TEX:\n",
    "    plt.rc(\"text\", usetex=True)\n",
    "    plt.rc(\"text.latex\", preamble=r\"\"\"\n",
    "     \\usepackage{times}\n",
    "     \\usepackage{mathptmx}\"\"\")\n",
    "else:\n",
    "    plt.rc(\"text\", usetex=False)\n",
    "plt.rc(\"font\", family=\"serif\")"
   ]
  },
  {
   "cell_type": "code",
   "execution_count": 44,
   "id": "46687ee9",
   "metadata": {},
   "outputs": [],
   "source": [
    "gambles = generate_gambles(N=5, left=1.3, right=1.4)\n",
    "gambles.append({\"outcomes\":[1.1,0.0], \"probs\":[1,0]})    \n",
    "samples = 1000\n",
    "gamble_returns = np.zeros((samples,len(gambles)))\n",
    "for i,g in enumerate(gambles):\n",
    "    gamble_returns[:,i] = np.random.choice(g[\"outcomes\"], samples, p=g[\"probs\"]) - 1"
   ]
  },
  {
   "cell_type": "code",
   "execution_count": 45,
   "id": "1aa8a884",
   "metadata": {},
   "outputs": [
    {
     "name": "stdout",
     "output_type": "stream",
     "text": [
      "0.6116039752960205\n",
      "[0.17198 0.09933 0.06929 0.      0.      0.6594 ]\n"
     ]
    }
   ],
   "source": [
    "utility = CPTUtility(\n",
    "    gamma_pos=8.4, gamma_neg=11.4,\n",
    "    delta_pos=0.77, delta_neg=0.79\n",
    ")\n",
    "\n",
    "timea = time.time()\n",
    "\n",
    "mv1 = MeanVarianceFrontierOptimizer(utility)\n",
    "\n",
    "for _ in range(10):\n",
    "    mv1.optimize(gamble_returns[:990])\n",
    "print(time.time()-timea)\n",
    "print(mv1.weights.round(5))"
   ]
  },
  {
   "cell_type": "code",
   "execution_count": 57,
   "id": "827fb095",
   "metadata": {},
   "outputs": [
    {
     "name": "stdout",
     "output_type": "stream",
     "text": [
      "0.7503647804260254\n",
      "[0.      0.      0.38954 0.      0.18323 0.42723]\n"
     ]
    }
   ],
   "source": [
    "utility = CPTUtility(\n",
    "    gamma_pos=8.4, gamma_neg=11.4,\n",
    "    delta_pos=0.77, delta_neg=0.79\n",
    ")\n",
    "\n",
    "timea = time.time()\n",
    "\n",
    "mv2 = MeanVarianceFrontierOptimizer(utility)\n",
    "\n",
    "for _ in range(10):\n",
    "    mv2.optimize(gamble_returns[-10:])\n",
    "print(time.time()-timea)\n",
    "print(mv2.weights.round(5))"
   ]
  },
  {
   "cell_type": "code",
   "execution_count": 47,
   "id": "eab9aff8",
   "metadata": {},
   "outputs": [
    {
     "data": {
      "text/plain": [
       "array([0.137586, 0.079461, 0.133339, 0.      , 0.036646, 0.612968])"
      ]
     },
     "execution_count": 47,
     "metadata": {},
     "output_type": "execute_result"
    }
   ],
   "source": [
    "(0.8 * mv1.weights + 0.2*mv2.weights).round(6)"
   ]
  },
  {
   "cell_type": "code",
   "execution_count": null,
   "id": "979eec5b",
   "metadata": {},
   "outputs": [],
   "source": []
  }
 ],
 "metadata": {
  "kernelspec": {
   "display_name": "Python 3",
   "language": "python",
   "name": "python3"
  },
  "language_info": {
   "codemirror_mode": {
    "name": "ipython",
    "version": 3
   },
   "file_extension": ".py",
   "mimetype": "text/x-python",
   "name": "python",
   "nbconvert_exporter": "python",
   "pygments_lexer": "ipython3",
   "version": "3.8.6"
  }
 },
 "nbformat": 4,
 "nbformat_minor": 5
}
