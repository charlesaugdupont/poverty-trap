{
 "cells": [
  {
   "cell_type": "code",
   "execution_count": 247,
   "id": "a6aa1bb1",
   "metadata": {},
   "outputs": [],
   "source": [
    "import numpy as np\n",
    "from scipy.optimize import minimize\n",
    "\n",
    "from network_model import *\n",
    "import time\n",
    "\n",
    "np.random.seed(23)\n",
    "\n",
    "from cptopt.optimizer import MeanVarianceFrontierOptimizer\n",
    "from cptopt.utility import CPTUtility\n",
    "\n",
    "import matplotlib\n",
    "import matplotlib.pyplot as plt\n",
    "from mpl_toolkits.axes_grid1 import ImageGrid\n",
    "plt.rcParams.update(plt.rcParamsDefault)\n",
    "plt.rcParams.update({\"font.size\" : 15,\n",
    "                     \"figure.dpi\" : 100, \n",
    "                     \"grid.alpha\" : 0.3,\n",
    "                     \"axes.grid\": True,\n",
    "                     \"axes.axisbelow\" : True,\n",
    "                     \"figure.figsize\":(8,6),\n",
    "                     \"mathtext.fontset\":\"cm\",\n",
    "                     \"xtick.labelsize\": 14,\n",
    "                     \"ytick.labelsize\": 14,\n",
    "                     \"axes.labelsize\": 16, \n",
    "                     \"legend.fontsize\": 13.5})\n",
    "\n",
    "USE_TEX = False\n",
    "if USE_TEX:\n",
    "    plt.rc(\"text\", usetex=True)\n",
    "    plt.rc(\"text.latex\", preamble=r\"\"\"\n",
    "     \\usepackage{times}\n",
    "     \\usepackage{mathptmx}\"\"\")\n",
    "else:\n",
    "    plt.rc(\"text\", usetex=False)\n",
    "plt.rc(\"font\", family=\"serif\")"
   ]
  },
  {
   "cell_type": "code",
   "execution_count": null,
   "id": "20fe43e4",
   "metadata": {},
   "outputs": [],
   "source": [
    "solver = []\n",
    "\n",
    "timea = time.time()\n",
    "\n",
    "for _ in range(200):\n",
    "\n",
    "    # generate gamble returns\n",
    "    gambles = generate_gambles(N=5, left=1.3, right=1.4)\n",
    "    gambles.append({\"outcomes\":[1.1,0.0], \"probs\":[1,0]})    \n",
    "    samples = 100\n",
    "    gamble_returns = np.zeros((samples,len(gambles)))\n",
    "    for i,g in enumerate(gambles):\n",
    "        gamble_returns[:,i] = np.random.choice(g[\"outcomes\"], samples, p=g[\"probs\"]) - 1\n",
    "\n",
    "    # define CPT utility function\n",
    "    utility = CPTUtility(\n",
    "        gamma_pos=8.4, gamma_neg=11.4,\n",
    "        delta_pos=0.77, delta_neg=0.79\n",
    "    )\n",
    "\n",
    "    # optimization\n",
    "    mv = MeanVarianceFrontierOptimizer(utility)\n",
    "    mv.optimize(gamble_returns)\n",
    "    solver.append(mv._best_util)\n",
    "        \n",
    "print(time.time() - timea)\n",
    "        \n",
    "with open(\"solver.pickle\", 'wb') as f:\n",
    "    pickle.dump(solver, f)"
   ]
  },
  {
   "cell_type": "code",
   "execution_count": null,
   "id": "471235b2",
   "metadata": {},
   "outputs": [],
   "source": [
    "no_solver = []\n",
    "\n",
    "timea = time.time()\n",
    "\n",
    "for _ in range(200):\n",
    "\n",
    "    # generate gamble returns\n",
    "    gambles = generate_gambles(N=5, left=1.3, right=1.4)\n",
    "    gambles.append({\"outcomes\":[1.1,0.0], \"probs\":[1,0]})    \n",
    "    samples = 100\n",
    "    gamble_returns = np.zeros((samples,len(gambles)))\n",
    "    for i,g in enumerate(gambles):\n",
    "        gamble_returns[:,i] = np.random.choice(g[\"outcomes\"], samples, p=g[\"probs\"]) - 1\n",
    "\n",
    "    # define CPT utility function\n",
    "    utility = CPTUtility(\n",
    "        gamma_pos=8.4, gamma_neg=11.4,\n",
    "        delta_pos=0.77, delta_neg=0.79\n",
    "    )\n",
    "\n",
    "    # optimization\n",
    "    mv = MeanVarianceFrontierOptimizer(utility)\n",
    "    mv.optimize(gamble_returns)\n",
    "    no_solver.append(mv._best_util)\n",
    "        \n",
    "print(time.time() - timea)\n",
    "        \n",
    "with open(\"no_solver.pickle\", 'wb') as f:\n",
    "    pickle.dump(no_solver, f)"
   ]
  },
  {
   "cell_type": "code",
   "execution_count": null,
   "id": "c3fbd329",
   "metadata": {},
   "outputs": [],
   "source": []
  },
  {
   "cell_type": "code",
   "execution_count": null,
   "id": "250fce7d",
   "metadata": {},
   "outputs": [],
   "source": [
    "with open(\"solver.pickle\", \"rb\") as f:\n",
    "    solver = pickle.load(f)\n",
    "\n",
    "plt.plot(solver, label=\"solver\")\n",
    "plt.plot(no_solver, label=\"no solver\")\n",
    "plt.legend()\n",
    "plt.show()"
   ]
  },
  {
   "cell_type": "code",
   "execution_count": null,
   "id": "130e4fe0",
   "metadata": {},
   "outputs": [],
   "source": []
  },
  {
   "cell_type": "code",
   "execution_count": null,
   "id": "f9dee661",
   "metadata": {},
   "outputs": [],
   "source": []
  },
  {
   "cell_type": "code",
   "execution_count": null,
   "id": "50d994f5",
   "metadata": {},
   "outputs": [],
   "source": []
  },
  {
   "cell_type": "code",
   "execution_count": null,
   "id": "f27b3b0e",
   "metadata": {},
   "outputs": [],
   "source": []
  },
  {
   "cell_type": "code",
   "execution_count": null,
   "id": "781b0805",
   "metadata": {},
   "outputs": [],
   "source": []
  },
  {
   "cell_type": "code",
   "execution_count": 396,
   "id": "fe00ae13",
   "metadata": {},
   "outputs": [],
   "source": [
    "N = 4\n",
    "\n",
    "# generate gamble returns\n",
    "gambles = generate_gambles(N=N, left=1.3, right=1.4)\n",
    "gambles.append({\"outcomes\":[1.1,0.0], \"probs\":[1,0]})    \n",
    "samples = 1000\n",
    "gamble_returns = np.zeros((samples,len(gambles)))\n",
    "for i,g in enumerate(gambles):\n",
    "    gamble_returns[:,i] = np.random.choice(g[\"outcomes\"], samples, p=g[\"probs\"]) - 1"
   ]
  },
  {
   "cell_type": "code",
   "execution_count": 397,
   "id": "aeb7d6f2",
   "metadata": {},
   "outputs": [
    {
     "data": {
      "text/plain": [
       "array([0.106, 0.148, 0.102, 0.164, 0.1  ])"
      ]
     },
     "execution_count": 397,
     "metadata": {},
     "output_type": "execute_result"
    }
   ],
   "source": [
    "np.mean(gamble_returns, axis=0).round(3)"
   ]
  },
  {
   "cell_type": "code",
   "execution_count": 398,
   "id": "913c7e5e",
   "metadata": {},
   "outputs": [],
   "source": [
    "def portfolio_variance(x, cov):\n",
    "    return x.T @ cov @ x\n",
    "\n",
    "def portfolio_expected_value(x, mu):\n",
    "    return - mu @ x"
   ]
  },
  {
   "cell_type": "code",
   "execution_count": 399,
   "id": "b6577ebb",
   "metadata": {},
   "outputs": [],
   "source": [
    "COV = np.cov(gamble_returns, rowvar=False)\n",
    "MU = np.mean(gamble_returns, axis=0)"
   ]
  },
  {
   "cell_type": "code",
   "execution_count": 400,
   "id": "ecabe192",
   "metadata": {},
   "outputs": [],
   "source": [
    "x0 = np.repeat(1/(N+1), N+1)\n",
    "cons = ({'type': 'eq', 'fun': lambda x:  sum(x) - 1})\n",
    "bnds = [(0, 1)] * (N+1)"
   ]
  },
  {
   "cell_type": "code",
   "execution_count": 401,
   "id": "9129d646",
   "metadata": {
    "scrolled": true
   },
   "outputs": [],
   "source": [
    "result = minimize(portfolio_variance, \n",
    "                  x0=x0, \n",
    "                  args=(COV), \n",
    "                  constraints=cons,\n",
    "                  bounds=bnds)\n",
    "\n",
    "u_min = result.fun"
   ]
  },
  {
   "cell_type": "code",
   "execution_count": 402,
   "id": "d2c45d31",
   "metadata": {},
   "outputs": [],
   "source": [
    "result = minimize(portfolio_expected_value, \n",
    "                  x0=x0, \n",
    "                  args=(MU), \n",
    "                  constraints=cons,\n",
    "                  bounds=bnds)\n",
    "\n",
    "u_max = - result.fun"
   ]
  },
  {
   "cell_type": "code",
   "execution_count": 403,
   "id": "3f277eb0",
   "metadata": {},
   "outputs": [
    {
     "data": {
      "text/plain": [
       "(4.8884587560642804e-08, 0.16430140454854394)"
      ]
     },
     "execution_count": 403,
     "metadata": {},
     "output_type": "execute_result"
    }
   ],
   "source": [
    "u_min, u_max"
   ]
  },
  {
   "cell_type": "code",
   "execution_count": 404,
   "id": "9b987894",
   "metadata": {},
   "outputs": [],
   "source": [
    "# define CPT utility function\n",
    "utility = CPTUtility(\n",
    "    gamma_pos=8.4, gamma_neg=11.4,\n",
    "    delta_pos=0.77, delta_neg=0.79\n",
    ")\n",
    "\n",
    "N = len(gamble_returns)\n",
    "p_weights = utility.cumulative_weights(N, delta=utility.delta_pos)\n",
    "n_weights = utility.cumulative_weights(N, delta=utility.delta_neg)"
   ]
  },
  {
   "cell_type": "code",
   "execution_count": 405,
   "id": "e69164c4",
   "metadata": {},
   "outputs": [],
   "source": [
    "def cpt_utility(x, bnds, x0, COV):\n",
    "        \n",
    "    cons = ({'type': 'eq', 'fun': lambda y:  sum(y) - 1},\n",
    "            {'type': 'ineq', 'fun': lambda y: MU @ y - x[0]})\n",
    "        \n",
    "    res = minimize(portfolio_variance,\n",
    "                   x0=x0,\n",
    "                   args=(COV),\n",
    "                   constraints=cons,\n",
    "                   bounds=bnds,\n",
    "                   method=\"SLSQP\")\n",
    "    \n",
    "    return - utility.evaluate(res.x, gamble_returns, p_weights, n_weights)[0]"
   ]
  },
  {
   "cell_type": "code",
   "execution_count": null,
   "id": "90c1fd25",
   "metadata": {},
   "outputs": [],
   "source": []
  },
  {
   "cell_type": "code",
   "execution_count": 408,
   "id": "fb4678a9",
   "metadata": {},
   "outputs": [],
   "source": [
    "delta = u_max - u_min\n",
    "out = minimize(cpt_utility, \n",
    "               x0=(u_min + 0.7 * delta), \n",
    "               bounds=((u_min, u_max),),\n",
    "               args=(bnds, x0, COV),\n",
    "               method=\"SLSQP\",\n",
    "               tol=1e-4)"
   ]
  },
  {
   "cell_type": "code",
   "execution_count": 410,
   "id": "fadcb1f5",
   "metadata": {},
   "outputs": [],
   "source": [
    "cons = ({'type': 'eq', 'fun': lambda y:  sum(y) - 1},\n",
    "        {'type': 'ineq', 'fun': lambda y: MU @ y - out.x[0]})\n",
    "\n",
    "res = minimize(portfolio_variance,\n",
    "               x0=x0,\n",
    "               args=(COV),\n",
    "               constraints=cons,\n",
    "               bounds=bnds,\n",
    "               method=\"SLSQP\")"
   ]
  },
  {
   "cell_type": "code",
   "execution_count": 413,
   "id": "62ccc5a4",
   "metadata": {},
   "outputs": [
    {
     "data": {
      "text/plain": [
       "array([0.03420618, 0.12714739, 0.00844075, 0.19865397, 0.63155171])"
      ]
     },
     "execution_count": 413,
     "metadata": {},
     "output_type": "execute_result"
    }
   ],
   "source": [
    "res.x"
   ]
  }
 ],
 "metadata": {
  "kernelspec": {
   "display_name": "Python 3",
   "language": "python",
   "name": "python3"
  },
  "language_info": {
   "codemirror_mode": {
    "name": "ipython",
    "version": 3
   },
   "file_extension": ".py",
   "mimetype": "text/x-python",
   "name": "python",
   "nbconvert_exporter": "python",
   "pygments_lexer": "ipython3",
   "version": "3.8.6"
  }
 },
 "nbformat": 4,
 "nbformat_minor": 5
}
