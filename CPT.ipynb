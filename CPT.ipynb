{
 "cells": [
  {
   "cell_type": "code",
   "execution_count": 1,
   "id": "3ec7144a",
   "metadata": {},
   "outputs": [],
   "source": [
    "import numpy as np\n",
    "from scipy.optimize import minimize\n",
    "\n",
    "from network_model import *\n",
    "import time\n",
    "\n",
    "np.random.seed(23)\n",
    "\n",
    "from cptopt.optimizer import MeanVarianceFrontierOptimizer\n",
    "from cptopt.utility import CPTUtility\n",
    "\n",
    "import matplotlib\n",
    "import matplotlib.pyplot as plt\n",
    "from mpl_toolkits.axes_grid1 import ImageGrid\n",
    "plt.rcParams.update(plt.rcParamsDefault)\n",
    "plt.rcParams.update({\"font.size\" : 15,\n",
    "                     \"figure.dpi\" : 100, \n",
    "                     \"grid.alpha\" : 0.3,\n",
    "                     \"axes.grid\": True,\n",
    "                     \"axes.axisbelow\" : True,\n",
    "                     \"figure.figsize\":(8,6),\n",
    "                     \"mathtext.fontset\":\"cm\",\n",
    "                     \"xtick.labelsize\": 14,\n",
    "                     \"ytick.labelsize\": 14,\n",
    "                     \"axes.labelsize\": 16, \n",
    "                     \"legend.fontsize\": 13.5})\n",
    "\n",
    "USE_TEX = False\n",
    "if USE_TEX:\n",
    "    plt.rc(\"text\", usetex=True)\n",
    "    plt.rc(\"text.latex\", preamble=r\"\"\"\n",
    "     \\usepackage{times}\n",
    "     \\usepackage{mathptmx}\"\"\")\n",
    "else:\n",
    "    plt.rc(\"text\", usetex=False)\n",
    "plt.rc(\"font\", family=\"serif\")"
   ]
  },
  {
   "cell_type": "code",
   "execution_count": 2,
   "id": "2c7456e3",
   "metadata": {},
   "outputs": [],
   "source": [
    "utility = CPTUtility(\n",
    "    gamma_pos=10.0, gamma_neg=11.4,\n",
    "    delta_pos=0.77, delta_neg=.79\n",
    ")"
   ]
  },
  {
   "cell_type": "code",
   "execution_count": 3,
   "id": "3efa81ca",
   "metadata": {},
   "outputs": [
    {
     "name": "stderr",
     "output_type": "stream",
     "text": [
      "/Library/Frameworks/Python.framework/Versions/3.8/lib/python3.8/site-packages/cvxpy/problems/problem.py:1385: UserWarning: Solution may be inaccurate. Try another solver, adjusting the solver settings, or solve with verbose=True for more information.\n",
      "  warnings.warn(\n"
     ]
    },
    {
     "name": "stdout",
     "output_type": "stream",
     "text": [
      "14.398591995239258\n"
     ]
    }
   ],
   "source": [
    "gambles = generate_gambles(N=5, left=1.3, right=1.4)\n",
    "gambles.append({\"outcomes\":[1.1,0.0], \"probs\":[1,0]})    \n",
    "samples = 1000\n",
    "gamble_returns = np.zeros((samples,len(gambles)))\n",
    "for i,g in enumerate(gambles):\n",
    "    gamble_returns[:,i] = np.random.choice(g[\"outcomes\"], samples, p=g[\"probs\"]) - 1\n",
    "\n",
    "\n",
    "timea = time.time()\n",
    "for _ in range(500):\n",
    "    mv = MeanVarianceFrontierOptimizer(utility)\n",
    "    mv.optimize(gamble_returns)\n",
    "print(time.time() - timea)"
   ]
  },
  {
   "cell_type": "code",
   "execution_count": null,
   "id": "85d79829",
   "metadata": {},
   "outputs": [],
   "source": [
    "gambles = generate_gambles(N=5, left=1.3, right=1.4)\n",
    "gambles.append({\"outcomes\":[1.1,0.0], \"probs\":[1,0]})    \n",
    "samples = 1000\n",
    "gamble_returns = np.zeros((samples,len(gambles)))\n",
    "for i,g in enumerate(gambles):\n",
    "    gamble_returns[:,i] = np.random.choice(g[\"outcomes\"], samples, p=g[\"probs\"]) - 1\n",
    "\n",
    "\n",
    "timea = time.time()\n",
    "for _ in range(500):\n",
    "    mv = MeanVarianceFrontierOptimizer(utility)\n",
    "    mv.optimize(gamble_returns)\n",
    "print(time.time() - timea)"
   ]
  },
  {
   "cell_type": "code",
   "execution_count": null,
   "id": "834f7eb8",
   "metadata": {},
   "outputs": [],
   "source": []
  },
  {
   "cell_type": "code",
   "execution_count": null,
   "id": "768ec1a0",
   "metadata": {},
   "outputs": [],
   "source": []
  }
 ],
 "metadata": {
  "kernelspec": {
   "display_name": "Python 3",
   "language": "python",
   "name": "python3"
  },
  "language_info": {
   "codemirror_mode": {
    "name": "ipython",
    "version": 3
   },
   "file_extension": ".py",
   "mimetype": "text/x-python",
   "name": "python",
   "nbconvert_exporter": "python",
   "pygments_lexer": "ipython3",
   "version": "3.8.6"
  }
 },
 "nbformat": 4,
 "nbformat_minor": 5
}
