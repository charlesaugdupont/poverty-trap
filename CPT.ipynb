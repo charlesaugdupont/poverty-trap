{
 "cells": [
  {
   "cell_type": "code",
   "execution_count": 42,
   "id": "3ec7144a",
   "metadata": {},
   "outputs": [],
   "source": [
    "import numpy as np\n",
    "from scipy.optimize import minimize\n",
    "\n",
    "from model_network import *\n",
    "\n",
    "\n",
    "import matplotlib\n",
    "import matplotlib.pyplot as plt\n",
    "from mpl_toolkits.axes_grid1 import ImageGrid\n",
    "plt.rcParams.update(plt.rcParamsDefault)\n",
    "plt.rcParams.update({\"font.size\" : 15,\n",
    "                     \"figure.dpi\" : 100, \n",
    "                     \"grid.alpha\" : 0.3, \n",
    "                     \"axes.grid\": True, \n",
    "                     \"axes.axisbelow\" : True,\n",
    "                     \"figure.figsize\":(8,6),\n",
    "                     \"mathtext.fontset\":\"cm\",\n",
    "                     \"xtick.labelsize\": 14,\n",
    "                     \"ytick.labelsize\": 14,\n",
    "                     \"axes.labelsize\": 16, \n",
    "                     \"legend.fontsize\": 13.5})\n",
    "\n",
    "USE_TEX = False\n",
    "if USE_TEX:\n",
    "    plt.rc(\"text\", usetex=True)\n",
    "    plt.rc(\"text.latex\", preamble=r\"\"\"\n",
    "     \\usepackage{times}\n",
    "     \\usepackage{mathptmx}\"\"\")\n",
    "else:\n",
    "    plt.rc(\"text\", usetex=False)\n",
    "plt.rc(\"font\", family=\"serif\")"
   ]
  },
  {
   "cell_type": "code",
   "execution_count": 5,
   "id": "2de3d532",
   "metadata": {},
   "outputs": [],
   "source": [
    "# gain utility function\n",
    "def utility_gain(x, gamma_gain):\n",
    "    return 1-np.exp(-gamma_gain*x)\n",
    "\n",
    "\n",
    "# loss utility function\n",
    "def utility_loss(x, gamma_loss):\n",
    "    return -1 + np.exp(gamma_loss*x)"
   ]
  },
  {
   "cell_type": "code",
   "execution_count": 220,
   "id": "99232b21",
   "metadata": {},
   "outputs": [
    {
     "data": {
      "image/png": "[encoded data removed]",
      "text/plain": [
       "<Figure size 800x600 with 1 Axes>"
      ]
     },
     "metadata": {},
     "output_type": "display_data"
    }
   ],
   "source": [
    "gamma_gain = 8.4\n",
    "gamma_loss = 11.4\n",
    "\n",
    "plt.plot(np.linspace(-0.5,0,100), \n",
    "         utility_loss(np.linspace(-0.5,0,100), gamma_loss), color=\"crimson\")\n",
    "plt.plot(np.linspace(0,1.5,100), \n",
    "         utility_gain(np.linspace(0,1.5,100), gamma_gain), color=\"dodgerblue\")\n",
    "plt.show()"
   ]
  },
  {
   "cell_type": "code",
   "execution_count": null,
   "id": "a411442d",
   "metadata": {},
   "outputs": [],
   "source": []
  },
  {
   "cell_type": "code",
   "execution_count": 285,
   "id": "5d368f9e",
   "metadata": {
    "scrolled": true
   },
   "outputs": [],
   "source": [
    "from cptopt.optimizer import MeanVarianceFrontierOptimizer, ConvexConcaveOptimizer\n",
    "from cptopt.utility import CPTUtility"
   ]
  },
  {
   "cell_type": "code",
   "execution_count": 255,
   "id": "0f494eb7",
   "metadata": {},
   "outputs": [
    {
     "data": {
      "text/plain": [
       "[{'outcomes': [0.9048483655589421, 2.4152820919869513],\n",
       "  'probs': [0.38068510412957146, 0.6193148958704285]},\n",
       " {'outcomes': [0.9018288753286734, 2.438354893519045],\n",
       "  'probs': [0.7948762327230419, 0.20512376727695814]},\n",
       " {'outcomes': [0.9036178573549135, 2.2280333284518963],\n",
       "  'probs': [0.2392405761340814, 0.7607594238659185]},\n",
       " {'outcomes': [0.9132357372970978, 2.1453993010185686],\n",
       "  'probs': [0.6887569258362805, 0.31124307416371955]},\n",
       " {'outcomes': [0.9302551115738107, 2.048151407468716],\n",
       "  'probs': [0.675273906259959, 0.324726093740041]},\n",
       " {'outcomes': [1.1, 0.0], 'probs': [1, 0]}]"
      ]
     },
     "execution_count": 255,
     "metadata": {},
     "output_type": "execute_result"
    }
   ],
   "source": [
    "gambles = generate_gambles(N=5)\n",
    "gambles.append({\"outcomes\":[1.1,0.0], \"probs\":[1,0]})\n",
    "gambles"
   ]
  },
  {
   "cell_type": "code",
   "execution_count": 256,
   "id": "c098733a",
   "metadata": {},
   "outputs": [],
   "source": [
    "samples = 20000\n",
    "gamble_returns = np.zeros((samples,len(gambles)))\n",
    "for i,g in enumerate(gambles):\n",
    "    gamble_returns[:,i] = np.random.choice(g[\"outcomes\"], samples, p=g[\"probs\"]) - 1"
   ]
  },
  {
   "cell_type": "code",
   "execution_count": 269,
   "id": "729f50ec",
   "metadata": {},
   "outputs": [
    {
     "data": {
      "text/plain": [
       "array([0.129, 0.029, 0.239, 0.059, 0.066, 0.478])"
      ]
     },
     "execution_count": 269,
     "metadata": {},
     "output_type": "execute_result"
    }
   ],
   "source": [
    "utility = CPTUtility(\n",
    "    gamma_pos=8.4, gamma_neg=11.4,\n",
    "    delta_pos=.77, delta_neg=.79\n",
    ")\n",
    "\n",
    "mv = MeanVarianceFrontierOptimizer(utility)\n",
    "mv.optimize(gamble_returns, samples=100)\n",
    "mv.weights.round(3)"
   ]
  },
  {
   "cell_type": "code",
   "execution_count": 284,
   "id": "815d0544",
   "metadata": {},
   "outputs": [
    {
     "data": {
      "text/plain": [
       "array([0.15711679, 0.01109324, 0.22429458, 0.05371205, 0.05796143,\n",
       "       0.4958219 ])"
      ]
     },
     "execution_count": 284,
     "metadata": {},
     "output_type": "execute_result"
    }
   ],
   "source": [
    "cc = ConvexConcaveOptimizer(utility, max_iter=2)\n",
    "cc.optimize(gamble_returns, initial_weights=np.repeat(1/6, 6))\n",
    "cc.weights"
   ]
  },
  {
   "cell_type": "code",
   "execution_count": null,
   "id": "e4c10c93",
   "metadata": {},
   "outputs": [],
   "source": []
  }
 ],
 "metadata": {
  "kernelspec": {
   "display_name": "Python 3",
   "language": "python",
   "name": "python3"
  },
  "language_info": {
   "codemirror_mode": {
    "name": "ipython",
    "version": 3
   },
   "file_extension": ".py",
   "mimetype": "text/x-python",
   "name": "python",
   "nbconvert_exporter": "python",
   "pygments_lexer": "ipython3",
   "version": "3.8.6"
  }
 },
 "nbformat": 4,
 "nbformat_minor": 5
}
