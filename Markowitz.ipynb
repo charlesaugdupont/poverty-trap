{
 "cells": [
  {
   "cell_type": "code",
   "execution_count": 296,
   "id": "42ecd42c",
   "metadata": {},
   "outputs": [],
   "source": [
    "from network_model import *\n",
    "from pymarkowitz import *\n",
    "import sys\n",
    "\n",
    "\n",
    "\n",
    "import matplotlib\n",
    "import matplotlib.pyplot as plt\n",
    "from mpl_toolkits.axes_grid1 import ImageGrid\n",
    "plt.rcParams.update(plt.rcParamsDefault)\n",
    "plt.rcParams.update({\"font.size\" : 15,\n",
    "                     \"figure.dpi\" : 100, \n",
    "                     \"grid.alpha\" : 0.3, \n",
    "                     \"axes.grid\": True, \n",
    "                     \"axes.axisbelow\" : True,\n",
    "                     \"figure.figsize\":(8,6),\n",
    "                     \"mathtext.fontset\":\"cm\",\n",
    "                     \"xtick.labelsize\": 14,\n",
    "                     \"ytick.labelsize\": 14,\n",
    "                     \"axes.labelsize\": 16, \n",
    "                     \"legend.fontsize\": 13.5})\n",
    "USE_TEX = False\n",
    "if USE_TEX:\n",
    "    plt.rc(\"text\", usetex=True)\n",
    "    plt.rc(\"text.latex\", preamble=r\"\"\"\n",
    "     \\usepackage{times}\n",
    "     \\usepackage{mathptmx}\"\"\")\n",
    "else:\n",
    "    plt.rc(\"text\", usetex=False)\n",
    "plt.rc(\"font\", family=\"serif\")"
   ]
  },
  {
   "cell_type": "code",
   "execution_count": 297,
   "id": "7fac3eb4",
   "metadata": {},
   "outputs": [],
   "source": [
    "GAMBLES = generate_gambles(10, right=1.8)\n",
    "GAMBLES.append({\"outcomes\":[1.1, 0.0], \"probs\":[1.0, 0.0]})"
   ]
  },
  {
   "cell_type": "code",
   "execution_count": 298,
   "id": "f9a8ed8a",
   "metadata": {},
   "outputs": [],
   "source": [
    "gamble_averages  = np.zeros((len(GAMBLES)))\n",
    "gamble_variances = np.zeros((len(GAMBLES)))\n",
    "\n",
    "# compute expected value and variance of each gamble\n",
    "for i,g in enumerate(GAMBLES):\n",
    "    gamble_averages[i]  = np.average(g[\"outcomes\"], weights=g[\"probs\"])\n",
    "    gamble_variances[i] = np.average((g[\"outcomes\"]-gamble_averages[i])**2, weights=g[\"probs\"])"
   ]
  },
  {
   "cell_type": "code",
   "execution_count": 299,
   "id": "cbfb057c",
   "metadata": {},
   "outputs": [],
   "source": [
    "S = 1000\n",
    "GAMBLE_PRIOR_SAMPLES = np.zeros((S, len(GAMBLES)))\n",
    "for i,g in enumerate(GAMBLES):\n",
    "    GAMBLE_PRIOR_SAMPLES[:,i] = np.random.choice(g[\"outcomes\"], S, p=g[\"probs\"])"
   ]
  },
  {
   "cell_type": "code",
   "execution_count": 300,
   "id": "4d7c5b22",
   "metadata": {},
   "outputs": [],
   "source": [
    "GAMBLES_MU  = np.mean(GAMBLE_PRIOR_SAMPLES-1, axis=0)\n",
    "GAMBLES_COV = np.cov(GAMBLE_PRIOR_SAMPLES-1, rowvar=False)"
   ]
  },
  {
   "cell_type": "code",
   "execution_count": 301,
   "id": "cb2ec96f",
   "metadata": {},
   "outputs": [
    {
     "name": "stderr",
     "output_type": "stream",
     "text": [
      "/Library/Frameworks/Python.framework/Versions/3.8/lib/python3.8/site-packages/pymarkowitz/Optimizer.py:368: UserWarning: \"Detected no beta input. Will not be able to perform any beta-related optimization.\n",
      "  warnings.warn(\"\"\"\"Detected no beta input. Will not be able to perform any beta-related optimization.\"\"\")\n"
     ]
    },
    {
     "data": {
      "text/plain": [
       "array([0.00785645, 0.0159122 , 0.01531408, 0.00572592, 0.00947092,\n",
       "       0.02122418, 0.00574001, 0.00519176, 0.01389077, 0.02223179,\n",
       "       0.8774419 ])"
      ]
     },
     "execution_count": 301,
     "metadata": {},
     "output_type": "execute_result"
    }
   ],
   "source": [
    "PortOpt = Optimizer(GAMBLES_MU, GAMBLES_COV)\n",
    "PortOpt.add_objective(\"efficient_frontier\", aversion=100)\n",
    "PortOpt.add_constraint(\"weight\", weight_bound=(0,1), leverage=1)\n",
    "\n",
    "PortOpt.solve()\n",
    "PortOpt.weight_sols"
   ]
  },
  {
   "cell_type": "markdown",
   "id": "663fdfb0",
   "metadata": {},
   "source": [
    "### Risk-aversion experiments"
   ]
  },
  {
   "cell_type": "code",
   "execution_count": 304,
   "id": "8cd13035",
   "metadata": {},
   "outputs": [
    {
     "name": "stdout",
     "output_type": "stream",
     "text": [
      "0.0\n",
      "0.1786017327297083\n",
      "0.7536885851033805\n",
      "0.876798332906678\n"
     ]
    },
    {
     "data": {
      "image/png": "[encoded data removed]",
      "text/plain": [
       "<Figure size 1400x400 with 4 Axes>"
      ]
     },
     "metadata": {},
     "output_type": "display_data"
    }
   ],
   "source": [
    "fig, axs = plt.subplots(1, 4, figsize=(14,4))\n",
    "\n",
    "\n",
    "for i,aversion in enumerate([5, 15, 50, 100]):\n",
    "    PortOpt = Optimizer(GAMBLES_MU, GAMBLES_COV)\n",
    "    PortOpt.add_objective(\"efficient_frontier\", aversion=aversion)\n",
    "    PortOpt.add_constraint(\"weight\", weight_bound=(0,1), leverage=1)\n",
    "\n",
    "    PortOpt.solve()\n",
    "    axs[i].bar(np.arange(len(GAMBLES)), PortOpt.weight_sols)\n",
    "    print(PortOpt.weight_sols[-1])\n",
    "    axs[i].set_ylim(0, 0.75)\n",
    "\n",
    "plt.show()"
   ]
  },
  {
   "cell_type": "code",
   "execution_count": null,
   "id": "91b71d66",
   "metadata": {},
   "outputs": [],
   "source": []
  },
  {
   "cell_type": "code",
   "execution_count": null,
   "id": "f9290007",
   "metadata": {},
   "outputs": [],
   "source": []
  },
  {
   "cell_type": "code",
   "execution_count": null,
   "id": "b8964951",
   "metadata": {},
   "outputs": [],
   "source": []
  }
 ],
 "metadata": {
  "kernelspec": {
   "display_name": "Python 3",
   "language": "python",
   "name": "python3"
  },
  "language_info": {
   "codemirror_mode": {
    "name": "ipython",
    "version": 3
   },
   "file_extension": ".py",
   "mimetype": "text/x-python",
   "name": "python",
   "nbconvert_exporter": "python",
   "pygments_lexer": "ipython3",
   "version": "3.8.6"
  }
 },
 "nbformat": 4,
 "nbformat_minor": 5
}
