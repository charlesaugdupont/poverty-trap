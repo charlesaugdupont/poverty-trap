{
 "cells": [
  {
   "cell_type": "code",
   "execution_count": 158,
   "id": "42ecd42c",
   "metadata": {},
   "outputs": [],
   "source": [
    "from network_model import *\n",
    "from pymarkowitz import *\n",
    "import sys"
   ]
  },
  {
   "cell_type": "code",
   "execution_count": null,
   "id": "1e1216bc",
   "metadata": {},
   "outputs": [],
   "source": []
  },
  {
   "cell_type": "code",
   "execution_count": 159,
   "id": "7fac3eb4",
   "metadata": {},
   "outputs": [],
   "source": [
    "GAMBLES = generate_gambles(20, left=1.3, right=1.5)\n",
    "GAMBLES.append({\"outcomes\":[1.1, 0.0], \"probs\":[1.0, 0.0]})"
   ]
  },
  {
   "cell_type": "code",
   "execution_count": 160,
   "id": "f9a8ed8a",
   "metadata": {},
   "outputs": [],
   "source": [
    "gamble_averages  = np.zeros((len(GAMBLES)))\n",
    "gamble_variances = np.zeros((len(GAMBLES)))\n",
    "\n",
    "# compute expected value and variance of each gamble\n",
    "for i,g in enumerate(GAMBLES):\n",
    "    gamble_averages[i]  = np.average(g[\"outcomes\"], weights=g[\"probs\"])\n",
    "    gamble_variances[i] = np.average((g[\"outcomes\"]-gamble_averages[i])**2, weights=g[\"probs\"])"
   ]
  },
  {
   "cell_type": "code",
   "execution_count": null,
   "id": "d0744337",
   "metadata": {},
   "outputs": [],
   "source": []
  },
  {
   "cell_type": "code",
   "execution_count": null,
   "id": "f3b55cf4",
   "metadata": {},
   "outputs": [],
   "source": []
  },
  {
   "cell_type": "code",
   "execution_count": 161,
   "id": "cbfb057c",
   "metadata": {},
   "outputs": [],
   "source": [
    "GAMBLE_PRIOR_SAMPLES = np.zeros((100, 21))\n",
    "for i,g in enumerate(GAMBLES):\n",
    "    GAMBLE_PRIOR_SAMPLES[:,i] = np.random.choice(g[\"outcomes\"], 100, p=g[\"probs\"]) - 1"
   ]
  },
  {
   "cell_type": "code",
   "execution_count": 166,
   "id": "4d7c5b22",
   "metadata": {},
   "outputs": [],
   "source": [
    "GAMBLES_MU  = np.mean(GAMBLE_PRIOR_SAMPLES-1, axis=0)\n",
    "GAMBLES_COV = np.cov(GAMBLE_PRIOR_SAMPLES-1, rowvar=False)"
   ]
  },
  {
   "cell_type": "code",
   "execution_count": 167,
   "id": "14069ddf",
   "metadata": {},
   "outputs": [
    {
     "data": {
      "text/plain": [
       "(21,)"
      ]
     },
     "execution_count": 167,
     "metadata": {},
     "output_type": "execute_result"
    }
   ],
   "source": [
    "GAMBLES_MU.shape"
   ]
  },
  {
   "cell_type": "code",
   "execution_count": 168,
   "id": "4c51fd3f",
   "metadata": {},
   "outputs": [
    {
     "data": {
      "text/plain": [
       "{'efficient_frontier': <Signature (w, aversion)>,\n",
       " 'equal_risk_parity': <Signature (w)>,\n",
       " 'min_correlation': <Signature (w)>,\n",
       " 'min_volatility': <Signature (w)>,\n",
       " 'min_variance': <Signature (w)>,\n",
       " 'min_skew': <Signature (w)>,\n",
       " 'min_kurt': <Signature (w)>,\n",
       " 'min_moment': <Signature (w)>,\n",
       " 'max_return': <Signature (w)>,\n",
       " 'max_diversification': <Signature (w)>,\n",
       " 'max_sharpe': <Signature (w, risk_free)>,\n",
       " 'min_beta': <Signature (w)>,\n",
       " 'max_treynor': <Signature (w, risk_free)>,\n",
       " 'max_jenson_alpha': <Signature (w, risk_free, market_return)>,\n",
       " 'inverse_volatility': <Signature (leverage)>,\n",
       " 'inverse_variance': <Signature (leverage)>,\n",
       " 'equal_weight': <Signature (leverage)>,\n",
       " 'market_cap_weight': <Signature (leverage)>}"
      ]
     },
     "execution_count": 168,
     "metadata": {},
     "output_type": "execute_result"
    }
   ],
   "source": [
    "PortOpt = Optimizer(GAMBLES_MU, GAMBLES_COV)\n",
    "PortOpt.objective_options()"
   ]
  },
  {
   "cell_type": "code",
   "execution_count": 171,
   "id": "cb2ec96f",
   "metadata": {},
   "outputs": [
    {
     "data": {
      "text/plain": [
       "array([2.70e-03, 0.00e+00, 6.00e-04, 1.34e-02, 7.50e-03, 3.91e-02,\n",
       "       1.04e-02, 1.24e-02, 2.18e-02, 3.90e-03, 0.00e+00, 2.83e-02,\n",
       "       0.00e+00, 5.20e-03, 2.30e-03, 8.10e-03, 5.00e-04, 3.10e-03,\n",
       "       3.45e-02, 1.23e-02, 7.94e-01])"
      ]
     },
     "execution_count": 171,
     "metadata": {},
     "output_type": "execute_result"
    }
   ],
   "source": [
    "PortOpt.add_objective(\"efficient_frontier\", aversion=100)\n",
    "PortOpt.add_constraint(\"weight\", weight_bound=(0,1), leverage=1)\n",
    "PortOpt.solve()\n",
    "\n",
    "PortOpt.weight_sols"
   ]
  },
  {
   "cell_type": "code",
   "execution_count": null,
   "id": "d24549a0",
   "metadata": {},
   "outputs": [],
   "source": []
  },
  {
   "cell_type": "code",
   "execution_count": 65,
   "id": "35c629a3",
   "metadata": {
    "scrolled": true
   },
   "outputs": [
    {
     "name": "stdout",
     "output_type": "stream",
     "text": [
      "41.1 µs ± 1.33 µs per loop (mean ± std. dev. of 7 runs, 10000 loops each)\n"
     ]
    }
   ],
   "source": [
    "%%timeit\n",
    "\n",
    "mu      = gamble_averages[:-1]\n",
    "cov     = np.diag(gamble_variances[:-1])\n",
    "cov_inv = np.linalg.inv(cov)\n",
    "ones    = np.ones((len(mu),))\n",
    "w       = cov_inv @ ((mu - 1.1) * ones)\n",
    "w       = w / (ones @ w)"
   ]
  },
  {
   "cell_type": "code",
   "execution_count": 66,
   "id": "2e4a42ab",
   "metadata": {},
   "outputs": [],
   "source": [
    "mu      = gamble_averages[:-1]\n",
    "cov     = np.diag(gamble_variances[:-1])\n",
    "cov_inv = np.linalg.inv(cov)\n",
    "ones    = np.ones((len(mu),))\n",
    "w       = cov_inv @ ((mu - 1.1) * ones)\n",
    "w       = w / (ones @ w)"
   ]
  },
  {
   "cell_type": "code",
   "execution_count": 67,
   "id": "9f365a8d",
   "metadata": {},
   "outputs": [
    {
     "data": {
      "text/plain": [
       "array([0.03924483, 0.09689386, 0.01586957, 0.08614252, 0.03282974,\n",
       "       0.10430803, 0.02148364, 0.00408726, 0.04128261, 0.13067661,\n",
       "       0.03779979, 0.05377645, 0.02563166, 0.09449049, 0.02139221,\n",
       "       0.02108917, 0.08317395, 0.05070515, 0.0354152 , 0.00370724])"
      ]
     },
     "execution_count": 67,
     "metadata": {},
     "output_type": "execute_result"
    }
   ],
   "source": [
    "w"
   ]
  },
  {
   "cell_type": "code",
   "execution_count": 68,
   "id": "230b4578",
   "metadata": {},
   "outputs": [
    {
     "data": {
      "text/plain": [
       "array([1.17963861, 1.32670732, 1.1333368 , 1.28500321, 1.17963134,\n",
       "       1.29986717, 1.13835076, 1.10781717, 1.18207648, 1.36334994,\n",
       "       1.18990083, 1.24451449, 1.15720731, 1.31497708, 1.1447725 ,\n",
       "       1.14209657, 1.28101464, 1.20431859, 1.19706401, 1.10706462,\n",
       "       1.1       ])"
      ]
     },
     "execution_count": 68,
     "metadata": {},
     "output_type": "execute_result"
    }
   ],
   "source": [
    "gamble_averages"
   ]
  },
  {
   "cell_type": "code",
   "execution_count": 69,
   "id": "2e562b54",
   "metadata": {},
   "outputs": [
    {
     "data": {
      "text/plain": [
       "array([0.03924483, 0.09689386, 0.01586957, 0.08614252, 0.03282974,\n",
       "       0.10430803, 0.02148364, 0.00408726, 0.04128261, 0.13067661,\n",
       "       0.03779979, 0.05377645, 0.02563166, 0.09449049, 0.02139221,\n",
       "       0.02108917, 0.08317395, 0.05070515, 0.0354152 , 0.00370724,\n",
       "       0.        ])"
      ]
     },
     "execution_count": 69,
     "metadata": {},
     "output_type": "execute_result"
    }
   ],
   "source": [
    "x = np.concatenate([w, np.array([0])])\n",
    "x"
   ]
  },
  {
   "cell_type": "code",
   "execution_count": 73,
   "id": "d4b70542",
   "metadata": {},
   "outputs": [
    {
     "name": "stdout",
     "output_type": "stream",
     "text": [
      "13.3 ms ± 162 µs per loop (mean ± std. dev. of 7 runs, 100 loops each)\n"
     ]
    }
   ],
   "source": [
    "%%timeit\n",
    "PortOpt.add_objective(\"efficient_frontier\", aversion=0.5)\n",
    "PortOpt.add_constraint(\"weight\", weight_bound=(0,1), leverage=1)\n",
    "PortOpt.solve()"
   ]
  },
  {
   "cell_type": "code",
   "execution_count": null,
   "id": "6b1dfc0e",
   "metadata": {},
   "outputs": [],
   "source": []
  }
 ],
 "metadata": {
  "kernelspec": {
   "display_name": "Python 3",
   "language": "python",
   "name": "python3"
  },
  "language_info": {
   "codemirror_mode": {
    "name": "ipython",
    "version": 3
   },
   "file_extension": ".py",
   "mimetype": "text/x-python",
   "name": "python",
   "nbconvert_exporter": "python",
   "pygments_lexer": "ipython3",
   "version": "3.8.6"
  }
 },
 "nbformat": 4,
 "nbformat_minor": 5
}
