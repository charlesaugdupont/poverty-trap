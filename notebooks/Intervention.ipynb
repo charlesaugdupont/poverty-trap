{
 "cells": [
  {
   "cell_type": "code",
   "execution_count": null,
   "id": "3cb691eb",
   "metadata": {},
   "outputs": [],
   "source": [
    "%load_ext autoreload\n",
    "%autoreload 2"
   ]
  },
  {
   "cell_type": "code",
   "execution_count": null,
   "id": "7b88fe43",
   "metadata": {},
   "outputs": [],
   "source": [
    "import sys; sys.path.append(\"../\")\n",
    "\n",
    "import time\n",
    "import lzma\n",
    "import pickle\n",
    "import pickle\n",
    "from tqdm import tqdm\n",
    "from SALib.sample import saltelli\n",
    "from network_model_cpt_intervention import *\n",
    "\n",
    "\n",
    "import matplotlib\n",
    "import matplotlib.pyplot as plt\n",
    "from mpl_toolkits.axes_grid1 import ImageGrid\n",
    "plt.rcParams.update(plt.rcParamsDefault)\n",
    "plt.rcParams.update({\"font.size\" : 15,\n",
    "                     \"figure.dpi\" : 100, \n",
    "                     \"grid.alpha\" : 0.3, \n",
    "                     \"axes.grid\": True, \n",
    "                     \"axes.axisbelow\" : True,\n",
    "                     \"figure.figsize\":(8,6),\n",
    "                     \"mathtext.fontset\":\"cm\",\n",
    "                     \"xtick.labelsize\": 14,\n",
    "                     \"ytick.labelsize\": 14,\n",
    "                     \"axes.labelsize\": 16, \n",
    "                     \"legend.fontsize\": 13.5})\n",
    "USE_TEX = False\n",
    "if USE_TEX:\n",
    "    plt.rc(\"text\", usetex=True)\n",
    "    plt.rc(\"text.latex\", preamble=r\"\"\"\n",
    "     \\usepackage{times}\n",
    "     \\usepackage{mathptmx}\"\"\")\n",
    "else:\n",
    "    plt.rc(\"text\", usetex=False)\n",
    "plt.rc(\"font\", family=\"serif\")"
   ]
  },
  {
   "cell_type": "code",
   "execution_count": null,
   "id": "0b04b90b",
   "metadata": {},
   "outputs": [],
   "source": [
    "# load one of the random seed\n",
    "SEED = 1\n",
    "data = pickle.load(lzma.open(f\"../data/wealth_arrays/concat_W_arrays_cpt/{SEED}_8192_1250_51_cpt.pkl.lzma\"))\n",
    "\n",
    "\n",
    "# pick a model run from category 5 of CPT / HK that somewhat reaches equilibrium\n",
    "RUN = 127\n",
    "W = data[RUN].T\n",
    "plt.plot(W)\n",
    "plt.show()"
   ]
  },
  {
   "cell_type": "code",
   "execution_count": null,
   "id": "66fdca0f",
   "metadata": {},
   "outputs": [],
   "source": [
    "mean_deltas = []\n",
    "for t in range(1,51):\n",
    "    delta = np.abs((W[t] - W[t-1]) / W[t-1])\n",
    "    delta = np.where(np.isnan(delta), 0, delta)\n",
    "    mean_deltas.append(np.mean(delta))\n",
    "    \n",
    "    \n",
    "window = 5\n",
    "smoothed_deltas = [np.mean(mean_deltas[i:i+window]) for i in range(len(mean_deltas)-window)]\n",
    "plt.plot(smoothed_deltas)\n",
    "plt.show()"
   ]
  },
  {
   "cell_type": "code",
   "execution_count": null,
   "id": "10749609",
   "metadata": {},
   "outputs": [],
   "source": [
    "# identify bottom 7%\n",
    "bottom_7_percent = np.argsort(W[-1])[:int(0.07*len(W[-1]))]\n",
    "bottom_7_percent"
   ]
  },
  {
   "cell_type": "code",
   "execution_count": null,
   "id": "d53c2c55",
   "metadata": {},
   "outputs": [],
   "source": [
    "# determine budget B\n",
    "B = sum(1.0 - W[-1][bottom_7_percent])\n",
    "B"
   ]
  },
  {
   "cell_type": "code",
   "execution_count": null,
   "id": "5b7c310a",
   "metadata": {},
   "outputs": [],
   "source": []
  },
  {
   "cell_type": "code",
   "execution_count": null,
   "id": "f60ca042",
   "metadata": {},
   "outputs": [],
   "source": []
  },
  {
   "cell_type": "code",
   "execution_count": null,
   "id": "853843a6",
   "metadata": {},
   "outputs": [],
   "source": []
  },
  {
   "cell_type": "code",
   "execution_count": null,
   "id": "bc17b287",
   "metadata": {},
   "outputs": [],
   "source": []
  },
  {
   "cell_type": "markdown",
   "id": "ab8a168b",
   "metadata": {},
   "source": [
    "# Category 5 run"
   ]
  },
  {
   "cell_type": "code",
   "execution_count": null,
   "id": "31a88cad",
   "metadata": {
    "scrolled": true
   },
   "outputs": [],
   "source": [
    "# load graph, and extract communities, community_membership\n",
    "with open(\"../graph.pickle\", \"rb\") as f:\n",
    "    graph = pickle.load(f)\n",
    "communities = get_communities(graph)\n",
    "community_membership = get_community_membership(graph, communities)\n",
    "\n",
    "\n",
    "# problem definition\n",
    "PROBLEM = {\n",
    "    \"num_vars\" : 6,\n",
    "    \"names\"    : [\"project_cost\",\n",
    "                  \"gain_right\",\n",
    "                  \"alpha_beta\",\n",
    "                  \"prob_left\",\n",
    "                  \"init_w_scale\",\n",
    "                  \"poisson_scale\"],\n",
    "    \"bounds\"   : [[0.01, 2.00],\n",
    "                  [1.70, 2.30],\n",
    "                  [0.70, 0.80],\n",
    "                  [0.30, 0.45],\n",
    "                  [0.01, 0.15],\n",
    "                  [8.00, 20.0]]\n",
    "}\n",
    "\n",
    "# generate Saltelli samples\n",
    "NUM_SAMPLES = 1024\n",
    "X = saltelli.sample(PROBLEM, NUM_SAMPLES, calc_second_order=False)\n",
    "row = X[127]\n",
    "\n",
    "# run simulation\n",
    "W, A, U, P, T, _, G, bottom_7_percent = simulation (\n",
    "    graph=graph,\n",
    "    communities=communities,\n",
    "    community_membership=community_membership,\n",
    "    NUM_AGENTS=1250,\n",
    "    STEPS=100,\n",
    "    seed=2,\n",
    "    PROJECT_COST=row[0],\n",
    "    gain_right=row[1],\n",
    "    ALPHA_BETA=row[2],\n",
    "    prob_left=row[3],\n",
    "    init_wealth_scale=row[4],\n",
    "    poisson_scale=row[5]\n",
    ")"
   ]
  },
  {
   "cell_type": "code",
   "execution_count": null,
   "id": "2a4803d3",
   "metadata": {},
   "outputs": [],
   "source": [
    "# STIMULUS = 1.0\n",
    "plt.plot(W[:,bottom_7_percent])\n",
    "plt.show()"
   ]
  },
  {
   "cell_type": "code",
   "execution_count": null,
   "id": "a7dfc05e",
   "metadata": {},
   "outputs": [],
   "source": [
    "# STIMULUS = 3.0\n",
    "plt.plot(W[:,bottom_7_percent])\n",
    "plt.show()"
   ]
  },
  {
   "cell_type": "code",
   "execution_count": null,
   "id": "550dd25a",
   "metadata": {},
   "outputs": [],
   "source": [
    "# STIMULUS = 5.0\n",
    "plt.plot(W[:,bottom_7_percent])\n",
    "plt.show()"
   ]
  },
  {
   "cell_type": "code",
   "execution_count": null,
   "id": "420c2931",
   "metadata": {},
   "outputs": [],
   "source": [
    "# STIMULUS = 7.0\n",
    "plt.plot(W[:,bottom_7_percent])\n",
    "plt.show()"
   ]
  },
  {
   "cell_type": "markdown",
   "id": "4abb9ef2",
   "metadata": {},
   "source": [
    "# Category 1 run"
   ]
  },
  {
   "cell_type": "code",
   "execution_count": null,
   "id": "53e91ddd",
   "metadata": {},
   "outputs": [],
   "source": [
    "# load graph, and extract communities, community_membership\n",
    "with open(\"../graph.pickle\", \"rb\") as f:\n",
    "    graph = pickle.load(f)\n",
    "communities = get_communities(graph)\n",
    "community_membership = get_community_membership(graph, communities)\n",
    "\n",
    "\n",
    "# problem definition\n",
    "PROBLEM = {\n",
    "    \"num_vars\" : 6,\n",
    "    \"names\"    : [\"project_cost\",\n",
    "                  \"gain_right\",\n",
    "                  \"alpha_beta\",\n",
    "                  \"prob_left\",\n",
    "                  \"init_w_scale\",\n",
    "                  \"poisson_scale\"],\n",
    "    \"bounds\"   : [[0.01, 2.00],\n",
    "                  [1.70, 2.30],\n",
    "                  [0.70, 0.80],\n",
    "                  [0.30, 0.45],\n",
    "                  [0.01, 0.15],\n",
    "                  [8.00, 20.0]]\n",
    "}\n",
    "\n",
    "# generate Saltelli samples\n",
    "NUM_SAMPLES = 1024\n",
    "X = saltelli.sample(PROBLEM, NUM_SAMPLES, calc_second_order=False)\n",
    "row = X[719]\n",
    "\n",
    "\n",
    "results = []\n",
    "for STIMULUS in [1.0, 3.0, 5.0, 7.0]:\n",
    "    # run simulation\n",
    "    W, A, U, P, T, _, G, bottom_7_percent = simulation (\n",
    "        communities=communities,\n",
    "        community_membership=community_membership,\n",
    "        NUM_AGENTS=1250,\n",
    "        STEPS=100,\n",
    "        seed=2,\n",
    "        PROJECT_COST=row[0],\n",
    "        gain_right=row[1],\n",
    "        ALPHA_BETA=row[2],\n",
    "        prob_left=row[3],\n",
    "        init_wealth_scale=row[4],\n",
    "        poisson_scale=row[5], \n",
    "        stimulus=STIMULUS\n",
    "    )\n",
    "    results.append((W))"
   ]
  },
  {
   "cell_type": "code",
   "execution_count": null,
   "id": "2bd5c759",
   "metadata": {},
   "outputs": [],
   "source": [
    "fig, axs = plt.subplots(1, 4, figsize=(12,4))\n",
    "titles = [f\"Simulus = {s}\" for s in [1.0, 3.0, 5.0, 7.0]]\n",
    "\n",
    "for i,r in enumerate(results):\n",
    "    axs[i].plot(W[:,bottom_7_percent])\n",
    "    axs[i].set_title(titles[i])"
   ]
  }
 ],
 "metadata": {
  "kernelspec": {
   "display_name": "env",
   "language": "python",
   "name": "env"
  },
  "language_info": {
   "codemirror_mode": {
    "name": "ipython",
    "version": 3
   },
   "file_extension": ".py",
   "mimetype": "text/x-python",
   "name": "python",
   "nbconvert_exporter": "python",
   "pygments_lexer": "ipython3",
   "version": "3.10.4"
  }
 },
 "nbformat": 4,
 "nbformat_minor": 5
}
