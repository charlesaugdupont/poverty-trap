{
 "cells": [
  {
   "cell_type": "code",
   "execution_count": 9,
   "id": "7aaab9af",
   "metadata": {},
   "outputs": [],
   "source": [
    "from SALib.sample import saltelli\n",
    "from scipy.stats import pearsonr\n",
    "from tqdm.auto import tqdm\n",
    "import numpy as np\n",
    "import pickle\n",
    "import time\n",
    "import lzma\n",
    "import sys\n",
    "import os\n",
    "\n",
    "import matplotlib\n",
    "import matplotlib.pyplot as plt\n",
    "import matplotlib.patches as mpatches\n",
    "plt.rcParams.update(plt.rcParamsDefault)\n",
    "plt.rcParams.update({\"font.size\" : 15,\n",
    "                     \"figure.dpi\" : 100, \n",
    "                     \"grid.alpha\" : 0.3, \n",
    "                     \"axes.grid\": True, \n",
    "                     \"axes.axisbelow\" : True,\n",
    "                     \"figure.figsize\":(8,6),\n",
    "                     \"mathtext.fontset\":\"cm\",\n",
    "                     \"xtick.labelsize\": 14,\n",
    "                     \"ytick.labelsize\": 14,\n",
    "                     \"axes.labelsize\": 16, \n",
    "                     \"legend.fontsize\": 13.5})\n",
    "\n",
    "plt.rc(\"text\", usetex=False)\n",
    "plt.rc(\"font\", family=\"serif\")"
   ]
  },
  {
   "cell_type": "code",
   "execution_count": 2,
   "id": "37da4116",
   "metadata": {},
   "outputs": [],
   "source": [
    "os.chdir(\"../\")\n",
    "import cpt_optimisation"
   ]
  },
  {
   "cell_type": "code",
   "execution_count": 4,
   "id": "2ae9cf75",
   "metadata": {},
   "outputs": [],
   "source": [
    "def GINI(x):\n",
    "    mad = np.abs(np.subtract.outer(x, x)).mean()\n",
    "    mean = np.mean(x) or 1\n",
    "    rmad = mad/mean\n",
    "    g = 0.5 * rmad\n",
    "    return g"
   ]
  },
  {
   "cell_type": "code",
   "execution_count": 5,
   "id": "4d9276eb",
   "metadata": {},
   "outputs": [
    {
     "name": "stdout",
     "output_type": "stream",
     "text": [
      "0.00 | new_model_runs_paper_14\n"
     ]
    },
    {
     "data": {
      "application/vnd.jupyter.widget-view+json": {
       "model_id": "b5ce07a98695492ebf0f8da977a6a219",
       "version_major": 2,
       "version_minor": 0
      },
      "text/plain": [
       "  0%|          | 0/7168 [00:00<?, ?it/s]"
      ]
     },
     "metadata": {},
     "output_type": "display_data"
    },
    {
     "name": "stdout",
     "output_type": "stream",
     "text": [
      "929.59 | new_model_runs_paper_13\n"
     ]
    },
    {
     "data": {
      "application/vnd.jupyter.widget-view+json": {
       "model_id": "f32b83960f264a82ad4cdcbcc348162d",
       "version_major": 2,
       "version_minor": 0
      },
      "text/plain": [
       "  0%|          | 0/7168 [00:00<?, ?it/s]"
      ]
     },
     "metadata": {},
     "output_type": "display_data"
    },
    {
     "name": "stdout",
     "output_type": "stream",
     "text": [
      "1837.32 | new_model_runs_paper_12\n"
     ]
    },
    {
     "data": {
      "application/vnd.jupyter.widget-view+json": {
       "model_id": "6c3d8e9afd5c4c3d99a05f3b94c04f0c",
       "version_major": 2,
       "version_minor": 0
      },
      "text/plain": [
       "  0%|          | 0/7168 [00:00<?, ?it/s]"
      ]
     },
     "metadata": {},
     "output_type": "display_data"
    },
    {
     "name": "stdout",
     "output_type": "stream",
     "text": [
      "2746.52 | new_model_runs_paper_15\n"
     ]
    },
    {
     "data": {
      "application/vnd.jupyter.widget-view+json": {
       "model_id": "f1c0268b77cc4dcc8bef2cf3a152e0d4",
       "version_major": 2,
       "version_minor": 0
      },
      "text/plain": [
       "  0%|          | 0/7168 [00:00<?, ?it/s]"
      ]
     },
     "metadata": {},
     "output_type": "display_data"
    },
    {
     "name": "stdout",
     "output_type": "stream",
     "text": [
      "3649.70 | .DS_Store\n",
      "3649.70 | new_model_runs_paper_0\n"
     ]
    },
    {
     "data": {
      "application/vnd.jupyter.widget-view+json": {
       "model_id": "5dcd0408c7b84a209ca92280e11d6e97",
       "version_major": 2,
       "version_minor": 0
      },
      "text/plain": [
       "  0%|          | 0/7168 [00:00<?, ?it/s]"
      ]
     },
     "metadata": {},
     "output_type": "display_data"
    },
    {
     "name": "stdout",
     "output_type": "stream",
     "text": [
      "4567.95 | new_model_runs_paper_7\n"
     ]
    },
    {
     "data": {
      "application/vnd.jupyter.widget-view+json": {
       "model_id": "0d36e422321942af8fe771646cb40d15",
       "version_major": 2,
       "version_minor": 0
      },
      "text/plain": [
       "  0%|          | 0/7168 [00:00<?, ?it/s]"
      ]
     },
     "metadata": {},
     "output_type": "display_data"
    },
    {
     "name": "stdout",
     "output_type": "stream",
     "text": [
      "5487.57 | new_model_runs_paper_9\n"
     ]
    },
    {
     "data": {
      "application/vnd.jupyter.widget-view+json": {
       "model_id": "55ec13f32b9347ba95cb62d2dbe138df",
       "version_major": 2,
       "version_minor": 0
      },
      "text/plain": [
       "  0%|          | 0/7168 [00:00<?, ?it/s]"
      ]
     },
     "metadata": {},
     "output_type": "display_data"
    },
    {
     "name": "stdout",
     "output_type": "stream",
     "text": [
      "6401.14 | new_model_runs_paper_8\n"
     ]
    },
    {
     "data": {
      "application/vnd.jupyter.widget-view+json": {
       "model_id": "09309a3ec9df48f4a6a42d97ecc866fa",
       "version_major": 2,
       "version_minor": 0
      },
      "text/plain": [
       "  0%|          | 0/7168 [00:00<?, ?it/s]"
      ]
     },
     "metadata": {},
     "output_type": "display_data"
    },
    {
     "name": "stdout",
     "output_type": "stream",
     "text": [
      "7337.01 | new_model_runs_paper_6\n"
     ]
    },
    {
     "data": {
      "application/vnd.jupyter.widget-view+json": {
       "model_id": "d284a7a960404593a8fbfec13b7ee163",
       "version_major": 2,
       "version_minor": 0
      },
      "text/plain": [
       "  0%|          | 0/7168 [00:00<?, ?it/s]"
      ]
     },
     "metadata": {},
     "output_type": "display_data"
    },
    {
     "name": "stdout",
     "output_type": "stream",
     "text": [
      "8277.43 | new_model_runs_paper_1\n"
     ]
    },
    {
     "data": {
      "application/vnd.jupyter.widget-view+json": {
       "model_id": "aeb59670432645dc8d30ccfefc0824fe",
       "version_major": 2,
       "version_minor": 0
      },
      "text/plain": [
       "  0%|          | 0/7168 [00:00<?, ?it/s]"
      ]
     },
     "metadata": {},
     "output_type": "display_data"
    },
    {
     "name": "stdout",
     "output_type": "stream",
     "text": [
      "9247.76 | new_model_runs_paper_19\n"
     ]
    },
    {
     "data": {
      "application/vnd.jupyter.widget-view+json": {
       "model_id": "85020c0600bf450b84f03ea1a7884805",
       "version_major": 2,
       "version_minor": 0
      },
      "text/plain": [
       "  0%|          | 0/7168 [00:00<?, ?it/s]"
      ]
     },
     "metadata": {},
     "output_type": "display_data"
    },
    {
     "name": "stdout",
     "output_type": "stream",
     "text": [
      "10199.98 | new_model_runs_paper_10\n"
     ]
    },
    {
     "data": {
      "application/vnd.jupyter.widget-view+json": {
       "model_id": "3d91e12a5f51427aaecba26aac2debff",
       "version_major": 2,
       "version_minor": 0
      },
      "text/plain": [
       "  0%|          | 0/7168 [00:00<?, ?it/s]"
      ]
     },
     "metadata": {},
     "output_type": "display_data"
    },
    {
     "name": "stdout",
     "output_type": "stream",
     "text": [
      "11174.62 | new_model_runs_paper_17\n"
     ]
    },
    {
     "data": {
      "application/vnd.jupyter.widget-view+json": {
       "model_id": "323a00b8ea6b408ca2e3e4a5c8e4777f",
       "version_major": 2,
       "version_minor": 0
      },
      "text/plain": [
       "  0%|          | 0/7168 [00:00<?, ?it/s]"
      ]
     },
     "metadata": {},
     "output_type": "display_data"
    },
    {
     "name": "stdout",
     "output_type": "stream",
     "text": [
      "12160.91 | new_model_runs_paper_16\n"
     ]
    },
    {
     "data": {
      "application/vnd.jupyter.widget-view+json": {
       "model_id": "3c02a9189cff4951b763b56dd949a1e6",
       "version_major": 2,
       "version_minor": 0
      },
      "text/plain": [
       "  0%|          | 0/7168 [00:00<?, ?it/s]"
      ]
     },
     "metadata": {},
     "output_type": "display_data"
    },
    {
     "name": "stdout",
     "output_type": "stream",
     "text": [
      "13161.73 | new_model_runs_paper_11\n"
     ]
    },
    {
     "data": {
      "application/vnd.jupyter.widget-view+json": {
       "model_id": "f5e27bf4cd184adc8f605db306131041",
       "version_major": 2,
       "version_minor": 0
      },
      "text/plain": [
       "  0%|          | 0/7168 [00:00<?, ?it/s]"
      ]
     },
     "metadata": {},
     "output_type": "display_data"
    },
    {
     "name": "stdout",
     "output_type": "stream",
     "text": [
      "14148.24 | new_model_runs_paper_18\n"
     ]
    },
    {
     "data": {
      "application/vnd.jupyter.widget-view+json": {
       "model_id": "bceab7b6eacc4c64a106a76cdfd8c1e3",
       "version_major": 2,
       "version_minor": 0
      },
      "text/plain": [
       "  0%|          | 0/7168 [00:00<?, ?it/s]"
      ]
     },
     "metadata": {},
     "output_type": "display_data"
    },
    {
     "name": "stdout",
     "output_type": "stream",
     "text": [
      "15157.97 | new_model_runs_paper_4\n"
     ]
    },
    {
     "data": {
      "application/vnd.jupyter.widget-view+json": {
       "model_id": "184a5e9f60654273a281a079b1157c8d",
       "version_major": 2,
       "version_minor": 0
      },
      "text/plain": [
       "  0%|          | 0/7168 [00:00<?, ?it/s]"
      ]
     },
     "metadata": {},
     "output_type": "display_data"
    },
    {
     "name": "stdout",
     "output_type": "stream",
     "text": [
      "16173.38 | new_model_runs_paper_3\n"
     ]
    },
    {
     "data": {
      "application/vnd.jupyter.widget-view+json": {
       "model_id": "3c09e7606bb14db4a51f27fbc126c02f",
       "version_major": 2,
       "version_minor": 0
      },
      "text/plain": [
       "  0%|          | 0/7168 [00:00<?, ?it/s]"
      ]
     },
     "metadata": {},
     "output_type": "display_data"
    },
    {
     "name": "stdout",
     "output_type": "stream",
     "text": [
      "17188.65 | new_model_runs_paper_2\n"
     ]
    },
    {
     "data": {
      "application/vnd.jupyter.widget-view+json": {
       "model_id": "90af53fb156d4a9492d0086d56a696a9",
       "version_major": 2,
       "version_minor": 0
      },
      "text/plain": [
       "  0%|          | 0/7168 [00:00<?, ?it/s]"
      ]
     },
     "metadata": {},
     "output_type": "display_data"
    },
    {
     "name": "stdout",
     "output_type": "stream",
     "text": [
      "18210.30 | new_model_runs_paper_5\n"
     ]
    },
    {
     "data": {
      "application/vnd.jupyter.widget-view+json": {
       "model_id": "9b4f76ed024948969e2eb0bcc56a9088",
       "version_major": 2,
       "version_minor": 0
      },
      "text/plain": [
       "  0%|          | 0/7168 [00:00<?, ?it/s]"
      ]
     },
     "metadata": {},
     "output_type": "display_data"
    }
   ],
   "source": [
    "result = {i:{\"deg\":[], \"med_w\":[], \"gini\":[], \"avg_w\":[]} for i in range(3)}\n",
    "\n",
    "start_t = time.time()\n",
    "\n",
    "for seed_folder in os.listdir(\"DATA/nodebt/\"):\n",
    "    print(f\"{time.time()-start_t:.2f} | {seed_folder}\")\n",
    "    \n",
    "    if \"DS_\" in seed_folder:\n",
    "        continue\n",
    "\n",
    "    seed = int(seed_folder.split(\"_\")[-1])\n",
    "    files = os.listdir(f\"DATA/nodebt/{seed_folder}\")\n",
    "    \n",
    "    for f in tqdm(files):\n",
    "        param_idx = int(f.split(\"_\")[1]) - 1\n",
    "        data = pickle.load(lzma.open(f\"DATA/nodebt/{seed_folder}/{f}\"))\n",
    "        alpha_val = data[\"params\"][4]\n",
    "        data_W = data[\"W\"]\n",
    "\n",
    "        # retrieve communities from graph\n",
    "        with open(f\"sda_graphs/{seed}_{alpha_val}.pickle\", \"rb\") as f:\n",
    "            communities, community_membership, _, _ = pickle.load(f)\n",
    "        NC = len(communities)\n",
    "            \n",
    "        deg = []\n",
    "        med_w = []\n",
    "        avg_w = []\n",
    "        gini = []\n",
    "        \n",
    "        COMMUNITY_W = np.zeros((NC, 101))\n",
    "        for i,c in enumerate(communities):\n",
    "            \n",
    "            # get final community wealth\n",
    "            comm_w = data_W[:, np.array(list(c))]\n",
    "            \n",
    "            # compute average final community wealth\n",
    "            mean_comm_w = np.mean(comm_w, axis=1)\n",
    "            COMMUNITY_W[i] = mean_comm_w\n",
    "            \n",
    "            # compute median and average community wealth, and gini\n",
    "            med_w.append(np.median(comm_w[-1]))\n",
    "            avg_w.append(mean_comm_w[-1])\n",
    "            \n",
    "            w_rounded = comm_w[-1].astype(np.float64).round(2)\n",
    "            \n",
    "            gini.append(GINI(w_rounded))\n",
    "            \n",
    "            # determine community degree\n",
    "            d = set()\n",
    "            for agent in c:\n",
    "                for item in community_membership[agent]:\n",
    "                    d.add(item)\n",
    "            deg.append(len(d))\n",
    "        \n",
    "        # determine regime\n",
    "        prop_richer = sum(data_W[-1] > data_W[0]) / 1225\n",
    "        assert 0 <= prop_richer <= 1\n",
    "        \n",
    "        if prop_richer == 0:\n",
    "            regime = 0\n",
    "        elif prop_richer < 1:\n",
    "            regime = 1\n",
    "        else:\n",
    "            regime = 2\n",
    "        \n",
    "        result[regime][\"deg\"] += deg\n",
    "        result[regime][\"avg_w\"] += avg_w\n",
    "        result[regime][\"med_w\"] += med_w\n",
    "        result[regime][\"gini\"] += gini"
   ]
  },
  {
   "cell_type": "code",
   "execution_count": 7,
   "id": "69e4cf6e",
   "metadata": {},
   "outputs": [],
   "source": [
    "with open(\"comm_deg_median_w.pickle\", \"wb\") as f:\n",
    "    pickle.dump(result, f)"
   ]
  },
  {
   "cell_type": "markdown",
   "id": "a616d49e",
   "metadata": {},
   "source": [
    "# Results"
   ]
  },
  {
   "cell_type": "code",
   "execution_count": 5,
   "id": "6f99d285",
   "metadata": {},
   "outputs": [],
   "source": [
    "with open(\"comm_deg_median_w.pickle\", \"rb\") as f:\n",
    "    result = pickle.load(f)"
   ]
  },
  {
   "cell_type": "code",
   "execution_count": 10,
   "id": "8300905d",
   "metadata": {},
   "outputs": [
    {
     "data": {
      "image/png": "[encoded data removed]",
      "text/plain": [
       "<Figure size 1200x400 with 3 Axes>"
      ]
     },
     "metadata": {},
     "output_type": "display_data"
    }
   ],
   "source": [
    "fig, axs = plt.subplots(1, 3, figsize=(12,4))\n",
    "regime_name = {0:\"All Poor\", 1:\"Some Rich\", 2:\"All Rich\"}\n",
    "xlabels = {\"avg_w\":\"Final Average Community Wealth\", \n",
    "           \"med_w\":\"Final Median Community Wealth\", \n",
    "           \"gini\":\"Gini Index of Final Agent Wealths\\n(grouped by community)\"}\n",
    "\n",
    "for i,metric in enumerate([\"avg_w\", \"med_w\", \"gini\"]):\n",
    "    for regime in [0, 1, 2]:\n",
    "        if i == 2:\n",
    "            vals = [x for x in result[regime][metric] if 0 <= x <= 1]\n",
    "            axs[i].hist(vals, histtype=\"step\", bins=20, label=regime_name[regime])\n",
    "        else:\n",
    "            axs[i].hist(result[regime][metric], histtype=\"step\", bins=20)\n",
    "\n",
    "    if metric != \"gini\":\n",
    "        axs[i].set_xscale(\"log\")\n",
    "    axs[i].set_yscale(\"log\")\n",
    "    \n",
    "    if i == 0:\n",
    "        axs[i].set_ylabel(\"Count\")\n",
    "    axs[i].set_xlabel(xlabels[metric])\n",
    "\n",
    "plt.tight_layout(rect=[0, 0, 1, 0.95])\n",
    "plt.subplots_adjust(wspace=0.4)\n",
    "handles, labels = plt.gca().get_legend_handles_labels()\n",
    "fig.legend(handles, labels, bbox_to_anchor=(0.74, 1.05), ncol=3)\n",
    "plt.savefig(\"community_distributions.pdf\", bbox_inches=\"tight\")\n",
    "plt.show()"
   ]
  },
  {
   "cell_type": "code",
   "execution_count": 11,
   "id": "1ea912e0",
   "metadata": {},
   "outputs": [
    {
     "data": {
      "image/png": "[encoded data removed]",
      "text/plain": [
       "<Figure size 1200x400 with 3 Axes>"
      ]
     },
     "metadata": {},
     "output_type": "display_data"
    }
   ],
   "source": [
    "fig, axs = plt.subplots(1, 3, figsize=(12,4))\n",
    "REGIME = 1\n",
    "xlabels = {\"avg_w\":\"Final Average Community Wealth\", \n",
    "           \"med_w\":\"Final Median Community Wealth\", \n",
    "           \"gini\":\"Gini Index of Final Agent Wealths\\n(grouped by community)\"}\n",
    "\n",
    "for i, key in enumerate([\"avg_w\", \"med_w\", \"gini\"]):\n",
    "    for deg in [3, 6, 12]:\n",
    "        x = [result[REGIME][key][i] for i in range(len(result[REGIME][key])) if result[REGIME][\"deg\"][i]==deg]\n",
    "        if key == \"gini\":\n",
    "            x = [val for val in x if 0 <= val <= 1]\n",
    "        axs[i].hist(x, bins=20, label=deg, histtype=\"step\")\n",
    "\n",
    "    axs[i].set_yscale(\"log\")\n",
    "    \n",
    "    if i == 0:\n",
    "        axs[i].set_ylabel(\"Count\")\n",
    "    axs[i].set_xlabel(xlabels[key])\n",
    "\n",
    "plt.tight_layout(rect=[0, 0, 1, 0.95])\n",
    "plt.subplots_adjust(wspace=0.4)\n",
    "handles, labels = plt.gca().get_legend_handles_labels()\n",
    "fig.legend(handles, labels, bbox_to_anchor=(0.66, 1.1), ncol=3, title=\"Community Degree\", shadow=True)\n",
    "\n",
    "plt.savefig(\"community_degree_distributions.pdf\", bbox_inches=\"tight\")\n",
    "plt.show()"
   ]
  },
  {
   "cell_type": "code",
   "execution_count": null,
   "id": "92a6c224",
   "metadata": {},
   "outputs": [],
   "source": []
  }
 ],
 "metadata": {
  "kernelspec": {
   "display_name": "Python 3",
   "language": "python",
   "name": "python3"
  },
  "language_info": {
   "codemirror_mode": {
    "name": "ipython",
    "version": 3
   },
   "file_extension": ".py",
   "mimetype": "text/x-python",
   "name": "python",
   "nbconvert_exporter": "python",
   "pygments_lexer": "ipython3",
   "version": "3.8.6"
  }
 },
 "nbformat": 4,
 "nbformat_minor": 5
}
