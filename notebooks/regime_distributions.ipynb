{
 "cells": [
  {
   "cell_type": "code",
   "execution_count": 9,
   "id": "db32342a",
   "metadata": {},
   "outputs": [],
   "source": [
    "from tqdm.auto import tqdm\n",
    "import numpy as np\n",
    "import pickle\n",
    "import lzma\n",
    "import sys\n",
    "import os\n",
    "\n",
    "\n",
    "import matplotlib\n",
    "import matplotlib.pyplot as plt\n",
    "import matplotlib.patches as mpatches\n",
    "plt.rcParams.update(plt.rcParamsDefault)\n",
    "plt.rcParams.update({\"font.size\" : 15,\n",
    "                     \"figure.dpi\" : 100, \n",
    "                     \"grid.alpha\" : 0.3, \n",
    "                     \"axes.grid\": True, \n",
    "                     \"axes.axisbelow\" : True,\n",
    "                     \"figure.figsize\":(8,6),\n",
    "                     \"mathtext.fontset\":\"cm\",\n",
    "                     \"xtick.labelsize\": 14,\n",
    "                     \"ytick.labelsize\": 14,\n",
    "                     \"axes.labelsize\": 16, \n",
    "                     \"legend.fontsize\": 13.5})\n",
    "\n",
    "plt.rc(\"text\", usetex=False)\n",
    "plt.rc(\"font\", family=\"serif\")\n",
    "\n",
    "os.chdir(\"../\")\n",
    "import cpt_optimisation"
   ]
  },
  {
   "cell_type": "code",
   "execution_count": 2,
   "id": "50d72551",
   "metadata": {},
   "outputs": [],
   "source": [
    "num_agents = 1225"
   ]
  },
  {
   "cell_type": "markdown",
   "id": "41546239",
   "metadata": {},
   "source": [
    "# Distribution of final agent wealths for each regime"
   ]
  },
  {
   "cell_type": "code",
   "execution_count": 10,
   "id": "c95c5480",
   "metadata": {
    "collapsed": true
   },
   "outputs": [
    {
     "data": {
      "application/vnd.jupyter.widget-view+json": {
       "model_id": "99d8873ec2bb47f79333dd0c758dd9fe",
       "version_major": 2,
       "version_minor": 0
      },
      "text/plain": [
       "  0%|          | 0/7168 [00:00<?, ?it/s]"
      ]
     },
     "metadata": {},
     "output_type": "display_data"
    },
    {
     "data": {
      "application/vnd.jupyter.widget-view+json": {
       "model_id": "3149b44c586e42318ae0d4294fa264a4",
       "version_major": 2,
       "version_minor": 0
      },
      "text/plain": [
       "  0%|          | 0/7168 [00:00<?, ?it/s]"
      ]
     },
     "metadata": {},
     "output_type": "display_data"
    },
    {
     "data": {
      "application/vnd.jupyter.widget-view+json": {
       "model_id": "2f450f4a1ce646798c0a1519e48ce7f1",
       "version_major": 2,
       "version_minor": 0
      },
      "text/plain": [
       "  0%|          | 0/7168 [00:00<?, ?it/s]"
      ]
     },
     "metadata": {},
     "output_type": "display_data"
    },
    {
     "data": {
      "application/vnd.jupyter.widget-view+json": {
       "model_id": "2f6428f2a108424da226e58924df1ae8",
       "version_major": 2,
       "version_minor": 0
      },
      "text/plain": [
       "  0%|          | 0/7168 [00:00<?, ?it/s]"
      ]
     },
     "metadata": {},
     "output_type": "display_data"
    },
    {
     "data": {
      "application/vnd.jupyter.widget-view+json": {
       "model_id": "db70cd0528b24b2faa0dcb4c1a053a19",
       "version_major": 2,
       "version_minor": 0
      },
      "text/plain": [
       "  0%|          | 0/7168 [00:00<?, ?it/s]"
      ]
     },
     "metadata": {},
     "output_type": "display_data"
    },
    {
     "data": {
      "application/vnd.jupyter.widget-view+json": {
       "model_id": "a55d60edbb464359928d4b93c2f87365",
       "version_major": 2,
       "version_minor": 0
      },
      "text/plain": [
       "  0%|          | 0/7168 [00:00<?, ?it/s]"
      ]
     },
     "metadata": {},
     "output_type": "display_data"
    },
    {
     "data": {
      "application/vnd.jupyter.widget-view+json": {
       "model_id": "a93fe7e0ab55449c849d0a85a53a7ee2",
       "version_major": 2,
       "version_minor": 0
      },
      "text/plain": [
       "  0%|          | 0/7168 [00:00<?, ?it/s]"
      ]
     },
     "metadata": {},
     "output_type": "display_data"
    },
    {
     "data": {
      "application/vnd.jupyter.widget-view+json": {
       "model_id": "6fc517799f7945b6a316e59acff4964b",
       "version_major": 2,
       "version_minor": 0
      },
      "text/plain": [
       "  0%|          | 0/7168 [00:00<?, ?it/s]"
      ]
     },
     "metadata": {},
     "output_type": "display_data"
    },
    {
     "data": {
      "application/vnd.jupyter.widget-view+json": {
       "model_id": "76e36f829bad47f4ba8e4d283bbe3763",
       "version_major": 2,
       "version_minor": 0
      },
      "text/plain": [
       "  0%|          | 0/7168 [00:00<?, ?it/s]"
      ]
     },
     "metadata": {},
     "output_type": "display_data"
    },
    {
     "data": {
      "application/vnd.jupyter.widget-view+json": {
       "model_id": "752b2831885b4cefbbe049cb1c665185",
       "version_major": 2,
       "version_minor": 0
      },
      "text/plain": [
       "  0%|          | 0/7168 [00:00<?, ?it/s]"
      ]
     },
     "metadata": {},
     "output_type": "display_data"
    },
    {
     "data": {
      "application/vnd.jupyter.widget-view+json": {
       "model_id": "7ce1514e15a14a0c9c7c10cb5b8bcb2d",
       "version_major": 2,
       "version_minor": 0
      },
      "text/plain": [
       "  0%|          | 0/7168 [00:00<?, ?it/s]"
      ]
     },
     "metadata": {},
     "output_type": "display_data"
    },
    {
     "data": {
      "application/vnd.jupyter.widget-view+json": {
       "model_id": "44494d2abf3b46dbb9ed64acd5621f3f",
       "version_major": 2,
       "version_minor": 0
      },
      "text/plain": [
       "  0%|          | 0/7168 [00:00<?, ?it/s]"
      ]
     },
     "metadata": {},
     "output_type": "display_data"
    },
    {
     "data": {
      "application/vnd.jupyter.widget-view+json": {
       "model_id": "ee3151af8b2d443fa6c645922db159a3",
       "version_major": 2,
       "version_minor": 0
      },
      "text/plain": [
       "  0%|          | 0/7168 [00:00<?, ?it/s]"
      ]
     },
     "metadata": {},
     "output_type": "display_data"
    },
    {
     "data": {
      "application/vnd.jupyter.widget-view+json": {
       "model_id": "e8b8ab3dab5844c9aca991b86301b947",
       "version_major": 2,
       "version_minor": 0
      },
      "text/plain": [
       "  0%|          | 0/7168 [00:00<?, ?it/s]"
      ]
     },
     "metadata": {},
     "output_type": "display_data"
    },
    {
     "data": {
      "application/vnd.jupyter.widget-view+json": {
       "model_id": "688af5c735cf47e3a532b3efeee5e6c7",
       "version_major": 2,
       "version_minor": 0
      },
      "text/plain": [
       "  0%|          | 0/7168 [00:00<?, ?it/s]"
      ]
     },
     "metadata": {},
     "output_type": "display_data"
    },
    {
     "data": {
      "application/vnd.jupyter.widget-view+json": {
       "model_id": "e98d264076994de2afe5df1e06dd4d66",
       "version_major": 2,
       "version_minor": 0
      },
      "text/plain": [
       "  0%|          | 0/7168 [00:00<?, ?it/s]"
      ]
     },
     "metadata": {},
     "output_type": "display_data"
    },
    {
     "data": {
      "application/vnd.jupyter.widget-view+json": {
       "model_id": "a0a0b9d122d745299cdf6c9e7ad626ac",
       "version_major": 2,
       "version_minor": 0
      },
      "text/plain": [
       "  0%|          | 0/7168 [00:00<?, ?it/s]"
      ]
     },
     "metadata": {},
     "output_type": "display_data"
    },
    {
     "data": {
      "application/vnd.jupyter.widget-view+json": {
       "model_id": "0a50278d655a4e0791e0de1ca4f76206",
       "version_major": 2,
       "version_minor": 0
      },
      "text/plain": [
       "  0%|          | 0/7168 [00:00<?, ?it/s]"
      ]
     },
     "metadata": {},
     "output_type": "display_data"
    },
    {
     "data": {
      "application/vnd.jupyter.widget-view+json": {
       "model_id": "2d68606a7be9491096fcb6a808238043",
       "version_major": 2,
       "version_minor": 0
      },
      "text/plain": [
       "  0%|          | 0/7168 [00:00<?, ?it/s]"
      ]
     },
     "metadata": {},
     "output_type": "display_data"
    },
    {
     "data": {
      "application/vnd.jupyter.widget-view+json": {
       "model_id": "c04e871af85d4b5dbb486602d81fd8b2",
       "version_major": 2,
       "version_minor": 0
      },
      "text/plain": [
       "  0%|          | 0/7168 [00:00<?, ?it/s]"
      ]
     },
     "metadata": {},
     "output_type": "display_data"
    }
   ],
   "source": [
    "final_w_agent = {0:[], 1:[], 2:[]}\n",
    "for seed in os.listdir(\"DATA/nodebt/\"):\n",
    "    for f in tqdm(os.listdir(f\"DATA/nodebt/{seed}\")):\n",
    "        data = pickle.load(lzma.open(f\"DATA/nodebt/{seed}/{f}\"))[\"W\"]\n",
    "        prop_richer = np.sum(data[-1]>data[0]) / num_agents\n",
    "        if prop_richer == 0:\n",
    "            pred = 0\n",
    "        elif prop_richer < 1:\n",
    "            pred = 1\n",
    "        else:\n",
    "            pred = 2\n",
    "        final_w_agent[pred].append(data[-1,:])"
   ]
  },
  {
   "cell_type": "code",
   "execution_count": 11,
   "id": "99841d4d",
   "metadata": {},
   "outputs": [],
   "source": [
    "# with open(\"notebooks/final_agent_w_data.pickle\", \"wb\") as f:\n",
    "#     pickle.dump(final_w_agent, f)"
   ]
  },
  {
   "cell_type": "code",
   "execution_count": 15,
   "id": "a14ebbd8",
   "metadata": {},
   "outputs": [],
   "source": [
    "# with open(\"notebooks/final_agent_w_data.pickle\", \"rb\") as f:\n",
    "#     final_w_agent = pickle.load(f)"
   ]
  },
  {
   "cell_type": "code",
   "execution_count": 24,
   "id": "725dfb1b",
   "metadata": {},
   "outputs": [
    {
     "data": {
      "image/png": "[encoded data removed]",
      "text/plain": [
       "<Figure size 1080x720 with 1 Axes>"
      ]
     },
     "metadata": {},
     "output_type": "display_data"
    }
   ],
   "source": [
    "fig, axs = plt.subplots(1, figsize=(15,10))\n",
    "\n",
    "plt.hist(np.concatenate(final_w_agent[0]), histtype=\"step\", \n",
    "         bins=30, color=\"dodgerblue\", density=True, label=\"All poor\")\n",
    "plt.hist(np.concatenate(final_w_agent[1]), histtype=\"step\", \n",
    "         bins=30, color=\"crimson\", density=True, label=\"Some rich\")\n",
    "plt.hist(np.concatenate(final_w_agent[2]), histtype=\"step\", \n",
    "         bins=30, color=\"forestgreen\", density=True, label=\"All rich\")\n",
    "\n",
    "plt.xscale(\"log\")\n",
    "plt.yscale(\"log\")\n",
    "fig.patch.set_facecolor('xkcd:white')\n",
    "plt.legend()\n",
    "plt.show()"
   ]
  },
  {
   "cell_type": "code",
   "execution_count": 25,
   "id": "8af3dc3a",
   "metadata": {},
   "outputs": [],
   "source": [
    "del final_w_agent"
   ]
  },
  {
   "cell_type": "markdown",
   "id": "8edb12f4",
   "metadata": {},
   "source": [
    "# Distribution of final community wealths for each regime"
   ]
  },
  {
   "cell_type": "code",
   "execution_count": 3,
   "id": "caaf7dff",
   "metadata": {
    "collapsed": true
   },
   "outputs": [
    {
     "data": {
      "application/vnd.jupyter.widget-view+json": {
       "model_id": "6317a183b8b74a6b99fdd890fc88182c",
       "version_major": 2,
       "version_minor": 0
      },
      "text/plain": [
       "  0%|          | 0/7168 [00:00<?, ?it/s]"
      ]
     },
     "metadata": {},
     "output_type": "display_data"
    },
    {
     "name": "stdout",
     "output_type": "stream",
     "text": [
      "Python 3.10.4 (v3.10.4:9d38120e33, Mar 23 2022, 17:29:05) [Clang 13.0.0 (clang-1300.0.29.30)]\n",
      "Type 'copyright', 'credits' or 'license' for more information\n",
      "IPython 8.4.0 -- An enhanced Interactive Python. Type '?' for help.\n",
      "\n",
      "In [1]: c\n",
      "Out[1]: \n",
      "{1,\n",
      " 62,\n",
      " 75,\n",
      " 82,\n",
      " 110,\n",
      " 125,\n",
      " 189,\n",
      " 213,\n",
      " 218,\n",
      " 247,\n",
      " 261,\n",
      " 322,\n",
      " 324,\n",
      " 344,\n",
      " 356,\n",
      " 368,\n",
      " 378,\n",
      " 392,\n",
      " 395,\n",
      " 398,\n",
      " 411,\n",
      " 436,\n",
      " 447,\n",
      " 490,\n",
      " 500,\n",
      " 549,\n",
      " 580,\n",
      " 608,\n",
      " 658,\n",
      " 676,\n",
      " 696,\n",
      " 729,\n",
      " 734,\n",
      " 784,\n",
      " 842,\n",
      " 853,\n",
      " 859,\n",
      " 879,\n",
      " 915,\n",
      " 957,\n",
      " 963,\n",
      " 1015,\n",
      " 1017,\n",
      " 1020,\n",
      " 1028,\n",
      " 1029,\n",
      " 1042,\n",
      " 1060,\n",
      " 1100,\n",
      " 1139,\n",
      " 1149,\n",
      " 1181,\n",
      " 1197,\n",
      " 1211,\n",
      " 1212}\n",
      "\n",
      "In [2]: len(c)\n",
      "Out[2]: 55\n",
      "\n",
      "In [3]: communities[-1]\n",
      "Out[3]: {655, 806, 895, 1013}\n",
      "\n",
      "In [4]: data_W.shape\n",
      "Out[4]: (101, 1225)\n",
      "\n",
      "In [5]: data_W[-1,list(c)]\n",
      "Out[5]: \n",
      "array([6.000e+04, 4.516e+03, 1.536e+02, 6.000e+04, 3.350e+03, 6.000e+04,\n",
      "       4.749e+04, 6.000e+04, 6.000e+04, 4.280e+02, 6.000e+04, 6.000e+04,\n",
      "       6.000e+04, 8.418e-01, 1.198e+04, 6.000e+04, 6.000e+04, 6.000e+04,\n",
      "       8.156e+01, 1.226e+03, 6.000e+04, 7.855e+00, 6.000e+04, 3.526e+03,\n",
      "       6.000e+04, 6.000e+04, 6.000e+04, 6.000e+04, 6.000e+04, 1.609e+03,\n",
      "       1.098e+04, 2.455e+00, 4.688e+04, 6.000e+04, 6.000e+04, 1.478e+02,\n",
      "       2.597e+04, 6.000e+04, 4.717e+04, 6.000e+04, 2.110e+03, 2.214e+04,\n",
      "       6.000e+04, 4.832e+04, 1.238e+04, 6.000e+04, 1.297e+03, 6.075e+01,\n",
      "       6.000e+04, 6.000e+04, 1.175e+02, 6.000e+04, 6.000e+04, 6.000e+04,\n",
      "       6.000e+04], dtype=float16)\n",
      "\n",
      "In [6]: data_W[-1,list(c)].mean()\n",
      "Out[6]: 38050.0\n",
      "\n",
      "In [7]: data_W[0,list(c)].mean()\n",
      "Out[7]: 5.98\n",
      "\n",
      "In [8]: data_W[0,idx]\n",
      "Out[8]: \n",
      "array([5.98 , 6.02 , 6.04 , 5.92 , 6.008, 5.953, 6.035, 5.93 , 5.902,\n",
      "       6.035, 5.934, 6.008, 5.97 , 5.95 , 5.93 , 6.   , 5.934, 5.992,\n",
      "       6.03 , 6.027, 5.887, 5.96 , 5.953, 5.918, 6.004, 5.94 , 5.953,\n",
      "       6.016, 5.953, 5.996, 6.07 , 5.973, 6.043, 5.914, 5.906, 6.047,\n",
      "       6.055, 5.887, 6.055, 6.02 , 5.93 , 5.992, 6.086, 6.04 , 6.086,\n",
      "       5.895, 6.027, 6.06 , 5.914, 6.01 , 6.066, 5.92 , 5.918, 5.902,\n",
      "       5.906], dtype=float16)\n",
      "\n",
      "In [9]: data_W[0,idx].shape\n",
      "Out[9]: (55,)\n",
      "\n",
      "In [10]: data_W[-1,idx]\n",
      "Out[10]: \n",
      "array([6.000e+04, 4.516e+03, 1.536e+02, 6.000e+04, 3.350e+03, 6.000e+04,\n",
      "       4.749e+04, 6.000e+04, 6.000e+04, 4.280e+02, 6.000e+04, 6.000e+04,\n",
      "       6.000e+04, 8.418e-01, 1.198e+04, 6.000e+04, 6.000e+04, 6.000e+04,\n",
      "       8.156e+01, 1.226e+03, 6.000e+04, 7.855e+00, 6.000e+04, 3.526e+03,\n",
      "       6.000e+04, 6.000e+04, 6.000e+04, 6.000e+04, 6.000e+04, 1.609e+03,\n",
      "       1.098e+04, 2.455e+00, 4.688e+04, 6.000e+04, 6.000e+04, 1.478e+02,\n",
      "       2.597e+04, 6.000e+04, 4.717e+04, 6.000e+04, 2.110e+03, 2.214e+04,\n",
      "       6.000e+04, 4.832e+04, 1.238e+04, 6.000e+04, 1.297e+03, 6.075e+01,\n",
      "       6.000e+04, 6.000e+04, 1.175e+02, 6.000e+04, 6.000e+04, 6.000e+04,\n",
      "       6.000e+04], dtype=float16)\n",
      "\n",
      "In [11]: data_W[0,idx] > data_W[-1,idx]\n",
      "Out[11]: \n",
      "array([False, False, False, False, False, False, False, False, False,\n",
      "       False, False, False, False,  True, False, False, False, False,\n",
      "       False, False, False, False, False, False, False, False, False,\n",
      "       False, False, False, False,  True, False, False, False, False,\n",
      "       False, False, False, False, False, False, False, False, False,\n",
      "       False, False, False, False, False, False, False, False, False,\n",
      "       False])\n",
      "\n",
      "In [12]: (data_W[0,idx] > data_W[-1,idx]).sum()\n",
      "Out[12]: 2\n",
      "\n",
      "In [13]: i\n",
      "Out[13]: 1\n",
      "\n",
      "In [14]: communities[0]\n",
      "Out[14]: \n",
      "{0,\n",
      " 24,\n",
      " 44,\n",
      " 77,\n",
      " 112,\n",
      " 122,\n",
      " 131,\n",
      " 146,\n",
      " 166,\n",
      " 191,\n",
      " 249,\n",
      " 359,\n",
      " 388,\n",
      " 399,\n",
      " 408,\n",
      " 426,\n",
      " 427,\n",
      " 464,\n",
      " 473,\n",
      " 475,\n",
      " 481,\n",
      " 493,\n",
      " 502,\n",
      " 516,\n",
      " 517,\n",
      " 520,\n",
      " 531,\n",
      " 556,\n",
      " 577,\n",
      " 607,\n",
      " 643,\n",
      " 645,\n",
      " 649,\n",
      " 661,\n",
      " 665,\n",
      " 680,\n",
      " 682,\n",
      " 688,\n",
      " 693,\n",
      " 697,\n",
      " 710,\n",
      " 723,\n",
      " 739,\n",
      " 761,\n",
      " 765,\n",
      " 800,\n",
      " 812,\n",
      " 815,\n",
      " 819,\n",
      " 825,\n",
      " 848,\n",
      " 855,\n",
      " 857,\n",
      " 865,\n",
      " 869,\n",
      " 886,\n",
      " 900,\n",
      " 930,\n",
      " 948,\n",
      " 955,\n",
      " 998,\n",
      " 1040,\n",
      " 1044,\n",
      " 1076,\n",
      " 1078,\n",
      " 1083,\n",
      " 1179,\n",
      " 1180,\n",
      " 1183,\n",
      " 1186,\n",
      " 1188,\n",
      " 1193,\n",
      " 1198}\n",
      "\n",
      "In [15]: communities[1]\n",
      "Out[15]: \n",
      "{1,\n",
      " 62,\n",
      " 75,\n",
      " 82,\n",
      " 110,\n",
      " 125,\n",
      " 189,\n",
      " 213,\n",
      " 218,\n",
      " 247,\n",
      " 261,\n",
      " 322,\n",
      " 324,\n",
      " 344,\n",
      " 356,\n",
      " 368,\n",
      " 378,\n",
      " 392,\n",
      " 395,\n",
      " 398,\n",
      " 411,\n",
      " 436,\n",
      " 447,\n",
      " 490,\n",
      " 500,\n",
      " 549,\n",
      " 580,\n",
      " 608,\n",
      " 658,\n",
      " 676,\n",
      " 696,\n",
      " 729,\n",
      " 734,\n",
      " 784,\n",
      " 842,\n",
      " 853,\n",
      " 859,\n",
      " 879,\n",
      " 915,\n",
      " 957,\n",
      " 963,\n",
      " 1015,\n",
      " 1017,\n",
      " 1020,\n",
      " 1028,\n",
      " 1029,\n",
      " 1042,\n",
      " 1060,\n",
      " 1100,\n",
      " 1139,\n",
      " 1149,\n",
      " 1181,\n",
      " 1197,\n",
      " 1211,\n",
      " 1212}\n",
      "\n",
      "In [16]: len(communities[1])\n",
      "Out[16]: 55\n",
      "\n"
     ]
    },
    {
     "name": "stderr",
     "output_type": "stream",
     "text": [
      "Exception ignored in: <function tqdm.__del__ at 0x1109a3370>\n",
      "Traceback (most recent call last):\n",
      "  File \"/Library/Frameworks/Python.framework/Versions/3.10/lib/python3.10/site-packages/tqdm/std.py\", line 1161, in __del__\n",
      "    def __del__(self):\n",
      "KeyboardInterrupt: \n"
     ]
    },
    {
     "ename": "KeyboardInterrupt",
     "evalue": "Interrupted by user",
     "output_type": "error",
     "traceback": [
      "\u001b[0;31m---------------------------------------------------------------------------\u001b[0m",
      "\u001b[0;31mKeyboardInterrupt\u001b[0m                         Traceback (most recent call last)",
      "File \u001b[0;32m/var/folders/bj/4q98hxqx4vq6wwm8qqllvxmr0000gn/T/ipykernel_72567/4188213530.py:26\u001b[0m, in \u001b[0;36m<cell line: 2>\u001b[0;34m()\u001b[0m\n\u001b[1;32m     23\u001b[0m     \u001b[38;5;28;01mif\u001b[39;00m final_w[\u001b[38;5;241m-\u001b[39m\u001b[38;5;241m1\u001b[39m] \u001b[38;5;241m>\u001b[39m init_w[\u001b[38;5;241m-\u001b[39m\u001b[38;5;241m1\u001b[39m]:\n\u001b[1;32m     24\u001b[0m         \u001b[38;5;66;03m# check whether some agents in the community are poorer than start\u001b[39;00m\n\u001b[1;32m     25\u001b[0m         \u001b[38;5;28;01mif\u001b[39;00m np\u001b[38;5;241m.\u001b[39msum(data_W[\u001b[38;5;241m0\u001b[39m,idx] \u001b[38;5;241m>\u001b[39m data_W[\u001b[38;5;241m-\u001b[39m\u001b[38;5;241m1\u001b[39m,idx]) \u001b[38;5;241m>\u001b[39m \u001b[38;5;241m0\u001b[39m:\n\u001b[0;32m---> 26\u001b[0m             \u001b[38;5;28;01mimport\u001b[39;00m \u001b[38;5;21;01mIPython\u001b[39;00m; IPython\u001b[38;5;241m.\u001b[39membed()\n\u001b[1;32m     30\u001b[0m prop_richer \u001b[38;5;241m=\u001b[39m np\u001b[38;5;241m.\u001b[39msum(np\u001b[38;5;241m.\u001b[39marray(final_w) \u001b[38;5;241m>\u001b[39m np\u001b[38;5;241m.\u001b[39marray(init_w)) \u001b[38;5;241m/\u001b[39m NC\n\u001b[1;32m     31\u001b[0m \u001b[38;5;28;01mif\u001b[39;00m prop_richer \u001b[38;5;241m==\u001b[39m \u001b[38;5;241m0\u001b[39m:\n",
      "File \u001b[0;32m/Library/Frameworks/Python.framework/Versions/3.10/lib/python3.10/site-packages/IPython/terminal/embed.py:399\u001b[0m, in \u001b[0;36membed\u001b[0;34m(header, compile_flags, **kwargs)\u001b[0m\n\u001b[1;32m    396\u001b[0m frame \u001b[38;5;241m=\u001b[39m sys\u001b[38;5;241m.\u001b[39m_getframe(\u001b[38;5;241m1\u001b[39m)\n\u001b[1;32m    397\u001b[0m shell \u001b[38;5;241m=\u001b[39m InteractiveShellEmbed\u001b[38;5;241m.\u001b[39minstance(_init_location_id\u001b[38;5;241m=\u001b[39m\u001b[38;5;124m'\u001b[39m\u001b[38;5;132;01m%s\u001b[39;00m\u001b[38;5;124m:\u001b[39m\u001b[38;5;132;01m%s\u001b[39;00m\u001b[38;5;124m'\u001b[39m \u001b[38;5;241m%\u001b[39m (\n\u001b[1;32m    398\u001b[0m     frame\u001b[38;5;241m.\u001b[39mf_code\u001b[38;5;241m.\u001b[39mco_filename, frame\u001b[38;5;241m.\u001b[39mf_lineno), \u001b[38;5;241m*\u001b[39m\u001b[38;5;241m*\u001b[39mkwargs)\n\u001b[0;32m--> 399\u001b[0m \u001b[43mshell\u001b[49m\u001b[43m(\u001b[49m\u001b[43mheader\u001b[49m\u001b[38;5;241;43m=\u001b[39;49m\u001b[43mheader\u001b[49m\u001b[43m,\u001b[49m\u001b[43m \u001b[49m\u001b[43mstack_depth\u001b[49m\u001b[38;5;241;43m=\u001b[39;49m\u001b[38;5;241;43m2\u001b[39;49m\u001b[43m,\u001b[49m\u001b[43m \u001b[49m\u001b[43mcompile_flags\u001b[49m\u001b[38;5;241;43m=\u001b[39;49m\u001b[43mcompile_flags\u001b[49m\u001b[43m,\u001b[49m\n\u001b[1;32m    400\u001b[0m \u001b[43m    \u001b[49m\u001b[43m_call_location_id\u001b[49m\u001b[38;5;241;43m=\u001b[39;49m\u001b[38;5;124;43m'\u001b[39;49m\u001b[38;5;132;43;01m%s\u001b[39;49;00m\u001b[38;5;124;43m:\u001b[39;49m\u001b[38;5;132;43;01m%s\u001b[39;49;00m\u001b[38;5;124;43m'\u001b[39;49m\u001b[43m \u001b[49m\u001b[38;5;241;43m%\u001b[39;49m\u001b[43m \u001b[49m\u001b[43m(\u001b[49m\u001b[43mframe\u001b[49m\u001b[38;5;241;43m.\u001b[39;49m\u001b[43mf_code\u001b[49m\u001b[38;5;241;43m.\u001b[39;49m\u001b[43mco_filename\u001b[49m\u001b[43m,\u001b[49m\u001b[43m \u001b[49m\u001b[43mframe\u001b[49m\u001b[38;5;241;43m.\u001b[39;49m\u001b[43mf_lineno\u001b[49m\u001b[43m)\u001b[49m\u001b[43m)\u001b[49m\n\u001b[1;32m    401\u001b[0m InteractiveShellEmbed\u001b[38;5;241m.\u001b[39mclear_instance()\n\u001b[1;32m    402\u001b[0m \u001b[38;5;66;03m#restore previous instance\u001b[39;00m\n",
      "File \u001b[0;32m/Library/Frameworks/Python.framework/Versions/3.10/lib/python3.10/site-packages/IPython/terminal/embed.py:245\u001b[0m, in \u001b[0;36mInteractiveShellEmbed.__call__\u001b[0;34m(self, header, local_ns, module, dummy, stack_depth, compile_flags, **kw)\u001b[0m\n\u001b[1;32m    241\u001b[0m     \u001b[38;5;28mself\u001b[39m\u001b[38;5;241m.\u001b[39mshow_banner()\n\u001b[1;32m    243\u001b[0m \u001b[38;5;66;03m# Call the embedding code with a stack depth of 1 so it can skip over\u001b[39;00m\n\u001b[1;32m    244\u001b[0m \u001b[38;5;66;03m# our call and get the original caller's namespaces.\u001b[39;00m\n\u001b[0;32m--> 245\u001b[0m \u001b[38;5;28;43mself\u001b[39;49m\u001b[38;5;241;43m.\u001b[39;49m\u001b[43mmainloop\u001b[49m\u001b[43m(\u001b[49m\n\u001b[1;32m    246\u001b[0m \u001b[43m    \u001b[49m\u001b[43mlocal_ns\u001b[49m\u001b[43m,\u001b[49m\u001b[43m \u001b[49m\u001b[43mmodule\u001b[49m\u001b[43m,\u001b[49m\u001b[43m \u001b[49m\u001b[43mstack_depth\u001b[49m\u001b[38;5;241;43m=\u001b[39;49m\u001b[43mstack_depth\u001b[49m\u001b[43m,\u001b[49m\u001b[43m \u001b[49m\u001b[43mcompile_flags\u001b[49m\u001b[38;5;241;43m=\u001b[39;49m\u001b[43mcompile_flags\u001b[49m\n\u001b[1;32m    247\u001b[0m \u001b[43m\u001b[49m\u001b[43m)\u001b[49m\n\u001b[1;32m    249\u001b[0m \u001b[38;5;28mself\u001b[39m\u001b[38;5;241m.\u001b[39mbanner2 \u001b[38;5;241m=\u001b[39m \u001b[38;5;28mself\u001b[39m\u001b[38;5;241m.\u001b[39mold_banner2\n\u001b[1;32m    251\u001b[0m \u001b[38;5;28;01mif\u001b[39;00m \u001b[38;5;28mself\u001b[39m\u001b[38;5;241m.\u001b[39mexit_msg \u001b[38;5;129;01mis\u001b[39;00m \u001b[38;5;129;01mnot\u001b[39;00m \u001b[38;5;28;01mNone\u001b[39;00m:\n",
      "File \u001b[0;32m/Library/Frameworks/Python.framework/Versions/3.10/lib/python3.10/site-packages/IPython/terminal/embed.py:337\u001b[0m, in \u001b[0;36mInteractiveShellEmbed.mainloop\u001b[0;34m(self, local_ns, module, stack_depth, compile_flags)\u001b[0m\n\u001b[1;32m    334\u001b[0m \u001b[38;5;28mself\u001b[39m\u001b[38;5;241m.\u001b[39mset_completer_frame()\n\u001b[1;32m    336\u001b[0m \u001b[38;5;28;01mwith\u001b[39;00m \u001b[38;5;28mself\u001b[39m\u001b[38;5;241m.\u001b[39mbuiltin_trap, \u001b[38;5;28mself\u001b[39m\u001b[38;5;241m.\u001b[39mdisplay_trap:\n\u001b[0;32m--> 337\u001b[0m     \u001b[38;5;28;43mself\u001b[39;49m\u001b[38;5;241;43m.\u001b[39;49m\u001b[43minteract\u001b[49m\u001b[43m(\u001b[49m\u001b[43m)\u001b[49m\n\u001b[1;32m    339\u001b[0m \u001b[38;5;66;03m# now, purge out the local namespace of IPython's hidden variables.\u001b[39;00m\n\u001b[1;32m    340\u001b[0m \u001b[38;5;28;01mif\u001b[39;00m local_ns \u001b[38;5;129;01mis\u001b[39;00m \u001b[38;5;129;01mnot\u001b[39;00m \u001b[38;5;28;01mNone\u001b[39;00m:\n",
      "File \u001b[0;32m/Library/Frameworks/Python.framework/Versions/3.10/lib/python3.10/site-packages/IPython/terminal/interactiveshell.py:665\u001b[0m, in \u001b[0;36mTerminalInteractiveShell.interact\u001b[0;34m(self)\u001b[0m\n\u001b[1;32m    662\u001b[0m \u001b[38;5;28mprint\u001b[39m(\u001b[38;5;28mself\u001b[39m\u001b[38;5;241m.\u001b[39mseparate_in, end\u001b[38;5;241m=\u001b[39m\u001b[38;5;124m'\u001b[39m\u001b[38;5;124m'\u001b[39m)\n\u001b[1;32m    664\u001b[0m \u001b[38;5;28;01mtry\u001b[39;00m:\n\u001b[0;32m--> 665\u001b[0m     code \u001b[38;5;241m=\u001b[39m \u001b[38;5;28;43mself\u001b[39;49m\u001b[38;5;241;43m.\u001b[39;49m\u001b[43mprompt_for_code\u001b[49m\u001b[43m(\u001b[49m\u001b[43m)\u001b[49m\n\u001b[1;32m    666\u001b[0m \u001b[38;5;28;01mexcept\u001b[39;00m \u001b[38;5;167;01mEOFError\u001b[39;00m:\n\u001b[1;32m    667\u001b[0m     \u001b[38;5;28;01mif\u001b[39;00m (\u001b[38;5;129;01mnot\u001b[39;00m \u001b[38;5;28mself\u001b[39m\u001b[38;5;241m.\u001b[39mconfirm_exit) \\\n\u001b[1;32m    668\u001b[0m             \u001b[38;5;129;01mor\u001b[39;00m \u001b[38;5;28mself\u001b[39m\u001b[38;5;241m.\u001b[39mask_yes_no(\u001b[38;5;124m'\u001b[39m\u001b[38;5;124mDo you really want to exit ([y]/n)?\u001b[39m\u001b[38;5;124m'\u001b[39m,\u001b[38;5;124m'\u001b[39m\u001b[38;5;124my\u001b[39m\u001b[38;5;124m'\u001b[39m,\u001b[38;5;124m'\u001b[39m\u001b[38;5;124mn\u001b[39m\u001b[38;5;124m'\u001b[39m):\n",
      "File \u001b[0;32m/Library/Frameworks/Python.framework/Versions/3.10/lib/python3.10/site-packages/IPython/terminal/interactiveshell.py:424\u001b[0m, in \u001b[0;36mTerminalInteractiveShell.init_prompt_toolkit_cli.<locals>.prompt\u001b[0;34m()\u001b[0m\n\u001b[1;32m    422\u001b[0m \u001b[38;5;28;01mdef\u001b[39;00m \u001b[38;5;21mprompt\u001b[39m():\n\u001b[1;32m    423\u001b[0m     prompt_text \u001b[38;5;241m=\u001b[39m \u001b[38;5;124m\"\u001b[39m\u001b[38;5;124m\"\u001b[39m\u001b[38;5;241m.\u001b[39mjoin(x[\u001b[38;5;241m1\u001b[39m] \u001b[38;5;28;01mfor\u001b[39;00m x \u001b[38;5;129;01min\u001b[39;00m \u001b[38;5;28mself\u001b[39m\u001b[38;5;241m.\u001b[39mprompts\u001b[38;5;241m.\u001b[39min_prompt_tokens())\n\u001b[0;32m--> 424\u001b[0m     lines \u001b[38;5;241m=\u001b[39m [\u001b[38;5;28;43minput\u001b[39;49m\u001b[43m(\u001b[49m\u001b[43mprompt_text\u001b[49m\u001b[43m)\u001b[49m]\n\u001b[1;32m    425\u001b[0m     prompt_continuation \u001b[38;5;241m=\u001b[39m \u001b[38;5;124m\"\u001b[39m\u001b[38;5;124m\"\u001b[39m\u001b[38;5;241m.\u001b[39mjoin(x[\u001b[38;5;241m1\u001b[39m] \u001b[38;5;28;01mfor\u001b[39;00m x \u001b[38;5;129;01min\u001b[39;00m \u001b[38;5;28mself\u001b[39m\u001b[38;5;241m.\u001b[39mprompts\u001b[38;5;241m.\u001b[39mcontinuation_prompt_tokens())\n\u001b[1;32m    426\u001b[0m     \u001b[38;5;28;01mwhile\u001b[39;00m \u001b[38;5;28mself\u001b[39m\u001b[38;5;241m.\u001b[39mcheck_complete(\u001b[38;5;124m'\u001b[39m\u001b[38;5;130;01m\\n\u001b[39;00m\u001b[38;5;124m'\u001b[39m\u001b[38;5;241m.\u001b[39mjoin(lines))[\u001b[38;5;241m0\u001b[39m] \u001b[38;5;241m==\u001b[39m \u001b[38;5;124m'\u001b[39m\u001b[38;5;124mincomplete\u001b[39m\u001b[38;5;124m'\u001b[39m:\n",
      "File \u001b[0;32m/Library/Frameworks/Python.framework/Versions/3.10/lib/python3.10/site-packages/IPython/utils/py3compat.py:48\u001b[0m, in \u001b[0;36minput\u001b[0;34m(prompt)\u001b[0m\n\u001b[1;32m     47\u001b[0m \u001b[38;5;28;01mdef\u001b[39;00m \u001b[38;5;21minput\u001b[39m(prompt\u001b[38;5;241m=\u001b[39m\u001b[38;5;124m\"\u001b[39m\u001b[38;5;124m\"\u001b[39m):\n\u001b[0;32m---> 48\u001b[0m     \u001b[38;5;28;01mreturn\u001b[39;00m \u001b[43mbuiltin_mod\u001b[49m\u001b[38;5;241;43m.\u001b[39;49m\u001b[43minput\u001b[49m\u001b[43m(\u001b[49m\u001b[43mprompt\u001b[49m\u001b[43m)\u001b[49m\n",
      "File \u001b[0;32m/Library/Frameworks/Python.framework/Versions/3.10/lib/python3.10/site-packages/ipykernel/kernelbase.py:1161\u001b[0m, in \u001b[0;36mKernel.raw_input\u001b[0;34m(self, prompt)\u001b[0m\n\u001b[1;32m   1157\u001b[0m \u001b[38;5;28;01mif\u001b[39;00m \u001b[38;5;129;01mnot\u001b[39;00m \u001b[38;5;28mself\u001b[39m\u001b[38;5;241m.\u001b[39m_allow_stdin:\n\u001b[1;32m   1158\u001b[0m     \u001b[38;5;28;01mraise\u001b[39;00m StdinNotImplementedError(\n\u001b[1;32m   1159\u001b[0m         \u001b[38;5;124m\"\u001b[39m\u001b[38;5;124mraw_input was called, but this frontend does not support input requests.\u001b[39m\u001b[38;5;124m\"\u001b[39m\n\u001b[1;32m   1160\u001b[0m     )\n\u001b[0;32m-> 1161\u001b[0m \u001b[38;5;28;01mreturn\u001b[39;00m \u001b[38;5;28;43mself\u001b[39;49m\u001b[38;5;241;43m.\u001b[39;49m\u001b[43m_input_request\u001b[49m\u001b[43m(\u001b[49m\n\u001b[1;32m   1162\u001b[0m \u001b[43m    \u001b[49m\u001b[38;5;28;43mstr\u001b[39;49m\u001b[43m(\u001b[49m\u001b[43mprompt\u001b[49m\u001b[43m)\u001b[49m\u001b[43m,\u001b[49m\n\u001b[1;32m   1163\u001b[0m \u001b[43m    \u001b[49m\u001b[38;5;28;43mself\u001b[39;49m\u001b[38;5;241;43m.\u001b[39;49m\u001b[43m_parent_ident\u001b[49m\u001b[43m[\u001b[49m\u001b[38;5;124;43m\"\u001b[39;49m\u001b[38;5;124;43mshell\u001b[39;49m\u001b[38;5;124;43m\"\u001b[39;49m\u001b[43m]\u001b[49m\u001b[43m,\u001b[49m\n\u001b[1;32m   1164\u001b[0m \u001b[43m    \u001b[49m\u001b[38;5;28;43mself\u001b[39;49m\u001b[38;5;241;43m.\u001b[39;49m\u001b[43mget_parent\u001b[49m\u001b[43m(\u001b[49m\u001b[38;5;124;43m\"\u001b[39;49m\u001b[38;5;124;43mshell\u001b[39;49m\u001b[38;5;124;43m\"\u001b[39;49m\u001b[43m)\u001b[49m\u001b[43m,\u001b[49m\n\u001b[1;32m   1165\u001b[0m \u001b[43m    \u001b[49m\u001b[43mpassword\u001b[49m\u001b[38;5;241;43m=\u001b[39;49m\u001b[38;5;28;43;01mFalse\u001b[39;49;00m\u001b[43m,\u001b[49m\n\u001b[1;32m   1166\u001b[0m \u001b[43m\u001b[49m\u001b[43m)\u001b[49m\n",
      "File \u001b[0;32m/Library/Frameworks/Python.framework/Versions/3.10/lib/python3.10/site-packages/ipykernel/kernelbase.py:1205\u001b[0m, in \u001b[0;36mKernel._input_request\u001b[0;34m(self, prompt, ident, parent, password)\u001b[0m\n\u001b[1;32m   1202\u001b[0m             \u001b[38;5;28;01mbreak\u001b[39;00m\n\u001b[1;32m   1203\u001b[0m \u001b[38;5;28;01mexcept\u001b[39;00m \u001b[38;5;167;01mKeyboardInterrupt\u001b[39;00m:\n\u001b[1;32m   1204\u001b[0m     \u001b[38;5;66;03m# re-raise KeyboardInterrupt, to truncate traceback\u001b[39;00m\n\u001b[0;32m-> 1205\u001b[0m     \u001b[38;5;28;01mraise\u001b[39;00m \u001b[38;5;167;01mKeyboardInterrupt\u001b[39;00m(\u001b[38;5;124m\"\u001b[39m\u001b[38;5;124mInterrupted by user\u001b[39m\u001b[38;5;124m\"\u001b[39m) \u001b[38;5;28;01mfrom\u001b[39;00m \u001b[38;5;28mNone\u001b[39m\n\u001b[1;32m   1206\u001b[0m \u001b[38;5;28;01mexcept\u001b[39;00m \u001b[38;5;167;01mException\u001b[39;00m:\n\u001b[1;32m   1207\u001b[0m     \u001b[38;5;28mself\u001b[39m\u001b[38;5;241m.\u001b[39mlog\u001b[38;5;241m.\u001b[39mwarning(\u001b[38;5;124m\"\u001b[39m\u001b[38;5;124mInvalid Message:\u001b[39m\u001b[38;5;124m\"\u001b[39m, exc_info\u001b[38;5;241m=\u001b[39m\u001b[38;5;28;01mTrue\u001b[39;00m)\n",
      "\u001b[0;31mKeyboardInterrupt\u001b[0m: Interrupted by user"
     ]
    }
   ],
   "source": [
    "final_w_comm = {0:[], 1:[], 2:[]}\n",
    "for seed in os.listdir(\"DATA/nodebt/\"):\n",
    "    s = int(seed.split(\"_\")[-1])\n",
    "    for f in tqdm(os.listdir(f\"DATA/nodebt/{seed}\")):\n",
    "        data = pickle.load(lzma.open(f\"DATA/nodebt/{seed}/{f}\"))\n",
    "\n",
    "        # retrieve communities from graph\n",
    "        alpha = data[\"params\"][4]\n",
    "        with open(f\"sda_graphs/{s}_{alpha}.pickle\", \"rb\") as f:\n",
    "            communities, _, _, _ = pickle.load(f)\n",
    "        NC = len(communities) \n",
    "        \n",
    "        # track initial and final average community wealths\n",
    "        data_W = data[\"W\"]\n",
    "        init_w = []\n",
    "        final_w = []\n",
    "        for i,c in enumerate(communities):\n",
    "            idx = np.array(list(c))\n",
    "            init_w.append(np.mean(data_W[0, idx]))\n",
    "            final_w.append(np.mean(data_W[-1, idx]))\n",
    "            \n",
    "            # community is richer on average at end of simulation than start\n",
    "            if final_w[-1] > init_w[-1]:\n",
    "                # check whether some agents in the community are poorer than start\n",
    "                if np.sum(data_W[0,idx] > data_W[-1,idx]) > 0:\n",
    "                    import IPython; IPython.embed()\n",
    "                    \n",
    "                \n",
    "        \n",
    "        prop_richer = np.sum(np.array(final_w) > np.array(init_w)) / NC\n",
    "        if prop_richer == 0:\n",
    "            pred = 0\n",
    "        elif prop_richer < 1:\n",
    "            pred = 1\n",
    "        else:\n",
    "            pred = 2            \n",
    "\n",
    "        final_w_comm[pred].append(final_w)"
   ]
  },
  {
   "cell_type": "code",
   "execution_count": null,
   "id": "20994baf",
   "metadata": {},
   "outputs": [],
   "source": []
  },
  {
   "cell_type": "code",
   "execution_count": 35,
   "id": "6b92a8b7",
   "metadata": {},
   "outputs": [
    {
     "data": {
      "image/png": "[encoded data removed]",
      "text/plain": [
       "<Figure size 800x600 with 1 Axes>"
      ]
     },
     "metadata": {},
     "output_type": "display_data"
    }
   ],
   "source": [
    "# plt.scatter(data[\"W\"][0,list(communities[1])], data[\"W\"][-1,list(communities[1])], \n",
    "#             color=\"dodgerblue\", edgecolor=\"k\")\n",
    "\n",
    "# x = np.linspace(5.85, 6.1, 1000)\n",
    "# plt.plot(x, x, linestyle=\"dashed\", color=\"crimson\")\n",
    "# plt.yscale(\"log\")\n",
    "# plt.xlabel(\"Initial Agent Wealth\")\n",
    "# plt.ylabel(\"Final Agent Wealth\")\n",
    "# plt.title(\"Community of 55 agents\")\n",
    "# plt.show()"
   ]
  },
  {
   "cell_type": "code",
   "execution_count": null,
   "id": "6f705ab7",
   "metadata": {},
   "outputs": [],
   "source": []
  },
  {
   "cell_type": "code",
   "execution_count": null,
   "id": "fd6e009c",
   "metadata": {},
   "outputs": [],
   "source": []
  },
  {
   "cell_type": "code",
   "execution_count": null,
   "id": "d238a19a",
   "metadata": {},
   "outputs": [],
   "source": []
  },
  {
   "cell_type": "code",
   "execution_count": null,
   "id": "861fccf7",
   "metadata": {},
   "outputs": [],
   "source": []
  },
  {
   "cell_type": "code",
   "execution_count": 4,
   "id": "895982d8",
   "metadata": {},
   "outputs": [],
   "source": [
    "# with open(\"notebooks/final_comm_w_data.pickle\", \"wb\") as f:\n",
    "#     pickle.dump(final_w_comm, f)"
   ]
  },
  {
   "cell_type": "code",
   "execution_count": 5,
   "id": "b3954cd2",
   "metadata": {},
   "outputs": [
    {
     "data": {
      "image/png": "[encoded data removed]",
      "text/plain": [
       "<Figure size 1080x720 with 1 Axes>"
      ]
     },
     "metadata": {},
     "output_type": "display_data"
    }
   ],
   "source": [
    "fig, axs = plt.subplots(1, figsize=(15,10))\n",
    "\n",
    "plt.hist(np.concatenate(final_w_comm[0]), histtype=\"step\", \n",
    "         bins=30, color=\"dodgerblue\", density=True, label=\"All poor\")\n",
    "plt.hist(np.concatenate(final_w_comm[1]), histtype=\"step\", \n",
    "         bins=30, color=\"crimson\", density=True, label=\"Some rich\")\n",
    "plt.hist(np.concatenate(final_w_comm[2]), histtype=\"step\", \n",
    "         bins=30, color=\"forestgreen\", density=True, label=\"All rich\")\n",
    "\n",
    "plt.xscale(\"log\")\n",
    "plt.yscale(\"log\")\n",
    "fig.patch.set_facecolor('xkcd:white')\n",
    "plt.legend()\n",
    "plt.show()"
   ]
  },
  {
   "cell_type": "code",
   "execution_count": 6,
   "id": "049f78e2",
   "metadata": {},
   "outputs": [],
   "source": [
    "del final_w_comm"
   ]
  },
  {
   "cell_type": "markdown",
   "id": "620d6c5f",
   "metadata": {},
   "source": [
    "# Distribution of final gini coefficients for each regime"
   ]
  },
  {
   "cell_type": "code",
   "execution_count": 2,
   "id": "b3cdd37b",
   "metadata": {},
   "outputs": [],
   "source": [
    "def gini(x):\n",
    "    mad = np.abs(np.subtract.outer(x, x)).mean()\n",
    "    mean = np.mean(x) or 1\n",
    "    rmad = mad/mean\n",
    "    g = 0.5 * rmad\n",
    "    return g"
   ]
  },
  {
   "cell_type": "code",
   "execution_count": 5,
   "id": "0163b376",
   "metadata": {
    "collapsed": true
   },
   "outputs": [
    {
     "data": {
      "application/vnd.jupyter.widget-view+json": {
       "model_id": "d94bbeeb0e164df7974e218fd275fecd",
       "version_major": 2,
       "version_minor": 0
      },
      "text/plain": [
       "  0%|          | 0/7168 [00:00<?, ?it/s]"
      ]
     },
     "metadata": {},
     "output_type": "display_data"
    },
    {
     "data": {
      "application/vnd.jupyter.widget-view+json": {
       "model_id": "9ee39f98774e4ef991d60e1cf02ea029",
       "version_major": 2,
       "version_minor": 0
      },
      "text/plain": [
       "  0%|          | 0/7168 [00:00<?, ?it/s]"
      ]
     },
     "metadata": {},
     "output_type": "display_data"
    },
    {
     "data": {
      "application/vnd.jupyter.widget-view+json": {
       "model_id": "7a8d21d156804b729a28e5097de19be7",
       "version_major": 2,
       "version_minor": 0
      },
      "text/plain": [
       "  0%|          | 0/7168 [00:00<?, ?it/s]"
      ]
     },
     "metadata": {},
     "output_type": "display_data"
    },
    {
     "data": {
      "application/vnd.jupyter.widget-view+json": {
       "model_id": "e17a9a6bca064e7abadb6d697e655016",
       "version_major": 2,
       "version_minor": 0
      },
      "text/plain": [
       "  0%|          | 0/7168 [00:00<?, ?it/s]"
      ]
     },
     "metadata": {},
     "output_type": "display_data"
    },
    {
     "data": {
      "application/vnd.jupyter.widget-view+json": {
       "model_id": "655f1386ff4c4fe3ae0839fac795124d",
       "version_major": 2,
       "version_minor": 0
      },
      "text/plain": [
       "  0%|          | 0/7168 [00:00<?, ?it/s]"
      ]
     },
     "metadata": {},
     "output_type": "display_data"
    },
    {
     "data": {
      "application/vnd.jupyter.widget-view+json": {
       "model_id": "b3029e4e9e564137ab3f418ff6c297ed",
       "version_major": 2,
       "version_minor": 0
      },
      "text/plain": [
       "  0%|          | 0/7168 [00:00<?, ?it/s]"
      ]
     },
     "metadata": {},
     "output_type": "display_data"
    },
    {
     "data": {
      "application/vnd.jupyter.widget-view+json": {
       "model_id": "2263e1a65bd84911b4f5e1547393518b",
       "version_major": 2,
       "version_minor": 0
      },
      "text/plain": [
       "  0%|          | 0/7168 [00:00<?, ?it/s]"
      ]
     },
     "metadata": {},
     "output_type": "display_data"
    },
    {
     "data": {
      "application/vnd.jupyter.widget-view+json": {
       "model_id": "a7b93f3763e64a8694be8fd9187919d7",
       "version_major": 2,
       "version_minor": 0
      },
      "text/plain": [
       "  0%|          | 0/7168 [00:00<?, ?it/s]"
      ]
     },
     "metadata": {},
     "output_type": "display_data"
    },
    {
     "data": {
      "application/vnd.jupyter.widget-view+json": {
       "model_id": "f1342fede6af4bb7be683887ccc7e64d",
       "version_major": 2,
       "version_minor": 0
      },
      "text/plain": [
       "  0%|          | 0/7168 [00:00<?, ?it/s]"
      ]
     },
     "metadata": {},
     "output_type": "display_data"
    },
    {
     "data": {
      "application/vnd.jupyter.widget-view+json": {
       "model_id": "caac7ee6ca944c168dcb00a9be9cd438",
       "version_major": 2,
       "version_minor": 0
      },
      "text/plain": [
       "  0%|          | 0/7168 [00:00<?, ?it/s]"
      ]
     },
     "metadata": {},
     "output_type": "display_data"
    },
    {
     "data": {
      "application/vnd.jupyter.widget-view+json": {
       "model_id": "a976c737aeb54a689c25ffd8f18dad8c",
       "version_major": 2,
       "version_minor": 0
      },
      "text/plain": [
       "  0%|          | 0/7168 [00:00<?, ?it/s]"
      ]
     },
     "metadata": {},
     "output_type": "display_data"
    },
    {
     "data": {
      "application/vnd.jupyter.widget-view+json": {
       "model_id": "300c52a3347a4e0eb2bd9406455c4757",
       "version_major": 2,
       "version_minor": 0
      },
      "text/plain": [
       "  0%|          | 0/7168 [00:00<?, ?it/s]"
      ]
     },
     "metadata": {},
     "output_type": "display_data"
    },
    {
     "data": {
      "application/vnd.jupyter.widget-view+json": {
       "model_id": "f06a293a5da5431f9e3b849d0112fcb3",
       "version_major": 2,
       "version_minor": 0
      },
      "text/plain": [
       "  0%|          | 0/7168 [00:00<?, ?it/s]"
      ]
     },
     "metadata": {},
     "output_type": "display_data"
    },
    {
     "data": {
      "application/vnd.jupyter.widget-view+json": {
       "model_id": "2b412e1d1ee84bb6b0f089836a184d8d",
       "version_major": 2,
       "version_minor": 0
      },
      "text/plain": [
       "  0%|          | 0/7168 [00:00<?, ?it/s]"
      ]
     },
     "metadata": {},
     "output_type": "display_data"
    },
    {
     "data": {
      "application/vnd.jupyter.widget-view+json": {
       "model_id": "273f06f321b64f558a512f5c1f235240",
       "version_major": 2,
       "version_minor": 0
      },
      "text/plain": [
       "  0%|          | 0/7168 [00:00<?, ?it/s]"
      ]
     },
     "metadata": {},
     "output_type": "display_data"
    },
    {
     "data": {
      "application/vnd.jupyter.widget-view+json": {
       "model_id": "0567026f835f4991adcdcaaaf28605b7",
       "version_major": 2,
       "version_minor": 0
      },
      "text/plain": [
       "  0%|          | 0/7168 [00:00<?, ?it/s]"
      ]
     },
     "metadata": {},
     "output_type": "display_data"
    },
    {
     "data": {
      "application/vnd.jupyter.widget-view+json": {
       "model_id": "ebc04311f98f4e04876ce5645f748137",
       "version_major": 2,
       "version_minor": 0
      },
      "text/plain": [
       "  0%|          | 0/7168 [00:00<?, ?it/s]"
      ]
     },
     "metadata": {},
     "output_type": "display_data"
    },
    {
     "data": {
      "application/vnd.jupyter.widget-view+json": {
       "model_id": "0643bcb36c4c4f04a2a71a2e06d3f93b",
       "version_major": 2,
       "version_minor": 0
      },
      "text/plain": [
       "  0%|          | 0/7168 [00:00<?, ?it/s]"
      ]
     },
     "metadata": {},
     "output_type": "display_data"
    },
    {
     "data": {
      "application/vnd.jupyter.widget-view+json": {
       "model_id": "b6029f1305104282bca8c05086212ed7",
       "version_major": 2,
       "version_minor": 0
      },
      "text/plain": [
       "  0%|          | 0/7168 [00:00<?, ?it/s]"
      ]
     },
     "metadata": {},
     "output_type": "display_data"
    },
    {
     "data": {
      "application/vnd.jupyter.widget-view+json": {
       "model_id": "3a2202ae2c3f4168ae05271b43cd11cc",
       "version_major": 2,
       "version_minor": 0
      },
      "text/plain": [
       "  0%|          | 0/7168 [00:00<?, ?it/s]"
      ]
     },
     "metadata": {},
     "output_type": "display_data"
    }
   ],
   "source": [
    "ginis = {0:[], 1:[], 2:[]}\n",
    "for seed in os.listdir(\"DATA/nodebt/\"):\n",
    "    for f in tqdm(os.listdir(f\"DATA/nodebt/{seed}\")):\n",
    "        data = pickle.load(lzma.open(f\"DATA/nodebt/{seed}/{f}\"))[\"W\"]\n",
    "        \n",
    "        # retrieve communities from graph\n",
    "        alpha = data[\"params\"][4]\n",
    "        with open(f\"sda_graphs/{s}_{alpha}.pickle\", \"rb\") as f:\n",
    "            communities, _, _, _ = pickle.load(f)\n",
    "        NC = len(communities) \n",
    "        \n",
    "        # track initial and final average community wealths\n",
    "        data_W = data[\"W\"]\n",
    "        init_w = []\n",
    "        final_w = []\n",
    "        for i,c in enumerate(communities):\n",
    "            idx = np.array(list(c))\n",
    "            init_w.append(np.mean(data_W[0, idx]))\n",
    "            final_w.append(np.mean(data_W[-1, idx]))\n",
    "        \n",
    "        prop_richer = np.sum(np.array(final_w) > np.array(init_w)) / NC\n",
    "        if prop_richer == 0:\n",
    "            pred = 0\n",
    "        elif prop_richer < 1:\n",
    "            pred = 1\n",
    "        else:\n",
    "            pred = 2\n",
    "\n",
    "        ginis[pred].append(gini(final_w))"
   ]
  },
  {
   "cell_type": "code",
   "execution_count": 25,
   "id": "65accdcf",
   "metadata": {},
   "outputs": [],
   "source": [
    "with open(\"notebooks/final_ginis_data.pickle\", \"wb\") as f:\n",
    "    pickle.dump(ginis, f)"
   ]
  },
  {
   "cell_type": "code",
   "execution_count": 29,
   "id": "36c721f5",
   "metadata": {},
   "outputs": [
    {
     "data": {
      "image/png": "[encoded data removed]",
      "text/plain": [
       "<Figure size 1080x720 with 1 Axes>"
      ]
     },
     "metadata": {},
     "output_type": "display_data"
    }
   ],
   "source": [
    "fig, axs = plt.subplots(1, figsize=(15,10))\n",
    "\n",
    "plt.hist(ginis[0], histtype=\"step\", \n",
    "         bins=15, color=\"dodgerblue\", density=True, label=\"All poor\")\n",
    "plt.hist(ginis[1], histtype=\"step\",\n",
    "         bins=15, color=\"crimson\", density=True, label=\"Some rich\")\n",
    "plt.hist(ginis[2], histtype=\"step\", \n",
    "         bins=15, color=\"forestgreen\", density=True, label=\"All rich\")\n",
    "\n",
    "# plt.xscale(\"log\")\n",
    "# plt.yscale(\"log\")\n",
    "fig.patch.set_facecolor('xkcd:white')\n",
    "plt.legend()\n",
    "plt.show()"
   ]
  }
 ],
 "metadata": {
  "kernelspec": {
   "display_name": "env",
   "language": "python",
   "name": "env"
  },
  "language_info": {
   "codemirror_mode": {
    "name": "ipython",
    "version": 3
   },
   "file_extension": ".py",
   "mimetype": "text/x-python",
   "name": "python",
   "nbconvert_exporter": "python",
   "pygments_lexer": "ipython3",
   "version": "3.10.4"
  }
 },
 "nbformat": 4,
 "nbformat_minor": 5
}
