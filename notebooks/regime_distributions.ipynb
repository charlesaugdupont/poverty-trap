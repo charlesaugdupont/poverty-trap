{
 "cells": [
  {
   "cell_type": "code",
   "execution_count": 1,
   "id": "fef43450",
   "metadata": {},
   "outputs": [],
   "source": [
    "from sklearn.svm import SVC\n",
    "from tqdm.auto import tqdm\n",
    "import numpy as np\n",
    "import pickle\n",
    "import lzma\n",
    "import sys\n",
    "import os\n",
    "\n",
    "\n",
    "import matplotlib\n",
    "import matplotlib.pyplot as plt\n",
    "import matplotlib.patches as mpatches\n",
    "plt.rcParams.update(plt.rcParamsDefault)\n",
    "plt.rcParams.update({\"font.size\" : 15,\n",
    "                     \"figure.dpi\" : 100, \n",
    "                     \"grid.alpha\" : 0.3, \n",
    "                     \"axes.grid\": True, \n",
    "                     \"axes.axisbelow\" : True,\n",
    "                     \"figure.figsize\":(8,6),\n",
    "                     \"mathtext.fontset\":\"cm\",\n",
    "                     \"xtick.labelsize\": 14,\n",
    "                     \"ytick.labelsize\": 14,\n",
    "                     \"axes.labelsize\": 16, \n",
    "                     \"legend.fontsize\": 13.5})\n",
    "\n",
    "plt.rc(\"text\", usetex=False)\n",
    "plt.rc(\"font\", family=\"serif\")\n",
    "\n",
    "os.chdir(\"../\")\n",
    "import cpt_optimisation"
   ]
  },
  {
   "cell_type": "markdown",
   "id": "8d159764",
   "metadata": {},
   "source": [
    "# Load decision boundary models"
   ]
  },
  {
   "cell_type": "code",
   "execution_count": 2,
   "id": "f445724a",
   "metadata": {},
   "outputs": [],
   "source": [
    "with open(\"notebooks/phase_plot_models.pickle\", 'rb') as f:\n",
    "    model_micro = pickle.load(f)[('theta', 'alpha')]\n",
    "with open(\"notebooks/phase_plot_models_communities.pickle\", 'rb') as f:\n",
    "    model_meso = pickle.load(f)[('theta', 'alpha')]"
   ]
  },
  {
   "cell_type": "markdown",
   "id": "cf9aea00",
   "metadata": {},
   "source": [
    "# Distribution of final agent wealths for each regime"
   ]
  },
  {
   "cell_type": "code",
   "execution_count": 3,
   "id": "7dc1352b",
   "metadata": {
    "collapsed": true
   },
   "outputs": [
    {
     "data": {
      "application/vnd.jupyter.widget-view+json": {
       "model_id": "542a2fb82cb14cc39d61c4540b6bbae5",
       "version_major": 2,
       "version_minor": 0
      },
      "text/plain": [
       "  0%|          | 0/7168 [00:00<?, ?it/s]"
      ]
     },
     "metadata": {},
     "output_type": "display_data"
    },
    {
     "data": {
      "application/vnd.jupyter.widget-view+json": {
       "model_id": "785d9219c4d94912a56b1eb7249b765f",
       "version_major": 2,
       "version_minor": 0
      },
      "text/plain": [
       "  0%|          | 0/7168 [00:00<?, ?it/s]"
      ]
     },
     "metadata": {},
     "output_type": "display_data"
    },
    {
     "data": {
      "application/vnd.jupyter.widget-view+json": {
       "model_id": "d8125149b5014acaaa468bfab07ddfa1",
       "version_major": 2,
       "version_minor": 0
      },
      "text/plain": [
       "  0%|          | 0/7168 [00:00<?, ?it/s]"
      ]
     },
     "metadata": {},
     "output_type": "display_data"
    },
    {
     "data": {
      "application/vnd.jupyter.widget-view+json": {
       "model_id": "80dceb28a02e419286b25a6c77eae573",
       "version_major": 2,
       "version_minor": 0
      },
      "text/plain": [
       "  0%|          | 0/7168 [00:00<?, ?it/s]"
      ]
     },
     "metadata": {},
     "output_type": "display_data"
    },
    {
     "data": {
      "application/vnd.jupyter.widget-view+json": {
       "model_id": "19dec39ce62d41319ab2a1ecf5204cbb",
       "version_major": 2,
       "version_minor": 0
      },
      "text/plain": [
       "  0%|          | 0/7168 [00:00<?, ?it/s]"
      ]
     },
     "metadata": {},
     "output_type": "display_data"
    },
    {
     "data": {
      "application/vnd.jupyter.widget-view+json": {
       "model_id": "f5036c403f964e78954d9b43e54b5ca4",
       "version_major": 2,
       "version_minor": 0
      },
      "text/plain": [
       "  0%|          | 0/7168 [00:00<?, ?it/s]"
      ]
     },
     "metadata": {},
     "output_type": "display_data"
    },
    {
     "data": {
      "application/vnd.jupyter.widget-view+json": {
       "model_id": "6a972b38b21e4f79948003715554b30e",
       "version_major": 2,
       "version_minor": 0
      },
      "text/plain": [
       "  0%|          | 0/7168 [00:00<?, ?it/s]"
      ]
     },
     "metadata": {},
     "output_type": "display_data"
    },
    {
     "data": {
      "application/vnd.jupyter.widget-view+json": {
       "model_id": "b70b80079bae4117adf672ec3d21e29b",
       "version_major": 2,
       "version_minor": 0
      },
      "text/plain": [
       "  0%|          | 0/7168 [00:00<?, ?it/s]"
      ]
     },
     "metadata": {},
     "output_type": "display_data"
    },
    {
     "data": {
      "application/vnd.jupyter.widget-view+json": {
       "model_id": "8ccfe58fad234de2a222376d1ed574c4",
       "version_major": 2,
       "version_minor": 0
      },
      "text/plain": [
       "  0%|          | 0/7168 [00:00<?, ?it/s]"
      ]
     },
     "metadata": {},
     "output_type": "display_data"
    },
    {
     "data": {
      "application/vnd.jupyter.widget-view+json": {
       "model_id": "d2a49e7099cf48c6920e0a8b99b4d27c",
       "version_major": 2,
       "version_minor": 0
      },
      "text/plain": [
       "  0%|          | 0/7168 [00:00<?, ?it/s]"
      ]
     },
     "metadata": {},
     "output_type": "display_data"
    },
    {
     "data": {
      "application/vnd.jupyter.widget-view+json": {
       "model_id": "d1e196a707a445fd9d8ad7c549887019",
       "version_major": 2,
       "version_minor": 0
      },
      "text/plain": [
       "  0%|          | 0/7168 [00:00<?, ?it/s]"
      ]
     },
     "metadata": {},
     "output_type": "display_data"
    },
    {
     "data": {
      "application/vnd.jupyter.widget-view+json": {
       "model_id": "42f9af39925f461496a55e10db353079",
       "version_major": 2,
       "version_minor": 0
      },
      "text/plain": [
       "  0%|          | 0/7168 [00:00<?, ?it/s]"
      ]
     },
     "metadata": {},
     "output_type": "display_data"
    },
    {
     "data": {
      "application/vnd.jupyter.widget-view+json": {
       "model_id": "a5f5b5b90f644cbcb49fc0ca992c384d",
       "version_major": 2,
       "version_minor": 0
      },
      "text/plain": [
       "  0%|          | 0/7168 [00:00<?, ?it/s]"
      ]
     },
     "metadata": {},
     "output_type": "display_data"
    },
    {
     "data": {
      "application/vnd.jupyter.widget-view+json": {
       "model_id": "386de213bc9947ae9f3db781090ef9c9",
       "version_major": 2,
       "version_minor": 0
      },
      "text/plain": [
       "  0%|          | 0/7168 [00:00<?, ?it/s]"
      ]
     },
     "metadata": {},
     "output_type": "display_data"
    },
    {
     "data": {
      "application/vnd.jupyter.widget-view+json": {
       "model_id": "71c3fba65c554c489b07b2ac39cb7a69",
       "version_major": 2,
       "version_minor": 0
      },
      "text/plain": [
       "  0%|          | 0/7168 [00:00<?, ?it/s]"
      ]
     },
     "metadata": {},
     "output_type": "display_data"
    },
    {
     "data": {
      "application/vnd.jupyter.widget-view+json": {
       "model_id": "a268bec1a7e746b6863c07ff25ec92ed",
       "version_major": 2,
       "version_minor": 0
      },
      "text/plain": [
       "  0%|          | 0/7168 [00:00<?, ?it/s]"
      ]
     },
     "metadata": {},
     "output_type": "display_data"
    },
    {
     "data": {
      "application/vnd.jupyter.widget-view+json": {
       "model_id": "65a10fd252e448e1803d541c4631b178",
       "version_major": 2,
       "version_minor": 0
      },
      "text/plain": [
       "  0%|          | 0/7168 [00:00<?, ?it/s]"
      ]
     },
     "metadata": {},
     "output_type": "display_data"
    },
    {
     "data": {
      "application/vnd.jupyter.widget-view+json": {
       "model_id": "65e14d26756a46e6a349baa2fe0d3fb3",
       "version_major": 2,
       "version_minor": 0
      },
      "text/plain": [
       "  0%|          | 0/7168 [00:00<?, ?it/s]"
      ]
     },
     "metadata": {},
     "output_type": "display_data"
    },
    {
     "data": {
      "application/vnd.jupyter.widget-view+json": {
       "model_id": "de7b91f3f3a446a4934fdb25f6e8a97f",
       "version_major": 2,
       "version_minor": 0
      },
      "text/plain": [
       "  0%|          | 0/7168 [00:00<?, ?it/s]"
      ]
     },
     "metadata": {},
     "output_type": "display_data"
    },
    {
     "data": {
      "application/vnd.jupyter.widget-view+json": {
       "model_id": "f896dd07f4134516a7578fc8bf58ea93",
       "version_major": 2,
       "version_minor": 0
      },
      "text/plain": [
       "  0%|          | 0/7168 [00:00<?, ?it/s]"
      ]
     },
     "metadata": {},
     "output_type": "display_data"
    }
   ],
   "source": [
    "final_w_agent = {0:[], 1:[], 2:[]}\n",
    "for seed in os.listdir(\"DATA/nodebt/\"):\n",
    "    for f in tqdm(os.listdir(f\"DATA/nodebt/{seed}\")):\n",
    "        data = pickle.load(lzma.open(f\"DATA/nodebt/{seed}/{f}\"))\n",
    "        theta, alpha = data[\"params\"][0], data[\"params\"][4]\n",
    "        pred = int(model_micro.predict(np.array([theta, alpha]).reshape(1,-1)))\n",
    "        final_w_agent[pred].append(data[\"W\"][-1,:])"
   ]
  },
  {
   "cell_type": "code",
   "execution_count": 4,
   "id": "6a442b21",
   "metadata": {},
   "outputs": [],
   "source": [
    "with open(\"notebooks/final_agent_w_data.pickle\", \"wb\") as f:\n",
    "    pickle.dump(final_w_agent, f)"
   ]
  },
  {
   "cell_type": "code",
   "execution_count": 26,
   "id": "5985723c",
   "metadata": {},
   "outputs": [],
   "source": [
    "with open(\"notebooks/final_agent_w_data.pickle\", \"rb\") as f:\n",
    "    final_w_agent = pickle.load(f)"
   ]
  },
  {
   "cell_type": "code",
   "execution_count": 29,
   "id": "9e09e1db",
   "metadata": {},
   "outputs": [
    {
     "data": {
      "image/png": "[encoded data removed]",
      "text/plain": [
       "<Figure size 1080x720 with 1 Axes>"
      ]
     },
     "metadata": {},
     "output_type": "display_data"
    }
   ],
   "source": [
    "fig, axs = plt.subplots(1, figsize=(15,10))\n",
    "\n",
    "plt.hist(np.concatenate(final_w_agent[0]), histtype=\"step\", \n",
    "         bins=30, color=\"dodgerblue\", density=True, label=\"All poor\")\n",
    "plt.hist(np.concatenate(final_w_agent[1]), histtype=\"step\", \n",
    "         bins=30, color=\"crimson\", density=True, label=\"Some rich\")\n",
    "plt.hist(np.concatenate(final_w_agent[2]), histtype=\"step\", \n",
    "         bins=30, color=\"forestgreen\", density=True, label=\"All rich\")\n",
    "\n",
    "fig.patch.set_facecolor('xkcd:white')\n",
    "plt.legend()\n",
    "plt.show()"
   ]
  },
  {
   "cell_type": "markdown",
   "id": "990dfc8f",
   "metadata": {},
   "source": [
    "# Distribution of final community wealths for each regime"
   ]
  },
  {
   "cell_type": "code",
   "execution_count": 21,
   "id": "04825b22",
   "metadata": {},
   "outputs": [
    {
     "data": {
      "application/vnd.jupyter.widget-view+json": {
       "model_id": "b7562208712d4ef581fb811565e87114",
       "version_major": 2,
       "version_minor": 0
      },
      "text/plain": [
       "  0%|          | 0/7168 [00:00<?, ?it/s]"
      ]
     },
     "metadata": {},
     "output_type": "display_data"
    },
    {
     "data": {
      "application/vnd.jupyter.widget-view+json": {
       "model_id": "18468b54ad3741d9a7a5194bbd33067f",
       "version_major": 2,
       "version_minor": 0
      },
      "text/plain": [
       "  0%|          | 0/7168 [00:00<?, ?it/s]"
      ]
     },
     "metadata": {},
     "output_type": "display_data"
    },
    {
     "data": {
      "application/vnd.jupyter.widget-view+json": {
       "model_id": "ec9618c29cf84335a76a9e715d8c09ff",
       "version_major": 2,
       "version_minor": 0
      },
      "text/plain": [
       "  0%|          | 0/7168 [00:00<?, ?it/s]"
      ]
     },
     "metadata": {},
     "output_type": "display_data"
    },
    {
     "data": {
      "application/vnd.jupyter.widget-view+json": {
       "model_id": "adc566bae3754f4f92e6ff78b558bb87",
       "version_major": 2,
       "version_minor": 0
      },
      "text/plain": [
       "  0%|          | 0/7168 [00:00<?, ?it/s]"
      ]
     },
     "metadata": {},
     "output_type": "display_data"
    },
    {
     "data": {
      "application/vnd.jupyter.widget-view+json": {
       "model_id": "863f62b64db448809bdac8db6e8545b9",
       "version_major": 2,
       "version_minor": 0
      },
      "text/plain": [
       "  0%|          | 0/7168 [00:00<?, ?it/s]"
      ]
     },
     "metadata": {},
     "output_type": "display_data"
    },
    {
     "data": {
      "application/vnd.jupyter.widget-view+json": {
       "model_id": "7e49cc51a6e1450a9fbdd2373774ee0f",
       "version_major": 2,
       "version_minor": 0
      },
      "text/plain": [
       "  0%|          | 0/7168 [00:00<?, ?it/s]"
      ]
     },
     "metadata": {},
     "output_type": "display_data"
    },
    {
     "data": {
      "application/vnd.jupyter.widget-view+json": {
       "model_id": "489a5774f8a944f7b541802ac7505ff8",
       "version_major": 2,
       "version_minor": 0
      },
      "text/plain": [
       "  0%|          | 0/7168 [00:00<?, ?it/s]"
      ]
     },
     "metadata": {},
     "output_type": "display_data"
    },
    {
     "data": {
      "application/vnd.jupyter.widget-view+json": {
       "model_id": "53bf5f3ff6ce41acbe1701ccb3ad033e",
       "version_major": 2,
       "version_minor": 0
      },
      "text/plain": [
       "  0%|          | 0/7168 [00:00<?, ?it/s]"
      ]
     },
     "metadata": {},
     "output_type": "display_data"
    },
    {
     "data": {
      "application/vnd.jupyter.widget-view+json": {
       "model_id": "601d56eb70b2406d96ffafa675fccdc9",
       "version_major": 2,
       "version_minor": 0
      },
      "text/plain": [
       "  0%|          | 0/7168 [00:00<?, ?it/s]"
      ]
     },
     "metadata": {},
     "output_type": "display_data"
    },
    {
     "data": {
      "application/vnd.jupyter.widget-view+json": {
       "model_id": "3f77b076b55a425dbf9609da2c46d58d",
       "version_major": 2,
       "version_minor": 0
      },
      "text/plain": [
       "  0%|          | 0/7168 [00:00<?, ?it/s]"
      ]
     },
     "metadata": {},
     "output_type": "display_data"
    },
    {
     "data": {
      "application/vnd.jupyter.widget-view+json": {
       "model_id": "f7ebbd2ce307460bb9b46d8069856b05",
       "version_major": 2,
       "version_minor": 0
      },
      "text/plain": [
       "  0%|          | 0/7168 [00:00<?, ?it/s]"
      ]
     },
     "metadata": {},
     "output_type": "display_data"
    },
    {
     "data": {
      "application/vnd.jupyter.widget-view+json": {
       "model_id": "8b98a454510845288061e0cf0563a3b2",
       "version_major": 2,
       "version_minor": 0
      },
      "text/plain": [
       "  0%|          | 0/7168 [00:00<?, ?it/s]"
      ]
     },
     "metadata": {},
     "output_type": "display_data"
    },
    {
     "data": {
      "application/vnd.jupyter.widget-view+json": {
       "model_id": "ebd1cbe47dc745ce8ef68227dcc65363",
       "version_major": 2,
       "version_minor": 0
      },
      "text/plain": [
       "  0%|          | 0/7168 [00:00<?, ?it/s]"
      ]
     },
     "metadata": {},
     "output_type": "display_data"
    },
    {
     "data": {
      "application/vnd.jupyter.widget-view+json": {
       "model_id": "591a44ceb6d54e17a5d208166169bae9",
       "version_major": 2,
       "version_minor": 0
      },
      "text/plain": [
       "  0%|          | 0/7168 [00:00<?, ?it/s]"
      ]
     },
     "metadata": {},
     "output_type": "display_data"
    },
    {
     "data": {
      "application/vnd.jupyter.widget-view+json": {
       "model_id": "663a7e3c8fa347b18cbfde98e0fd4e11",
       "version_major": 2,
       "version_minor": 0
      },
      "text/plain": [
       "  0%|          | 0/7168 [00:00<?, ?it/s]"
      ]
     },
     "metadata": {},
     "output_type": "display_data"
    },
    {
     "data": {
      "application/vnd.jupyter.widget-view+json": {
       "model_id": "48debb1501154f9a8a8354b7e7bbe54d",
       "version_major": 2,
       "version_minor": 0
      },
      "text/plain": [
       "  0%|          | 0/7168 [00:00<?, ?it/s]"
      ]
     },
     "metadata": {},
     "output_type": "display_data"
    },
    {
     "data": {
      "application/vnd.jupyter.widget-view+json": {
       "model_id": "f7ad0ce2a37748c29d09eaf5a010f06c",
       "version_major": 2,
       "version_minor": 0
      },
      "text/plain": [
       "  0%|          | 0/7168 [00:00<?, ?it/s]"
      ]
     },
     "metadata": {},
     "output_type": "display_data"
    },
    {
     "data": {
      "application/vnd.jupyter.widget-view+json": {
       "model_id": "7398d8a7c7f5414daa5f492fcb781f09",
       "version_major": 2,
       "version_minor": 0
      },
      "text/plain": [
       "  0%|          | 0/7168 [00:00<?, ?it/s]"
      ]
     },
     "metadata": {},
     "output_type": "display_data"
    },
    {
     "data": {
      "application/vnd.jupyter.widget-view+json": {
       "model_id": "d5e906176db8476aa712f9310861130a",
       "version_major": 2,
       "version_minor": 0
      },
      "text/plain": [
       "  0%|          | 0/7168 [00:00<?, ?it/s]"
      ]
     },
     "metadata": {},
     "output_type": "display_data"
    },
    {
     "data": {
      "application/vnd.jupyter.widget-view+json": {
       "model_id": "5aa4c914daa341b4af227b424f66c782",
       "version_major": 2,
       "version_minor": 0
      },
      "text/plain": [
       "  0%|          | 0/7168 [00:00<?, ?it/s]"
      ]
     },
     "metadata": {},
     "output_type": "display_data"
    }
   ],
   "source": [
    "final_w_comm = {0:[], 1:[], 2:[]}\n",
    "for seed in os.listdir(\"DATA/nodebt/\"):\n",
    "    s = int(seed.split(\"_\")[-1])\n",
    "    for f in tqdm(os.listdir(f\"DATA/nodebt/{seed}\")):\n",
    "        data = pickle.load(lzma.open(f\"DATA/nodebt/{seed}/{f}\"))\n",
    "        theta, alpha = data[\"params\"][0], data[\"params\"][4]\n",
    "        pred = int(model_meso.predict(np.array([theta, alpha]).reshape(1,-1)))\n",
    "        \n",
    "        # retrieve communities from graph\n",
    "        with open(f\"sda_graphs/{s}_{alpha}.pickle\", \"rb\") as f:\n",
    "            communities, _, _, _ = pickle.load(f)\n",
    "        NC = len(communities)\n",
    "        \n",
    "        # compute average community wealth trajectories\n",
    "        data_W = data[\"W\"]\n",
    "        COMMUNITY_W = []\n",
    "        for i,c in enumerate(communities):\n",
    "            mean_comm_w = np.mean(data_W[-1, np.array(list(c))])\n",
    "            COMMUNITY_W.append(mean_comm_w)\n",
    "        \n",
    "        final_w_comm[pred].append(COMMUNITY_W)"
   ]
  },
  {
   "cell_type": "code",
   "execution_count": 22,
   "id": "74ea8953",
   "metadata": {},
   "outputs": [],
   "source": [
    "with open(\"notebooks/final_comm_w_data.pickle\", \"wb\") as f:\n",
    "    pickle.dump(final_w_comm, f)"
   ]
  },
  {
   "cell_type": "code",
   "execution_count": 24,
   "id": "b7f5ffef",
   "metadata": {},
   "outputs": [
    {
     "data": {
      "image/png": "[encoded data removed]",
      "text/plain": [
       "<Figure size 432x288 with 1 Axes>"
      ]
     },
     "metadata": {
      "needs_background": "light"
     },
     "output_type": "display_data"
    }
   ],
   "source": [
    "fig, axs = plt.subplots(1, figsize=(15,10))\n",
    "\n",
    "plt.hist(np.concatenate(final_w_comm[0]), histtype=\"step\", \n",
    "         bins=30, color=\"dodgerblue\", density=True, label=\"All poor\")\n",
    "plt.hist(np.concatenate(final_w_comm[1]), histtype=\"step\", \n",
    "         bins=30, color=\"crimson\", density=True, label=\"Some rich\")\n",
    "plt.hist(np.concatenate(final_w_comm[2]), histtype=\"step\", \n",
    "         bins=30, color=\"forestgreen\", density=True, label=\"All rich\")\n",
    "\n",
    "# plt.xscale(\"log\")\n",
    "# plt.yscale(\"log\")\n",
    "fig.patch.set_facecolor('xkcd:white')\n",
    "plt.legend()\n",
    "plt.show()"
   ]
  },
  {
   "cell_type": "markdown",
   "id": "b14235a5",
   "metadata": {},
   "source": [
    "# Distribution of final gini coefficients for each regime"
   ]
  },
  {
   "cell_type": "code",
   "execution_count": null,
   "id": "67369c6b",
   "metadata": {},
   "outputs": [],
   "source": [
    "def gini(x):\n",
    "    mad = np.abs(np.subtract.outer(x, x)).mean()\n",
    "    mean = np.mean(x) or 1\n",
    "    rmad = mad/mean\n",
    "    g = 0.5 * rmad\n",
    "    return g"
   ]
  },
  {
   "cell_type": "code",
   "execution_count": null,
   "id": "e3458eb4",
   "metadata": {},
   "outputs": [],
   "source": [
    "ginis = {0:[], 1:[], 2:[]}\n",
    "for seed in os.listdir(\"DATA/nodebt/\"):\n",
    "    for f in tqdm(os.listdir(f\"DATA/nodebt/{seed}\")):\n",
    "        data = pickle.load(lzma.open(f\"DATA/nodebt/{seed}/{f}\"))\n",
    "        theta, alpha = data[\"params\"][0], data[\"params\"][4]\n",
    "        pred = int(model_micro.predict(np.array([theta, alpha]).reshape(1,-1)))\n",
    "        ginis[pred].append(gini(data[\"W\"][-1,:]))"
   ]
  },
  {
   "cell_type": "code",
   "execution_count": null,
   "id": "9cd54cbb",
   "metadata": {},
   "outputs": [],
   "source": []
  },
  {
   "cell_type": "code",
   "execution_count": null,
   "id": "b7179f6d",
   "metadata": {},
   "outputs": [],
   "source": []
  }
 ],
 "metadata": {
  "kernelspec": {
   "display_name": "env",
   "language": "python",
   "name": "env"
  },
  "language_info": {
   "codemirror_mode": {
    "name": "ipython",
    "version": 3
   },
   "file_extension": ".py",
   "mimetype": "text/x-python",
   "name": "python",
   "nbconvert_exporter": "python",
   "pygments_lexer": "ipython3",
   "version": "3.10.4"
  }
 },
 "nbformat": 4,
 "nbformat_minor": 5
}
