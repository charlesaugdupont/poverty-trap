{
 "cells": [
  {
   "cell_type": "code",
   "execution_count": 252,
   "id": "957e52ae",
   "metadata": {},
   "outputs": [],
   "source": [
    "import sys\n",
    "sys.path.append(\"../\")\n",
    "\n",
    "from SALib.sample import sobol\n",
    "from network_model import *\n",
    "from tqdm import tqdm\n",
    "import numpy as np\n",
    "import pickle\n",
    "import lzma\n",
    "import os\n",
    "\n",
    "\n",
    "import matplotlib\n",
    "import matplotlib.pyplot as plt\n",
    "from mpl_toolkits.axes_grid1 import ImageGrid\n",
    "plt.rcParams.update(plt.rcParamsDefault)\n",
    "plt.rcParams.update({\"font.size\" : 15,\n",
    "                     \"figure.dpi\" : 100, \n",
    "                     \"grid.alpha\" : 0.3, \n",
    "                     \"axes.grid\": True, \n",
    "                     \"axes.axisbelow\" : True,\n",
    "                     \"figure.figsize\":(8,6),\n",
    "                     \"mathtext.fontset\":\"cm\",\n",
    "                     \"xtick.labelsize\": 14,\n",
    "                     \"ytick.labelsize\": 14,\n",
    "                     \"axes.labelsize\": 16, \n",
    "                     \"legend.fontsize\": 13.5})\n",
    "USE_TEX = False\n",
    "if USE_TEX:\n",
    "    plt.rc(\"text\", usetex=True)\n",
    "    plt.rc(\"text.latex\", preamble=r\"\"\"\n",
    "     \\usepackage{times}\n",
    "     \\usepackage{mathptmx}\"\"\")\n",
    "else:\n",
    "    plt.rc(\"text\", usetex=False)\n",
    "plt.rc(\"font\", family=\"serif\")"
   ]
  },
  {
   "cell_type": "code",
   "execution_count": 2,
   "id": "8f0e21b7",
   "metadata": {},
   "outputs": [],
   "source": [
    "def gini(W):\n",
    "    n = len(W)\n",
    "    total = 0\n",
    "    for i in range(n):\n",
    "        total += sum(np.abs(W[i]-W))\n",
    "    return total / (2 * n**2 * np.mean(W))"
   ]
  },
  {
   "cell_type": "code",
   "execution_count": 3,
   "id": "69302e10",
   "metadata": {},
   "outputs": [],
   "source": [
    "def category_1(data):\n",
    "    decreasing = []\n",
    "    for i in range(len(data)):\n",
    "        d = data[i]\n",
    "        mono_dec = True\n",
    "        for row in d:\n",
    "            if max(row[1:] - row[:-1]) > 0:\n",
    "                mono_dec = False\n",
    "                break\n",
    "        if mono_dec:\n",
    "            decreasing.append(i)\n",
    "    return decreasing\n",
    "\n",
    "\n",
    "def category_2(data, ignore):\n",
    "    increase_less_initial = []\n",
    "    for i in range(len(data)):\n",
    "        if i not in ignore:\n",
    "            d = data[i]\n",
    "            if np.all(np.max(data[i], axis=1) == data[i][:,0]):\n",
    "                increase_less_initial.append(i)\n",
    "    return increase_less_initial\n",
    "\n",
    "\n",
    "def category_3(data, ignore):\n",
    "    surpass_end_poor = []\n",
    "    for i in range(len(data)):\n",
    "        if i not in ignore:\n",
    "            if max(data[i].T[-1]) < 0.1:\n",
    "                surpass_end_poor.append(i)\n",
    "    return surpass_end_poor\n",
    "\n",
    "\n",
    "def category_4(data, ignore):\n",
    "    two_equilibria_less_initial = []\n",
    "    for i in range(len(data)):\n",
    "        if i not in ignore:\n",
    "            if np.all(data[i].T[-1] < data[i].T[0]):\n",
    "                two_equilibria_less_initial.append(i)\n",
    "    return two_equilibria_less_initial\n",
    "\n",
    "\n",
    "def category_5(data, ignore):\n",
    "    two_equilibria_richer = []\n",
    "    for i in range(len(data)):\n",
    "        if i not in ignore:\n",
    "            two_equilibria_richer.append(i)\n",
    "    return two_equilibria_richer"
   ]
  },
  {
   "cell_type": "code",
   "execution_count": 4,
   "id": "d23699aa",
   "metadata": {},
   "outputs": [],
   "source": [
    "directories = [\"../data/sobol/concat_W_arrays\", \n",
    "               \"../data/sobol/concat_W_arrays_random\", \n",
    "               \"../data/sobol/concat_W_arrays_cpt\"]\n",
    "\n",
    "labels = [\"MPT (Holme-Kim)\", \n",
    "          \"MPT (Random)\", \n",
    "          \"CPT (Holme-Kim)\"]\n",
    "\n",
    "communities_file = [\"../augmented_communities.pickle\", \n",
    "                    \"../augmented_communities_random.pickle\",\n",
    "                    \"../augmented_communities.pickle\"]"
   ]
  },
  {
   "cell_type": "markdown",
   "id": "920e2008",
   "metadata": {},
   "source": [
    "# Analysis at agent level"
   ]
  },
  {
   "cell_type": "code",
   "execution_count": 13,
   "id": "40d78fba",
   "metadata": {
    "scrolled": false
   },
   "outputs": [
    {
     "name": "stdout",
     "output_type": "stream",
     "text": [
      "Running analysis for CPT (Holme-Kim)...\n"
     ]
    },
    {
     "name": "stderr",
     "output_type": "stream",
     "text": [
      "100%|██████████| 10/10 [31:47<00:00, 190.71s/it]\n"
     ]
    },
    {
     "name": "stdout",
     "output_type": "stream",
     "text": [
      "--- SUMMARY STATISTICS ---\n",
      "CATEGORY 1: 41.638%\n",
      "CATEGORY 2: 6.852%\n",
      "CATEGORY 3: 49.096%\n",
      "CATEGORY 4: 0.473%\n",
      "CATEGORY 5 (gini <= 0.9911): 0.647%\n",
      "CATEGORY 6 (gini <= 0.9959): 0.647%\n",
      "CATEGORY 7 (gini <= 0.9995): 0.647%\n",
      "\n",
      "\n",
      "\n",
      "Running analysis for CPT (Random)...\n"
     ]
    },
    {
     "name": "stderr",
     "output_type": "stream",
     "text": [
      "100%|██████████| 10/10 [33:42<00:00, 202.22s/it]\n"
     ]
    },
    {
     "name": "stdout",
     "output_type": "stream",
     "text": [
      "--- SUMMARY STATISTICS ---\n",
      "CATEGORY 1: 41.888%\n",
      "CATEGORY 2: 6.956%\n",
      "CATEGORY 3: 48.654%\n",
      "CATEGORY 4: 0.480%\n",
      "CATEGORY 5 (gini <= 0.9911): 0.807%\n",
      "CATEGORY 6 (gini <= 0.9959): 0.650%\n",
      "CATEGORY 7 (gini <= 0.9995): 0.565%\n",
      "\n",
      "\n",
      "\n",
      "Running analysis for MPT (Holme-Kim)...\n"
     ]
    },
    {
     "name": "stderr",
     "output_type": "stream",
     "text": [
      "100%|██████████| 10/10 [2:01:39<00:00, 729.94s/it]"
     ]
    },
    {
     "name": "stdout",
     "output_type": "stream",
     "text": [
      "--- SUMMARY STATISTICS ---\n",
      "CATEGORY 1: 11.111%\n",
      "CATEGORY 2: 0.000%\n",
      "CATEGORY 3: 62.919%\n",
      "CATEGORY 4: 3.387%\n",
      "CATEGORY 5 (gini <= 0.9911): 17.213%\n",
      "CATEGORY 6 (gini <= 0.9959): 2.959%\n",
      "CATEGORY 7 (gini <= 0.9995): 2.411%\n",
      "\n",
      "\n",
      "\n"
     ]
    },
    {
     "name": "stderr",
     "output_type": "stream",
     "text": [
      "\n"
     ]
    }
   ],
   "source": [
    "gini_cutoffs = None\n",
    "percentage_results = {}\n",
    "\n",
    "for dir_idx, D in enumerate(directories):\n",
    "    \n",
    "    print(f\"Running analysis for {labels[dir_idx]}...\")\n",
    "    \n",
    "    category_counts = {i:0 for i in range(7)}\n",
    "    gini_coefficients = []\n",
    "    \n",
    "    for f in tqdm(os.listdir(D)):\n",
    "\n",
    "        data = pickle.load(lzma.open(os.path.join(D,f)))\n",
    "        \n",
    "        cat1 = category_1(data)\n",
    "        cat2 = category_2(data, cat1)\n",
    "        cat3 = category_3(data, cat1+cat2)\n",
    "        cat4 = category_4(data, cat1+cat2+cat3)\n",
    "        cat5 = category_5(data, cat1+cat2+cat3+cat4)\n",
    "        \n",
    "        assert len(cat1+cat2+cat3+cat4+cat5) == len(data)\n",
    "\n",
    "        gini_coefficients += [gini(data[i].T[-1]) for i in cat5]\n",
    "\n",
    "        for i,cat in enumerate([cat1, cat2, cat3, cat4]):\n",
    "            category_counts[i] += len(cat)\n",
    "\n",
    "    if gini_cutoffs is None:\n",
    "        sorted_coeffs = np.array(sorted(gini_coefficients))\n",
    "        split_arrays = np.array_split(sorted_coeffs, 3)\n",
    "        gini_cutoffs = [arr[-1] for arr in split_arrays]\n",
    "\n",
    "    gini_categories = {cutoff:[] for cutoff in gini_cutoffs}\n",
    "    for coeff in gini_coefficients:\n",
    "        for key in gini_categories:\n",
    "            if coeff <= key:\n",
    "                gini_categories[key].append(coeff)\n",
    "                break\n",
    " \n",
    "    for i,cutoff in enumerate(gini_categories):\n",
    "        category_counts[4+i] += len(gini_categories[cutoff])\n",
    "\n",
    "    L = sum(category_counts.values())\n",
    "    percentage_results[labels[dir_idx]] = [100*category_counts[i]/L for i in range(len(category_counts))]\n",
    "\n",
    "    print(\"--- SUMMARY STATISTICS ---\")\n",
    "    print(f\"CATEGORY 1: {percentage_results[labels[dir_idx]][0]:.3f}%\")\n",
    "    print(f\"CATEGORY 2: {percentage_results[labels[dir_idx]][1]:.3f}%\")\n",
    "    print(f\"CATEGORY 3: {percentage_results[labels[dir_idx]][2]:.3f}%\")\n",
    "    print(f\"CATEGORY 4: {percentage_results[labels[dir_idx]][3]:.3f}%\")\n",
    "    print(f\"CATEGORY 5 (gini <= {gini_cutoffs[0]:.4f}): {percentage_results[labels[dir_idx]][4]:.3f}%\")\n",
    "    print(f\"CATEGORY 6 (gini <= {gini_cutoffs[1]:.4f}): {percentage_results[labels[dir_idx]][5]:.3f}%\")\n",
    "    print(f\"CATEGORY 7 (gini <= {gini_cutoffs[2]:.4f}): {percentage_results[labels[dir_idx]][6]:.3f}%\")\n",
    "    print(\"\\n\\n\")"
   ]
  },
  {
   "cell_type": "markdown",
   "id": "4940d85c",
   "metadata": {},
   "source": [
    "# Analysis at community level"
   ]
  },
  {
   "cell_type": "code",
   "execution_count": 5,
   "id": "e976d369",
   "metadata": {},
   "outputs": [
    {
     "name": "stdout",
     "output_type": "stream",
     "text": [
      "Running analysis for CPT (Holme-Kim)...\n"
     ]
    },
    {
     "name": "stderr",
     "output_type": "stream",
     "text": [
      "100%|██████████| 10/10 [23:52<00:00, 143.26s/it]\n"
     ]
    },
    {
     "name": "stdout",
     "output_type": "stream",
     "text": [
      "--- SUMMARY STATISTICS ---\n",
      "CATEGORY 1: 86.732%\n",
      "CATEGORY 2: 8.887%\n",
      "CATEGORY 3: 2.615%\n",
      "CATEGORY 4: 0.804%\n",
      "CATEGORY 5 (gini <= 0.9533): 0.321%\n",
      "CATEGORY 6 (gini <= 0.9864): 0.321%\n",
      "CATEGORY 7 (gini <= 0.9961): 0.320%\n",
      "\n",
      "\n",
      "\n",
      "Running analysis for CPT (Random)...\n"
     ]
    },
    {
     "name": "stderr",
     "output_type": "stream",
     "text": [
      "100%|██████████| 10/10 [26:34<00:00, 159.42s/it]\n"
     ]
    },
    {
     "name": "stdout",
     "output_type": "stream",
     "text": [
      "--- SUMMARY STATISTICS ---\n",
      "CATEGORY 1: 84.826%\n",
      "CATEGORY 2: 13.708%\n",
      "CATEGORY 3: 0.199%\n",
      "CATEGORY 4: 0.454%\n",
      "CATEGORY 5 (gini <= 0.9533): 0.418%\n",
      "CATEGORY 6 (gini <= 0.9864): 0.329%\n",
      "CATEGORY 7 (gini <= 0.9961): 0.067%\n",
      "\n",
      "\n",
      "\n",
      "Running analysis for MPT (Holme-Kim)...\n"
     ]
    },
    {
     "name": "stderr",
     "output_type": "stream",
     "text": [
      "100%|██████████| 10/10 [20:22<00:00, 122.27s/it]"
     ]
    },
    {
     "name": "stdout",
     "output_type": "stream",
     "text": [
      "--- SUMMARY STATISTICS ---\n",
      "CATEGORY 1: 11.526%\n",
      "CATEGORY 2: 5.722%\n",
      "CATEGORY 3: 58.870%\n",
      "CATEGORY 4: 6.364%\n",
      "CATEGORY 5 (gini <= 0.9533): 13.934%\n",
      "CATEGORY 6 (gini <= 0.9864): 2.619%\n",
      "CATEGORY 7 (gini <= 0.9961): 0.965%\n",
      "\n",
      "\n",
      "\n"
     ]
    },
    {
     "name": "stderr",
     "output_type": "stream",
     "text": [
      "\n"
     ]
    }
   ],
   "source": [
    "gini_cutoffs = None\n",
    "percentage_results = {}\n",
    "\n",
    "for dir_idx, D in enumerate(directories):\n",
    "    \n",
    "    with open(communities_file[dir_idx], \"rb\") as f:\n",
    "        communities = pickle.load(f) \n",
    "    community_keys = sorted(list(communities.keys()))[:-1]\n",
    "    \n",
    "    print(f\"Running analysis for {labels[dir_idx]}...\")\n",
    "    \n",
    "    category_counts = {i:0 for i in range(7)}\n",
    "    gini_coefficients = []\n",
    "    \n",
    "    for f in tqdm(os.listdir(D)):\n",
    "        data = pickle.load(lzma.open(os.path.join(D,f)))\n",
    "        data_communities = np.zeros((data.shape[0], len(community_keys), data.shape[2]))\n",
    "        for c in community_keys:\n",
    "            for i in range(len(data)):\n",
    "                data_communities[i][c] = np.mean(data[i][communities[c]], axis=0)\n",
    "        \n",
    "        data = data_communities\n",
    "        cat1 = category_1(data)\n",
    "        cat2 = category_2(data, cat1)\n",
    "        cat3 = category_3(data, cat1+cat2)\n",
    "        cat4 = category_4(data, cat1+cat2+cat3)\n",
    "        cat5 = category_5(data, cat1+cat2+cat3+cat4)\n",
    "        \n",
    "        assert len(cat1+cat2+cat3+cat4+cat5) == len(data)\n",
    "\n",
    "        gini_coefficients += [gini(data[i].T[-1]) for i in cat5]\n",
    "\n",
    "        for i,cat in enumerate([cat1, cat2, cat3, cat4]):\n",
    "            category_counts[i] += len(cat)\n",
    "\n",
    "    if gini_cutoffs is None:\n",
    "        sorted_coeffs = np.array(sorted(gini_coefficients))\n",
    "        split_arrays = np.array_split(sorted_coeffs, 3)\n",
    "        gini_cutoffs = [arr[-1] for arr in split_arrays]\n",
    "\n",
    "    gini_categories = {cutoff:[] for cutoff in gini_cutoffs}\n",
    "    for coeff in gini_coefficients:\n",
    "        for key in gini_categories:\n",
    "            if coeff <= key:\n",
    "                gini_categories[key].append(coeff)\n",
    "                break\n",
    " \n",
    "    for i,cutoff in enumerate(gini_categories):\n",
    "        category_counts[4+i] += len(gini_categories[cutoff])\n",
    "\n",
    "    L = sum(category_counts.values())\n",
    "    percentage_results[labels[dir_idx]] = [100*category_counts[i]/L for i in range(len(category_counts))]\n",
    "\n",
    "    print(\"--- SUMMARY STATISTICS ---\")\n",
    "    print(f\"CATEGORY 1: {percentage_results[labels[dir_idx]][0]:.3f}%\")\n",
    "    print(f\"CATEGORY 2: {percentage_results[labels[dir_idx]][1]:.3f}%\")\n",
    "    print(f\"CATEGORY 3: {percentage_results[labels[dir_idx]][2]:.3f}%\")\n",
    "    print(f\"CATEGORY 4: {percentage_results[labels[dir_idx]][3]:.3f}%\")\n",
    "    print(f\"CATEGORY 5 (gini <= {gini_cutoffs[0]:.4f}): {percentage_results[labels[dir_idx]][4]:.3f}%\")\n",
    "    print(f\"CATEGORY 6 (gini <= {gini_cutoffs[1]:.4f}): {percentage_results[labels[dir_idx]][5]:.3f}%\")\n",
    "    print(f\"CATEGORY 7 (gini <= {gini_cutoffs[2]:.4f}): {percentage_results[labels[dir_idx]][6]:.3f}%\")\n",
    "    print(\"\\n\\n\")"
   ]
  },
  {
   "cell_type": "code",
   "execution_count": null,
   "id": "de93fb14",
   "metadata": {},
   "outputs": [],
   "source": []
  },
  {
   "cell_type": "code",
   "execution_count": null,
   "id": "474335d8",
   "metadata": {},
   "outputs": [],
   "source": []
  },
  {
   "cell_type": "code",
   "execution_count": null,
   "id": "237b29df",
   "metadata": {},
   "outputs": [],
   "source": []
  },
  {
   "cell_type": "code",
   "execution_count": null,
   "id": "6644847a",
   "metadata": {},
   "outputs": [],
   "source": []
  },
  {
   "cell_type": "code",
   "execution_count": null,
   "id": "7fdbd12f",
   "metadata": {},
   "outputs": [],
   "source": []
  },
  {
   "cell_type": "code",
   "execution_count": null,
   "id": "2dcb1c07",
   "metadata": {},
   "outputs": [],
   "source": []
  },
  {
   "cell_type": "code",
   "execution_count": null,
   "id": "3d3f9140",
   "metadata": {},
   "outputs": [],
   "source": []
  },
  {
   "cell_type": "markdown",
   "id": "125e3720",
   "metadata": {},
   "source": [
    "## Erdos-renyi graph..."
   ]
  },
  {
   "cell_type": "code",
   "execution_count": 150,
   "id": "4333e797",
   "metadata": {},
   "outputs": [
    {
     "data": {
      "text/plain": [
       "False"
      ]
     },
     "execution_count": 150,
     "metadata": {},
     "output_type": "execute_result"
    }
   ],
   "source": [
    "asdf = nx.erdos_renyi_graph(n=1250, p=0.0032)\n",
    "nx.is_connected(asdf)"
   ]
  },
  {
   "cell_type": "code",
   "execution_count": 151,
   "id": "1722931c",
   "metadata": {},
   "outputs": [],
   "source": [
    "components = list(nx.connected_components(asdf))\n",
    "largest_component = list(components[0])\n",
    "disconnected_components = list(range(1,len(components)))\n",
    "\n",
    "for node in disconnected_components:\n",
    "    asdf.add_edge(list(components[node])[0], np.random.choice(largest_component))\n",
    "    \n",
    "assert nx.is_connected(asdf)"
   ]
  },
  {
   "cell_type": "code",
   "execution_count": 164,
   "id": "76d6aed2",
   "metadata": {},
   "outputs": [
    {
     "data": {
      "image/png": "[encoded data removed]",
      "text/plain": [
       "<Figure size 432x288 with 1 Axes>"
      ]
     },
     "metadata": {
      "needs_background": "light"
     },
     "output_type": "display_data"
    },
    {
     "data": {
      "text/plain": [
       "3.9616"
      ]
     },
     "execution_count": 164,
     "metadata": {},
     "output_type": "execute_result"
    }
   ],
   "source": [
    "degrees = list(dict(asdf.degree).values())\n",
    "plt.hist(degrees, bins=10, edgecolor=\"k\")\n",
    "plt.show()\n",
    "\n",
    "np.mean(degrees)"
   ]
  },
  {
   "cell_type": "code",
   "execution_count": null,
   "id": "5189e5c6",
   "metadata": {},
   "outputs": [],
   "source": []
  },
  {
   "cell_type": "code",
   "execution_count": null,
   "id": "1b3c1f8a",
   "metadata": {},
   "outputs": [],
   "source": []
  },
  {
   "cell_type": "code",
   "execution_count": null,
   "id": "ef577178",
   "metadata": {},
   "outputs": [],
   "source": []
  },
  {
   "cell_type": "code",
   "execution_count": null,
   "id": "6d663a82",
   "metadata": {},
   "outputs": [],
   "source": []
  },
  {
   "cell_type": "code",
   "execution_count": null,
   "id": "cc4cd9c0",
   "metadata": {},
   "outputs": [],
   "source": []
  },
  {
   "cell_type": "code",
   "execution_count": null,
   "id": "4e9347bb",
   "metadata": {},
   "outputs": [],
   "source": []
  },
  {
   "cell_type": "code",
   "execution_count": 282,
   "id": "125bb1a7",
   "metadata": {},
   "outputs": [
    {
     "data": {
      "image/png": "[encoded data removed]",
      "text/plain": [
       "<Figure size 1200x800 with 4 Axes>"
      ]
     },
     "metadata": {},
     "output_type": "display_data"
    }
   ],
   "source": [
    "fig, axs = plt.subplots(2, 2, figsize=(12,8))\n",
    "\n",
    "colors = [\"dodgerblue\", \"crimson\"]\n",
    "titles = [\"Holme-Kim\", \"Random\"]\n",
    "\n",
    "\n",
    "for g_idx, file in enumerate([\"../graph.pickle\", \"../random_graph.pickle\"]):\n",
    "\n",
    "    with open(file, \"rb\") as f:\n",
    "        G = pickle.load(f)\n",
    "        \n",
    "    # plot individual degree distribution\n",
    "    degrees = list(dict(G.degree).values())\n",
    "    axs[0][g_idx].hist(degrees, color=colors[g_idx], edgecolor=\"k\", bins=25)\n",
    "    if g_idx == 0:\n",
    "        axs[0][g_idx].set_yscale(\"log\")\n",
    "    axs[0][g_idx].set_title(titles[g_idx] + \" (individual degree dist.)\")\n",
    "\n",
    "    communities = list(nx.community.label_propagation_communities(G))\n",
    "    adjacency = dict((n, set(nbrdict.keys())) for n, nbrdict in G.adjacency())\n",
    "    node_community_map = get_node_community_map(communities)\n",
    "\n",
    "    community_adjacency = {}\n",
    "    for i,c in enumerate(communities):\n",
    "        community_adjacency[i] = set()\n",
    "        for node in c:\n",
    "            node_neighbours = adjacency[node]\n",
    "            for neighbour in node_neighbours:\n",
    "                neighbouring_community = node_community_map[neighbour]\n",
    "                if neighbouring_community != i:\n",
    "                    community_adjacency[i].add(neighbouring_community)\n",
    "            \n",
    "    # plot community degree distribution\n",
    "    axs[1][g_idx].hist([len(x) for x in list(community_adjacency.values())], \n",
    "                    edgecolor=\"k\", bins=25, color=colors[g_idx])\n",
    "    axs[1][g_idx].set_yscale(\"log\")\n",
    "    axs[1][g_idx].set_title(titles[g_idx] + \" (community degree dist.)\")\n",
    "    \n",
    "fig.tight_layout()\n",
    "plt.show()"
   ]
  },
  {
   "cell_type": "code",
   "execution_count": null,
   "id": "d905c99f",
   "metadata": {},
   "outputs": [],
   "source": []
  }
 ],
 "metadata": {
  "kernelspec": {
   "display_name": "Python 3",
   "language": "python",
   "name": "python3"
  },
  "language_info": {
   "codemirror_mode": {
    "name": "ipython",
    "version": 3
   },
   "file_extension": ".py",
   "mimetype": "text/x-python",
   "name": "python",
   "nbconvert_exporter": "python",
   "pygments_lexer": "ipython3",
   "version": "3.8.6"
  }
 },
 "nbformat": 4,
 "nbformat_minor": 5
}
