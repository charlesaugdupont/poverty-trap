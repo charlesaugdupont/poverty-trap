{
 "cells": [
  {
   "cell_type": "code",
   "execution_count": 59,
   "id": "957e52ae",
   "metadata": {},
   "outputs": [],
   "source": [
    "import sys\n",
    "sys.path.append(\"../\")\n",
    "\n",
    "from SALib.sample import saltelli\n",
    "from network_model import *\n",
    "from tqdm import tqdm\n",
    "import numpy as np\n",
    "import pickle\n",
    "import lzma\n",
    "import os\n",
    "\n",
    "\n",
    "import matplotlib\n",
    "import matplotlib.pyplot as plt\n",
    "from mpl_toolkits.axes_grid1 import ImageGrid\n",
    "plt.rcParams.update(plt.rcParamsDefault)\n",
    "plt.rcParams.update({\"font.size\" : 15,\n",
    "                     \"figure.dpi\" : 100, \n",
    "                     \"grid.alpha\" : 0.3, \n",
    "                     \"axes.grid\": True, \n",
    "                     \"axes.axisbelow\" : True,\n",
    "                     \"figure.figsize\":(8,6),\n",
    "                     \"mathtext.fontset\":\"cm\",\n",
    "                     \"xtick.labelsize\": 14,\n",
    "                     \"ytick.labelsize\": 14,\n",
    "                     \"axes.labelsize\": 16, \n",
    "                     \"legend.fontsize\": 13.5})\n",
    "USE_TEX = False\n",
    "if USE_TEX:\n",
    "    plt.rc(\"text\", usetex=True)\n",
    "    plt.rc(\"text.latex\", preamble=r\"\"\"\n",
    "     \\usepackage{times}\n",
    "     \\usepackage{mathptmx}\"\"\")\n",
    "else:\n",
    "    plt.rc(\"text\", usetex=False)\n",
    "plt.rc(\"font\", family=\"serif\")"
   ]
  },
  {
   "cell_type": "code",
   "execution_count": 60,
   "id": "0018813c",
   "metadata": {},
   "outputs": [],
   "source": [
    "def category_1(data):\n",
    "    decreasing = []\n",
    "    for i in range(len(data)):\n",
    "        d = data[i]\n",
    "        mono_dec = True\n",
    "        for row in d:\n",
    "            if max(row[1:] - row[:-1]) > 0:\n",
    "                mono_dec = False\n",
    "                break\n",
    "        if mono_dec:\n",
    "            decreasing.append(i)\n",
    "    return decreasing\n",
    "\n",
    "\n",
    "def category_2(data, ignore):\n",
    "    increase_less_initial = []\n",
    "    for i in range(len(data)):\n",
    "        if i not in ignore:\n",
    "            d = data[i]\n",
    "            if np.all(np.max(data[i], axis=1) == data[i][:,0]):\n",
    "                increase_less_initial.append(i)\n",
    "    return increase_less_initial\n",
    "\n",
    "\n",
    "def category_3(data, ignore):\n",
    "    surpass_end_poor = []\n",
    "    for i in range(len(data)):\n",
    "        if i not in ignore:\n",
    "            if max(data[i].T[-1]) < 0.1:\n",
    "                surpass_end_poor.append(i)\n",
    "    return surpass_end_poor\n",
    "\n",
    "\n",
    "def category_4(data, ignore):\n",
    "    two_equilibria_less_initial = []\n",
    "    for i in range(len(data)):\n",
    "        if i not in ignore:\n",
    "            if np.all(data[i].T[-1] < data[i].T[0]):\n",
    "                two_equilibria_less_initial.append(i)\n",
    "    return two_equilibria_less_initial\n",
    "\n",
    "\n",
    "def category_5(data, ignore):\n",
    "    two_equilibria_richer = []\n",
    "    for i in range(len(data)):\n",
    "        if i not in ignore:\n",
    "            two_equilibria_richer.append(i)\n",
    "    return two_equilibria_richer"
   ]
  },
  {
   "cell_type": "code",
   "execution_count": 61,
   "id": "58a4a580",
   "metadata": {},
   "outputs": [],
   "source": [
    "directories = [\"./concat_W_arrays\", \n",
    "               \"./concat_W_arrays_random\", \n",
    "               \"./concat_W_arrays_cpt\",\n",
    "               \"./concat_W_arrays_cpt_random\",\n",
    "               \"./concat_W_arrays_risk_aversion_experiment/\",\n",
    "               \"./concat_W_arrays_sda\",\n",
    "               \"./concat_W_arrays_cpt_sda\"]\n",
    "\n",
    "labels = [\"MPT (Holme-Kim)\", \n",
    "          \"MPT (Random)\", \n",
    "          \"CPT (Holme-Kim)\",\n",
    "          \"CPT (Random)\",\n",
    "          \"MPT (Holme-Kim) + Low RA\",\n",
    "          \"MPT (SDA)\",\n",
    "          \"CPT (SDA)\"]\n",
    "\n",
    "communities_file = [\"./augmented_communities.pickle\", \n",
    "                    \"./augmented_communities_random.pickle\",\n",
    "                    \"./augmented_communities.pickle\",\n",
    "                    \"./augmented_communities_random.pickle\",\n",
    "                    \"./augmented_communities.pickle\"]"
   ]
  },
  {
   "cell_type": "markdown",
   "id": "31f1a295",
   "metadata": {},
   "source": [
    "# Analysis at agent level"
   ]
  },
  {
   "cell_type": "code",
   "execution_count": 62,
   "id": "4cc5da7c",
   "metadata": {
    "scrolled": false
   },
   "outputs": [
    {
     "name": "stdout",
     "output_type": "stream",
     "text": [
      "Running analysis for MPT (Holme-Kim)...\n"
     ]
    },
    {
     "name": "stderr",
     "output_type": "stream",
     "text": [
      "100%|█████████████████████████████████████████████████████████████████████████████████████████████████████████| 10/10 [07:18<00:00, 43.84s/it]\n"
     ]
    },
    {
     "name": "stdout",
     "output_type": "stream",
     "text": [
      "--- RESULTS ---\n",
      "{0: [3595, 3907, 3942, 4098, 2836, 4255, 4554, 4017, 3712, 3929], 1: [475, 624, 1111, 84, 553, 370, 764, 1311, 471, 543], 2: [4972, 4391, 3924, 4879, 5541, 4432, 3741, 3528, 4652, 4536], 3: [42, 45, 41, 40, 74, 26, 26, 48, 29, 29], 4: [132, 249, 198, 115, 212, 133, 131, 312, 352, 179]}\n",
      "\n",
      "Running analysis for MPT (Random)...\n"
     ]
    },
    {
     "name": "stderr",
     "output_type": "stream",
     "text": [
      "100%|█████████████████████████████████████████████████████████████████████████████████████████████████████████| 10/10 [07:20<00:00, 44.07s/it]\n"
     ]
    },
    {
     "name": "stdout",
     "output_type": "stream",
     "text": [
      "--- RESULTS ---\n",
      "{0: [3595, 2836, 3712, 4017, 3907, 4255, 3942, 4098, 3929, 4554], 1: [475, 553, 471, 1311, 624, 370, 1111, 84, 543, 764], 2: [4972, 5541, 4652, 3528, 4391, 4432, 3924, 4879, 4536, 3741], 3: [42, 74, 29, 48, 45, 26, 41, 40, 29, 26], 4: [132, 212, 352, 312, 249, 133, 198, 115, 179, 131]}\n",
      "\n",
      "Running analysis for CPT (Holme-Kim)...\n"
     ]
    },
    {
     "name": "stderr",
     "output_type": "stream",
     "text": [
      "100%|█████████████████████████████████████████████████████████████████████████████████████████████████████████| 10/10 [03:20<00:00, 20.09s/it]\n"
     ]
    },
    {
     "name": "stdout",
     "output_type": "stream",
     "text": [
      "--- RESULTS ---\n",
      "{0: [0, 0, 0, 0, 0, 0, 0, 0, 0, 0], 1: [0, 0, 0, 0, 0, 0, 0, 0, 0, 0], 2: [6304, 5739, 5662, 5254, 5598, 6605, 5514, 5446, 6063, 5940], 3: [278, 412, 351, 472, 240, 195, 273, 723, 163, 94], 4: [1610, 2041, 2179, 2466, 2354, 1392, 2405, 2023, 1966, 2158]}\n",
      "\n",
      "Running analysis for CPT (Random)...\n"
     ]
    },
    {
     "name": "stderr",
     "output_type": "stream",
     "text": [
      "100%|█████████████████████████████████████████████████████████████████████████████████████████████████████████| 10/10 [02:36<00:00, 15.63s/it]\n"
     ]
    },
    {
     "name": "stdout",
     "output_type": "stream",
     "text": [
      "--- RESULTS ---\n",
      "{0: [0, 0, 0, 0, 0, 0, 0, 0, 0, 0], 1: [0, 0, 0, 0, 0, 0, 0, 0, 0, 0], 2: [6129, 6939, 6682, 6647, 6472, 6924, 6345, 5729, 6308, 6191], 3: [126, 180, 125, 93, 120, 131, 296, 239, 84, 97], 4: [1937, 1073, 1385, 1452, 1600, 1137, 1551, 2224, 1800, 1904]}\n",
      "\n",
      "Running analysis for MPT (Holme-Kim) + Low RA...\n"
     ]
    },
    {
     "name": "stderr",
     "output_type": "stream",
     "text": [
      "100%|█████████████████████████████████████████████████████████████████████████████████████████████████████████| 10/10 [03:57<00:00, 23.79s/it]\n"
     ]
    },
    {
     "name": "stdout",
     "output_type": "stream",
     "text": [
      "--- RESULTS ---\n",
      "{0: [2, 0, 0, 0, 0, 0, 0, 2, 4, 2], 1: [0, 0, 0, 0, 0, 0, 19, 0, 5, 1], 2: [7027, 7127, 7352, 7981, 7817, 8342, 7451, 7468, 7485, 7318], 3: [143, 190, 177, 134, 184, 83, 72, 130, 147, 484], 4: [2044, 1899, 1687, 1101, 1215, 791, 1674, 1616, 1575, 1411]}\n",
      "\n",
      "Running analysis for MPT (SDA)...\n"
     ]
    },
    {
     "name": "stderr",
     "output_type": "stream",
     "text": [
      "100%|█████████████████████████████████████████████████████████████████████████████████████████████████████████| 10/10 [06:57<00:00, 41.78s/it]\n"
     ]
    },
    {
     "name": "stdout",
     "output_type": "stream",
     "text": [
      "--- RESULTS ---\n",
      "{0: [2740, 2903, 2590, 2313, 2732, 2315, 2552, 2380, 2937, 2666], 1: [2161, 2143, 2444, 2121, 2439, 2010, 2396, 2291, 2189, 2435], 2: [4061, 3801, 3684, 4133, 3639, 4378, 3900, 3949, 3856, 3824], 3: [114, 117, 158, 188, 106, 174, 88, 124, 87, 116], 4: [140, 252, 340, 461, 300, 339, 280, 472, 147, 175]}\n",
      "\n",
      "Running analysis for CPT (SDA)...\n"
     ]
    },
    {
     "name": "stderr",
     "output_type": "stream",
     "text": [
      "100%|█████████████████████████████████████████████████████████████████████████████████████████████████████████| 10/10 [04:02<00:00, 24.30s/it]"
     ]
    },
    {
     "name": "stdout",
     "output_type": "stream",
     "text": [
      "--- RESULTS ---\n",
      "{0: [0, 0, 0, 0, 0, 0, 0, 0, 0, 0], 1: [0, 0, 0, 0, 0, 0, 0, 0, 0, 0], 2: [5588, 5800, 5943, 5423, 4753, 5165, 5337, 5432, 5113, 4753], 3: [1088, 894, 1233, 964, 850, 1213, 950, 1035, 1094, 1096], 4: [1516, 1498, 1016, 1805, 2589, 1814, 1905, 1725, 1985, 2343]}\n",
      "\n"
     ]
    },
    {
     "name": "stderr",
     "output_type": "stream",
     "text": [
      "\n"
     ]
    }
   ],
   "source": [
    "RESULTS = {}\n",
    "\n",
    "for dir_idx, D in enumerate(directories):\n",
    "\n",
    "    print(f\"Running analysis for {labels[dir_idx]}...\")\n",
    "\n",
    "    category_counts = {i:[] for i in range(5)}\n",
    "\n",
    "    for f in tqdm(os.listdir(D)):\n",
    "\n",
    "        data = pickle.load(lzma.open(os.path.join(D,f)))\n",
    "\n",
    "        cat1 = category_1(data)\n",
    "        cat2 = category_2(data, cat1)\n",
    "        cat3 = category_3(data, cat1+cat2)\n",
    "        cat4 = category_4(data, cat1+cat2+cat3)\n",
    "        cat5 = category_5(data, cat1+cat2+cat3+cat4)\n",
    "        assert len(cat1+cat2+cat3+cat4+cat5) == len(data)\n",
    "\n",
    "        for i,cat in enumerate([cat1, cat2, cat3, cat4, cat5]):\n",
    "            category_counts[i].append(len(cat))\n",
    "\n",
    "    RESULTS[labels[dir_idx]] = category_counts\n",
    "    print(\"--- RESULTS ---\")\n",
    "    print(category_counts)\n",
    "    print()"
   ]
  },
  {
   "cell_type": "code",
   "execution_count": 64,
   "id": "465c37ed",
   "metadata": {},
   "outputs": [],
   "source": [
    "with open(\"category_count_results_individual.pickle\", \"wb\") as f:\n",
    "    pickle.dump(RESULTS, f)"
   ]
  },
  {
   "cell_type": "markdown",
   "id": "4940d85c",
   "metadata": {},
   "source": [
    "# Analysis at community level"
   ]
  },
  {
   "cell_type": "code",
   "execution_count": 65,
   "id": "ee0f2f95",
   "metadata": {},
   "outputs": [
    {
     "name": "stderr",
     "output_type": "stream",
     "text": [
      "/var/folders/bj/4q98hxqx4vq6wwm8qqllvxmr0000gn/T/ipykernel_32258/2087033156.py:19: DeprecationWarning: `salib.sample.saltelli` will be removed in SALib 1.5. Please use `salib.sample.sobol`\n",
      "  X_8192 = saltelli.sample(PROBLEM, NUM_SAMPLES, calc_second_order=False)\n",
      "/var/folders/bj/4q98hxqx4vq6wwm8qqllvxmr0000gn/T/ipykernel_32258/2087033156.py:42: DeprecationWarning: `salib.sample.saltelli` will be removed in SALib 1.5. Please use `salib.sample.sobol`\n",
      "  X_9216 = saltelli.sample(PROBLEM, NUM_SAMPLES, calc_second_order=False)\n"
     ]
    }
   ],
   "source": [
    "# problem definition\n",
    "PROBLEM = {\n",
    "    \"num_vars\" : 6,\n",
    "    \"names\"    : [\"project_cost\",\n",
    "                  \"gain_right\",\n",
    "                  \"alpha_beta\",\n",
    "                  \"prob_left\",\n",
    "                  \"init_w_scale\",\n",
    "                  \"poisson_scale\"],\n",
    "    \"bounds\"   : [[0.01, 2.00],\n",
    "                  [1.70, 2.30],\n",
    "                  [0.70, 0.80],\n",
    "                  [0.30, 0.45],\n",
    "                  [0.01, 0.15],\n",
    "                  [8.00, 20.0]]\n",
    "}\n",
    "# generate Saltelli samples\n",
    "NUM_SAMPLES = 1024\n",
    "X_8192 = saltelli.sample(PROBLEM, NUM_SAMPLES, calc_second_order=False)\n",
    "\n",
    "\n",
    "# problem definition\n",
    "PROBLEM = {\n",
    "    \"num_vars\" : 7,\n",
    "    \"names\"    : [\"project_cost\",\n",
    "                  \"gain_right\",\n",
    "                  \"alpha_beta\",\n",
    "                  \"prob_left\",\n",
    "                  \"init_w_scale\",\n",
    "                  \"risk_scale\",\n",
    "                  \"poisson_scale\"],\n",
    "    \"bounds\"   : [[0.01, 2.00],\n",
    "                  [1.70, 2.30],\n",
    "                  [0.70, 0.80],\n",
    "                  [0.30, 0.45],\n",
    "                  [0.01, 0.15],\n",
    "                  [5.00, 20.0],\n",
    "                  [8.00, 20.0]]\n",
    "}\n",
    "# generate Saltelli samples\n",
    "NUM_SAMPLES = 1024\n",
    "X_9216 = saltelli.sample(PROBLEM, NUM_SAMPLES, calc_second_order=False)"
   ]
  },
  {
   "cell_type": "code",
   "execution_count": 66,
   "id": "5cbaab76",
   "metadata": {},
   "outputs": [
    {
     "name": "stdout",
     "output_type": "stream",
     "text": [
      "Running analysis for MPT (Holme-Kim)...\n"
     ]
    },
    {
     "name": "stderr",
     "output_type": "stream",
     "text": [
      "100%|█████████████████████████████████████████████████████████████████████████████████████████████████████████| 10/10 [08:25<00:00, 50.50s/it]\n"
     ]
    },
    {
     "name": "stdout",
     "output_type": "stream",
     "text": [
      "--- RESULTS ---\n",
      "{0: [7973, 7718, 7770, 8348, 7772, 8200, 8024, 7981, 7676, 7920], 1: [742, 853, 1033, 503, 1024, 550, 905, 949, 797, 863], 2: [348, 442, 193, 260, 248, 324, 152, 55, 379, 278], 3: [78, 87, 92, 84, 81, 62, 56, 93, 115, 86], 4: [75, 116, 128, 21, 91, 80, 79, 138, 249, 69]}\n",
      "\n",
      "Running analysis for MPT (Random)...\n"
     ]
    },
    {
     "name": "stderr",
     "output_type": "stream",
     "text": [
      "100%|█████████████████████████████████████████████████████████████████████████████████████████████████████████| 10/10 [09:27<00:00, 56.74s/it]\n"
     ]
    },
    {
     "name": "stdout",
     "output_type": "stream",
     "text": [
      "--- RESULTS ---\n",
      "{0: [7849, 7857, 7310, 7911, 7398, 8229, 7595, 8219, 7677, 8112], 1: [1262, 1260, 1641, 1149, 1558, 899, 1473, 936, 1436, 955], 2: [20, 0, 12, 0, 93, 9, 13, 3, 16, 35], 3: [40, 34, 83, 12, 111, 22, 30, 41, 16, 42], 4: [45, 65, 170, 144, 56, 57, 105, 17, 71, 72]}\n",
      "\n",
      "Running analysis for CPT (Holme-Kim)...\n"
     ]
    },
    {
     "name": "stderr",
     "output_type": "stream",
     "text": [
      "100%|█████████████████████████████████████████████████████████████████████████████████████████████████████████| 10/10 [06:06<00:00, 36.66s/it]\n"
     ]
    },
    {
     "name": "stdout",
     "output_type": "stream",
     "text": [
      "--- RESULTS ---\n",
      "{0: [46, 15, 71, 0, 17, 31, 91, 68, 15, 4], 1: [459, 368, 123, 826, 310, 159, 984, 546, 458, 1049], 2: [5865, 5708, 5717, 4732, 5406, 6520, 4584, 5335, 5687, 4930], 3: [640, 513, 472, 949, 665, 372, 674, 536, 571, 410], 4: [1182, 1588, 1809, 1685, 1794, 1110, 1859, 1707, 1461, 1799]}\n",
      "\n",
      "Running analysis for CPT (Random)...\n"
     ]
    },
    {
     "name": "stderr",
     "output_type": "stream",
     "text": [
      "100%|█████████████████████████████████████████████████████████████████████████████████████████████████████████| 10/10 [06:02<00:00, 36.20s/it]\n"
     ]
    },
    {
     "name": "stdout",
     "output_type": "stream",
     "text": [
      "--- RESULTS ---\n",
      "{0: [343, 369, 505, 342, 600, 309, 239, 242, 310, 314], 1: [414, 538, 302, 664, 825, 706, 400, 199, 262, 478], 2: [5450, 6176, 5925, 5710, 5114, 5970, 5946, 5403, 5818, 5484], 3: [443, 519, 408, 356, 369, 311, 654, 555, 458, 661], 4: [1542, 590, 1052, 1120, 1284, 896, 953, 1793, 1344, 1255]}\n",
      "\n",
      "Running analysis for MPT (Holme-Kim) + Low RA...\n"
     ]
    },
    {
     "name": "stderr",
     "output_type": "stream",
     "text": [
      "100%|█████████████████████████████████████████████████████████████████████████████████████████████████████████| 10/10 [07:15<00:00, 43.55s/it]\n"
     ]
    },
    {
     "name": "stdout",
     "output_type": "stream",
     "text": [
      "--- RESULTS ---\n",
      "{0: [1417, 1508, 1350, 1347, 1719, 1497, 1711, 1656, 2111, 1751], 1: [423, 875, 678, 619, 553, 235, 1628, 400, 1600, 596], 2: [5260, 5096, 5381, 6064, 5645, 6648, 4164, 5489, 3908, 5400], 3: [450, 690, 550, 410, 350, 244, 310, 618, 603, 397], 4: [1666, 1047, 1257, 776, 949, 592, 1403, 1053, 994, 1072]}\n",
      "\n",
      "Running analysis for MPT (SDA)...\n"
     ]
    },
    {
     "name": "stderr",
     "output_type": "stream",
     "text": [
      "100%|████████████████████████████████████████████████████████████████████████████████████████████████████████| 10/10 [20:08<00:00, 120.84s/it]\n"
     ]
    },
    {
     "name": "stdout",
     "output_type": "stream",
     "text": [
      "--- RESULTS ---\n",
      "{0: [8034, 7925, 7814, 7463, 7769, 7448, 7836, 7681, 8088, 7891], 1: [1100, 1167, 1295, 1559, 1317, 1621, 1280, 1355, 1019, 1257], 2: [43, 47, 21, 37, 38, 53, 33, 16, 64, 24], 3: [32, 32, 46, 68, 56, 65, 37, 47, 36, 37], 4: [7, 45, 40, 89, 36, 29, 30, 117, 9, 7]}\n",
      "\n",
      "Running analysis for CPT (SDA)...\n"
     ]
    },
    {
     "name": "stderr",
     "output_type": "stream",
     "text": [
      "100%|████████████████████████████████████████████████████████████████████████████████████████████████████████| 10/10 [17:15<00:00, 103.51s/it]"
     ]
    },
    {
     "name": "stdout",
     "output_type": "stream",
     "text": [
      "--- RESULTS ---\n",
      "{0: [50, 38, 49, 41, 72, 56, 39, 62, 45, 56], 1: [637, 423, 587, 462, 484, 483, 525, 598, 762, 335], 2: [5625, 5966, 6047, 5584, 4817, 5446, 5416, 5456, 5053, 5156], 3: [1299, 1135, 1159, 1175, 1272, 1394, 1356, 1262, 1360, 1387], 4: [581, 630, 350, 930, 1547, 813, 856, 814, 972, 1258]}\n",
      "\n"
     ]
    },
    {
     "name": "stderr",
     "output_type": "stream",
     "text": [
      "\n"
     ]
    }
   ],
   "source": [
    "RESULTS = {}\n",
    "\n",
    "for dir_idx, D in enumerate(directories):\n",
    "        \n",
    "    print(f\"Running analysis for {labels[dir_idx]}...\")\n",
    "    \n",
    "    if \"sda\" not in D:\n",
    "        with open(communities_file[dir_idx], \"rb\") as f:\n",
    "            communities = pickle.load(f) \n",
    "        community_keys = sorted(list(communities.keys()))[:-1]\n",
    "    \n",
    "        category_counts = {i:[] for i in range(5)}\n",
    "        for f in tqdm(os.listdir(D)):\n",
    "            data = pickle.load(lzma.open(os.path.join(D,f)))\n",
    "            data_communities = np.zeros((data.shape[0], len(community_keys), data.shape[2])) # 8192, 267, 51\n",
    "            for c in community_keys:\n",
    "                for i in range(len(data)):\n",
    "                    data_communities[i][c] = np.mean(data[i][communities[c]], axis=0)\n",
    "        \n",
    "            data = data_communities\n",
    "            cat1 = category_1(data)\n",
    "            cat2 = category_2(data, cat1)\n",
    "            cat3 = category_3(data, cat1+cat2)\n",
    "            cat4 = category_4(data, cat1+cat2+cat3)\n",
    "            cat5 = category_5(data, cat1+cat2+cat3+cat4)\n",
    "            assert len(cat1+cat2+cat3+cat4+cat5) == len(data)\n",
    "\n",
    "            for i,cat in enumerate([cat1, cat2, cat3, cat4, cat5]):\n",
    "                category_counts[i].append(len(cat))\n",
    "                \n",
    "    else:\n",
    "        category_counts = {i:[] for i in range(5)}\n",
    "        for f in tqdm(os.listdir(D)):\n",
    "            data = pickle.load(lzma.open(os.path.join(D,f))) # (8192, 1250, 51)\n",
    "            data_communities = []\n",
    "            \n",
    "            for i,row in enumerate(data): # for each parameter combination\n",
    "                \n",
    "                # get augmented_communities and community keys\n",
    "                if \"cpt\" in D:\n",
    "                    w_scale_param = X_8192[i][4]\n",
    "                else:\n",
    "                    w_scale_param = X_9216[i][4]\n",
    "                    \n",
    "                with open(f\"./sda_graphs/{w_scale_param}.pickle\", \"rb\") as f:\n",
    "                    _, communities, community_membership, _ = pickle.load(f)\n",
    "                    \n",
    "                augmented_communities = {}\n",
    "                for agent in community_membership:\n",
    "                    comms = community_membership[agent]\n",
    "                    for c in comms:\n",
    "                        if c not in augmented_communities:\n",
    "                            augmented_communities[c] = {agent}\n",
    "                        else:\n",
    "                            augmented_communities[c].add(agent)\n",
    "                augmented_communities = {k:np.array(list(v)) for k,v in augmented_communities.items()}\n",
    "                \n",
    "                community_keys = sorted(list(augmented_communities.keys()))[:-1]\n",
    "                community_trajectories = []\n",
    "                for c in community_keys:\n",
    "                    community_trajectories.append(np.mean(data[i][augmented_communities[c]], axis=0))   \n",
    "                data_communities.append(np.stack(community_trajectories))\n",
    "                    \n",
    "            data = data_communities\n",
    "            cat1 = category_1(data)\n",
    "            cat2 = category_2(data, cat1)\n",
    "            cat3 = category_3(data, cat1+cat2)\n",
    "            cat4 = category_4(data, cat1+cat2+cat3)\n",
    "            cat5 = category_5(data, cat1+cat2+cat3+cat4)\n",
    "            assert len(cat1+cat2+cat3+cat4+cat5) == len(data)\n",
    "\n",
    "            for i,cat in enumerate([cat1, cat2, cat3, cat4, cat5]):\n",
    "                category_counts[i].append(len(cat))\n",
    "\n",
    "    RESULTS[labels[dir_idx]] = category_counts\n",
    "    print(\"--- RESULTS ---\")\n",
    "    print(category_counts)\n",
    "    print()"
   ]
  },
  {
   "cell_type": "code",
   "execution_count": 68,
   "id": "ccde2807",
   "metadata": {},
   "outputs": [],
   "source": [
    "with open(\"category_count_results_communities.pickle\", \"wb\") as f:\n",
    "    pickle.dump(RESULTS, f)"
   ]
  }
 ],
 "metadata": {
  "kernelspec": {
   "display_name": "Python 3 (ipykernel)",
   "language": "python",
   "name": "python3"
  },
  "language_info": {
   "codemirror_mode": {
    "name": "ipython",
    "version": 3
   },
   "file_extension": ".py",
   "mimetype": "text/x-python",
   "name": "python",
   "nbconvert_exporter": "python",
   "pygments_lexer": "ipython3",
   "version": "3.10.10"
  }
 },
 "nbformat": 4,
 "nbformat_minor": 5
}
