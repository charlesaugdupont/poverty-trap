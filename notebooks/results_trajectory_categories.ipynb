{
 "cells": [
  {
   "cell_type": "code",
   "execution_count": 1,
   "id": "957e52ae",
   "metadata": {},
   "outputs": [],
   "source": [
    "import sys\n",
    "sys.path.append(\"../\")\n",
    "\n",
    "from SALib.sample import sobol\n",
    "from network_model import *\n",
    "from tqdm import tqdm\n",
    "import numpy as np\n",
    "import pickle\n",
    "import lzma\n",
    "import os\n",
    "\n",
    "from astropy.stats import bayesian_blocks\n",
    "\n",
    "\n",
    "\n",
    "import matplotlib\n",
    "import matplotlib.pyplot as plt\n",
    "from mpl_toolkits.axes_grid1 import ImageGrid\n",
    "plt.rcParams.update(plt.rcParamsDefault)\n",
    "plt.rcParams.update({\"font.size\" : 15,\n",
    "                     \"figure.dpi\" : 100, \n",
    "                     \"grid.alpha\" : 0.3, \n",
    "                     \"axes.grid\": True, \n",
    "                     \"axes.axisbelow\" : True,\n",
    "                     \"figure.figsize\":(8,6),\n",
    "                     \"mathtext.fontset\":\"cm\",\n",
    "                     \"xtick.labelsize\": 14,\n",
    "                     \"ytick.labelsize\": 14,\n",
    "                     \"axes.labelsize\": 16, \n",
    "                     \"legend.fontsize\": 13.5})\n",
    "USE_TEX = False\n",
    "if USE_TEX:\n",
    "    plt.rc(\"text\", usetex=True)\n",
    "    plt.rc(\"text.latex\", preamble=r\"\"\"\n",
    "     \\usepackage{times}\n",
    "     \\usepackage{mathptmx}\"\"\")\n",
    "else:\n",
    "    plt.rc(\"text\", usetex=False)\n",
    "plt.rc(\"font\", family=\"serif\")"
   ]
  },
  {
   "cell_type": "code",
   "execution_count": 2,
   "id": "8f0e21b7",
   "metadata": {},
   "outputs": [],
   "source": [
    "def gini(W):\n",
    "    n = len(W)\n",
    "    total = 0\n",
    "    for i in range(n):\n",
    "        total += sum(np.abs(W[i]-W))\n",
    "    return total / (2 * n**2 * np.mean(W))"
   ]
  },
  {
   "cell_type": "code",
   "execution_count": 3,
   "id": "84c5bbd2",
   "metadata": {},
   "outputs": [],
   "source": [
    "with open(\"../augmented_communities.pickle\", \"rb\") as f:\n",
    "    communities = pickle.load(f)"
   ]
  },
  {
   "cell_type": "code",
   "execution_count": 7,
   "id": "7a395b87",
   "metadata": {},
   "outputs": [],
   "source": [
    "def category_1(data):\n",
    "    decreasing = []\n",
    "    for i in range(len(data)):\n",
    "        d = data[i]\n",
    "        mono_dec = True\n",
    "        for row in d:\n",
    "            if max(row[1:] - row[:-1]) > 0:\n",
    "                mono_dec = False\n",
    "                break\n",
    "        if mono_dec:\n",
    "            decreasing.append(i)\n",
    "    return decreasing\n",
    "\n",
    "\n",
    "def category_2(data, ignore):\n",
    "    increase_less_initial = []\n",
    "    for i in range(len(data)):\n",
    "        if i not in ignore:\n",
    "            d = data[i]\n",
    "            if np.all(np.max(data[i], axis=1) == data[i][:,0]):\n",
    "                increase_less_initial.append(i)\n",
    "    return increase_less_initial\n",
    "\n",
    "\n",
    "def category_3(data, ignore):\n",
    "    surpass_end_poor = []\n",
    "    for i in range(len(data)):\n",
    "        if i not in ignore:\n",
    "            if max(data[i].T[-1]) < 0.1:\n",
    "                surpass_end_poor.append(i)\n",
    "    return surpass_end_poor\n",
    "\n",
    "\n",
    "def category_4(data, ignore):\n",
    "    two_equilibria_less_initial = []\n",
    "    for i in range(len(data)):\n",
    "        if i not in ignore:\n",
    "            if np.all(data[i].T[-1] < data[i].T[0]):\n",
    "                two_equilibria_less_initial.append(i)\n",
    "    return two_equilibria_less_initial\n",
    "\n",
    "\n",
    "def category_5(data, ignore):\n",
    "    two_equilibria_richer = []\n",
    "    for i in range(len(data)):\n",
    "        if i not in ignore:\n",
    "            two_equilibria_richer.append(i)\n",
    "    return two_equilibria_richer"
   ]
  },
  {
   "cell_type": "code",
   "execution_count": 8,
   "id": "d156f285",
   "metadata": {},
   "outputs": [],
   "source": [
    "directories = [\"../data/sobol/concat_W_arrays\", \n",
    "               \"../data/sobol/concat_W_arrays_random\", \n",
    "               \"../data/sobol/concat_W_arrays_cpt\"]\n",
    "\n",
    "labels = [\"CPT (Holme-Kim)\", \n",
    "          \"CPT (Random)\", \n",
    "          \"MPT (Holme-Kim)\"]"
   ]
  },
  {
   "cell_type": "markdown",
   "id": "8754ac38",
   "metadata": {},
   "source": [
    "# Analysis at agent level"
   ]
  },
  {
   "cell_type": "code",
   "execution_count": null,
   "id": "8654985d",
   "metadata": {
    "scrolled": false
   },
   "outputs": [
    {
     "name": "stdout",
     "output_type": "stream",
     "text": [
      "Running analysis for CPT (Holme-Kim)...\n"
     ]
    },
    {
     "name": "stderr",
     "output_type": "stream",
     "text": [
      "100%|██████████| 10/10 [31:47<00:00, 190.71s/it]\n"
     ]
    },
    {
     "name": "stdout",
     "output_type": "stream",
     "text": [
      "--- SUMMARY STATISTICS ---\n",
      "CATEGORY 1: 41.638%\n",
      "CATEGORY 2: 6.852%\n",
      "CATEGORY 3: 49.096%\n",
      "CATEGORY 4: 0.473%\n",
      "CATEGORY 5 (gini <= 0.9911): 0.647%\n",
      "CATEGORY 6 (gini <= 0.9959): 0.647%\n",
      "CATEGORY 7 (gini <= 0.9995): 0.647%\n",
      "\n",
      "\n",
      "\n",
      "Running analysis for CPT (Random)...\n"
     ]
    },
    {
     "name": "stderr",
     "output_type": "stream",
     "text": [
      "100%|██████████| 10/10 [33:42<00:00, 202.22s/it]\n"
     ]
    },
    {
     "name": "stdout",
     "output_type": "stream",
     "text": [
      "--- SUMMARY STATISTICS ---\n",
      "CATEGORY 1: 41.888%\n",
      "CATEGORY 2: 6.956%\n",
      "CATEGORY 3: 48.654%\n",
      "CATEGORY 4: 0.480%\n",
      "CATEGORY 5 (gini <= 0.9911): 0.807%\n",
      "CATEGORY 6 (gini <= 0.9959): 0.650%\n",
      "CATEGORY 7 (gini <= 0.9995): 0.565%\n",
      "\n",
      "\n",
      "\n",
      "Running analysis for MPT (Holme-Kim)...\n"
     ]
    },
    {
     "name": "stderr",
     "output_type": "stream",
     "text": [
      " 10%|█         | 1/10 [12:27<1:52:05, 747.29s/it]"
     ]
    }
   ],
   "source": [
    "gini_cutoffs = None\n",
    "percentage_results = {}\n",
    "\n",
    "for dir_idx, D in enumerate(directories):\n",
    "    \n",
    "    print(f\"Running analysis for {labels[dir_idx]}...\")\n",
    "    \n",
    "    category_counts = {i:0 for i in range(7)}\n",
    "    gini_coefficients = []\n",
    "    \n",
    "    for f in tqdm(os.listdir(D)):\n",
    "\n",
    "        data = pickle.load(lzma.open(os.path.join(D,f)))\n",
    "        \n",
    "        cat1 = category_1(data)\n",
    "        cat2 = category_2(data, cat1)\n",
    "        cat3 = category_3(data, cat1+cat2)\n",
    "        cat4 = category_4(data, cat1+cat2+cat3)\n",
    "        cat5 = category_5(data, cat1+cat2+cat3+cat4)\n",
    "        \n",
    "        assert len(cat1+cat2+cat3+cat4+cat5) == len(data)\n",
    "\n",
    "        gini_coefficients += [gini(data[i].T[-1]) for i in cat5]\n",
    "\n",
    "        for i,cat in enumerate([cat1, cat2, cat3, cat4]):\n",
    "            category_counts[i] += len(cat)\n",
    "\n",
    "    if gini_cutoffs is None:\n",
    "        sorted_coeffs = np.array(sorted(gini_coefficients))\n",
    "        split_arrays = np.array_split(sorted_coeffs, 3)\n",
    "        gini_cutoffs = [arr[-1] for arr in split_arrays]\n",
    "\n",
    "    gini_categories = {cutoff:[] for cutoff in gini_cutoffs}\n",
    "    for coeff in gini_coefficients:\n",
    "        for key in gini_categories:\n",
    "            if coeff <= key:\n",
    "                gini_categories[key].append(coeff)\n",
    "                break\n",
    " \n",
    "    for i,cutoff in enumerate(gini_categories):\n",
    "        category_counts[4+i] += len(gini_categories[cutoff])\n",
    "\n",
    "    L = sum(category_counts.values())\n",
    "    percentage_results[labels[dir_idx]] = [100*category_counts[i]/L for i in range(len(category_counts))]\n",
    "\n",
    "    print(\"--- SUMMARY STATISTICS ---\")\n",
    "    print(f\"CATEGORY 1: {percentage_results[labels[dir_idx]][0]:.3f}%\")\n",
    "    print(f\"CATEGORY 2: {percentage_results[labels[dir_idx]][1]:.3f}%\")\n",
    "    print(f\"CATEGORY 3: {percentage_results[labels[dir_idx]][2]:.3f}%\")\n",
    "    print(f\"CATEGORY 4: {percentage_results[labels[dir_idx]][3]:.3f}%\")\n",
    "    print(f\"CATEGORY 5 (gini <= {gini_cutoffs[0]:.4f}): {percentage_results[labels[dir_idx]][4]:.3f}%\")\n",
    "    print(f\"CATEGORY 6 (gini <= {gini_cutoffs[1]:.4f}): {percentage_results[labels[dir_idx]][5]:.3f}%\")\n",
    "    print(f\"CATEGORY 7 (gini <= {gini_cutoffs[2]:.4f}): {percentage_results[labels[dir_idx]][6]:.3f}%\")\n",
    "    print(\"\\n\\n\")"
   ]
  },
  {
   "cell_type": "markdown",
   "id": "4940d85c",
   "metadata": {},
   "source": [
    "# Analysis at community level"
   ]
  },
  {
   "cell_type": "code",
   "execution_count": 6,
   "id": "ad2ccb08",
   "metadata": {},
   "outputs": [],
   "source": [
    "with open(\"../augmented_communities.pickle\", \"rb\") as f:\n",
    "    communities = pickle.load(f)"
   ]
  }
 ],
 "metadata": {
  "kernelspec": {
   "display_name": "Python 3",
   "language": "python",
   "name": "python3"
  },
  "language_info": {
   "codemirror_mode": {
    "name": "ipython",
    "version": 3
   },
   "file_extension": ".py",
   "mimetype": "text/x-python",
   "name": "python",
   "nbconvert_exporter": "python",
   "pygments_lexer": "ipython3",
   "version": "3.8.6"
  }
 },
 "nbformat": 4,
 "nbformat_minor": 5
}
