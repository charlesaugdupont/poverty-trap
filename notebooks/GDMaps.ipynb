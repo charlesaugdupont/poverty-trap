{
 "cells": [
  {
   "cell_type": "code",
   "execution_count": 6,
   "id": "329a1c15",
   "metadata": {},
   "outputs": [],
   "source": [
    "from itertools import combinations\n",
    "import matplotlib.pyplot as plt\n",
    "import matplotlib  as mpl\n",
    "from tqdm import tqdm\n",
    "import pickle\n",
    "import lzma\n",
    "import time\n",
    "import os\n",
    "\n",
    "import numpy as np\n",
    "\n",
    "from DimensionReduction import Grassmann, DiffusionMaps\n",
    "from GDMaps_PCE_GSA import *\n",
    "\n",
    "\n",
    "# Plotting parameters\n",
    "mpl.rcParams[\"figure.dpi\"] = 100\n",
    "mpl.rcParams[\"legend.fontsize\"] = 12.5\n",
    "mpl.rcParams[\"font.size\"] = 13.5\n",
    "mpl.rcParams[\"axes.grid\"] = True\n",
    "mpl.rcParams[\"grid.alpha\"] = 0.3\n",
    "mpl.rcParams[\"axes.axisbelow\"] = True\n",
    "mpl.rcParams[\"figure.figsize\"] = (10, 6)\n",
    "mpl.rcParams[\"mathtext.fontset\"] = \"cm\"\n",
    "mpl.rcParams['axes.labelsize'] = 15\n",
    "mpl.rcParams['axes.titlesize'] = 15\n",
    "\n",
    "USE_TEX = False\n",
    "\n",
    "if USE_TEX:\n",
    "    plt.rc(\"text\", usetex=True)\n",
    "    plt.rc(\"text.latex\", preamble=r\"\"\"\n",
    "     \\usepackage{times}\n",
    "     \\usepackage{mathptmx}\"\"\")\n",
    "else:\n",
    "    plt.rc(\"text\", usetex=False)\n",
    "    \n",
    "plt.rc(\"font\", family=\"serif\")"
   ]
  },
  {
   "cell_type": "code",
   "execution_count": 7,
   "id": "062cca72",
   "metadata": {},
   "outputs": [],
   "source": [
    "def plot_dm_parsim_coord(coord, g):\n",
    "    \n",
    "    comb1 = list(combinations(list(coord), 2))\n",
    "    comb2 = list(combinations([i for i in range(coord.shape[0])], 2))\n",
    "\n",
    "    # Plot first three plots\n",
    "    if coord.shape[0] > 2:\n",
    "        fig, ax = plt.subplots(nrows=1, ncols=3, figsize=(12,4), constrained_layout=True)\n",
    "        \n",
    "        for i in range(len(comb1)):\n",
    "            ax[i].scatter(g[:, comb2[i][0]], g[:, comb2[i][1]], c=g[:, comb2[i][0]], \n",
    "                          cmap='viridis', s=30, edgecolors='k', linewidth=0.2)\n",
    "            ax[i].set_xlabel(r'$\\theta_{{{}}}$'.format(comb1[i][0]))\n",
    "            ax[i].set_ylabel(r'$\\theta_{{{}}}$'.format(comb1[i][1]))\n",
    "            ax[i].grid('True')\n",
    "            ax[i].ticklabel_format(style='sci', axis='both', scilimits=(0, 0))\n",
    "        plt.show()\n",
    "        \n",
    "        \n",
    "def plot_dm_parsim_coord_multi_level(coords, gs):\n",
    "    \n",
    "    fig, axs = plt.subplots(3, 3, figsize=(12, 12))\n",
    "    \n",
    "    titles = [\"Micro-Level Diffusion Coordinates\",\n",
    "              \"Meso-Level Diffusion Coordinates\",\n",
    "              \"Global-Level Diffusion Coordinates\"]\n",
    "    \n",
    "    for k, coord in enumerate(coords):\n",
    "        comb1 = list(combinations(list(coord), 2))\n",
    "        comb2 = list(combinations([i for i in range(coord.shape[0])], 2))\n",
    "        \n",
    "        g = gs[k]\n",
    "\n",
    "        for i in range(len(comb1)):\n",
    "            axs[k][i].scatter(g[:, comb2[i][0]], g[:, comb2[i][1]], c=g[:, comb2[i][0]], \n",
    "                          cmap='viridis', s=30, edgecolors='k', linewidth=0.2)\n",
    "            axs[k][i].set_xlabel(r'$\\theta_{{{}}}$'.format(comb1[i][0]))\n",
    "            axs[k][i].set_ylabel(r'$\\theta_{{{}}}$'.format(comb1[i][1]))\n",
    "            axs[k][i].grid('True')\n",
    "            axs[k][i].ticklabel_format(style='sci', axis='both', scilimits=(0, 0))  \n",
    "        \n",
    "        axs[k][1].set_title(titles[k], fontsize=20, y=1.2)\n",
    "    \n",
    "    fig.tight_layout()\n",
    "    plt.savefig(\"diffusion_coordinates.pdf\", bbox_inches=\"tight\")\n",
    "    plt.show()\n",
    "\n",
    "\n",
    "def run_GDMaps(p, \n",
    "               data, \n",
    "               num_runs=10, \n",
    "               n_keep=3, \n",
    "               parsim=True):\n",
    "    \n",
    "    evals_diff_runs  = []\n",
    "    evecs_diff_runs  = []\n",
    "    coord_diff_runs = []\n",
    "    g_diff_runs = []\n",
    "    residuals_diff_runs = []\n",
    "    index_diff_runs = []\n",
    "    \n",
    "    for i in range(num_runs):\n",
    "        print('Run: ', i)\n",
    "        data_all = data[i]\n",
    "\n",
    "        # Perform GDMAps\n",
    "        start_time = time.time()\n",
    "        \n",
    "        if parsim:\n",
    "            g, coord, Grass, residuals, index, evals, evecs = GDMaps(data=data_all, \n",
    "                                                                     n_evecs=20,\n",
    "                                                                     n_keep=n_keep,\n",
    "                                                                     parsim=parsim,\n",
    "                                                                     p=p).get()\n",
    "        \n",
    "            evals_diff_runs.append(evals)\n",
    "            evecs_diff_runs.append(evecs)\n",
    "            coord_diff_runs.append(coord)\n",
    "            g_diff_runs.append(g)\n",
    "            residuals_diff_runs.append(residuals)\n",
    "            index_diff_runs.append(index)\n",
    "            \n",
    "        else:\n",
    "            g, coord, Grass, evals, evecs = GDMaps(data=data_all, \n",
    "                                                   n_evecs=20,\n",
    "                                                   n_keep=n_keep,\n",
    "                                                   parsim=parsim,\n",
    "                                                   p=p).get()\n",
    "        \n",
    "            evals_diff_runs.append(evals)\n",
    "            evecs_diff_runs.append(evecs)\n",
    "            coord_diff_runs.append(coord)\n",
    "            g_diff_runs.append(g)\n",
    "        \n",
    "        print(\"--- GDMaps - %s seconds ---\" % (time.time() - start_time))\n",
    "    \n",
    "    return (evals_diff_runs, evecs_diff_runs, coord_diff_runs, g_diff_runs,\n",
    "            residuals_diff_runs, index_diff_runs)"
   ]
  },
  {
   "cell_type": "markdown",
   "id": "0128319f",
   "metadata": {},
   "source": [
    "# Playground"
   ]
  },
  {
   "cell_type": "markdown",
   "id": "8f631d62",
   "metadata": {},
   "source": [
    "### Micro"
   ]
  },
  {
   "cell_type": "code",
   "execution_count": 6,
   "id": "cec5db80",
   "metadata": {},
   "outputs": [
    {
     "name": "stderr",
     "output_type": "stream",
     "text": [
      "20it [14:29, 43.47s/it]\n"
     ]
    }
   ],
   "source": [
    "DATA = np.zeros((20, 7168, 350, 350), dtype=np.float16)\n",
    "for i,f in tqdm(enumerate(os.listdir(\"../new_W_arrays/\"))):\n",
    "    data = pickle.load(lzma.open(f\"../new_W_arrays/{f}\"))\n",
    "    # drop last time step\n",
    "    data = data[:,:,:100].reshape(7168, 350, 350)\n",
    "    DATA[i] = data"
   ]
  },
  {
   "cell_type": "code",
   "execution_count": 7,
   "id": "2198d93c",
   "metadata": {},
   "outputs": [
    {
     "name": "stderr",
     "output_type": "stream",
     "text": [
      "100%|██████████████████████████████████████████████████████████████████████████████████████████████████████| 20/20 [1:20:29<00:00, 241.48s/it]"
     ]
    },
    {
     "name": "stdout",
     "output_type": "stream",
     "text": [
      "Ranks: \n",
      " [[   5    4]\n",
      " [   6   14]\n",
      " [   7   19]\n",
      " [   8   25]\n",
      " [   9   42]\n",
      " [  10   63]\n",
      " [  11   87]\n",
      " [  12  101]\n",
      " [  13  110]\n",
      " [  14  126]\n",
      " [  15  151]\n",
      " [  16  162]\n",
      " [  17  178]\n",
      " [  18  204]\n",
      " [  19  244]\n",
      " [  20  242]\n",
      " [  21  248]\n",
      " [  22  273]\n",
      " [  23  272]\n",
      " [  24  236]\n",
      " [  25  276]\n",
      " [  26  281]\n",
      " [  27  280]\n",
      " [  28  258]\n",
      " [  29  313]\n",
      " [  30  262]\n",
      " [  31  286]\n",
      " [  32  276]\n",
      " [  33  279]\n",
      " [  34  276]\n",
      " [  35  276]\n",
      " [  36  301]\n",
      " [  37  246]\n",
      " [  38  257]\n",
      " [  39  274]\n",
      " [  40  258]\n",
      " [  41  247]\n",
      " [  42  254]\n",
      " [  43  236]\n",
      " [  44  236]\n",
      " [  45  253]\n",
      " [  46  231]\n",
      " [  47  282]\n",
      " [  48  261]\n",
      " [  49  246]\n",
      " [  50  258]\n",
      " [  51  259]\n",
      " [  52  288]\n",
      " [  53  272]\n",
      " [  54  248]\n",
      " [  55  270]\n",
      " [  56  284]\n",
      " [  57  323]\n",
      " [  58  268]\n",
      " [  59  265]\n",
      " [  60  270]\n",
      " [  61  310]\n",
      " [  62  295]\n",
      " [  63  289]\n",
      " [  64  323]\n",
      " [  65  319]\n",
      " [  66  339]\n",
      " [  67  328]\n",
      " [  68  302]\n",
      " [  69  375]\n",
      " [  70  326]\n",
      " [  71  359]\n",
      " [  72  347]\n",
      " [  73  383]\n",
      " [  74  366]\n",
      " [  75  409]\n",
      " [  76  405]\n",
      " [  77  392]\n",
      " [  78  420]\n",
      " [  79  421]\n",
      " [  80  406]\n",
      " [  81  471]\n",
      " [  82  435]\n",
      " [  83  498]\n",
      " [  84  589]\n",
      " [  85  586]\n",
      " [  86  575]\n",
      " [  87  568]\n",
      " [  88  586]\n",
      " [  89  620]\n",
      " [  90  681]\n",
      " [  91  801]\n",
      " [  92  626]\n",
      " [  93  554]\n",
      " [  94  547]\n",
      " [  95  591]\n",
      " [  96  504]\n",
      " [  97  549]\n",
      " [  98  566]\n",
      " [  99  492]\n",
      " [ 100  459]\n",
      " [ 101  419]\n",
      " [ 102  480]\n",
      " [ 103  451]\n",
      " [ 104  433]\n",
      " [ 105  431]\n",
      " [ 106  412]\n",
      " [ 107  362]\n",
      " [ 108  388]\n",
      " [ 109  357]\n",
      " [ 110  313]\n",
      " [ 111  361]\n",
      " [ 112  317]\n",
      " [ 113  317]\n",
      " [ 114  319]\n",
      " [ 115  297]\n",
      " [ 116  314]\n",
      " [ 117  304]\n",
      " [ 118  299]\n",
      " [ 119  303]\n",
      " [ 120  300]\n",
      " [ 121  281]\n",
      " [ 122  248]\n",
      " [ 123  288]\n",
      " [ 124  258]\n",
      " [ 125  273]\n",
      " [ 126  271]\n",
      " [ 127  276]\n",
      " [ 128  279]\n",
      " [ 129  275]\n",
      " [ 130  223]\n",
      " [ 131  253]\n",
      " [ 132  264]\n",
      " [ 133  257]\n",
      " [ 134  296]\n",
      " [ 135  264]\n",
      " [ 136  230]\n",
      " [ 137  255]\n",
      " [ 138  253]\n",
      " [ 139  250]\n",
      " [ 140  283]\n",
      " [ 141  239]\n",
      " [ 142  249]\n",
      " [ 143  255]\n",
      " [ 144  264]\n",
      " [ 145  269]\n",
      " [ 146  240]\n",
      " [ 147  296]\n",
      " [ 148  261]\n",
      " [ 149  282]\n",
      " [ 150  228]\n",
      " [ 151  234]\n",
      " [ 152  265]\n",
      " [ 153  260]\n",
      " [ 154  262]\n",
      " [ 155  249]\n",
      " [ 156  226]\n",
      " [ 157  282]\n",
      " [ 158  249]\n",
      " [ 159  262]\n",
      " [ 160  282]\n",
      " [ 161  235]\n",
      " [ 162  255]\n",
      " [ 163  257]\n",
      " [ 164  240]\n",
      " [ 165  263]\n",
      " [ 166  228]\n",
      " [ 167  232]\n",
      " [ 168  253]\n",
      " [ 169  248]\n",
      " [ 170  266]\n",
      " [ 171  234]\n",
      " [ 172  246]\n",
      " [ 173  268]\n",
      " [ 174  265]\n",
      " [ 175  260]\n",
      " [ 176  278]\n",
      " [ 177  245]\n",
      " [ 178  256]\n",
      " [ 179  241]\n",
      " [ 180  273]\n",
      " [ 181  252]\n",
      " [ 182  240]\n",
      " [ 183  253]\n",
      " [ 184  252]\n",
      " [ 185  241]\n",
      " [ 186  276]\n",
      " [ 187  265]\n",
      " [ 188  242]\n",
      " [ 189  262]\n",
      " [ 190  260]\n",
      " [ 191  267]\n",
      " [ 192  289]\n",
      " [ 193  248]\n",
      " [ 194  272]\n",
      " [ 195  255]\n",
      " [ 196  279]\n",
      " [ 197  255]\n",
      " [ 198  270]\n",
      " [ 199  241]\n",
      " [ 200  226]\n",
      " [ 201  263]\n",
      " [ 202  277]\n",
      " [ 203  290]\n",
      " [ 204  292]\n",
      " [ 205  276]\n",
      " [ 206  283]\n",
      " [ 207  305]\n",
      " [ 208  256]\n",
      " [ 209  269]\n",
      " [ 210  254]\n",
      " [ 211  245]\n",
      " [ 212  266]\n",
      " [ 213  284]\n",
      " [ 214  267]\n",
      " [ 215  262]\n",
      " [ 216  281]\n",
      " [ 217  274]\n",
      " [ 218  269]\n",
      " [ 219  297]\n",
      " [ 220  269]\n",
      " [ 221  256]\n",
      " [ 222  273]\n",
      " [ 223  310]\n",
      " [ 224  280]\n",
      " [ 225  285]\n",
      " [ 226  273]\n",
      " [ 227  287]\n",
      " [ 228  282]\n",
      " [ 229  260]\n",
      " [ 230  300]\n",
      " [ 231  312]\n",
      " [ 232  295]\n",
      " [ 233  268]\n",
      " [ 234  285]\n",
      " [ 235  297]\n",
      " [ 236  305]\n",
      " [ 237  333]\n",
      " [ 238  269]\n",
      " [ 239  283]\n",
      " [ 240  298]\n",
      " [ 241  265]\n",
      " [ 242  294]\n",
      " [ 243  299]\n",
      " [ 244  316]\n",
      " [ 245  303]\n",
      " [ 246  332]\n",
      " [ 247  314]\n",
      " [ 248  314]\n",
      " [ 249  334]\n",
      " [ 250  304]\n",
      " [ 251  305]\n",
      " [ 252  316]\n",
      " [ 253  305]\n",
      " [ 254  332]\n",
      " [ 255  343]\n",
      " [ 256  310]\n",
      " [ 257  305]\n",
      " [ 258  354]\n",
      " [ 259  356]\n",
      " [ 260  308]\n",
      " [ 261  354]\n",
      " [ 262  347]\n",
      " [ 263  348]\n",
      " [ 264  329]\n",
      " [ 265  331]\n",
      " [ 266  346]\n",
      " [ 267  368]\n",
      " [ 268  372]\n",
      " [ 269  324]\n",
      " [ 270  361]\n",
      " [ 271  348]\n",
      " [ 272  310]\n",
      " [ 273  375]\n",
      " [ 274  395]\n",
      " [ 275  366]\n",
      " [ 276  340]\n",
      " [ 277  368]\n",
      " [ 278  379]\n",
      " [ 279  353]\n",
      " [ 280  356]\n",
      " [ 281  362]\n",
      " [ 282  381]\n",
      " [ 283  391]\n",
      " [ 284  376]\n",
      " [ 285  374]\n",
      " [ 286  395]\n",
      " [ 287  419]\n",
      " [ 288  406]\n",
      " [ 289  433]\n",
      " [ 290  423]\n",
      " [ 291  441]\n",
      " [ 292  414]\n",
      " [ 293  431]\n",
      " [ 294  448]\n",
      " [ 295  438]\n",
      " [ 296  458]\n",
      " [ 297  438]\n",
      " [ 298  463]\n",
      " [ 299  458]\n",
      " [ 300  469]\n",
      " [ 301  460]\n",
      " [ 302  530]\n",
      " [ 303  525]\n",
      " [ 304  525]\n",
      " [ 305  475]\n",
      " [ 306  470]\n",
      " [ 307  480]\n",
      " [ 308  482]\n",
      " [ 309  516]\n",
      " [ 310  536]\n",
      " [ 311  508]\n",
      " [ 312  529]\n",
      " [ 313  547]\n",
      " [ 314  564]\n",
      " [ 315  559]\n",
      " [ 316  571]\n",
      " [ 317  611]\n",
      " [ 318  606]\n",
      " [ 319  578]\n",
      " [ 320  609]\n",
      " [ 321  590]\n",
      " [ 322  639]\n",
      " [ 323  644]\n",
      " [ 324  727]\n",
      " [ 325  708]\n",
      " [ 326  759]\n",
      " [ 327  756]\n",
      " [ 328  765]\n",
      " [ 329  812]\n",
      " [ 330  856]\n",
      " [ 331  782]\n",
      " [ 332  860]\n",
      " [ 333  942]\n",
      " [ 334  956]\n",
      " [ 335 1037]\n",
      " [ 336 1033]\n",
      " [ 337 1136]\n",
      " [ 338 1339]\n",
      " [ 339 1368]\n",
      " [ 340 1429]\n",
      " [ 341 1777]\n",
      " [ 342 2051]\n",
      " [ 343 2652]\n",
      " [ 344 3492]\n",
      " [ 345 5011]\n",
      " [ 346 5524]\n",
      " [ 347 2197]\n",
      " [ 348  148]\n",
      " [ 349    3]]\n"
     ]
    },
    {
     "name": "stderr",
     "output_type": "stream",
     "text": [
      "\n"
     ]
    }
   ],
   "source": [
    "ranks = []\n",
    "num_runs = 20\n",
    "\n",
    "for run in tqdm(range(num_runs)):\n",
    "    data_all = DATA[run].astype(np.float32)\n",
    "    ranks += [np.linalg.matrix_rank(data_all[i]) for i \\\n",
    "         in range(len(data_all))]\n",
    "\n",
    "unique, counts = np.unique(ranks, return_counts=True)\n",
    "print(f'Ranks: \\n {np.asarray((unique, counts)).T}')"
   ]
  },
  {
   "cell_type": "markdown",
   "id": "387bcc0b",
   "metadata": {},
   "source": [
    "### Meso"
   ]
  },
  {
   "cell_type": "code",
   "execution_count": null,
   "id": "4069a51c",
   "metadata": {},
   "outputs": [],
   "source": [
    "with open(\"augmented_communities.pickle\", \"rb\") as f:\n",
    "    communities = pickle.load(f)\n",
    "community_keys = sorted(list(communities.keys()))[:-1]\n",
    "\n",
    "rand_comm_duplicates = list(np.random.choice(community_keys, size=8, replace=False))\n",
    "community_keys += rand_comm_duplicates"
   ]
  },
  {
   "cell_type": "code",
   "execution_count": null,
   "id": "e5f6459b",
   "metadata": {},
   "outputs": [],
   "source": [
    "DATA = np.zeros((10, 8192, 110, 110), dtype=np.float16)\n",
    "for i,f in tqdm(enumerate(os.listdir(\"./concat_W_arrays_cpt/\"))):\n",
    "    \n",
    "    data = pickle.load(lzma.open(f\"./concat_W_arrays_cpt/{f}\"))\n",
    "    \n",
    "    # drop some time steps\n",
    "    data = data[:,:,:44]\n",
    "    \n",
    "    community_averages = np.zeros((8192, 275, 44), dtype=np.float16)\n",
    "    for p_idx, param_item in enumerate(data):\n",
    "        for k_idx, key in enumerate(community_keys):\n",
    "            comm_avg = np.mean(param_item[communities[key]], axis=0)\n",
    "            community_averages[p_idx][k_idx] = comm_avg\n",
    "\n",
    "    DATA[i] = community_averages.reshape(8192, 110, 110)"
   ]
  },
  {
   "cell_type": "code",
   "execution_count": null,
   "id": "d5e8accf",
   "metadata": {
    "scrolled": true
   },
   "outputs": [],
   "source": [
    "ranks = []\n",
    "num_runs = 20\n",
    "\n",
    "for run in tqdm(range(num_runs)):\n",
    "    data_all = DATA[run].astype(np.float32)\n",
    "    ranks += [np.linalg.matrix_rank(data_all[i]) for i \\\n",
    "         in range(len(data_all))]\n",
    "\n",
    "unique, counts = np.unique(ranks, return_counts=True)\n",
    "print(f'Ranks: \\n {np.asarray((unique, counts)).T}')"
   ]
  },
  {
   "cell_type": "markdown",
   "id": "a5520c33",
   "metadata": {},
   "source": [
    "### Macro"
   ]
  },
  {
   "cell_type": "code",
   "execution_count": 19,
   "id": "ad1fbd41",
   "metadata": {},
   "outputs": [
    {
     "name": "stderr",
     "output_type": "stream",
     "text": [
      "20it [14:35, 43.75s/it]\n"
     ]
    }
   ],
   "source": [
    "DATA = np.zeros((20, 7168, 10, 10), dtype=np.float16)\n",
    "for i,f in tqdm(enumerate(os.listdir(\"../new_W_arrays/\"))):\n",
    "    data = pickle.load(lzma.open(f\"../new_W_arrays/{f}\"))\n",
    "    data = np.mean(data, axis=1)[:,:100].reshape(1, 7168, 10, 10)\n",
    "    DATA[i] = data"
   ]
  },
  {
   "cell_type": "code",
   "execution_count": 21,
   "id": "d37273d9",
   "metadata": {},
   "outputs": [
    {
     "name": "stderr",
     "output_type": "stream",
     "text": [
      "100%|█████████████████████████████████████████████████████████████████████████████████████████████████████████| 20/20 [00:02<00:00,  9.80it/s]"
     ]
    },
    {
     "name": "stdout",
     "output_type": "stream",
     "text": [
      "Ranks: \n",
      " [[     1      1]\n",
      " [     2   1125]\n",
      " [     3  11712]\n",
      " [     4   2592]\n",
      " [     5    758]\n",
      " [     6    473]\n",
      " [     7    284]\n",
      " [     8    258]\n",
      " [     9  11602]\n",
      " [    10 114555]]\n"
     ]
    },
    {
     "name": "stderr",
     "output_type": "stream",
     "text": [
      "\n"
     ]
    }
   ],
   "source": [
    "ranks = []\n",
    "num_runs = 20\n",
    "\n",
    "for run in tqdm(range(num_runs)):\n",
    "    data_all = DATA[run].astype(np.float32)\n",
    "    ranks += [np.linalg.matrix_rank(data_all[i]) for i \\\n",
    "         in range(len(data_all))]\n",
    "\n",
    "unique, counts = np.unique(ranks, return_counts=True)\n",
    "print(f'Ranks: \\n {np.asarray((unique, counts)).T}')"
   ]
  },
  {
   "cell_type": "markdown",
   "id": "3bc69b0c",
   "metadata": {},
   "source": [
    "# Run micro level GDMaps"
   ]
  },
  {
   "cell_type": "code",
   "execution_count": null,
   "id": "4621c7bb",
   "metadata": {},
   "outputs": [],
   "source": [
    "p_micro = 30\n",
    "for i,f in enumerate(os.listdir(\"./concat_W_arrays_cpt/\")):\n",
    "    seed = int(f.split(\"_\")[0])\n",
    "    data = pickle.load(lzma.open(f\"./concat_W_arrays_cpt/{f}\"))\n",
    "    data = data[:,:,:50].reshape(1, 8192, 250, 250)\n",
    "    results = run_GDMaps(p=p_micro, data=data, num_runs=1)\n",
    "    with open(f\"GDMAPS_results/micro_{seed}.pickle\", \"wb\") as f:\n",
    "        pickle.dump(results, f)"
   ]
  },
  {
   "cell_type": "markdown",
   "id": "f6d8f7c3",
   "metadata": {},
   "source": [
    "# Run meso level GDMaps"
   ]
  },
  {
   "cell_type": "code",
   "execution_count": null,
   "id": "4c1a71e8",
   "metadata": {},
   "outputs": [],
   "source": [
    "with open(\"augmented_communities.pickle\", \"rb\") as f:\n",
    "    communities = pickle.load(f)\n",
    "community_keys = sorted(list(communities.keys()))[:-1]\n",
    "\n",
    "rand_comm_duplicates = list(np.random.choice(community_keys, size=8, replace=False))\n",
    "community_keys += rand_comm_duplicates"
   ]
  },
  {
   "cell_type": "code",
   "execution_count": null,
   "id": "a03e2710",
   "metadata": {},
   "outputs": [],
   "source": [
    "p_meso = 70\n",
    "\n",
    "for i,f in enumerate(os.listdir(\"./concat_W_arrays_cpt/\")):\n",
    "    \n",
    "    seed = int(f.split(\"_\")[0])\n",
    "    if seed in [8,0,7]:\n",
    "        continue\n",
    "        \n",
    "    data = pickle.load(lzma.open(f\"./concat_W_arrays_cpt/{f}\"))\n",
    "    data = data[:,:,:44]\n",
    "    \n",
    "    community_averages = np.zeros((8192, 275, 44), dtype=np.float16)\n",
    "    for p_idx, param_item in enumerate(data):\n",
    "        for k_idx, key in enumerate(community_keys):\n",
    "            comm_avg = np.mean(param_item[communities[key]], axis=0)\n",
    "            community_averages[p_idx][k_idx] = comm_avg\n",
    "    \n",
    "    data = community_averages.reshape(1, 8192, 110, 110)\n",
    "    \n",
    "    results = run_GDMaps(p=p_meso, data=data, num_runs=1)\n",
    "    with open(f\"GDMAPS_results/meso_{seed}.pickle\", \"wb\") as f:\n",
    "        pickle.dump(results, f)"
   ]
  },
  {
   "cell_type": "markdown",
   "id": "184a439a",
   "metadata": {},
   "source": [
    "# Run macro level GDMaps"
   ]
  },
  {
   "cell_type": "code",
   "execution_count": 8,
   "id": "35c18e25",
   "metadata": {
    "scrolled": false
   },
   "outputs": [
    {
     "name": "stderr",
     "output_type": "stream",
     "text": [
      "\r",
      "0it [00:00, ?it/s]"
     ]
    },
    {
     "name": "stdout",
     "output_type": "stream",
     "text": [
      "11\n",
      "19\n",
      "16\n",
      "17\n",
      "18\n",
      "10\n",
      "12\n",
      "15\n",
      "Run:  0\n",
      "Running with parsimonious representation\n"
     ]
    },
    {
     "name": "stderr",
     "output_type": "stream",
     "text": [
      "\r",
      "8it [14:55, 111.95s/it]"
     ]
    },
    {
     "name": "stdout",
     "output_type": "stream",
     "text": [
      "--- GDMaps - 852.9130711555481 seconds ---\n",
      "14\n",
      "Run:  0\n",
      "Running with parsimonious representation\n"
     ]
    },
    {
     "name": "stderr",
     "output_type": "stream",
     "text": [
      "\r",
      "9it [32:33, 255.30s/it]"
     ]
    },
    {
     "name": "stdout",
     "output_type": "stream",
     "text": [
      "--- GDMaps - 1014.3081619739532 seconds ---\n",
      "13\n",
      "Run:  0\n",
      "Running with parsimonious representation\n"
     ]
    },
    {
     "name": "stderr",
     "output_type": "stream",
     "text": [
      "\r",
      "10it [51:28, 411.75s/it]"
     ]
    },
    {
     "name": "stdout",
     "output_type": "stream",
     "text": [
      "--- GDMaps - 1089.6900820732117 seconds ---\n",
      "2\n",
      "Run:  0\n",
      "Running with parsimonious representation\n"
     ]
    },
    {
     "name": "stderr",
     "output_type": "stream",
     "text": [
      "\r",
      "11it [1:09:56, 552.87s/it]"
     ]
    },
    {
     "name": "stdout",
     "output_type": "stream",
     "text": [
      "--- GDMaps - 1064.9050381183624 seconds ---\n",
      "5\n",
      "Run:  0\n",
      "Running with parsimonious representation\n"
     ]
    },
    {
     "name": "stderr",
     "output_type": "stream",
     "text": [
      "\r",
      "12it [1:27:47, 669.28s/it]"
     ]
    },
    {
     "name": "stdout",
     "output_type": "stream",
     "text": [
      "--- GDMaps - 1027.484275817871 seconds ---\n",
      "4\n",
      "Run:  0\n",
      "Running with parsimonious representation\n"
     ]
    },
    {
     "name": "stderr",
     "output_type": "stream",
     "text": [
      "\r",
      "13it [1:44:20, 747.85s/it]"
     ]
    },
    {
     "name": "stdout",
     "output_type": "stream",
     "text": [
      "--- GDMaps - 949.0422620773315 seconds ---\n",
      "3\n",
      "Run:  0\n",
      "Running with parsimonious representation\n"
     ]
    },
    {
     "name": "stderr",
     "output_type": "stream",
     "text": [
      "\r",
      "14it [2:02:57, 842.93s/it]"
     ]
    },
    {
     "name": "stdout",
     "output_type": "stream",
     "text": [
      "--- GDMaps - 1073.5107872486115 seconds ---\n",
      "9\n",
      "Run:  0\n",
      "Running with parsimonious representation\n"
     ]
    },
    {
     "name": "stderr",
     "output_type": "stream",
     "text": [
      "\r",
      "15it [2:21:46, 919.80s/it]"
     ]
    },
    {
     "name": "stdout",
     "output_type": "stream",
     "text": [
      "--- GDMaps - 1086.1128346920013 seconds ---\n",
      "1\n",
      "Run:  0\n",
      "Running with parsimonious representation\n"
     ]
    },
    {
     "name": "stderr",
     "output_type": "stream",
     "text": [
      "\r",
      "16it [2:40:38, 978.88s/it]"
     ]
    },
    {
     "name": "stdout",
     "output_type": "stream",
     "text": [
      "--- GDMaps - 1087.9621541500092 seconds ---\n",
      "6\n",
      "Run:  0\n",
      "Running with parsimonious representation\n"
     ]
    },
    {
     "name": "stderr",
     "output_type": "stream",
     "text": [
      "\r",
      "17it [2:58:57, 1012.82s/it]"
     ]
    },
    {
     "name": "stdout",
     "output_type": "stream",
     "text": [
      "--- GDMaps - 1054.496421098709 seconds ---\n",
      "7\n",
      "Run:  0\n",
      "Running with parsimonious representation\n"
     ]
    },
    {
     "name": "stderr",
     "output_type": "stream",
     "text": [
      "\r",
      "18it [3:17:29, 1041.55s/it]"
     ]
    },
    {
     "name": "stdout",
     "output_type": "stream",
     "text": [
      "--- GDMaps - 1068.7703139781952 seconds ---\n",
      "0\n",
      "Run:  0\n",
      "Running with parsimonious representation\n"
     ]
    },
    {
     "name": "stderr",
     "output_type": "stream",
     "text": [
      "\r",
      "19it [3:36:02, 1062.54s/it]"
     ]
    },
    {
     "name": "stdout",
     "output_type": "stream",
     "text": [
      "--- GDMaps - 1068.8961489200592 seconds ---\n",
      "8\n",
      "Run:  0\n",
      "Running with parsimonious representation\n"
     ]
    },
    {
     "name": "stderr",
     "output_type": "stream",
     "text": [
      "20it [3:54:23, 703.20s/it] "
     ]
    },
    {
     "name": "stdout",
     "output_type": "stream",
     "text": [
      "--- GDMaps - 1057.1955089569092 seconds ---\n"
     ]
    },
    {
     "name": "stderr",
     "output_type": "stream",
     "text": [
      "\n"
     ]
    }
   ],
   "source": [
    "p_global = 3\n",
    "\n",
    "DATA = np.zeros((20, 7168, 10, 10), dtype=np.float16)\n",
    "for i,f in tqdm(enumerate(os.listdir(\"../new_W_arrays/\"))):\n",
    "    seed = int(f.split(\"_\")[0])\n",
    "    print(seed)\n",
    "    if f\"macro_{seed}.pickle\" in os.listdir(\"../GDMaps_results/\"):\n",
    "        continue\n",
    "    data = pickle.load(lzma.open(f\"../new_W_arrays/{f}\"))\n",
    "    data = np.mean(data, axis=1)[:,:100].reshape(1, 7168, 10, 10)\n",
    "    results = run_GDMaps(p=p_global, data=data, num_runs=1)\n",
    "    with open(f\"../GDMAPS_results/macro_{seed}.pickle\", \"wb\") as f:\n",
    "        pickle.dump(results, f)"
   ]
  },
  {
   "cell_type": "markdown",
   "id": "ed693b88",
   "metadata": {},
   "source": [
    "# Plot results"
   ]
  },
  {
   "cell_type": "code",
   "execution_count": null,
   "id": "4b74e79c",
   "metadata": {
    "scrolled": false
   },
   "outputs": [],
   "source": [
    "# fig, axs = plt.subplots(3,3)\n",
    "\n",
    "seed = 0\n",
    "\n",
    "coords = []\n",
    "gs = []\n",
    "\n",
    "\n",
    "for i,path in enumerate([f\"micro_{seed}.pickle\", f\"meso_{seed}.pickle\", f\"global_{seed}.pickle\"]):\n",
    "    \n",
    "    with open(\"GDMAPS_results/\" + path, \"rb\") as f:\n",
    "        evals, evecs_diff_runs, coord, g_diff_runs, \\\n",
    "            residuals_diff_runs, index_diff_runs = pickle.load(f)\n",
    "    \n",
    "    coords.append(coord[0])\n",
    "    gs.append(g_diff_runs[0])"
   ]
  },
  {
   "cell_type": "code",
   "execution_count": null,
   "id": "6c614038",
   "metadata": {},
   "outputs": [],
   "source": [
    "plot_dm_parsim_coord_multi_level(coords, gs)"
   ]
  },
  {
   "cell_type": "code",
   "execution_count": null,
   "id": "622ff22c",
   "metadata": {},
   "outputs": [],
   "source": []
  },
  {
   "cell_type": "code",
   "execution_count": null,
   "id": "ff1d6c44",
   "metadata": {},
   "outputs": [],
   "source": []
  },
  {
   "cell_type": "code",
   "execution_count": null,
   "id": "8abf5595",
   "metadata": {},
   "outputs": [],
   "source": [
    "# evals = evals[0]\n",
    "# plt.scatter(np.arange(2, len(evals)+1, 1), evals[1:], c='dodgerblue')\n",
    "# plt.xlabel(r'Eigenvalues $\\lambda_i$ with $i > 1$')\n",
    "# plt.tight_layout()\n",
    "# plt.show()"
   ]
  },
  {
   "cell_type": "code",
   "execution_count": null,
   "id": "94278f09",
   "metadata": {},
   "outputs": [],
   "source": [
    "# plot_dm_parsim_coord(coord[0], g_diff_runs[0])"
   ]
  }
 ],
 "metadata": {
  "kernelspec": {
   "display_name": "Python 3 (ipykernel)",
   "language": "python",
   "name": "python3"
  },
  "language_info": {
   "codemirror_mode": {
    "name": "ipython",
    "version": 3
   },
   "file_extension": ".py",
   "mimetype": "text/x-python",
   "name": "python",
   "nbconvert_exporter": "python",
   "pygments_lexer": "ipython3",
   "version": "3.10.10"
  }
 },
 "nbformat": 4,
 "nbformat_minor": 5
}
