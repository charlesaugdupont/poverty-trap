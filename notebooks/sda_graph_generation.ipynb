{
 "cells": [
  {
   "cell_type": "code",
   "execution_count": 2,
   "id": "0d3ab454",
   "metadata": {},
   "outputs": [],
   "source": [
    "import os\n",
    "import sys; sys.path.append(\"../\")\n",
    "import pickle\n",
    "from network_model import *\n",
    "from SALib.sample import sobol, saltelli\n",
    "from tqdm import tqdm\n",
    "\n",
    "\n",
    "import matplotlib\n",
    "import matplotlib.pyplot as plt\n",
    "from mpl_toolkits.axes_grid1 import ImageGrid\n",
    "plt.rcParams.update(plt.rcParamsDefault)\n",
    "plt.rcParams.update({\"font.size\" : 15,\n",
    "                     \"figure.dpi\" : 100, \n",
    "                     \"grid.alpha\" : 0.3, \n",
    "                     \"axes.grid\": True, \n",
    "                     \"axes.axisbelow\" : True,\n",
    "                     \"figure.figsize\":(8,6),\n",
    "                     \"mathtext.fontset\":\"cm\",\n",
    "                     \"xtick.labelsize\": 14,\n",
    "                     \"ytick.labelsize\": 14,\n",
    "                     \"axes.labelsize\": 16, \n",
    "                     \"legend.fontsize\": 13.5})\n",
    "USE_TEX = False\n",
    "if USE_TEX:\n",
    "    plt.rc(\"text\", usetex=True)\n",
    "    plt.rc(\"text.latex\", preamble=r\"\"\"\n",
    "     \\usepackage{times}\n",
    "     \\usepackage{mathptmx}\"\"\")\n",
    "else:\n",
    "    plt.rc(\"text\", usetex=False)\n",
    "plt.rc(\"font\", family=\"serif\")"
   ]
  },
  {
   "cell_type": "code",
   "execution_count": 42,
   "id": "998b3bdf",
   "metadata": {},
   "outputs": [],
   "source": [
    "def sda_prob(d, a, b):\n",
    "    return 1 / (1 + ((1/b)*d)**a)\n",
    "\n",
    "\n",
    "def sda_graph(P):\n",
    "    G = nx.Graph()\n",
    "    # create nodes\n",
    "    for i in range(1250):\n",
    "        G.add_node(i)\n",
    "    coin_flips = np.random.uniform(size=780625) # 780625 = number of pairwise distances for 1250 agents\n",
    "    k = 0\n",
    "    # add edges probabilistically\n",
    "    for i in range(len(P)):\n",
    "        for j in range(i+1, len(P)):\n",
    "            if P[i][j] > coin_flips[k]:\n",
    "                G.add_edge(i,j)\n",
    "            k += 1  \n",
    "    return G"
   ]
  },
  {
   "cell_type": "markdown",
   "id": "735d9708",
   "metadata": {},
   "source": [
    "# Saltelli sampling"
   ]
  },
  {
   "cell_type": "code",
   "execution_count": 66,
   "id": "ed2a08a7",
   "metadata": {},
   "outputs": [
    {
     "name": "stderr",
     "output_type": "stream",
     "text": [
      "/var/folders/bj/4q98hxqx4vq6wwm8qqllvxmr0000gn/T/ipykernel_18063/173000835.py:22: DeprecationWarning: `salib.sample.saltelli` will be removed in SALib 1.5. Please use `salib.sample.sobol`\n",
      "  X = saltelli.sample(PROBLEM, NUM_SAMPLES, calc_second_order=False)\n"
     ]
    }
   ],
   "source": [
    "# problem definition\n",
    "PROBLEM = {\n",
    "    \"num_vars\" : 7,\n",
    "    \"names\"    : [\"project_cost\",\n",
    "                  \"gain_right\",\n",
    "                  \"alpha_beta\",\n",
    "                  \"prob_left\",\n",
    "                  \"init_w_scale\",\n",
    "                  \"risk_scale\",\n",
    "                  \"poisson_scale\"],\n",
    "    \"bounds\"   : [[0.01, 2.00],\n",
    "                  [1.70, 2.30],\n",
    "                  [0.70, 0.80],\n",
    "                  [0.30, 0.45],\n",
    "                  [0.01, 0.15],\n",
    "                  [5.00, 20.0],\n",
    "                  [8.00, 20.0]]\n",
    "}\n",
    "\n",
    "# generate Saltelli samples\n",
    "NUM_SAMPLES = 1024\n",
    "X = saltelli.sample(PROBLEM, NUM_SAMPLES, calc_second_order=False)\n",
    "\n",
    "unique_w_scales = sorted(list(set(X[:,4])))"
   ]
  },
  {
   "cell_type": "markdown",
   "id": "7707fa14",
   "metadata": {},
   "source": [
    "# Generate graphs"
   ]
  },
  {
   "cell_type": "code",
   "execution_count": 67,
   "id": "7d5f5619",
   "metadata": {
    "scrolled": true
   },
   "outputs": [
    {
     "name": "stderr",
     "output_type": "stream",
     "text": [
      "100%|███████████████████████████████████████████████████████████████████████████████████████████████████████████████████████| 1024/1024 [23:42<00:00,  1.39s/it]\n"
     ]
    }
   ],
   "source": [
    "# set random seed\n",
    "random.seed(123)\n",
    "np.random.seed(123)\n",
    "\n",
    "for scale in tqdm(unique_w_scales):\n",
    "\n",
    "    # create random initial wealth distribution\n",
    "    W = np.random.normal(1, scale, size=1250)\n",
    "\n",
    "    # compute pairwise distances\n",
    "    pairwise_distances = []\n",
    "    for i in range(len(W)):\n",
    "        for j in range(i+1, len(W)):\n",
    "            pairwise_distances.append(np.abs(W[i]-W[j]))\n",
    "    mean_dist = np.mean(pairwise_distances)\n",
    "\n",
    "    # SDA graph parameters\n",
    "    a = 16\n",
    "    b = mean_dist/15\n",
    "    prob_attach = np.zeros((1250,1250))\n",
    "    k = 0\n",
    "    for i in range(len(W)):\n",
    "        for j in range(i+1, len(W)):\n",
    "            p = sda_prob(pairwise_distances[k], a=a, b=b)\n",
    "            prob_attach[i][j] = p\n",
    "            prob_attach[j][i] = p\n",
    "            k+=1\n",
    "    G = sda_graph(prob_attach)\n",
    "\n",
    "    # ensure that graph is connected\n",
    "    connected_components = list(nx.connected_components(G))\n",
    "    largest_component = list(connected_components[0])\n",
    "    largest_component_wealths = W[np.array(largest_component)]\n",
    "    for i in range(1, len(connected_components)):\n",
    "        comp = list(connected_components[i])\n",
    "        node = np.random.choice(comp)\n",
    "        closest_largest_component_node = (np.abs(largest_component_wealths - W[node])).argmin()\n",
    "        G.add_edge(node, largest_component[closest_largest_component_node])\n",
    "    assert nx.is_connected(G)\n",
    "\n",
    "    # extract communities and construct community membership dictionary\n",
    "    communities = get_communities(G)\n",
    "    community_membership = get_community_membership(G, communities)\n",
    "\n",
    "    # store results\n",
    "    data_tuple = (G, communities, community_membership, W)\n",
    "    with open(f\"./sda_graphs/{scale}.pickle\", \"wb\") as f:\n",
    "        pickle.dump(data_tuple, f)"
   ]
  },
  {
   "cell_type": "markdown",
   "id": "8524e660",
   "metadata": {},
   "source": [
    "# Visualize graph distributions"
   ]
  },
  {
   "cell_type": "code",
   "execution_count": 89,
   "id": "f3817c59",
   "metadata": {},
   "outputs": [],
   "source": [
    "green_colors = [\n",
    "    (0.63137254901960782,  0.85098039215686272,  0.60784313725490191),\n",
    "    (0.45490196078431372,  0.7686274509803922 ,  0.46274509803921571),\n",
    "    (0.25490196078431371,  0.6705882352941176 ,  0.36470588235294116),\n",
    "    (0.13725490196078433,  0.54509803921568623,  0.27058823529411763),\n",
    "][::-1]"
   ]
  },
  {
   "cell_type": "code",
   "execution_count": 78,
   "id": "5b53580b",
   "metadata": {},
   "outputs": [
    {
     "name": "stderr",
     "output_type": "stream",
     "text": [
      "100%|██████████| 1024/1024 [00:56<00:00, 18.02it/s]\n"
     ]
    }
   ],
   "source": [
    "graph_data = []\n",
    "for file in tqdm(os.listdir(\"../data/sda_graphs/\")):\n",
    "    with open(\"../data/sda_graphs/\" + file, \"rb\") as f:\n",
    "        data = pickle.load(f)\n",
    "    graph_data.append(data)"
   ]
  },
  {
   "cell_type": "code",
   "execution_count": 94,
   "id": "3ce92769",
   "metadata": {},
   "outputs": [
    {
     "name": "stderr",
     "output_type": "stream",
     "text": [
      "100%|██████████| 1024/1024 [00:31<00:00, 32.26it/s]\n"
     ]
    }
   ],
   "source": [
    "num_communities = []\n",
    "comm_sizes = []\n",
    "indiv_degrees = []\n",
    "comm_degrees = []\n",
    "\n",
    "for item in tqdm(graph_data):\n",
    "    \n",
    "    # unpack tuple\n",
    "    G, communities, community_membership, W = item\n",
    "    \n",
    "    # number of communities\n",
    "    num_communities.append(len(communities))\n",
    "    \n",
    "    # sizes of communities\n",
    "    augmented_communities = {}\n",
    "    for agent in community_membership:\n",
    "        comms = community_membership[agent]\n",
    "        for c in comms:\n",
    "            if c not in augmented_communities:\n",
    "                augmented_communities[c] = {agent}\n",
    "            else:\n",
    "                augmented_communities[c].add(agent)\n",
    "    augmented_communities = {k:np.array(list(v)) for k,v in augmented_communities.items()}\n",
    "    largest_key = max(augmented_communities.keys())\n",
    "    del augmented_communities[largest_key]\n",
    "    comm_sizes += [len(x) for x in list(augmented_communities.values())]\n",
    "    \n",
    "    # individual degrees\n",
    "    degrees = list(dict(G.degree).values())\n",
    "    indiv_degrees += degrees\n",
    "    \n",
    "    # community degrees\n",
    "    adjacency = dict((n, set(nbrdict.keys())) for n, nbrdict in G.adjacency())\n",
    "    node_community_map = get_node_community_map(communities)\n",
    "    community_adjacency = {}\n",
    "    for i,c in enumerate(communities):\n",
    "        community_adjacency[i] = set()\n",
    "        for node in c:\n",
    "            node_neighbours = adjacency[node]\n",
    "            for neighbour in node_neighbours:\n",
    "                neighbouring_community = node_community_map[neighbour]\n",
    "                if neighbouring_community != i:\n",
    "                    community_adjacency[i].add(neighbouring_community)\n",
    "            \n",
    "    # plot community degree distribution\n",
    "    comm_degrees += [len(x) for x in list(community_adjacency.values())]"
   ]
  },
  {
   "cell_type": "code",
   "execution_count": 95,
   "id": "3d741bad",
   "metadata": {},
   "outputs": [
    {
     "data": {
      "image/png": "[encoded data removed]",
      "text/plain": [
       "<Figure size 900x600 with 4 Axes>"
      ]
     },
     "metadata": {},
     "output_type": "display_data"
    }
   ],
   "source": [
    "fig, axs = plt.subplots(2, 2, figsize=(9,6))\n",
    "\n",
    "# number of communities\n",
    "axs[0][0].hist(num_communities, bins=15, edgecolor=\"k\", color=green_colors[0])\n",
    "axs[0][0].set_title(\"Number of Communities\")\n",
    "\n",
    "# sizes of communities\n",
    "axs[0][1].hist(comm_sizes, bins=15, edgecolor=\"k\", color=green_colors[1])\n",
    "axs[0][1].set_yscale(\"log\")\n",
    "axs[0][1].set_title(\"Community Sizes\")\n",
    "\n",
    "# individual degrees\n",
    "axs[1][0].hist(indiv_degrees, bins=15, edgecolor=\"k\", color=green_colors[2])\n",
    "axs[1][0].set_yscale(\"log\")\n",
    "axs[1][0].set_title(\"Individual Degrees\")\n",
    "\n",
    "# community degrees\n",
    "axs[1][1].hist(comm_degrees, bins=8, edgecolor=\"k\", color=green_colors[3])\n",
    "axs[1][1].set_yscale(\"log\")\n",
    "axs[1][1].set_xticks([1, 2, 3, 4, 5, 6, 7, 8, 9])\n",
    "axs[1][1].set_title(\"Community Degrees\")\n",
    "\n",
    "fig.tight_layout()\n",
    "plt.savefig(\"../figures/sda_graph_results.pdf\", bbox_inches=\"tight\")\n",
    "plt.show()"
   ]
  }
 ],
 "metadata": {
  "kernelspec": {
   "display_name": "Python 3",
   "language": "python",
   "name": "python3"
  },
  "language_info": {
   "codemirror_mode": {
    "name": "ipython",
    "version": 3
   },
   "file_extension": ".py",
   "mimetype": "text/x-python",
   "name": "python",
   "nbconvert_exporter": "python",
   "pygments_lexer": "ipython3",
   "version": "3.8.6"
  }
 },
 "nbformat": 4,
 "nbformat_minor": 5
}
