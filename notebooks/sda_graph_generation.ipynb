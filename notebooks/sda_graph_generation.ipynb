{
 "cells": [
  {
   "cell_type": "code",
   "execution_count": 48,
   "id": "0d3ab454",
   "metadata": {},
   "outputs": [],
   "source": [
    "import sys\n",
    "import pickle\n",
    "from network_model import *\n",
    "from SALib.sample import sobol, saltelli\n",
    "from tqdm import tqdm\n",
    "\n",
    "\n",
    "import matplotlib\n",
    "import matplotlib.pyplot as plt\n",
    "from mpl_toolkits.axes_grid1 import ImageGrid\n",
    "plt.rcParams.update(plt.rcParamsDefault)\n",
    "plt.rcParams.update({\"font.size\" : 15,\n",
    "                     \"figure.dpi\" : 100, \n",
    "                     \"grid.alpha\" : 0.3, \n",
    "                     \"axes.grid\": True, \n",
    "                     \"axes.axisbelow\" : True,\n",
    "                     \"figure.figsize\":(8,6),\n",
    "                     \"mathtext.fontset\":\"cm\",\n",
    "                     \"xtick.labelsize\": 14,\n",
    "                     \"ytick.labelsize\": 14,\n",
    "                     \"axes.labelsize\": 16, \n",
    "                     \"legend.fontsize\": 13.5})\n",
    "USE_TEX = False\n",
    "if USE_TEX:\n",
    "    plt.rc(\"text\", usetex=True)\n",
    "    plt.rc(\"text.latex\", preamble=r\"\"\"\n",
    "     \\usepackage{times}\n",
    "     \\usepackage{mathptmx}\"\"\")\n",
    "else:\n",
    "    plt.rc(\"text\", usetex=False)\n",
    "plt.rc(\"font\", family=\"serif\")"
   ]
  },
  {
   "cell_type": "code",
   "execution_count": 42,
   "id": "998b3bdf",
   "metadata": {},
   "outputs": [],
   "source": [
    "def sda_prob(d, a, b):\n",
    "    return 1 / (1 + ((1/b)*d)**a)\n",
    "\n",
    "\n",
    "def sda_graph(P):\n",
    "    G = nx.Graph()\n",
    "    # create nodes\n",
    "    for i in range(1250):\n",
    "        G.add_node(i)\n",
    "    coin_flips = np.random.uniform(size=780625) # 780625 = number of pairwise distances for 1250 agents\n",
    "    k = 0\n",
    "    # add edges probabilistically\n",
    "    for i in range(len(P)):\n",
    "        for j in range(i+1, len(P)):\n",
    "            if P[i][j] > coin_flips[k]:\n",
    "                G.add_edge(i,j)\n",
    "            k += 1  \n",
    "    return G"
   ]
  },
  {
   "cell_type": "code",
   "execution_count": 66,
   "id": "ed2a08a7",
   "metadata": {},
   "outputs": [
    {
     "name": "stderr",
     "output_type": "stream",
     "text": [
      "/var/folders/bj/4q98hxqx4vq6wwm8qqllvxmr0000gn/T/ipykernel_18063/173000835.py:22: DeprecationWarning: `salib.sample.saltelli` will be removed in SALib 1.5. Please use `salib.sample.sobol`\n",
      "  X = saltelli.sample(PROBLEM, NUM_SAMPLES, calc_second_order=False)\n"
     ]
    }
   ],
   "source": [
    "# problem definition\n",
    "PROBLEM = {\n",
    "    \"num_vars\" : 7,\n",
    "    \"names\"    : [\"project_cost\",\n",
    "                  \"gain_right\",\n",
    "                  \"alpha_beta\",\n",
    "                  \"prob_left\",\n",
    "                  \"init_w_scale\",\n",
    "                  \"risk_scale\",\n",
    "                  \"poisson_scale\"],\n",
    "    \"bounds\"   : [[0.01, 2.00],\n",
    "                  [1.70, 2.30],\n",
    "                  [0.70, 0.80],\n",
    "                  [0.30, 0.45],\n",
    "                  [0.01, 0.15],\n",
    "                  [5.00, 20.0],\n",
    "                  [8.00, 20.0]]\n",
    "}\n",
    "\n",
    "# generate Saltelli samples\n",
    "NUM_SAMPLES = 1024\n",
    "X = saltelli.sample(PROBLEM, NUM_SAMPLES, calc_second_order=False)\n",
    "\n",
    "unique_w_scales = sorted(list(set(X[:,4])))"
   ]
  },
  {
   "cell_type": "code",
   "execution_count": 67,
   "id": "7d5f5619",
   "metadata": {
    "scrolled": true
   },
   "outputs": [
    {
     "name": "stderr",
     "output_type": "stream",
     "text": [
      "100%|███████████████████████████████████████████████████████████████████████████████████████████████████████████████████████| 1024/1024 [23:42<00:00,  1.39s/it]\n"
     ]
    }
   ],
   "source": [
    "# set random seed\n",
    "random.seed(123)\n",
    "np.random.seed(123)\n",
    "\n",
    "for scale in tqdm(unique_w_scales):\n",
    "\n",
    "    # create random initial wealth distribution\n",
    "    W = np.random.normal(1, scale, size=1250)\n",
    "\n",
    "    # compute pairwise distances\n",
    "    pairwise_distances = []\n",
    "    for i in range(len(W)):\n",
    "        for j in range(i+1, len(W)):\n",
    "            pairwise_distances.append(np.abs(W[i]-W[j]))\n",
    "    mean_dist = np.mean(pairwise_distances)\n",
    "\n",
    "    # SDA graph parameters\n",
    "    a = 16\n",
    "    b = mean_dist/15\n",
    "    prob_attach = np.zeros((1250,1250))\n",
    "    k = 0\n",
    "    for i in range(len(W)):\n",
    "        for j in range(i+1, len(W)):\n",
    "            p = sda_prob(pairwise_distances[k], a=a, b=b)\n",
    "            prob_attach[i][j] = p\n",
    "            prob_attach[j][i] = p\n",
    "            k+=1\n",
    "    G = sda_graph(prob_attach)\n",
    "\n",
    "    # ensure that graph is connected\n",
    "    connected_components = list(nx.connected_components(G))\n",
    "    largest_component = list(connected_components[0])\n",
    "    largest_component_wealths = W[np.array(largest_component)]\n",
    "    for i in range(1, len(connected_components)):\n",
    "        comp = list(connected_components[i])\n",
    "        node = np.random.choice(comp)\n",
    "        closest_largest_component_node = (np.abs(largest_component_wealths - W[node])).argmin()\n",
    "        G.add_edge(node, largest_component[closest_largest_component_node])\n",
    "    assert nx.is_connected(G)\n",
    "\n",
    "    # extract communities and construct community membership dictionary\n",
    "    communities = get_communities(G)\n",
    "    community_membership = get_community_membership(G, communities)\n",
    "\n",
    "    # store results\n",
    "    data_tuple = (G, communities, community_membership, W)\n",
    "    with open(f\"./sda_graphs/{scale}.pickle\", \"wb\") as f:\n",
    "        pickle.dump(data_tuple, f)"
   ]
  }
 ],
 "metadata": {
  "kernelspec": {
   "display_name": "Python 3 (ipykernel)",
   "language": "python",
   "name": "python3"
  },
  "language_info": {
   "codemirror_mode": {
    "name": "ipython",
    "version": 3
   },
   "file_extension": ".py",
   "mimetype": "text/x-python",
   "name": "python",
   "nbconvert_exporter": "python",
   "pygments_lexer": "ipython3",
   "version": "3.10.10"
  }
 },
 "nbformat": 4,
 "nbformat_minor": 5
}
