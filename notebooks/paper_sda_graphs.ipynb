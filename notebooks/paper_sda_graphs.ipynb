{
 "cells": [
  {
   "cell_type": "code",
   "execution_count": 1,
   "id": "b8c3a3cb",
   "metadata": {},
   "outputs": [],
   "source": [
    "import sys; sys.path.append(\"../\")\n",
    "\n",
    "import os\n",
    "import sys\n",
    "import pickle\n",
    "from model import *\n",
    "from SALib.sample import sobol, saltelli\n",
    "from tqdm import tqdm\n",
    "\n",
    "\n",
    "import matplotlib\n",
    "import matplotlib.pyplot as plt\n",
    "from mpl_toolkits.axes_grid1 import ImageGrid\n",
    "plt.rcParams.update(plt.rcParamsDefault)\n",
    "plt.rcParams.update({\"font.size\" : 15,\n",
    "                     \"figure.dpi\" : 100, \n",
    "                     \"grid.alpha\" : 0.3, \n",
    "                     \"axes.grid\": True, \n",
    "                     \"axes.axisbelow\" : True,\n",
    "                     \"figure.figsize\":(8,6),\n",
    "                     \"mathtext.fontset\":\"cm\",\n",
    "                     \"xtick.labelsize\": 14,\n",
    "                     \"ytick.labelsize\": 14,\n",
    "                     \"axes.labelsize\": 16, \n",
    "                     \"legend.fontsize\": 13.5})\n",
    "USE_TEX = False\n",
    "if USE_TEX:\n",
    "    plt.rc(\"text\", usetex=True)\n",
    "    plt.rc(\"text.latex\", preamble=r\"\"\"\n",
    "     \\usepackage{times}\n",
    "     \\usepackage{mathptmx}\"\"\")\n",
    "else:\n",
    "    plt.rc(\"text\", usetex=False)\n",
    "plt.rc(\"font\", family=\"serif\")"
   ]
  },
  {
   "cell_type": "code",
   "execution_count": 25,
   "id": "5b367310",
   "metadata": {},
   "outputs": [],
   "source": [
    "N = 100\n",
    "mu = 10\n",
    "sigma = 1\n",
    "w = np.random.normal(mu, sigma, N)"
   ]
  },
  {
   "cell_type": "code",
   "execution_count": 82,
   "id": "977c543b",
   "metadata": {},
   "outputs": [],
   "source": [
    "G = construct_sda_graph(w, alpha=4, b=1/15)"
   ]
  },
  {
   "cell_type": "code",
   "execution_count": 83,
   "id": "92d8f1b9",
   "metadata": {},
   "outputs": [],
   "source": [
    "# construct communities and augmented communities\n",
    "communities = get_communities(G)\n",
    "community_membership = get_community_membership(G, communities)\n",
    "\n",
    "augmented_communities = {}\n",
    "for agent in community_membership:\n",
    "    comms = community_membership[agent]\n",
    "    for c in comms:\n",
    "        if c not in augmented_communities:\n",
    "            augmented_communities[c] = {agent}\n",
    "        else:\n",
    "            augmented_communities[c].add(agent) \n",
    "augmented_communities = {k:np.array(list(v)) for k,v in augmented_communities.items()}\n",
    "del augmented_communities[max(augmented_communities.keys())]"
   ]
  },
  {
   "cell_type": "code",
   "execution_count": 84,
   "id": "3a817b6b",
   "metadata": {},
   "outputs": [],
   "source": [
    "# get community adjacency matrix and degree distribution\n",
    "adjacency = dict((n, set(nbrdict.keys())) for n, nbrdict in G.adjacency())\n",
    "node_community_map = get_node_community_map(communities)\n",
    "\n",
    "community_adjacency = {}\n",
    "for i,c in enumerate(communities):\n",
    "    community_adjacency[i] = set()\n",
    "    for node in c:\n",
    "        node_neighbours = adjacency[node]\n",
    "        for neighbour in node_neighbours:\n",
    "            neighbouring_community = node_community_map[neighbour]\n",
    "            if neighbouring_community != i:\n",
    "                community_adjacency[i].add(neighbouring_community)\n",
    "comm_degrees = [len(x) for x in list(community_adjacency.values())]"
   ]
  },
  {
   "cell_type": "code",
   "execution_count": 91,
   "id": "2445d224",
   "metadata": {},
   "outputs": [
    {
     "data": {
      "text/plain": [
       "16"
      ]
     },
     "execution_count": 91,
     "metadata": {},
     "output_type": "execute_result"
    },
    {
     "data": {
      "image/png": "[encoded data removed]",
      "text/plain": [
       "<Figure size 432x288 with 1 Axes>"
      ]
     },
     "metadata": {},
     "output_type": "display_data"
    }
   ],
   "source": [
    "nx.draw(G)\n",
    "len(augmented_communities)"
   ]
  },
  {
   "cell_type": "code",
   "execution_count": 92,
   "id": "dcd3c771",
   "metadata": {},
   "outputs": [
    {
     "data": {
      "text/plain": [
       "{0: array([96, 33, 67, 41, 74, 48, 81, 84, 93, 30]),\n",
       " 14: array([34, 67, 12, 85, 21, 94, 57, 93, 30]),\n",
       " 9: array([ 0, 11, 81, 84, 63]),\n",
       " 1: array([73,  1, 99, 20]),\n",
       " 11: array([ 1,  6, 71, 73, 82, 51, 87, 62]),\n",
       " 12: array([ 1, 15, 20, 25, 26]),\n",
       " 2: array([ 2, 66, 36,  3, 70,  5,  8,  9, 42, 79, 17, 18, 31]),\n",
       " 5: array([ 3,  5, 39,  9, 31]),\n",
       " 7: array([ 4, 72,  9,  8, 76, 77, 54, 59]),\n",
       " 3: array([ 7, 10, 16, 19, 21, 23, 27, 28, 34, 38, 44, 47, 53, 58, 60, 68, 69,\n",
       "        85, 88, 89, 90, 97, 98]),\n",
       " 13: array([ 8, 14, 16, 24, 28, 40, 44, 46, 47, 49, 52, 54, 55, 58, 61, 64, 65,\n",
       "        76, 80, 83, 92]),\n",
       " 4: array([ 8, 91,  4]),\n",
       " 6: array([32, 37, 72,  8, 43, 45]),\n",
       " 8: array([50, 43, 45]),\n",
       " 15: array([35, 75, 13, 81, 63, 86, 56, 29, 95]),\n",
       " 10: array([ 0,  6, 73, 75, 11, 78, 82, 51, 22, 29])}"
      ]
     },
     "execution_count": 92,
     "metadata": {},
     "output_type": "execute_result"
    }
   ],
   "source": [
    "augmented_communities"
   ]
  },
  {
   "cell_type": "code",
   "execution_count": 93,
   "id": "368e83c1",
   "metadata": {},
   "outputs": [
    {
     "data": {
      "text/plain": [
       "94.43268587201646"
      ]
     },
     "execution_count": 93,
     "metadata": {},
     "output_type": "execute_result"
    }
   ],
   "source": [
    "np.sum(w[augmented_communities[0]])"
   ]
  },
  {
   "cell_type": "code",
   "execution_count": 98,
   "id": "f2393a07",
   "metadata": {},
   "outputs": [
    {
     "data": {
      "text/plain": [
       "34.20291252923316"
      ]
     },
     "execution_count": 98,
     "metadata": {},
     "output_type": "execute_result"
    }
   ],
   "source": [
    "np.sum(w[augmented_communities[4]])"
   ]
  },
  {
   "cell_type": "code",
   "execution_count": null,
   "id": "732a235d",
   "metadata": {},
   "outputs": [],
   "source": []
  }
 ],
 "metadata": {
  "kernelspec": {
   "display_name": "Python 3",
   "language": "python",
   "name": "python3"
  },
  "language_info": {
   "codemirror_mode": {
    "name": "ipython",
    "version": 3
   },
   "file_extension": ".py",
   "mimetype": "text/x-python",
   "name": "python",
   "nbconvert_exporter": "python",
   "pygments_lexer": "ipython3",
   "version": "3.8.6"
  }
 },
 "nbformat": 4,
 "nbformat_minor": 5
}
