{
 "cells": [
  {
   "cell_type": "code",
   "execution_count": 22,
   "id": "7aaab9af",
   "metadata": {},
   "outputs": [],
   "source": [
    "from SALib.sample import saltelli\n",
    "from tqdm.auto import tqdm\n",
    "import numpy as np\n",
    "import pickle\n",
    "import time\n",
    "import lzma\n",
    "import sys\n",
    "import os\n",
    "\n",
    "import matplotlib\n",
    "import matplotlib.pyplot as plt\n",
    "import matplotlib.patches as mpatches\n",
    "plt.rcParams.update(plt.rcParamsDefault)\n",
    "plt.rcParams.update({\"font.size\" : 15,\n",
    "                     \"figure.dpi\" : 100, \n",
    "                     \"grid.alpha\" : 0.3, \n",
    "                     \"axes.grid\": True, \n",
    "                     \"axes.axisbelow\" : True,\n",
    "                     \"figure.figsize\":(8,6),\n",
    "                     \"mathtext.fontset\":\"cm\",\n",
    "                     \"xtick.labelsize\": 14,\n",
    "                     \"ytick.labelsize\": 14,\n",
    "                     \"axes.labelsize\": 16, \n",
    "                     \"legend.fontsize\": 13.5})\n",
    "\n",
    "plt.rc(\"text\", usetex=False)\n",
    "plt.rc(\"font\", family=\"serif\")"
   ]
  },
  {
   "cell_type": "code",
   "execution_count": 2,
   "id": "527323d2",
   "metadata": {},
   "outputs": [],
   "source": [
    "def GINI(x):\n",
    "    mad = np.abs(np.subtract.outer(x, x)).mean()\n",
    "    mean = np.mean(x) or 1\n",
    "    rmad = mad/mean\n",
    "    g = 0.5 * rmad\n",
    "    return g"
   ]
  },
  {
   "cell_type": "code",
   "execution_count": 3,
   "id": "e22f24ab",
   "metadata": {},
   "outputs": [
    {
     "name": "stderr",
     "output_type": "stream",
     "text": [
      "<ipython-input-3-1647d18ac9f5>:18: DeprecationWarning: `salib.sample.saltelli` will be removed in SALib 1.5. Please use `salib.sample.sobol`\n",
      "  X = saltelli.sample(PROBLEM, NUM_SAMPLES, calc_second_order=False)\n"
     ]
    }
   ],
   "source": [
    "# problem definition\n",
    "PROBLEM = {\n",
    "    \"num_vars\" : 5,\n",
    "    \"names\"    : [\"theta\",\n",
    "                  \"gain_right\",\n",
    "                  \"saving_prop\",\n",
    "                  \"prob_left\",\n",
    "                  \"alpha\"],\n",
    "    \"bounds\"   : [[0.05, 0.95],\n",
    "                  [1.70, 8.00],\n",
    "                  [0.70, 0.80],\n",
    "                  [0.30, 0.45],\n",
    "                  [2.00, 12.0]]\n",
    "}\n",
    "\n",
    "# generate Saltelli samples\n",
    "NUM_SAMPLES = 1024\n",
    "X = saltelli.sample(PROBLEM, NUM_SAMPLES, calc_second_order=False)"
   ]
  },
  {
   "cell_type": "code",
   "execution_count": 4,
   "id": "37da4116",
   "metadata": {},
   "outputs": [],
   "source": [
    "os.chdir(\"../\")\n",
    "import cpt_optimisation"
   ]
  },
  {
   "cell_type": "code",
   "execution_count": 9,
   "id": "e27f35a9",
   "metadata": {},
   "outputs": [],
   "source": [
    "folders = [x for x in os.listdir(\"DATA/nodebt/\") if \"DS_\" not in x]\n",
    "folders = sorted(folders, key=lambda x: int(x.split(\"_\")[-1]))\n",
    "num_agents = 1225"
   ]
  },
  {
   "cell_type": "code",
   "execution_count": 10,
   "id": "4d9276eb",
   "metadata": {
    "collapsed": true
   },
   "outputs": [
    {
     "name": "stdout",
     "output_type": "stream",
     "text": [
      "0.00 | new_model_runs_paper_0\n"
     ]
    },
    {
     "data": {
      "application/vnd.jupyter.widget-view+json": {
       "model_id": "ae57a94c91ef4f4a80080eeffa0160f9",
       "version_major": 2,
       "version_minor": 0
      },
      "text/plain": [
       "  0%|          | 0/7168 [00:00<?, ?it/s]"
      ]
     },
     "metadata": {},
     "output_type": "display_data"
    },
    {
     "name": "stdout",
     "output_type": "stream",
     "text": [
      "934.27 | new_model_runs_paper_1\n"
     ]
    },
    {
     "data": {
      "application/vnd.jupyter.widget-view+json": {
       "model_id": "ee7af9f864bb478daba560f3451aac83",
       "version_major": 2,
       "version_minor": 0
      },
      "text/plain": [
       "  0%|          | 0/7168 [00:00<?, ?it/s]"
      ]
     },
     "metadata": {},
     "output_type": "display_data"
    },
    {
     "name": "stdout",
     "output_type": "stream",
     "text": [
      "1876.95 | new_model_runs_paper_2\n"
     ]
    },
    {
     "data": {
      "application/vnd.jupyter.widget-view+json": {
       "model_id": "af803d567cf3436580d342a6afea7cd2",
       "version_major": 2,
       "version_minor": 0
      },
      "text/plain": [
       "  0%|          | 0/7168 [00:00<?, ?it/s]"
      ]
     },
     "metadata": {},
     "output_type": "display_data"
    },
    {
     "name": "stdout",
     "output_type": "stream",
     "text": [
      "2752.55 | new_model_runs_paper_3\n"
     ]
    },
    {
     "data": {
      "application/vnd.jupyter.widget-view+json": {
       "model_id": "b8e2ece214424cf4a780e80be404bed7",
       "version_major": 2,
       "version_minor": 0
      },
      "text/plain": [
       "  0%|          | 0/7168 [00:00<?, ?it/s]"
      ]
     },
     "metadata": {},
     "output_type": "display_data"
    },
    {
     "name": "stdout",
     "output_type": "stream",
     "text": [
      "3628.33 | new_model_runs_paper_4\n"
     ]
    },
    {
     "data": {
      "application/vnd.jupyter.widget-view+json": {
       "model_id": "4de31125acf140cd952b6a17e33c7db6",
       "version_major": 2,
       "version_minor": 0
      },
      "text/plain": [
       "  0%|          | 0/7168 [00:00<?, ?it/s]"
      ]
     },
     "metadata": {},
     "output_type": "display_data"
    },
    {
     "name": "stdout",
     "output_type": "stream",
     "text": [
      "4514.30 | new_model_runs_paper_5\n"
     ]
    },
    {
     "data": {
      "application/vnd.jupyter.widget-view+json": {
       "model_id": "be7461032b7a4f67ab4d17a26984a376",
       "version_major": 2,
       "version_minor": 0
      },
      "text/plain": [
       "  0%|          | 0/7168 [00:00<?, ?it/s]"
      ]
     },
     "metadata": {},
     "output_type": "display_data"
    },
    {
     "name": "stdout",
     "output_type": "stream",
     "text": [
      "5382.39 | new_model_runs_paper_6\n"
     ]
    },
    {
     "data": {
      "application/vnd.jupyter.widget-view+json": {
       "model_id": "8baa95291baf409583d1b0ac93e9c22c",
       "version_major": 2,
       "version_minor": 0
      },
      "text/plain": [
       "  0%|          | 0/7168 [00:00<?, ?it/s]"
      ]
     },
     "metadata": {},
     "output_type": "display_data"
    },
    {
     "name": "stdout",
     "output_type": "stream",
     "text": [
      "6245.21 | new_model_runs_paper_7\n"
     ]
    },
    {
     "data": {
      "application/vnd.jupyter.widget-view+json": {
       "model_id": "5cb8a486a4114c37af379b9be71982ec",
       "version_major": 2,
       "version_minor": 0
      },
      "text/plain": [
       "  0%|          | 0/7168 [00:00<?, ?it/s]"
      ]
     },
     "metadata": {},
     "output_type": "display_data"
    },
    {
     "name": "stdout",
     "output_type": "stream",
     "text": [
      "7123.32 | new_model_runs_paper_8\n"
     ]
    },
    {
     "data": {
      "application/vnd.jupyter.widget-view+json": {
       "model_id": "6cd30cfd7e6e46db804f6f2784b7fc1d",
       "version_major": 2,
       "version_minor": 0
      },
      "text/plain": [
       "  0%|          | 0/7168 [00:00<?, ?it/s]"
      ]
     },
     "metadata": {},
     "output_type": "display_data"
    },
    {
     "name": "stdout",
     "output_type": "stream",
     "text": [
      "8024.58 | new_model_runs_paper_9\n"
     ]
    },
    {
     "data": {
      "application/vnd.jupyter.widget-view+json": {
       "model_id": "196b4a07e2b1411488087b386a732f06",
       "version_major": 2,
       "version_minor": 0
      },
      "text/plain": [
       "  0%|          | 0/7168 [00:00<?, ?it/s]"
      ]
     },
     "metadata": {},
     "output_type": "display_data"
    },
    {
     "name": "stdout",
     "output_type": "stream",
     "text": [
      "8890.35 | new_model_runs_paper_10\n"
     ]
    },
    {
     "data": {
      "application/vnd.jupyter.widget-view+json": {
       "model_id": "431c0734b76b40f8b97b841d88c78f09",
       "version_major": 2,
       "version_minor": 0
      },
      "text/plain": [
       "  0%|          | 0/7168 [00:00<?, ?it/s]"
      ]
     },
     "metadata": {},
     "output_type": "display_data"
    },
    {
     "name": "stdout",
     "output_type": "stream",
     "text": [
      "9765.20 | new_model_runs_paper_11\n"
     ]
    },
    {
     "data": {
      "application/vnd.jupyter.widget-view+json": {
       "model_id": "036e5f0d9e784c19be8f95bd47ab81e2",
       "version_major": 2,
       "version_minor": 0
      },
      "text/plain": [
       "  0%|          | 0/7168 [00:00<?, ?it/s]"
      ]
     },
     "metadata": {},
     "output_type": "display_data"
    },
    {
     "name": "stdout",
     "output_type": "stream",
     "text": [
      "10632.97 | new_model_runs_paper_12\n"
     ]
    },
    {
     "data": {
      "application/vnd.jupyter.widget-view+json": {
       "model_id": "e137a05c7eb442e5a5de2cc4d535ea54",
       "version_major": 2,
       "version_minor": 0
      },
      "text/plain": [
       "  0%|          | 0/7168 [00:00<?, ?it/s]"
      ]
     },
     "metadata": {},
     "output_type": "display_data"
    },
    {
     "name": "stdout",
     "output_type": "stream",
     "text": [
      "11520.09 | new_model_runs_paper_13\n"
     ]
    },
    {
     "data": {
      "application/vnd.jupyter.widget-view+json": {
       "model_id": "183f03d86d464ef896b36f0b5c5746e8",
       "version_major": 2,
       "version_minor": 0
      },
      "text/plain": [
       "  0%|          | 0/7168 [00:00<?, ?it/s]"
      ]
     },
     "metadata": {},
     "output_type": "display_data"
    },
    {
     "name": "stdout",
     "output_type": "stream",
     "text": [
      "12406.98 | new_model_runs_paper_14\n"
     ]
    },
    {
     "data": {
      "application/vnd.jupyter.widget-view+json": {
       "model_id": "36ce039602a948639d35ad7de345ba5d",
       "version_major": 2,
       "version_minor": 0
      },
      "text/plain": [
       "  0%|          | 0/7168 [00:00<?, ?it/s]"
      ]
     },
     "metadata": {},
     "output_type": "display_data"
    },
    {
     "name": "stdout",
     "output_type": "stream",
     "text": [
      "13283.21 | new_model_runs_paper_15\n"
     ]
    },
    {
     "data": {
      "application/vnd.jupyter.widget-view+json": {
       "model_id": "d46e34e4498b4dfcaadd6728b2917ab1",
       "version_major": 2,
       "version_minor": 0
      },
      "text/plain": [
       "  0%|          | 0/7168 [00:00<?, ?it/s]"
      ]
     },
     "metadata": {},
     "output_type": "display_data"
    },
    {
     "name": "stdout",
     "output_type": "stream",
     "text": [
      "14155.00 | new_model_runs_paper_16\n"
     ]
    },
    {
     "data": {
      "application/vnd.jupyter.widget-view+json": {
       "model_id": "17cb5a41859b4723b537d90fef622c55",
       "version_major": 2,
       "version_minor": 0
      },
      "text/plain": [
       "  0%|          | 0/7168 [00:00<?, ?it/s]"
      ]
     },
     "metadata": {},
     "output_type": "display_data"
    },
    {
     "name": "stdout",
     "output_type": "stream",
     "text": [
      "15038.95 | new_model_runs_paper_17\n"
     ]
    },
    {
     "data": {
      "application/vnd.jupyter.widget-view+json": {
       "model_id": "a4c8ce2819124e699c050ac659657423",
       "version_major": 2,
       "version_minor": 0
      },
      "text/plain": [
       "  0%|          | 0/7168 [00:00<?, ?it/s]"
      ]
     },
     "metadata": {},
     "output_type": "display_data"
    },
    {
     "name": "stdout",
     "output_type": "stream",
     "text": [
      "15914.33 | new_model_runs_paper_18\n"
     ]
    },
    {
     "data": {
      "application/vnd.jupyter.widget-view+json": {
       "model_id": "28afddb3e94e45d7b14727b4258045a4",
       "version_major": 2,
       "version_minor": 0
      },
      "text/plain": [
       "  0%|          | 0/7168 [00:00<?, ?it/s]"
      ]
     },
     "metadata": {},
     "output_type": "display_data"
    },
    {
     "name": "stdout",
     "output_type": "stream",
     "text": [
      "16792.10 | new_model_runs_paper_19\n"
     ]
    },
    {
     "data": {
      "application/vnd.jupyter.widget-view+json": {
       "model_id": "d41eb60c5a9148e1add8c1ddd2aeb7b3",
       "version_major": 2,
       "version_minor": 0
      },
      "text/plain": [
       "  0%|          | 0/7168 [00:00<?, ?it/s]"
      ]
     },
     "metadata": {},
     "output_type": "display_data"
    }
   ],
   "source": [
    "agent_comm_degrees = {}\n",
    "FINAL_W = np.zeros((20, 7168, 1225), dtype=np.float16)\n",
    "regime = np.zeros((20, 7168))\n",
    "\n",
    "start_t = time.time()\n",
    "\n",
    "for seed_folder in folders:\n",
    "\n",
    "    print(f\"{time.time()-start_t:.2f} | {seed_folder}\")\n",
    "    seed = int(seed_folder.split(\"_\")[-1])\n",
    "    \n",
    "    if seed not in agent_comm_degrees:\n",
    "        agent_comm_degrees[seed] = {}\n",
    "        \n",
    "    files = os.listdir(f\"DATA/nodebt/{seed_folder}\")\n",
    "    files = sorted(files, key=lambda x: int(x.split(\"_\")[1]))\n",
    "    \n",
    "    for f in tqdm(files):\n",
    "        \n",
    "        param_idx = int(f.split(\"_\")[1]) - 1\n",
    "        data = pickle.load(lzma.open(f\"DATA/nodebt/{seed_folder}/{f}\"))\n",
    "        data_W = data[\"W\"]\n",
    "        \n",
    "#         alpha_val = data[\"params\"][4]\n",
    "#         if alpha_val not in agent_comm_degrees[seed]:\n",
    "#             with open(f\"sda_graphs/{seed}_{alpha_val}.pickle\", \"rb\") as sda_file:\n",
    "#                 _, community_membership, _, _ = pickle.load(sda_file)\n",
    "#             agent_comm_degrees[seed][alpha_val] = [len(community_membership[i]) for i in range(num_agents)]\n",
    "\n",
    "        # determine regime\n",
    "        prop_richer = sum(data_W[-1] > data_W[0]) / num_agents\n",
    "        if prop_richer == 0:\n",
    "            regime[seed][param_idx] = 0\n",
    "        elif prop_richer < 1:\n",
    "            regime[seed][param_idx] = 1\n",
    "        else:\n",
    "            regime[seed][param_idx] = 2\n",
    "\n",
    "#         FINAL_W[seed][param_idx] = data_W[-1]"
   ]
  },
  {
   "cell_type": "code",
   "execution_count": 11,
   "id": "d9ef2596",
   "metadata": {},
   "outputs": [],
   "source": [
    "with open(\"regime.pickle\", \"wb\") as f:\n",
    "    pickle.dump(regime, f)"
   ]
  },
  {
   "cell_type": "code",
   "execution_count": 6,
   "id": "f25d8055",
   "metadata": {},
   "outputs": [],
   "source": [
    "with open(\"agent_comm_degrees.pickle\", \"wb\") as f:\n",
    "    pickle.dump(agent_comm_degrees, f)"
   ]
  },
  {
   "cell_type": "code",
   "execution_count": 7,
   "id": "69e4cf6e",
   "metadata": {},
   "outputs": [],
   "source": [
    "with open(\"agent_final_wealths.pickle\", \"wb\") as f:\n",
    "    pickle.dump(FINAL_W, f)"
   ]
  },
  {
   "cell_type": "code",
   "execution_count": null,
   "id": "49a02d9a",
   "metadata": {},
   "outputs": [],
   "source": []
  },
  {
   "cell_type": "code",
   "execution_count": null,
   "id": "a3f3b102",
   "metadata": {},
   "outputs": [],
   "source": []
  },
  {
   "cell_type": "markdown",
   "id": "de269ab9",
   "metadata": {},
   "source": [
    "# Results"
   ]
  },
  {
   "cell_type": "code",
   "execution_count": 145,
   "id": "6530c40c",
   "metadata": {},
   "outputs": [],
   "source": [
    "with open(\"agent_comm_degrees.pickle\", \"rb\") as f:\n",
    "    agent_comm_degrees = pickle.load(f)\n",
    "with open(\"agent_final_wealths.pickle\", \"rb\") as f:\n",
    "    FINAL_W = pickle.load(f)\n",
    "with open(\"regime.pickle\", \"rb\") as f:\n",
    "    regime = pickle.load(f)\n",
    "with open(\"ginis_by_regime.pickle\", \"rb\") as f:\n",
    "    ginis = pickle.load(f)"
   ]
  },
  {
   "cell_type": "code",
   "execution_count": null,
   "id": "9ad5e7f9",
   "metadata": {},
   "outputs": [],
   "source": [
    "fig, axs = plt.subplots(1, 2, figsize=(10,4))\n",
    "regime_name = {0:\"All Poor\", 1:\"Some Rich\", 2:\"All Rich\"}\n",
    "\n",
    "for r in [0,1,2]:\n",
    "    data = FINAL_W[np.where(regime==r)]\n",
    "    axs[0].hist(data.flatten(), histtype=\"step\", bins=20, label=regime_name[r])\n",
    "    axs[1].hist([x for x in ginis[r] if 0<=x<=1], histtype=\"step\", bins=15, label=regime_name[r])\n",
    "    \n",
    "axs[0].set_yscale(\"log\")\n",
    "axs[0].set_xscale(\"log\")\n",
    "axs[0].set_ylabel(\"Count\")\n",
    "axs[0].set_xlabel(\"Agent Final Wealth\")\n",
    "\n",
    "axs[1].set_yscale(\"log\")\n",
    "axs[1].set_xlabel(\"Gini Index (entire population)\")\n",
    "\n",
    "handles, labels = plt.gca().get_legend_handles_labels()\n",
    "fig.legend(handles, labels, bbox_to_anchor=(0.77, 1.1), ncol=3, shadow=True, title=\"Regime\")\n",
    "plt.savefig(\"agent_final_wealth_gini_distributions.pdf\", bbox_inches=\"tight\")\n",
    "plt.show()"
   ]
  },
  {
   "cell_type": "markdown",
   "id": "4753e84f",
   "metadata": {},
   "source": [
    "# Agent degree analysis"
   ]
  },
  {
   "cell_type": "code",
   "execution_count": 137,
   "id": "1a40e376",
   "metadata": {},
   "outputs": [
    {
     "data": {
      "image/png": "[encoded data removed]",
      "text/plain": [
       "<Figure size 1400x400 with 3 Axes>"
      ]
     },
     "metadata": {},
     "output_type": "display_data"
    }
   ],
   "source": [
    "fig, axs = plt.subplots(1, 3, figsize=(14,4))\n",
    "regime_name = {0:\"All Poor\", 1:\"Some Rich\", 2:\"All Rich\"}\n",
    "colors = {2:\"dodgerblue\", 4:\"crimson\", 6:\"black\", 8:\"forestgreen\"}\n",
    "target_degs = {0:[2,4,6], 1:[2,4,8], 2:[2,4,6,8]}\n",
    "\n",
    "for r in range(3):\n",
    "    idx = np.where(regime==r)\n",
    "    alpha_vals = [X[i][4] for i in idx[1]]\n",
    "    \n",
    "    for d in target_degs[r]:\n",
    "        vals = []\n",
    "        for i,row in enumerate(FINAL_W[idx]):\n",
    "            degs = agent_comm_degrees[idx[0][i]][alpha_vals[i]]\n",
    "            d_idx = np.array([i for i in range(len(degs)) if degs[i]==d])\n",
    "            if len(d_idx):\n",
    "                vals.append(row[d_idx])\n",
    "        vals = np.concatenate(vals)\n",
    "        axs[r].hist(vals, histtype=\"step\", bins=30, label=d, color=colors[d])\n",
    "        axs[r].set_yscale(\"log\")\n",
    "    \n",
    "    axs[r].set_title(regime_name[r])\n",
    "    axs[r].set_xlabel(\"Agent Final Wealth\")\n",
    "    if r == 0:\n",
    "        axs[r].set_ylabel(\"Count\")\n",
    "\n",
    "plt.tight_layout(rect=[0, 0, 1, 0.95])\n",
    "handles, labels = plt.gca().get_legend_handles_labels()\n",
    "fig.legend(handles, labels, bbox_to_anchor=(0.66, 1.12), ncol=4, \n",
    "           title=\"Agent Degree (# communities)\", shadow=True)\n",
    "plt.savefig(\"agent_degree_wealth_distributions.pdf\", bbox_inches=\"tight\")\n",
    "plt.show()"
   ]
  },
  {
   "cell_type": "code",
   "execution_count": null,
   "id": "e675ea56",
   "metadata": {},
   "outputs": [],
   "source": []
  },
  {
   "cell_type": "code",
   "execution_count": null,
   "id": "9ac4ce9a",
   "metadata": {},
   "outputs": [],
   "source": []
  }
 ],
 "metadata": {
  "kernelspec": {
   "display_name": "Python 3",
   "language": "python",
   "name": "python3"
  },
  "language_info": {
   "codemirror_mode": {
    "name": "ipython",
    "version": 3
   },
   "file_extension": ".py",
   "mimetype": "text/x-python",
   "name": "python",
   "nbconvert_exporter": "python",
   "pygments_lexer": "ipython3",
   "version": "3.8.6"
  }
 },
 "nbformat": 4,
 "nbformat_minor": 5
}
