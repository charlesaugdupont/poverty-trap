{
 "cells": [
  {
   "cell_type": "code",
   "execution_count": 6,
   "id": "2f17971c",
   "metadata": {},
   "outputs": [],
   "source": [
    "import pickle\n",
    "import numpy as np\n",
    "import networkx as nx\n",
    "from network_model import get_communities, get_community_membership"
   ]
  },
  {
   "cell_type": "code",
   "execution_count": 13,
   "id": "c3e544c0",
   "metadata": {},
   "outputs": [],
   "source": [
    "with open(\"./graph.pickle\", \"rb\") as f:\n",
    "    G = pickle.load(f)"
   ]
  },
  {
   "cell_type": "code",
   "execution_count": 14,
   "id": "25f1f9d3",
   "metadata": {},
   "outputs": [],
   "source": [
    "communities = get_communities(G)\n",
    "community_membership = get_community_membership(G, communities)"
   ]
  },
  {
   "cell_type": "code",
   "execution_count": 15,
   "id": "303ca906",
   "metadata": {},
   "outputs": [],
   "source": [
    "augmented_communities = {}\n",
    "for agent in community_membership:\n",
    "    comms = community_membership[agent]\n",
    "    for c in comms:\n",
    "        if c not in augmented_communities:\n",
    "            augmented_communities[c] = {agent}\n",
    "        else:\n",
    "            augmented_communities[c].add(agent)"
   ]
  },
  {
   "cell_type": "code",
   "execution_count": 16,
   "id": "d1ba972a",
   "metadata": {},
   "outputs": [],
   "source": [
    "augmented_communities = {k:np.array(list(v)) for k,v in augmented_communities.items()}"
   ]
  },
  {
   "cell_type": "code",
   "execution_count": 17,
   "id": "deedf202",
   "metadata": {},
   "outputs": [],
   "source": [
    "with open(\"augmented_communities.pickle\", 'wb') as f:\n",
    "    pickle.dump(augmented_communities, f)"
   ]
  },
  {
   "cell_type": "markdown",
   "id": "f1152acb",
   "metadata": {},
   "source": [
    "___"
   ]
  },
  {
   "cell_type": "code",
   "execution_count": 52,
   "id": "4d6de755",
   "metadata": {},
   "outputs": [],
   "source": [
    "with open(\"augmented_communities.pickle\", 'rb') as f:\n",
    "    augmented_communities = pickle.load(f)"
   ]
  },
  {
   "cell_type": "code",
   "execution_count": 53,
   "id": "d98ce000",
   "metadata": {},
   "outputs": [],
   "source": [
    "mapping = {i:[] for i in range(128)}\n",
    "for i, key in enumerate(augmented_communities):\n",
    "    mapping[i%128].append(key)"
   ]
  },
  {
   "cell_type": "code",
   "execution_count": 54,
   "id": "85633813",
   "metadata": {},
   "outputs": [
    {
     "data": {
      "text/plain": [
       "{0: [0, 28, 197],\n",
       " 1: [267, 29, 233],\n",
       " 2: [74, 57, 261],\n",
       " 3: [194, 161, 175],\n",
       " 4: [68, 137, 158],\n",
       " 5: [253, 33, 240],\n",
       " 6: [189, 211, 163],\n",
       " 7: [147, 196, 231],\n",
       " 8: [230, 243, 136],\n",
       " 9: [112, 258, 248],\n",
       " 10: [1, 34, 254],\n",
       " 11: [225, 212, 205],\n",
       " 12: [106, 219],\n",
       " 13: [149, 173],\n",
       " 14: [169, 260],\n",
       " 15: [67, 210],\n",
       " 16: [201, 37],\n",
       " 17: [202, 72],\n",
       " 18: [109, 235],\n",
       " 19: [114, 181],\n",
       " 20: [116, 151],\n",
       " 21: [247, 38],\n",
       " 22: [2, 39],\n",
       " 23: [200, 40],\n",
       " 24: [3, 159],\n",
       " 25: [103, 214],\n",
       " 26: [244, 102],\n",
       " 27: [154, 234],\n",
       " 28: [127, 215],\n",
       " 29: [17, 41],\n",
       " 30: [129, 59],\n",
       " 31: [56, 85],\n",
       " 32: [4, 61],\n",
       " 33: [207, 44],\n",
       " 34: [99, 150],\n",
       " 35: [5, 46],\n",
       " 36: [239, 204],\n",
       " 37: [6, 53],\n",
       " 38: [7, 91],\n",
       " 39: [221, 49],\n",
       " 40: [43, 50],\n",
       " 41: [199, 51],\n",
       " 42: [13, 172],\n",
       " 43: [146, 183],\n",
       " 44: [89, 124],\n",
       " 45: [170, 145],\n",
       " 46: [252, 208],\n",
       " 47: [118, 98],\n",
       " 48: [55, 245],\n",
       " 49: [135, 178],\n",
       " 50: [186, 73],\n",
       " 51: [8, 75],\n",
       " 52: [139, 263],\n",
       " 53: [9, 100],\n",
       " 54: [58, 134],\n",
       " 55: [10, 142],\n",
       " 56: [255, 83],\n",
       " 57: [140, 125],\n",
       " 58: [48, 213],\n",
       " 59: [35, 157],\n",
       " 60: [160, 60],\n",
       " 61: [250, 82],\n",
       " 62: [108, 182],\n",
       " 63: [143, 266],\n",
       " 64: [156, 62],\n",
       " 65: [84, 88],\n",
       " 66: [26, 63],\n",
       " 67: [31, 167],\n",
       " 68: [131, 238],\n",
       " 69: [166, 177],\n",
       " 70: [52, 65],\n",
       " 71: [21, 97],\n",
       " 72: [190, 66],\n",
       " 73: [242, 171],\n",
       " 74: [218, 192],\n",
       " 75: [11, 232],\n",
       " 76: [141, 126],\n",
       " 77: [12, 198],\n",
       " 78: [236, 128],\n",
       " 79: [64, 185],\n",
       " 80: [70, 117],\n",
       " 81: [174, 264],\n",
       " 82: [180, 107],\n",
       " 83: [86, 257],\n",
       " 84: [152, 96],\n",
       " 85: [256, 71],\n",
       " 86: [132, 209],\n",
       " 87: [14, 188],\n",
       " 88: [36, 228],\n",
       " 89: [176, 251],\n",
       " 90: [184, 259],\n",
       " 91: [187, 217],\n",
       " 92: [69, 95],\n",
       " 93: [76, 138],\n",
       " 94: [79, 241],\n",
       " 95: [220, 148],\n",
       " 96: [237, 78],\n",
       " 97: [122, 93],\n",
       " 98: [120, 111],\n",
       " 99: [224, 164],\n",
       " 100: [15, 81],\n",
       " 101: [16, 119],\n",
       " 102: [25, 153],\n",
       " 103: [195, 87],\n",
       " 104: [42, 133],\n",
       " 105: [77, 262],\n",
       " 106: [92, 90],\n",
       " 107: [18, 94],\n",
       " 108: [191, 226],\n",
       " 109: [19, 165],\n",
       " 110: [45, 110],\n",
       " 111: [20, 101],\n",
       " 112: [30, 105],\n",
       " 113: [144, 162],\n",
       " 114: [32, 229],\n",
       " 115: [22, 203],\n",
       " 116: [80, 179],\n",
       " 117: [23, 130],\n",
       " 118: [155, 113],\n",
       " 119: [24, 246],\n",
       " 120: [104, 115],\n",
       " 121: [54, 216],\n",
       " 122: [123, 222],\n",
       " 123: [265, 121],\n",
       " 124: [47, 168],\n",
       " 125: [206, 227],\n",
       " 126: [27, 249],\n",
       " 127: [193, 223]}"
      ]
     },
     "execution_count": 54,
     "metadata": {},
     "output_type": "execute_result"
    }
   ],
   "source": [
    "mapping"
   ]
  },
  {
   "cell_type": "code",
   "execution_count": 55,
   "id": "13760ca0",
   "metadata": {},
   "outputs": [],
   "source": [
    "mapping = {k:np.array(v) for k,v in mapping.items()}"
   ]
  },
  {
   "cell_type": "code",
   "execution_count": 33,
   "id": "8d6c45f6",
   "metadata": {},
   "outputs": [],
   "source": [
    "import pickle, lzma"
   ]
  },
  {
   "cell_type": "code",
   "execution_count": 38,
   "id": "5c246326",
   "metadata": {},
   "outputs": [],
   "source": [
    "seed = 0"
   ]
  },
  {
   "cell_type": "code",
   "execution_count": 40,
   "id": "e95421f0",
   "metadata": {},
   "outputs": [],
   "source": [
    "data = pickle.load(lzma.open(f\"./data/output_directory/{seed}_1.pkl.lzma\"))"
   ]
  },
  {
   "cell_type": "code",
   "execution_count": 37,
   "id": "2531d22d",
   "metadata": {},
   "outputs": [
    {
     "data": {
      "text/plain": [
       "(0.8167312596179545,\n",
       " 1.9872949520125984,\n",
       " 0.7762708559632302,\n",
       " 0.4197058271616697,\n",
       " 0.14899968348443507,\n",
       " 12.013978864997625,\n",
       " 8.560402300208807)"
      ]
     },
     "execution_count": 37,
     "metadata": {},
     "output_type": "execute_result"
    }
   ],
   "source": [
    "data[\"params\"]"
   ]
  }
 ],
 "metadata": {
  "kernelspec": {
   "display_name": "Python 3",
   "language": "python",
   "name": "python3"
  },
  "language_info": {
   "codemirror_mode": {
    "name": "ipython",
    "version": 3
   },
   "file_extension": ".py",
   "mimetype": "text/x-python",
   "name": "python",
   "nbconvert_exporter": "python",
   "pygments_lexer": "ipython3",
   "version": "3.8.6"
  }
 },
 "nbformat": 4,
 "nbformat_minor": 5
}
