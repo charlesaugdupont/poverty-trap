{
 "cells": [
  {
   "cell_type": "code",
   "execution_count": 3,
   "id": "2f17971c",
   "metadata": {},
   "outputs": [],
   "source": [
    "import sys\n",
    "sys.path.append(\"../\")\n",
    "\n",
    "import pickle\n",
    "import numpy as np\n",
    "import networkx as nx\n",
    "from network_model import get_communities, get_community_membership"
   ]
  },
  {
   "cell_type": "code",
   "execution_count": 13,
   "id": "c3e544c0",
   "metadata": {},
   "outputs": [],
   "source": [
    "with open(\"./graph.pickle\", \"rb\") as f:\n",
    "    G = pickle.load(f)"
   ]
  },
  {
   "cell_type": "code",
   "execution_count": 14,
   "id": "25f1f9d3",
   "metadata": {},
   "outputs": [],
   "source": [
    "communities = get_communities(G)\n",
    "community_membership = get_community_membership(G, communities)"
   ]
  },
  {
   "cell_type": "code",
   "execution_count": 15,
   "id": "303ca906",
   "metadata": {},
   "outputs": [],
   "source": [
    "augmented_communities = {}\n",
    "for agent in community_membership:\n",
    "    comms = community_membership[agent]\n",
    "    for c in comms:\n",
    "        if c not in augmented_communities:\n",
    "            augmented_communities[c] = {agent}\n",
    "        else:\n",
    "            augmented_communities[c].add(agent)"
   ]
  },
  {
   "cell_type": "code",
   "execution_count": 16,
   "id": "d1ba972a",
   "metadata": {},
   "outputs": [],
   "source": [
    "augmented_communities = {k:np.array(list(v)) for k,v in augmented_communities.items()}"
   ]
  },
  {
   "cell_type": "code",
   "execution_count": 17,
   "id": "deedf202",
   "metadata": {},
   "outputs": [],
   "source": [
    "with open(\"augmented_communities.pickle\", 'wb') as f:\n",
    "    pickle.dump(augmented_communities, f)"
   ]
  },
  {
   "cell_type": "markdown",
   "id": "f1152acb",
   "metadata": {},
   "source": [
    "___"
   ]
  },
  {
   "cell_type": "code",
   "execution_count": 4,
   "id": "0436274e",
   "metadata": {},
   "outputs": [],
   "source": [
    "with open(\"../random_graph.pickle\", \"rb\") as f:\n",
    "    G = pickle.load(f)"
   ]
  },
  {
   "cell_type": "code",
   "execution_count": 5,
   "id": "247ee7f4",
   "metadata": {},
   "outputs": [],
   "source": [
    "communities = get_communities(G)\n",
    "community_membership = get_community_membership(G, communities)\n",
    "\n",
    "augmented_communities = {}\n",
    "for agent in community_membership:\n",
    "    comms = community_membership[agent]\n",
    "    for c in comms:\n",
    "        if c not in augmented_communities:\n",
    "            augmented_communities[c] = {agent}\n",
    "        else:\n",
    "            augmented_communities[c].add(agent)"
   ]
  },
  {
   "cell_type": "code",
   "execution_count": 7,
   "id": "2126c88b",
   "metadata": {},
   "outputs": [],
   "source": [
    "augmented_communities = {k:np.array(list(v)) for k,v in augmented_communities.items()}"
   ]
  },
  {
   "cell_type": "code",
   "execution_count": 9,
   "id": "b409110c",
   "metadata": {},
   "outputs": [],
   "source": [
    "with open(\"../augmented_communities_random.pickle\", 'wb') as f:\n",
    "    pickle.dump(augmented_communities, f)"
   ]
  }
 ],
 "metadata": {
  "kernelspec": {
   "display_name": "Python 3",
   "language": "python",
   "name": "python3"
  },
  "language_info": {
   "codemirror_mode": {
    "name": "ipython",
    "version": 3
   },
   "file_extension": ".py",
   "mimetype": "text/x-python",
   "name": "python",
   "nbconvert_exporter": "python",
   "pygments_lexer": "ipython3",
   "version": "3.8.6"
  }
 },
 "nbformat": 4,
 "nbformat_minor": 5
}
