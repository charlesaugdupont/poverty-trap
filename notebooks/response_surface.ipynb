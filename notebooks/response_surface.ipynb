{
 "cells": [
  {
   "cell_type": "code",
   "execution_count": 44,
   "metadata": {},
   "outputs": [],
   "source": [
    "import matplotlib\n",
    "import matplotlib.pyplot as plt\n",
    "from mpl_toolkits.axes_grid1 import ImageGrid\n",
    "plt.rcParams.update(plt.rcParamsDefault)\n",
    "plt.rcParams.update({\"font.size\" : 15,\n",
    "                     \"figure.dpi\" : 100, \n",
    "                     \"grid.alpha\" : 0.3,\n",
    "                     \"axes.grid\": True,\n",
    "                     \"axes.axisbelow\" : True,\n",
    "                     \"figure.figsize\":(8,6),\n",
    "                     \"mathtext.fontset\":\"cm\",\n",
    "                     \"xtick.labelsize\": 14,\n",
    "                     \"ytick.labelsize\": 14,\n",
    "                     \"axes.labelsize\": 16, \n",
    "                     \"legend.fontsize\": 13.5})\n",
    "\n",
    "USE_TEX = False\n",
    "if USE_TEX:\n",
    "    plt.rc(\"text\", usetex=True)\n",
    "    plt.rc(\"text.latex\", preamble=r\"\"\"\n",
    "     \\usepackage{times}\n",
    "     \\usepackage{mathptmx}\"\"\")\n",
    "else:\n",
    "    plt.rc(\"text\", usetex=False)\n",
    "plt.rc(\"font\", family=\"serif\")"
   ]
  },
  {
   "cell_type": "code",
   "execution_count": 45,
   "metadata": {},
   "outputs": [],
   "source": [
    "from SALib.sample import sobol\n",
    "from tqdm import tqdm\n",
    "\n",
    "from network_model import *\n",
    "import time\n",
    "\n",
    "from scipy.optimize import minimize\n",
    "\n",
    "from sklearn.model_selection import GridSearchCV\n",
    "from sklearn.ensemble import RandomForestRegressor"
   ]
  },
  {
   "cell_type": "code",
   "execution_count": 47,
   "metadata": {},
   "outputs": [],
   "source": [
    "# define problem\n",
    "PROBLEM = {\n",
    "    \"num_vars\" : 3,\n",
    "    \"names\"    : [\"wealth\", \"return\", \"a\"],\n",
    "    \"bounds\"   : [[0.0, 10],\n",
    "                  [1.0, 1.3],\n",
    "                  [0.1, 0.5]]\n",
    "}\n",
    "\n",
    "# generate Saltelli samples\n",
    "NUM_SAMPLES = 4096\n",
    "X = sobol.sample(PROBLEM, NUM_SAMPLES)"
   ]
  },
  {
   "cell_type": "code",
   "execution_count": 19,
   "metadata": {},
   "outputs": [],
   "source": [
    "def isoelastic(x, eta=1.5):\n",
    "    return x**(1-eta) / (1-eta)"
   ]
  },
  {
   "cell_type": "code",
   "execution_count": 20,
   "metadata": {},
   "outputs": [],
   "source": [
    "def iso_util(x, w, investment_returns, eta, scale):\n",
    "     return - (isoelastic(w*x, eta) + isoelastic(sum(w*(1-x)*investment_returns), eta*scale))"
   ]
  },
  {
   "cell_type": "code",
   "execution_count": 50,
   "metadata": {},
   "outputs": [
    {
     "name": "stderr",
     "output_type": "stream",
     "text": [
      "100%|██████████| 32768/32768 [00:55<00:00, 590.88it/s]\n"
     ]
    }
   ],
   "source": [
    "# prepare dataset\n",
    "consumption = {}\n",
    "for row in tqdm(X):\n",
    "    c = minimize(utility, x0=0.5, bounds=[(0.01, 0.99)], args=(row[0], row[1], row[2], 2.1)).x[0]\n",
    "    consumption[tuple(row)] = c\n",
    "    \n",
    "with open(\"response_surface_data.pickle\", \"wb\") as f:\n",
    "    pickle.dump(consumption, f)\n",
    "\n",
    "X = np.row_stack(list(consumption.keys()))\n",
    "y = np.array(list(consumption.values()))"
   ]
  },
  {
   "cell_type": "code",
   "execution_count": 51,
   "metadata": {},
   "outputs": [
    {
     "data": {
      "image/png": "[encoded data removed]",
      "text/plain": [
       "<Figure size 800x600 with 1 Axes>"
      ]
     },
     "metadata": {},
     "output_type": "display_data"
    }
   ],
   "source": [
    "plt.hist(y)\n",
    "plt.show()"
   ]
  },
  {
   "cell_type": "markdown",
   "metadata": {},
   "source": [
    "# Grid Search"
   ]
  },
  {
   "cell_type": "code",
   "execution_count": 15,
   "metadata": {},
   "outputs": [],
   "source": [
    "rfr = RandomForestRegressor(n_jobs=4)\n",
    "\n",
    "parameters = {\n",
    "    \"n_estimators\":[100,250],\n",
    "    \"max_depth\":[16,32,None],\n",
    "}"
   ]
  },
  {
   "cell_type": "code",
   "execution_count": 16,
   "metadata": {
    "scrolled": true
   },
   "outputs": [
    {
     "name": "stdout",
     "output_type": "stream",
     "text": [
      "Fitting 5 folds for each of 6 candidates, totalling 30 fits\n",
      "[CV 1/5] END ....max_depth=16, n_estimators=100;, score=0.980 total time=  10.0s\n",
      "[CV 2/5] END ....max_depth=16, n_estimators=100;, score=0.995 total time=   8.9s\n",
      "[CV 3/5] END ....max_depth=16, n_estimators=100;, score=0.996 total time=   8.5s\n",
      "[CV 4/5] END ....max_depth=16, n_estimators=100;, score=0.994 total time=   9.0s\n",
      "[CV 5/5] END ....max_depth=16, n_estimators=100;, score=0.988 total time=   8.7s\n",
      "[CV 1/5] END ....max_depth=16, n_estimators=250;, score=0.979 total time=  21.6s\n",
      "[CV 2/5] END ....max_depth=16, n_estimators=250;, score=0.995 total time=  21.4s\n",
      "[CV 3/5] END ....max_depth=16, n_estimators=250;, score=0.996 total time=  24.1s\n",
      "[CV 4/5] END ....max_depth=16, n_estimators=250;, score=0.994 total time=  27.3s\n",
      "[CV 5/5] END ....max_depth=16, n_estimators=250;, score=0.988 total time=  24.0s\n",
      "[CV 1/5] END ....max_depth=32, n_estimators=100;, score=0.981 total time=  10.0s\n",
      "[CV 2/5] END ....max_depth=32, n_estimators=100;, score=0.995 total time=  11.5s\n",
      "[CV 3/5] END ....max_depth=32, n_estimators=100;, score=0.996 total time=  10.5s\n",
      "[CV 4/5] END ....max_depth=32, n_estimators=100;, score=0.994 total time=  10.0s\n",
      "[CV 5/5] END ....max_depth=32, n_estimators=100;, score=0.988 total time=  10.0s\n",
      "[CV 1/5] END ....max_depth=32, n_estimators=250;, score=0.980 total time=  25.4s\n",
      "[CV 2/5] END ....max_depth=32, n_estimators=250;, score=0.995 total time=  26.7s\n",
      "[CV 3/5] END ....max_depth=32, n_estimators=250;, score=0.996 total time=  30.4s\n",
      "[CV 4/5] END ....max_depth=32, n_estimators=250;, score=0.995 total time=  28.7s\n",
      "[CV 5/5] END ....max_depth=32, n_estimators=250;, score=0.988 total time=  31.4s\n",
      "[CV 1/5] END ..max_depth=None, n_estimators=100;, score=0.982 total time=  12.4s\n",
      "[CV 2/5] END ..max_depth=None, n_estimators=100;, score=0.995 total time=  12.1s\n",
      "[CV 3/5] END ..max_depth=None, n_estimators=100;, score=0.996 total time=  11.0s\n",
      "[CV 4/5] END ..max_depth=None, n_estimators=100;, score=0.994 total time=  11.6s\n",
      "[CV 5/5] END ..max_depth=None, n_estimators=100;, score=0.988 total time=  13.5s\n",
      "[CV 1/5] END ..max_depth=None, n_estimators=250;, score=0.980 total time=  28.1s\n",
      "[CV 2/5] END ..max_depth=None, n_estimators=250;, score=0.995 total time=  27.6s\n",
      "[CV 3/5] END ..max_depth=None, n_estimators=250;, score=0.996 total time=  33.7s\n",
      "[CV 4/5] END ..max_depth=None, n_estimators=250;, score=0.995 total time=  33.0s\n",
      "[CV 5/5] END ..max_depth=None, n_estimators=250;, score=0.988 total time=  33.6s\n"
     ]
    },
    {
     "data": {
      "text/plain": [
       "GridSearchCV(cv=5, estimator=RandomForestRegressor(n_jobs=4),\n",
       "             param_grid={'max_depth': [16, 32, None],\n",
       "                         'n_estimators': [100, 250]},\n",
       "             verbose=3)"
      ]
     },
     "execution_count": 16,
     "metadata": {},
     "output_type": "execute_result"
    }
   ],
   "source": [
    "cv = GridSearchCV(rfr,parameters, cv=5, verbose=3)\n",
    "cv.fit(X, y)"
   ]
  },
  {
   "cell_type": "code",
   "execution_count": null,
   "metadata": {},
   "outputs": [],
   "source": [
    "print(cv.best_params_)\n",
    "print(cv.best_score_)\n",
    "\n",
    "with open(\"rfr.pickle\", \"wb\") as f:\n",
    "    pickle.dump(cv.best_estimator_, f)"
   ]
  },
  {
   "cell_type": "code",
   "execution_count": null,
   "metadata": {},
   "outputs": [],
   "source": []
  },
  {
   "cell_type": "code",
   "execution_count": 52,
   "metadata": {},
   "outputs": [],
   "source": [
    "rfr = RandomForestRegressor(n_jobs=4, max_depth=None, n_estimators=250)"
   ]
  },
  {
   "cell_type": "code",
   "execution_count": 53,
   "metadata": {},
   "outputs": [
    {
     "data": {
      "text/plain": [
       "RandomForestRegressor(n_estimators=250, n_jobs=4)"
      ]
     },
     "execution_count": 53,
     "metadata": {},
     "output_type": "execute_result"
    }
   ],
   "source": [
    "rfr.fit(X,y)"
   ]
  },
  {
   "cell_type": "code",
   "execution_count": 54,
   "metadata": {},
   "outputs": [
    {
     "name": "stdout",
     "output_type": "stream",
     "text": [
      "3.030632256312642e-05 0.0002892580200198891\n",
      "0\n"
     ]
    },
    {
     "data": {
      "image/png": "[encoded data removed]",
      "text/plain": [
       "<Figure size 800x600 with 1 Axes>"
      ]
     },
     "metadata": {},
     "output_type": "display_data"
    }
   ],
   "source": [
    "preds = rfr.predict(X)\n",
    "delta = np.abs(preds - y)\n",
    "print(np.mean(delta), np.max(delta))\n",
    "print(len([x for x in delta if x > 0.05]))\n",
    "\n",
    "plt.hist(delta, bins=100, color=\"dodgerblue\", edgecolor='k')\n",
    "plt.show()"
   ]
  },
  {
   "cell_type": "code",
   "execution_count": 70,
   "metadata": {},
   "outputs": [],
   "source": [
    "with open(\"rfr.pickle\", \"wb\") as f:\n",
    "    pickle.dump(rfr, f)"
   ]
  },
  {
   "cell_type": "code",
   "execution_count": null,
   "metadata": {},
   "outputs": [],
   "source": []
  },
  {
   "cell_type": "markdown",
   "metadata": {},
   "source": [
    "## Some unit testing"
   ]
  },
  {
   "cell_type": "code",
   "execution_count": 392,
   "metadata": {},
   "outputs": [
    {
     "data": {
      "text/plain": [
       "['wealth', 'return', 'a', 'gamma']"
      ]
     },
     "execution_count": 392,
     "metadata": {},
     "output_type": "execute_result"
    }
   ],
   "source": [
    "[\"wealth\", \"return\", \"a\"]"
   ]
  },
  {
   "cell_type": "code",
   "execution_count": 72,
   "metadata": {},
   "outputs": [
    {
     "name": "stdout",
     "output_type": "stream",
     "text": [
      "Actual    : 0.14028\n",
      "Predicted : 0.26037\n"
     ]
    }
   ],
   "source": [
    "x = (0.7, 1.1, 0.02, 2.1)\n",
    "\n",
    "print(f\"Actual    : {minimize(utility, x0=0.5, bounds=[(0.05, 0.95)], args=(x)).x[0]:.5f}\")\n",
    "print(f\"Predicted : {rfr.predict(np.array(x[:-1]).reshape(1,3))[0]:.5f}\")"
   ]
  },
  {
   "cell_type": "code",
   "execution_count": null,
   "metadata": {},
   "outputs": [],
   "source": []
  },
  {
   "cell_type": "code",
   "execution_count": null,
   "metadata": {},
   "outputs": [],
   "source": []
  },
  {
   "cell_type": "code",
   "execution_count": 36,
   "metadata": {},
   "outputs": [],
   "source": [
    "from scipy.spatial import KDTree"
   ]
  },
  {
   "cell_type": "code",
   "execution_count": 37,
   "metadata": {},
   "outputs": [],
   "source": [
    "tree = KDTree(X)"
   ]
  },
  {
   "cell_type": "code",
   "execution_count": 38,
   "metadata": {},
   "outputs": [
    {
     "data": {
      "text/plain": [
       "(0.9388342019893609, 3271)"
      ]
     },
     "execution_count": 38,
     "metadata": {},
     "output_type": "execute_result"
    }
   ],
   "source": [
    "tree.query(np.array((0.7, 0.078, 1.4, 1.2)))"
   ]
  },
  {
   "cell_type": "code",
   "execution_count": 39,
   "metadata": {},
   "outputs": [
    {
     "data": {
      "text/plain": [
       "array([0.60805041, 1.00875108, 1.43308939, 1.12541818])"
      ]
     },
     "execution_count": 39,
     "metadata": {},
     "output_type": "execute_result"
    }
   ],
   "source": [
    "X[3271]"
   ]
  },
  {
   "cell_type": "code",
   "execution_count": 40,
   "metadata": {},
   "outputs": [
    {
     "data": {
      "text/plain": [
       "0.46573125021514805"
      ]
     },
     "execution_count": 40,
     "metadata": {},
     "output_type": "execute_result"
    }
   ],
   "source": [
    "y[3271]"
   ]
  },
  {
   "cell_type": "code",
   "execution_count": null,
   "metadata": {},
   "outputs": [],
   "source": []
  }
 ],
 "metadata": {
  "kernelspec": {
   "display_name": "Python 3",
   "language": "python",
   "name": "python3"
  },
  "language_info": {
   "codemirror_mode": {
    "name": "ipython",
    "version": 3
   },
   "file_extension": ".py",
   "mimetype": "text/x-python",
   "name": "python",
   "nbconvert_exporter": "python",
   "pygments_lexer": "ipython3",
   "version": "3.8.6"
  }
 },
 "nbformat": 4,
 "nbformat_minor": 4
}
