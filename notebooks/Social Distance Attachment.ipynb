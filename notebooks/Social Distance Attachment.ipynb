{
 "cells": [
  {
   "cell_type": "code",
   "execution_count": 68,
   "id": "a957317c",
   "metadata": {},
   "outputs": [],
   "source": [
    "import sys; sys.path.append(\"../\")\n",
    "from network_model import get_communities, get_community_membership, get_node_community_map\n",
    "\n",
    "from tqdm import tqdm\n",
    "import networkx as nx\n",
    "import numpy as np\n",
    "import pickle\n",
    "\n",
    "import matplotlib\n",
    "import matplotlib.pyplot as plt\n",
    "from mpl_toolkits.axes_grid1 import ImageGrid\n",
    "plt.rcParams.update(plt.rcParamsDefault)\n",
    "plt.rcParams.update({\"font.size\" : 15,\n",
    "                     \"figure.dpi\" : 100, \n",
    "                     \"grid.alpha\" : 0.3, \n",
    "                     \"axes.grid\": True, \n",
    "                     \"axes.axisbelow\" : True,\n",
    "                     \"figure.figsize\":(8,6),\n",
    "                     \"mathtext.fontset\":\"cm\",\n",
    "                     \"xtick.labelsize\": 14,\n",
    "                     \"ytick.labelsize\": 14,\n",
    "                     \"axes.labelsize\": 16, \n",
    "                     \"legend.fontsize\": 13.5})\n",
    "USE_TEX = False\n",
    "if USE_TEX:\n",
    "    plt.rc(\"text\", usetex=True)\n",
    "    plt.rc(\"text.latex\", preamble=r\"\"\"\n",
    "     \\usepackage{times}\n",
    "     \\usepackage{mathptmx}\"\"\")\n",
    "else:\n",
    "    plt.rc(\"text\", usetex=False)\n",
    "plt.rc(\"font\", family=\"serif\")"
   ]
  },
  {
   "cell_type": "code",
   "execution_count": 234,
   "id": "75f01a7e",
   "metadata": {},
   "outputs": [],
   "source": [
    "def sda_prob(d, a=8, b=3):\n",
    "    return 1 / (1 + ((1/b)*d)**a)"
   ]
  },
  {
   "cell_type": "code",
   "execution_count": 235,
   "id": "e3abe4bb",
   "metadata": {},
   "outputs": [],
   "source": [
    "def build_graph(P):\n",
    "    G = nx.Graph()\n",
    "    for i in range(1250):\n",
    "        G.add_node(i)\n",
    "        \n",
    "    coin_flips = np.random.uniform(size=780625)\n",
    "    k = 0\n",
    "    for i in range(len(P)):\n",
    "        for j in range(i+1, len(P)):\n",
    "            if P[i][j] > coin_flips[k]:\n",
    "                G.add_edge(i,j)\n",
    "            k += 1\n",
    "            \n",
    "    return G"
   ]
  },
  {
   "cell_type": "code",
   "execution_count": 242,
   "id": "3fd61396",
   "metadata": {},
   "outputs": [
    {
     "name": "stderr",
     "output_type": "stream",
     "text": [
      "  0%|          | 0/5 [00:01<?, ?it/s]"
     ]
    },
    {
     "name": "stdout",
     "output_type": "stream",
     "text": [
      "a = 16, b = 0.001 : 33\n"
     ]
    },
    {
     "name": "stderr",
     "output_type": "stream",
     "text": [
      "\n"
     ]
    }
   ],
   "source": [
    "W = np.random.normal(1, 0.02, size=1250)\n",
    "pairwise_distances = []\n",
    "for i in range(len(W)):\n",
    "    for j in range(i+1, len(W)):\n",
    "        pairwise_distances.append(np.abs(W[i]-W[j]))\n",
    "\n",
    "\n",
    "mean_dist = np.mean(pairwise_distances)\n",
    "\n",
    "for b in tqdm(np.linspace(mean_dist/15, mean_dist/10, 5)):\n",
    "    for a in [16, 20]:\n",
    "        prob_attach = np.zeros((1250,1250))\n",
    "        k=0\n",
    "        for i in range(len(W)):\n",
    "            for j in range(i+1,len(W)):\n",
    "                p = sda_prob(pairwise_distances[k], a=a, b=b)\n",
    "                prob_attach[i][j] = p\n",
    "                prob_attach[j][i] = p\n",
    "                k+=1\n",
    "        G = build_graph(prob_attach)\n",
    "        communities = get_communities(G)\n",
    "        print(f\"a = {a}, b = {b:.3f} : {len(communities)}\")\n",
    "        break\n",
    "    break\n",
    "\n",
    "\n",
    "# ensure that graph is connected\n",
    "connected_components = list(nx.connected_components(G))\n",
    "largest_component = list(connected_components[0])\n",
    "\n",
    "largest_component_wealths = W[np.array(largest_component)]\n",
    "\n",
    "for i in range(1, len(connected_components)):\n",
    "    comp = list(connected_components[i])\n",
    "    node = np.random.choice(comp)\n",
    "    closest_largest_component_node = (np.abs(largest_component_wealths - W[node])).argmin()\n",
    "    G.add_edge(node, largest_component[closest_largest_component_node])\n",
    "    \n",
    "communities = get_communities(G)\n",
    "community_membership = get_community_membership(G, communities)"
   ]
  },
  {
   "cell_type": "code",
   "execution_count": null,
   "id": "34c9ff07",
   "metadata": {},
   "outputs": [],
   "source": []
  },
  {
   "cell_type": "code",
   "execution_count": null,
   "id": "14953ca0",
   "metadata": {},
   "outputs": [],
   "source": []
  },
  {
   "cell_type": "code",
   "execution_count": 169,
   "id": "6542c9ef",
   "metadata": {},
   "outputs": [],
   "source": [
    "W = np.random.normal(1, 0.02, size=1250)\n",
    "pairwise_distances = []\n",
    "for i in range(len(W)):\n",
    "    for j in range(i+1, len(W)):\n",
    "        pairwise_distances.append(np.abs(W[i]-W[j]))"
   ]
  },
  {
   "cell_type": "code",
   "execution_count": 204,
   "id": "1e513cce",
   "metadata": {
    "scrolled": false
   },
   "outputs": [
    {
     "name": "stderr",
     "output_type": "stream",
     "text": [
      "  0%|          | 0/5 [00:03<?, ?it/s]"
     ]
    },
    {
     "name": "stdout",
     "output_type": "stream",
     "text": [
      "a = 16, b = 0.001 : 33\n"
     ]
    },
    {
     "name": "stderr",
     "output_type": "stream",
     "text": [
      "\n"
     ]
    }
   ],
   "source": [
    "mean_dist = np.mean(pairwise_distances)\n",
    "\n",
    "for b in tqdm(np.linspace(mean_dist/15, mean_dist/10, 5)):\n",
    "    for a in [16, 20]:\n",
    "        prob_attach = np.zeros((1250,1250))\n",
    "        for i in range(len(W)):\n",
    "            for j in range(i+1,len(W)):\n",
    "                p = sda_prob(W[i], W[j], a=a, b=b)\n",
    "                prob_attach[i][j] = p\n",
    "                prob_attach[j][i] = p\n",
    "        G = build_graph(prob_attach)\n",
    "        communities = get_communities(G)\n",
    "        print(f\"a = {a}, b = {b:.3f} : {len(communities)}\")\n",
    "        break\n",
    "    break"
   ]
  },
  {
   "cell_type": "code",
   "execution_count": 196,
   "id": "3744de96",
   "metadata": {
    "scrolled": false
   },
   "outputs": [],
   "source": [
    "# ensure that graph is connected\n",
    "connected_components = list(nx.connected_components(G))\n",
    "largest_component = list(connected_components[0])\n",
    "\n",
    "largest_component_wealths = W[np.array(largest_component)]\n",
    "\n",
    "for i in range(1, len(connected_components)):\n",
    "    comp = list(connected_components[i])\n",
    "    node = np.random.choice(comp)\n",
    "    \n",
    "    closest_largest_component_node = (np.abs(largest_component_wealths - W[node])).argmin()\n",
    "    G.add_edge(node, largest_component[closest_largest_component_node])\n",
    "    \n",
    "assert nx.is_connected(G)"
   ]
  },
  {
   "cell_type": "code",
   "execution_count": 243,
   "id": "12f712d6",
   "metadata": {},
   "outputs": [],
   "source": [
    "# construct communities and augmented communities\n",
    "communities = get_communities(G)\n",
    "community_membership = get_community_membership(G, communities)\n",
    "\n",
    "augmented_communities = {}\n",
    "for agent in community_membership:\n",
    "    comms = community_membership[agent]\n",
    "    for c in comms:\n",
    "        if c not in augmented_communities:\n",
    "            augmented_communities[c] = {agent}\n",
    "        else:\n",
    "            augmented_communities[c].add(agent) \n",
    "augmented_communities = {k:np.array(list(v)) for k,v in augmented_communities.items()}\n",
    "del augmented_communities[max(augmented_communities.keys())]\n",
    "\n",
    "\n",
    "# get community adjacency matrix and degree distribution\n",
    "adjacency = dict((n, set(nbrdict.keys())) for n, nbrdict in G.adjacency())\n",
    "node_community_map = get_node_community_map(communities)\n",
    "\n",
    "community_adjacency = {}\n",
    "for i,c in enumerate(communities):\n",
    "    community_adjacency[i] = set()\n",
    "    for node in c:\n",
    "        node_neighbours = adjacency[node]\n",
    "        for neighbour in node_neighbours:\n",
    "            neighbouring_community = node_community_map[neighbour]\n",
    "            if neighbouring_community != i:\n",
    "                community_adjacency[i].add(neighbouring_community)\n",
    "comm_degrees = [len(x) for x in list(community_adjacency.values())]"
   ]
  },
  {
   "cell_type": "code",
   "execution_count": 244,
   "id": "4a536339",
   "metadata": {},
   "outputs": [
    {
     "data": {
      "image/png": "[encoded data removed]",
      "text/plain": [
       "<Figure size 800x600 with 1 Axes>"
      ]
     },
     "metadata": {},
     "output_type": "display_data"
    }
   ],
   "source": [
    "community_sizes = [len(x) for x in list(augmented_communities.values()) if len(x)!=1250]\n",
    "plt.hist(community_sizes, bins=15, edgecolor=\"k\")\n",
    "plt.show()"
   ]
  },
  {
   "cell_type": "code",
   "execution_count": 245,
   "id": "57bc63d3",
   "metadata": {},
   "outputs": [
    {
     "data": {
      "image/png": "[encoded data removed]",
      "text/plain": [
       "<Figure size 800x600 with 1 Axes>"
      ]
     },
     "metadata": {},
     "output_type": "display_data"
    }
   ],
   "source": [
    "plt.hist(comm_degrees, edgecolor=\"k\")\n",
    "plt.show()"
   ]
  },
  {
   "cell_type": "code",
   "execution_count": 246,
   "id": "99cc9a57",
   "metadata": {},
   "outputs": [],
   "source": [
    "# with open(\"../augmented_communities.pickle\", \"rb\") as f:\n",
    "#     augmented_communities = pickle.load(f)"
   ]
  },
  {
   "cell_type": "code",
   "execution_count": 247,
   "id": "8eda676e",
   "metadata": {},
   "outputs": [
    {
     "data": {
      "image/png": "[encoded data removed]",
      "text/plain": [
       "<Figure size 800x600 with 1 Axes>"
      ]
     },
     "metadata": {},
     "output_type": "display_data"
    }
   ],
   "source": [
    "mean_community_wealths = []\n",
    "std_community_wealths = []\n",
    "for c in augmented_communities:\n",
    "    mean_community_wealths.append(np.mean(W[augmented_communities[c]]))\n",
    "    std_community_wealths.append(np.std(W[augmented_communities[c]]))\n",
    "sorted_idx = np.argsort(mean_community_wealths)\n",
    "\n",
    "plt.errorbar(np.arange(len(mean_community_wealths)), \n",
    "             np.array(mean_community_wealths)[sorted_idx],\n",
    "             np.array(std_community_wealths)[sorted_idx],\n",
    "             fmt=\"None\",\n",
    "             color=\"k\",\n",
    "             zorder=0)\n",
    "\n",
    "    \n",
    "plt.scatter(np.arange(len(mean_community_wealths)), \n",
    "            np.array(mean_community_wealths)[sorted_idx], \n",
    "            color=\"dodgerblue\", \n",
    "            edgecolor=\"k\")\n",
    "\n",
    "\n",
    "plt.show()"
   ]
  },
  {
   "cell_type": "code",
   "execution_count": 256,
   "id": "1e1b93c0",
   "metadata": {},
   "outputs": [
    {
     "data": {
      "text/plain": [
       "47408"
      ]
     },
     "execution_count": 256,
     "metadata": {},
     "output_type": "execute_result"
    }
   ],
   "source": [
    "sys.getsizeof(W) + sys.getsizeof(communities) + sys.getsizeof(community_membership) + sys.getsizeof(G)"
   ]
  },
  {
   "cell_type": "code",
   "execution_count": 257,
   "id": "1e45aa56",
   "metadata": {},
   "outputs": [
    {
     "data": {
      "text/plain": [
       "97091584"
      ]
     },
     "execution_count": 257,
     "metadata": {},
     "output_type": "execute_result"
    }
   ],
   "source": [
    "47408 * 2048"
   ]
  },
  {
   "cell_type": "code",
   "execution_count": null,
   "id": "44ea7bbf",
   "metadata": {},
   "outputs": [],
   "source": []
  }
 ],
 "metadata": {
  "kernelspec": {
   "display_name": "Python 3",
   "language": "python",
   "name": "python3"
  },
  "language_info": {
   "codemirror_mode": {
    "name": "ipython",
    "version": 3
   },
   "file_extension": ".py",
   "mimetype": "text/x-python",
   "name": "python",
   "nbconvert_exporter": "python",
   "pygments_lexer": "ipython3",
   "version": "3.8.6"
  }
 },
 "nbformat": 4,
 "nbformat_minor": 5
}
