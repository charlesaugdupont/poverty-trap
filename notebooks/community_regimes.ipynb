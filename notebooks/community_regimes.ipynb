{
 "cells": [
  {
   "cell_type": "code",
   "execution_count": 1,
   "id": "51df13e4",
   "metadata": {},
   "outputs": [],
   "source": [
    "from SALib.sample import saltelli\n",
    "from tqdm.auto import tqdm\n",
    "import numpy as np\n",
    "import pickle\n",
    "import time\n",
    "import lzma\n",
    "import sys\n",
    "import os\n",
    "\n",
    "import matplotlib\n",
    "import matplotlib.pyplot as plt\n",
    "import matplotlib.patches as mpatches\n",
    "plt.rcParams.update(plt.rcParamsDefault)\n",
    "plt.rcParams.update({\"font.size\" : 15,\n",
    "                     \"figure.dpi\" : 100, \n",
    "                     \"grid.alpha\" : 0.3, \n",
    "                     \"axes.grid\": True, \n",
    "                     \"axes.axisbelow\" : True,\n",
    "                     \"figure.figsize\":(8,6),\n",
    "                     \"mathtext.fontset\":\"cm\",\n",
    "                     \"xtick.labelsize\": 14,\n",
    "                     \"ytick.labelsize\": 14,\n",
    "                     \"axes.labelsize\": 16, \n",
    "                     \"legend.fontsize\": 13.5})\n",
    "\n",
    "plt.rc(\"text\", usetex=False)\n",
    "plt.rc(\"font\", family=\"serif\")"
   ]
  },
  {
   "cell_type": "code",
   "execution_count": 2,
   "id": "1e0c79d9",
   "metadata": {},
   "outputs": [
    {
     "name": "stderr",
     "output_type": "stream",
     "text": [
      "<ipython-input-2-1647d18ac9f5>:18: DeprecationWarning: `salib.sample.saltelli` will be removed in SALib 1.5. Please use `salib.sample.sobol`\n",
      "  X = saltelli.sample(PROBLEM, NUM_SAMPLES, calc_second_order=False)\n"
     ]
    }
   ],
   "source": [
    "# problem definition\n",
    "PROBLEM = {\n",
    "    \"num_vars\" : 5,\n",
    "    \"names\"    : [\"theta\",\n",
    "                  \"gain_right\",\n",
    "                  \"saving_prop\",\n",
    "                  \"prob_left\",\n",
    "                  \"alpha\"],\n",
    "    \"bounds\"   : [[0.05, 0.95],\n",
    "                  [1.70, 8.00],\n",
    "                  [0.70, 0.80],\n",
    "                  [0.30, 0.45],\n",
    "                  [2.00, 12.0]]\n",
    "}\n",
    "\n",
    "# generate Saltelli samples\n",
    "NUM_SAMPLES = 1024\n",
    "X = saltelli.sample(PROBLEM, NUM_SAMPLES, calc_second_order=False)"
   ]
  },
  {
   "cell_type": "code",
   "execution_count": 3,
   "id": "57a5e6fb",
   "metadata": {},
   "outputs": [],
   "source": [
    "os.chdir(\"../\")\n",
    "import cpt_optimisation"
   ]
  },
  {
   "cell_type": "code",
   "execution_count": 4,
   "id": "cb0bcd75",
   "metadata": {},
   "outputs": [],
   "source": [
    "folders = [x for x in os.listdir(\"DATA/nodebt/\") if \"DS_\" not in x]\n",
    "folders = sorted(folders, key=lambda x: int(x.split(\"_\")[-1]))\n",
    "num_agents = 1225"
   ]
  },
  {
   "cell_type": "code",
   "execution_count": 30,
   "id": "b10c5075",
   "metadata": {},
   "outputs": [
    {
     "name": "stdout",
     "output_type": "stream",
     "text": [
      "0.00 | new_model_runs_paper_0\n"
     ]
    },
    {
     "data": {
      "application/vnd.jupyter.widget-view+json": {
       "model_id": "9a242992336d4905b94684c9880c7a00",
       "version_major": 2,
       "version_minor": 0
      },
      "text/plain": [
       "  0%|          | 0/7168 [00:00<?, ?it/s]"
      ]
     },
     "metadata": {},
     "output_type": "display_data"
    },
    {
     "name": "stdout",
     "output_type": "stream",
     "text": [
      "977.65 | new_model_runs_paper_1\n"
     ]
    },
    {
     "data": {
      "application/vnd.jupyter.widget-view+json": {
       "model_id": "60652878f0f6427eb557af07d93ef78e",
       "version_major": 2,
       "version_minor": 0
      },
      "text/plain": [
       "  0%|          | 0/7168 [00:00<?, ?it/s]"
      ]
     },
     "metadata": {},
     "output_type": "display_data"
    },
    {
     "name": "stdout",
     "output_type": "stream",
     "text": [
      "1918.66 | new_model_runs_paper_2\n"
     ]
    },
    {
     "data": {
      "application/vnd.jupyter.widget-view+json": {
       "model_id": "2b799af2dcce49438a66388d4f256b20",
       "version_major": 2,
       "version_minor": 0
      },
      "text/plain": [
       "  0%|          | 0/7168 [00:00<?, ?it/s]"
      ]
     },
     "metadata": {},
     "output_type": "display_data"
    },
    {
     "name": "stdout",
     "output_type": "stream",
     "text": [
      "2842.83 | new_model_runs_paper_3\n"
     ]
    },
    {
     "data": {
      "application/vnd.jupyter.widget-view+json": {
       "model_id": "d852673fe28044209014a70d67f3d1f6",
       "version_major": 2,
       "version_minor": 0
      },
      "text/plain": [
       "  0%|          | 0/7168 [00:00<?, ?it/s]"
      ]
     },
     "metadata": {},
     "output_type": "display_data"
    },
    {
     "name": "stdout",
     "output_type": "stream",
     "text": [
      "3697.79 | new_model_runs_paper_4\n"
     ]
    },
    {
     "data": {
      "application/vnd.jupyter.widget-view+json": {
       "model_id": "af7a54a23c7b4b748adebe32b9976e4d",
       "version_major": 2,
       "version_minor": 0
      },
      "text/plain": [
       "  0%|          | 0/7168 [00:00<?, ?it/s]"
      ]
     },
     "metadata": {},
     "output_type": "display_data"
    },
    {
     "name": "stdout",
     "output_type": "stream",
     "text": [
      "4536.78 | new_model_runs_paper_5\n"
     ]
    },
    {
     "data": {
      "application/vnd.jupyter.widget-view+json": {
       "model_id": "c2c4589cf0c44aa0a988bfb325d20ee0",
       "version_major": 2,
       "version_minor": 0
      },
      "text/plain": [
       "  0%|          | 0/7168 [00:00<?, ?it/s]"
      ]
     },
     "metadata": {},
     "output_type": "display_data"
    },
    {
     "name": "stdout",
     "output_type": "stream",
     "text": [
      "5356.05 | new_model_runs_paper_6\n"
     ]
    },
    {
     "data": {
      "application/vnd.jupyter.widget-view+json": {
       "model_id": "39f96b9a1e05419c83199add385624c0",
       "version_major": 2,
       "version_minor": 0
      },
      "text/plain": [
       "  0%|          | 0/7168 [00:00<?, ?it/s]"
      ]
     },
     "metadata": {},
     "output_type": "display_data"
    },
    {
     "name": "stdout",
     "output_type": "stream",
     "text": [
      "6174.12 | new_model_runs_paper_7\n"
     ]
    },
    {
     "data": {
      "application/vnd.jupyter.widget-view+json": {
       "model_id": "8726f63e08264bceb658e62414abad3e",
       "version_major": 2,
       "version_minor": 0
      },
      "text/plain": [
       "  0%|          | 0/7168 [00:00<?, ?it/s]"
      ]
     },
     "metadata": {},
     "output_type": "display_data"
    },
    {
     "name": "stdout",
     "output_type": "stream",
     "text": [
      "7003.97 | new_model_runs_paper_8\n"
     ]
    },
    {
     "data": {
      "application/vnd.jupyter.widget-view+json": {
       "model_id": "74280235077444929f2d1ecff4e66b12",
       "version_major": 2,
       "version_minor": 0
      },
      "text/plain": [
       "  0%|          | 0/7168 [00:00<?, ?it/s]"
      ]
     },
     "metadata": {},
     "output_type": "display_data"
    },
    {
     "name": "stdout",
     "output_type": "stream",
     "text": [
      "7825.95 | new_model_runs_paper_9\n"
     ]
    },
    {
     "data": {
      "application/vnd.jupyter.widget-view+json": {
       "model_id": "be57f3de5e7e4212af955eebbf56c99c",
       "version_major": 2,
       "version_minor": 0
      },
      "text/plain": [
       "  0%|          | 0/7168 [00:00<?, ?it/s]"
      ]
     },
     "metadata": {},
     "output_type": "display_data"
    },
    {
     "name": "stdout",
     "output_type": "stream",
     "text": [
      "8638.27 | new_model_runs_paper_10\n"
     ]
    },
    {
     "data": {
      "application/vnd.jupyter.widget-view+json": {
       "model_id": "77493bebd0a54920994c42595ba18e21",
       "version_major": 2,
       "version_minor": 0
      },
      "text/plain": [
       "  0%|          | 0/7168 [00:00<?, ?it/s]"
      ]
     },
     "metadata": {},
     "output_type": "display_data"
    },
    {
     "name": "stdout",
     "output_type": "stream",
     "text": [
      "9469.72 | new_model_runs_paper_11\n"
     ]
    },
    {
     "data": {
      "application/vnd.jupyter.widget-view+json": {
       "model_id": "660ff4c6a66841028a954cc1c04753c5",
       "version_major": 2,
       "version_minor": 0
      },
      "text/plain": [
       "  0%|          | 0/7168 [00:00<?, ?it/s]"
      ]
     },
     "metadata": {},
     "output_type": "display_data"
    },
    {
     "name": "stdout",
     "output_type": "stream",
     "text": [
      "10287.71 | new_model_runs_paper_12\n"
     ]
    },
    {
     "data": {
      "application/vnd.jupyter.widget-view+json": {
       "model_id": "6d07165bede14ceb94d74e2fe834888b",
       "version_major": 2,
       "version_minor": 0
      },
      "text/plain": [
       "  0%|          | 0/7168 [00:00<?, ?it/s]"
      ]
     },
     "metadata": {},
     "output_type": "display_data"
    },
    {
     "name": "stdout",
     "output_type": "stream",
     "text": [
      "11123.66 | new_model_runs_paper_13\n"
     ]
    },
    {
     "data": {
      "application/vnd.jupyter.widget-view+json": {
       "model_id": "866ab7ea8b1849b4bccc7729bbfcb616",
       "version_major": 2,
       "version_minor": 0
      },
      "text/plain": [
       "  0%|          | 0/7168 [00:00<?, ?it/s]"
      ]
     },
     "metadata": {},
     "output_type": "display_data"
    },
    {
     "name": "stdout",
     "output_type": "stream",
     "text": [
      "11968.09 | new_model_runs_paper_14\n"
     ]
    },
    {
     "data": {
      "application/vnd.jupyter.widget-view+json": {
       "model_id": "de4fa5a509ea48cb9738038995128757",
       "version_major": 2,
       "version_minor": 0
      },
      "text/plain": [
       "  0%|          | 0/7168 [00:00<?, ?it/s]"
      ]
     },
     "metadata": {},
     "output_type": "display_data"
    },
    {
     "name": "stdout",
     "output_type": "stream",
     "text": [
      "12807.52 | new_model_runs_paper_15\n"
     ]
    },
    {
     "data": {
      "application/vnd.jupyter.widget-view+json": {
       "model_id": "11154034bcd44498b1fbb32d1c2f7678",
       "version_major": 2,
       "version_minor": 0
      },
      "text/plain": [
       "  0%|          | 0/7168 [00:00<?, ?it/s]"
      ]
     },
     "metadata": {},
     "output_type": "display_data"
    },
    {
     "name": "stdout",
     "output_type": "stream",
     "text": [
      "13638.09 | new_model_runs_paper_16\n"
     ]
    },
    {
     "data": {
      "application/vnd.jupyter.widget-view+json": {
       "model_id": "6c78f3fe2a64489eab0ede35f8e9a8a1",
       "version_major": 2,
       "version_minor": 0
      },
      "text/plain": [
       "  0%|          | 0/7168 [00:00<?, ?it/s]"
      ]
     },
     "metadata": {},
     "output_type": "display_data"
    },
    {
     "name": "stdout",
     "output_type": "stream",
     "text": [
      "14481.04 | new_model_runs_paper_17\n"
     ]
    },
    {
     "data": {
      "application/vnd.jupyter.widget-view+json": {
       "model_id": "f74eeb61b40d4de7812da1b172cb6d98",
       "version_major": 2,
       "version_minor": 0
      },
      "text/plain": [
       "  0%|          | 0/7168 [00:00<?, ?it/s]"
      ]
     },
     "metadata": {},
     "output_type": "display_data"
    },
    {
     "name": "stdout",
     "output_type": "stream",
     "text": [
      "15315.68 | new_model_runs_paper_18\n"
     ]
    },
    {
     "data": {
      "application/vnd.jupyter.widget-view+json": {
       "model_id": "44aae860f44949de8e04a9ade0d8124c",
       "version_major": 2,
       "version_minor": 0
      },
      "text/plain": [
       "  0%|          | 0/7168 [00:00<?, ?it/s]"
      ]
     },
     "metadata": {},
     "output_type": "display_data"
    },
    {
     "name": "stdout",
     "output_type": "stream",
     "text": [
      "16153.81 | new_model_runs_paper_19\n"
     ]
    },
    {
     "data": {
      "application/vnd.jupyter.widget-view+json": {
       "model_id": "390634c5cdec48e28520b606f283dd12",
       "version_major": 2,
       "version_minor": 0
      },
      "text/plain": [
       "  0%|          | 0/7168 [00:00<?, ?it/s]"
      ]
     },
     "metadata": {},
     "output_type": "display_data"
    }
   ],
   "source": [
    "regime = np.zeros((20, 7168))\n",
    "start_t = time.time()\n",
    "\n",
    "for seed_folder in folders:\n",
    "    print(f\"{time.time()-start_t:.2f} | {seed_folder}\")\n",
    "    seed = int(seed_folder.split(\"_\")[-1])\n",
    "    files = os.listdir(f\"DATA/nodebt/{seed_folder}\")\n",
    "    files = sorted(files, key=lambda x: int(x.split(\"_\")[1]))\n",
    "    \n",
    "    for f in tqdm(files):\n",
    "        \n",
    "        param_idx = int(f.split(\"_\")[1]) - 1\n",
    "        data = pickle.load(lzma.open(f\"DATA/nodebt/{seed_folder}/{f}\"))\n",
    "        data_W = data[\"W\"]\n",
    "        \n",
    "        alpha_val = data[\"params\"][4]\n",
    "        with open(f\"sda_graphs/{seed}_{alpha_val}.pickle\", \"rb\") as sda_file:\n",
    "            _, _, augmented_comms, _ = pickle.load(sda_file)\n",
    "\n",
    "        # determine regime\n",
    "        richer = 0\n",
    "        for _,agent_indices in augmented_comms.items():\n",
    "            if np.sum(data_W[-1][agent_indices]) > np.sum(data_W[0][agent_indices]):\n",
    "                richer += 1\n",
    "        prop_richer = richer / len(augmented_comms)\n",
    "        if prop_richer == 0:\n",
    "            regime[seed][param_idx] = 0\n",
    "        elif prop_richer < 1:\n",
    "            regime[seed][param_idx] = 1\n",
    "        else:\n",
    "            regime[seed][param_idx] = 2"
   ]
  },
  {
   "cell_type": "code",
   "execution_count": 31,
   "id": "94d03b29",
   "metadata": {},
   "outputs": [],
   "source": [
    "with open(\"community_regimes.pickle\", \"wb\") as f:\n",
    "    pickle.dump(regime, f)"
   ]
  },
  {
   "cell_type": "code",
   "execution_count": 37,
   "id": "d3b78e92",
   "metadata": {},
   "outputs": [
    {
     "data": {
      "text/plain": [
       "(17766, 88111, 37483)"
      ]
     },
     "execution_count": 37,
     "metadata": {},
     "output_type": "execute_result"
    }
   ],
   "source": [
    "np.sum(regime.flatten()==0), np.sum(regime.flatten()==1), np.sum(regime.flatten()==2)"
   ]
  },
  {
   "cell_type": "code",
   "execution_count": 38,
   "id": "e7dc3c0e",
   "metadata": {},
   "outputs": [
    {
     "data": {
      "text/plain": [
       "143360"
      ]
     },
     "execution_count": 38,
     "metadata": {},
     "output_type": "execute_result"
    }
   ],
   "source": [
    "17766+88111+37483"
   ]
  },
  {
   "cell_type": "code",
   "execution_count": 40,
   "id": "807d6e50",
   "metadata": {},
   "outputs": [
    {
     "name": "stdout",
     "output_type": "stream",
     "text": [
      "0.124\n",
      "0.615\n",
      "0.261\n"
     ]
    }
   ],
   "source": [
    "for i in range(3):\n",
    "    print(round(np.sum(regime.flatten()==i)/143360, 3))"
   ]
  },
  {
   "cell_type": "code",
   "execution_count": 41,
   "id": "55b234a9",
   "metadata": {},
   "outputs": [
    {
     "data": {
      "text/plain": [
       "100"
      ]
     },
     "execution_count": 41,
     "metadata": {},
     "output_type": "execute_result"
    }
   ],
   "source": [
    "12+62+26"
   ]
  },
  {
   "cell_type": "code",
   "execution_count": null,
   "id": "2dcc091f",
   "metadata": {},
   "outputs": [],
   "source": []
  }
 ],
 "metadata": {
  "kernelspec": {
   "display_name": "Python 3",
   "language": "python",
   "name": "python3"
  },
  "language_info": {
   "codemirror_mode": {
    "name": "ipython",
    "version": 3
   },
   "file_extension": ".py",
   "mimetype": "text/x-python",
   "name": "python",
   "nbconvert_exporter": "python",
   "pygments_lexer": "ipython3",
   "version": "3.8.6"
  }
 },
 "nbformat": 4,
 "nbformat_minor": 5
}
