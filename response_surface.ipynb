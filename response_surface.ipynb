{
 "cells": [
  {
   "cell_type": "code",
   "execution_count": 100,
   "metadata": {},
   "outputs": [],
   "source": [
    "import matplotlib\n",
    "import matplotlib.pyplot as plt\n",
    "from mpl_toolkits.axes_grid1 import ImageGrid\n",
    "plt.rcParams.update(plt.rcParamsDefault)\n",
    "plt.rcParams.update({\"font.size\" : 15,\n",
    "                     \"figure.dpi\" : 100, \n",
    "                     \"grid.alpha\" : 0.3,\n",
    "                     \"axes.grid\": True,\n",
    "                     \"axes.axisbelow\" : True,\n",
    "                     \"figure.figsize\":(8,6),\n",
    "                     \"mathtext.fontset\":\"cm\",\n",
    "                     \"xtick.labelsize\": 14,\n",
    "                     \"ytick.labelsize\": 14,\n",
    "                     \"axes.labelsize\": 16, \n",
    "                     \"legend.fontsize\": 13.5})\n",
    "\n",
    "USE_TEX = False\n",
    "if USE_TEX:\n",
    "    plt.rc(\"text\", usetex=True)\n",
    "    plt.rc(\"text.latex\", preamble=r\"\"\"\n",
    "     \\usepackage{times}\n",
    "     \\usepackage{mathptmx}\"\"\")\n",
    "else:\n",
    "    plt.rc(\"text\", usetex=False)\n",
    "plt.rc(\"font\", family=\"serif\")"
   ]
  },
  {
   "cell_type": "code",
   "execution_count": 2,
   "metadata": {},
   "outputs": [],
   "source": [
    "from network_model import *"
   ]
  },
  {
   "cell_type": "code",
   "execution_count": 157,
   "metadata": {},
   "outputs": [],
   "source": [
    "from SALib.sample import sobol\n",
    "from tqdm import tqdm\n",
    "from sklearn.model_selection import train_test_split\n",
    "\n",
    "\n",
    "import time\n",
    "from keras.models import Sequential\n",
    "from keras.layers import Dense"
   ]
  },
  {
   "cell_type": "code",
   "execution_count": 211,
   "metadata": {},
   "outputs": [],
   "source": [
    "# define problem\n",
    "PROBLEM = {\n",
    "    \"num_vars\" : 4,\n",
    "    \"names\"    : [\"wealth\", \"return\", \"a\", \"gamma\"],\n",
    "    \"bounds\"   : [[0.001, 1000],\n",
    "                  [1.00,  10.0],\n",
    "                  [0.1, 2.5],\n",
    "                  [0.1, 2.5]]\n",
    "}\n",
    "\n",
    "# generate Saltelli samples\n",
    "NUM_SAMPLES = 8192\n",
    "X = sobol.sample(PROBLEM, NUM_SAMPLES)"
   ]
  },
  {
   "cell_type": "code",
   "execution_count": 198,
   "metadata": {},
   "outputs": [
    {
     "name": "stderr",
     "output_type": "stream",
     "text": [
      "100%|██████████| 81920/81920 [01:34<00:00, 869.77it/s] \n"
     ]
    }
   ],
   "source": [
    "consumption = {}\n",
    "for row in tqdm(X):\n",
    "    c = minimize(utility, x0=0.5, bounds=[(0.05, 0.95)], args=(row[0], row[1], row[2], row[3])).x[0]\n",
    "    consumption[tuple(row)] = c"
   ]
  },
  {
   "cell_type": "code",
   "execution_count": 212,
   "metadata": {},
   "outputs": [],
   "source": [
    "X = np.row_stack(list(consumption.keys()))\n",
    "y = np.array(list(consumption.values()))"
   ]
  },
  {
   "cell_type": "code",
   "execution_count": 231,
   "metadata": {
    "scrolled": true
   },
   "outputs": [
    {
     "name": "stdout",
     "output_type": "stream",
     "text": [
      "Epoch 1/100\n",
      "1544/1544 [==============================] - 1s 934us/step - loss: 0.2300 - val_loss: 0.0155\n",
      "Epoch 2/100\n",
      "1544/1544 [==============================] - 1s 935us/step - loss: 0.0162 - val_loss: 0.0088\n",
      "Epoch 3/100\n",
      "1544/1544 [==============================] - 2s 1ms/step - loss: 0.0111 - val_loss: 0.0024\n",
      "Epoch 4/100\n",
      "1544/1544 [==============================] - 1s 930us/step - loss: 0.0059 - val_loss: 0.0024\n",
      "Epoch 5/100\n",
      "1544/1544 [==============================] - 2s 1ms/step - loss: 0.0067 - val_loss: 0.0049\n",
      "Epoch 6/100\n",
      "1544/1544 [==============================] - 2s 977us/step - loss: 0.0041 - val_loss: 0.0271\n",
      "Epoch 7/100\n",
      "1544/1544 [==============================] - 1s 970us/step - loss: 0.0028 - val_loss: 0.0046\n",
      "Epoch 8/100\n",
      "1544/1544 [==============================] - 2s 984us/step - loss: 0.0026 - val_loss: 9.0048e-04\n",
      "Epoch 9/100\n",
      "1544/1544 [==============================] - 2s 1ms/step - loss: 0.0017 - val_loss: 6.1976e-04\n",
      "Epoch 10/100\n",
      "1544/1544 [==============================] - 2s 1ms/step - loss: 0.0022 - val_loss: 6.3569e-04\n",
      "Epoch 11/100\n",
      "1544/1544 [==============================] - 1s 911us/step - loss: 0.0015 - val_loss: 4.8860e-04\n",
      "Epoch 12/100\n",
      "1544/1544 [==============================] - 1s 905us/step - loss: 0.0016 - val_loss: 9.4265e-04\n",
      "Epoch 13/100\n",
      "1544/1544 [==============================] - 2s 1ms/step - loss: 0.0011 - val_loss: 0.0012\n",
      "Epoch 14/100\n",
      "1544/1544 [==============================] - 2s 1ms/step - loss: 0.0011 - val_loss: 8.8819e-04\n",
      "Epoch 15/100\n",
      "1544/1544 [==============================] - 1s 933us/step - loss: 0.0010 - val_loss: 7.0782e-04\n",
      "Epoch 16/100\n",
      "1544/1544 [==============================] - 1s 927us/step - loss: 9.4217e-04 - val_loss: 6.6141e-04\n",
      "Epoch 17/100\n",
      "1544/1544 [==============================] - 1s 970us/step - loss: 7.7033e-04 - val_loss: 5.8152e-04\n",
      "Epoch 18/100\n",
      "1544/1544 [==============================] - 2s 1ms/step - loss: 7.8660e-04 - val_loss: 0.0010\n",
      "Epoch 19/100\n",
      "1544/1544 [==============================] - 2s 1ms/step - loss: 7.0770e-04 - val_loss: 0.0011\n",
      "Epoch 20/100\n",
      "1544/1544 [==============================] - 2s 1ms/step - loss: 7.6638e-04 - val_loss: 5.1641e-04\n",
      "Epoch 21/100\n",
      "1544/1544 [==============================] - 1s 918us/step - loss: 5.5590e-04 - val_loss: 3.2464e-04\n",
      "Epoch 22/100\n",
      "1544/1544 [==============================] - 1s 913us/step - loss: 4.8038e-04 - val_loss: 7.6376e-04\n",
      "Epoch 23/100\n",
      "1544/1544 [==============================] - 2s 1ms/step - loss: 5.2649e-04 - val_loss: 1.3989e-04\n",
      "Epoch 24/100\n",
      "1544/1544 [==============================] - 2s 1ms/step - loss: 4.7940e-04 - val_loss: 1.6846e-04\n",
      "Epoch 25/100\n",
      "1544/1544 [==============================] - 2s 1ms/step - loss: 4.5897e-04 - val_loss: 3.2795e-04\n",
      "Epoch 26/100\n",
      "1544/1544 [==============================] - 2s 1ms/step - loss: 5.2830e-04 - val_loss: 7.8714e-05\n",
      "Epoch 27/100\n",
      "1544/1544 [==============================] - 2s 1ms/step - loss: 3.7569e-04 - val_loss: 1.6041e-04\n",
      "Epoch 28/100\n",
      "1544/1544 [==============================] - 1s 956us/step - loss: 4.0063e-04 - val_loss: 0.0019\n",
      "Epoch 29/100\n",
      "1544/1544 [==============================] - 1s 926us/step - loss: 3.2316e-04 - val_loss: 1.6273e-04\n",
      "Epoch 30/100\n",
      "1544/1544 [==============================] - 2s 998us/step - loss: 3.7880e-04 - val_loss: 0.0020\n",
      "Epoch 31/100\n",
      "1544/1544 [==============================] - 1s 926us/step - loss: 3.1291e-04 - val_loss: 1.5976e-04\n",
      "Epoch 32/100\n",
      "1544/1544 [==============================] - 2s 1ms/step - loss: 3.4123e-04 - val_loss: 9.4371e-05\n",
      "Epoch 33/100\n",
      "1544/1544 [==============================] - 2s 1ms/step - loss: 2.2919e-04 - val_loss: 2.9135e-04\n",
      "Epoch 34/100\n",
      "1544/1544 [==============================] - 2s 973us/step - loss: 3.5619e-04 - val_loss: 9.2850e-05\n",
      "Epoch 35/100\n",
      "1544/1544 [==============================] - 2s 982us/step - loss: 4.0188e-04 - val_loss: 1.4778e-04\n",
      "Epoch 36/100\n",
      "1544/1544 [==============================] - 1s 911us/step - loss: 2.1524e-04 - val_loss: 2.5444e-04\n",
      "Epoch 37/100\n",
      "1544/1544 [==============================] - 2s 1ms/step - loss: 2.6036e-04 - val_loss: 1.6673e-04\n",
      "Epoch 38/100\n",
      "1544/1544 [==============================] - 2s 1ms/step - loss: 2.5492e-04 - val_loss: 1.0218e-04\n",
      "Epoch 39/100\n",
      "1544/1544 [==============================] - 2s 989us/step - loss: 2.7696e-04 - val_loss: 3.5565e-04\n",
      "Epoch 40/100\n",
      "1544/1544 [==============================] - 2s 1ms/step - loss: 1.9356e-04 - val_loss: 2.1906e-04\n",
      "Epoch 41/100\n",
      "1544/1544 [==============================] - 2s 1ms/step - loss: 3.2892e-04 - val_loss: 7.5833e-05\n",
      "Epoch 42/100\n",
      "1544/1544 [==============================] - 2s 1ms/step - loss: 2.1004e-04 - val_loss: 1.2661e-04\n",
      "Epoch 43/100\n",
      "1544/1544 [==============================] - 2s 1ms/step - loss: 2.5986e-04 - val_loss: 5.7100e-05\n",
      "Epoch 44/100\n",
      "1544/1544 [==============================] - 2s 1ms/step - loss: 2.1007e-04 - val_loss: 4.3574e-04\n",
      "Epoch 45/100\n",
      "1544/1544 [==============================] - 2s 1ms/step - loss: 2.3420e-04 - val_loss: 2.7719e-04\n",
      "Epoch 46/100\n",
      "1544/1544 [==============================] - 2s 1ms/step - loss: 1.5452e-04 - val_loss: 2.7428e-04\n",
      "Epoch 47/100\n",
      "1544/1544 [==============================] - 2s 1ms/step - loss: 2.2384e-04 - val_loss: 4.6376e-05\n",
      "Epoch 48/100\n",
      "1544/1544 [==============================] - 1s 965us/step - loss: 1.2254e-04 - val_loss: 6.3250e-05\n",
      "Epoch 49/100\n",
      "1544/1544 [==============================] - 1s 957us/step - loss: 1.6863e-04 - val_loss: 4.0574e-04\n",
      "Epoch 50/100\n",
      "1544/1544 [==============================] - 2s 1ms/step - loss: 2.3145e-04 - val_loss: 4.0893e-05\n",
      "Epoch 51/100\n",
      "1544/1544 [==============================] - 2s 1ms/step - loss: 1.9185e-04 - val_loss: 4.0192e-04\n",
      "Epoch 52/100\n",
      "1544/1544 [==============================] - 2s 1ms/step - loss: 1.4312e-04 - val_loss: 3.9437e-05\n",
      "Epoch 53/100\n",
      "1544/1544 [==============================] - 1s 954us/step - loss: 3.1430e-04 - val_loss: 5.7251e-05\n",
      "Epoch 54/100\n",
      "1544/1544 [==============================] - 2s 1ms/step - loss: 1.7652e-04 - val_loss: 0.0011\n",
      "Epoch 55/100\n",
      "1544/1544 [==============================] - 1s 951us/step - loss: 2.7654e-04 - val_loss: 5.7832e-05\n",
      "Epoch 56/100\n",
      "1544/1544 [==============================] - 2s 972us/step - loss: 1.3727e-04 - val_loss: 3.5087e-05\n",
      "Epoch 57/100\n",
      "1544/1544 [==============================] - 2s 1ms/step - loss: 1.1721e-04 - val_loss: 5.3159e-05\n",
      "Epoch 58/100\n",
      "1544/1544 [==============================] - 2s 1ms/step - loss: 1.6591e-04 - val_loss: 1.0499e-04\n",
      "Epoch 59/100\n",
      "1544/1544 [==============================] - 2s 1ms/step - loss: 1.4378e-04 - val_loss: 9.5291e-05\n",
      "Epoch 60/100\n",
      "1544/1544 [==============================] - 2s 1ms/step - loss: 1.2949e-04 - val_loss: 2.3244e-04\n",
      "Epoch 61/100\n",
      "1544/1544 [==============================] - 2s 1ms/step - loss: 1.2659e-04 - val_loss: 1.2812e-04\n",
      "Epoch 62/100\n",
      "1544/1544 [==============================] - 2s 1ms/step - loss: 1.6257e-04 - val_loss: 5.2925e-05\n",
      "Epoch 63/100\n",
      "1544/1544 [==============================] - 2s 1ms/step - loss: 1.7016e-04 - val_loss: 4.4720e-05\n",
      "Epoch 64/100\n",
      "1544/1544 [==============================] - 1s 950us/step - loss: 1.2673e-04 - val_loss: 1.1478e-04\n",
      "Epoch 65/100\n",
      "1544/1544 [==============================] - 2s 998us/step - loss: 1.1337e-04 - val_loss: 4.5880e-05\n",
      "Epoch 66/100\n",
      "1544/1544 [==============================] - 2s 1ms/step - loss: 1.1052e-04 - val_loss: 2.0248e-04\n",
      "Epoch 67/100\n",
      "1544/1544 [==============================] - 2s 976us/step - loss: 1.0766e-04 - val_loss: 4.8831e-05\n",
      "Epoch 68/100\n",
      "1544/1544 [==============================] - 2s 1ms/step - loss: 1.8351e-04 - val_loss: 4.6844e-05\n",
      "Epoch 69/100\n",
      "1544/1544 [==============================] - 2s 1ms/step - loss: 1.3017e-04 - val_loss: 8.0524e-05\n",
      "Epoch 70/100\n",
      "1544/1544 [==============================] - 2s 998us/step - loss: 1.3540e-04 - val_loss: 2.7115e-05\n",
      "Epoch 71/100\n",
      "1544/1544 [==============================] - 2s 978us/step - loss: 1.8311e-04 - val_loss: 7.7695e-04\n",
      "Epoch 72/100\n",
      "1544/1544 [==============================] - 2s 1ms/step - loss: 9.1258e-05 - val_loss: 3.3811e-05\n",
      "Epoch 73/100\n",
      "1544/1544 [==============================] - 2s 1ms/step - loss: 1.3959e-04 - val_loss: 4.2957e-05\n",
      "Epoch 74/100\n"
     ]
    },
    {
     "name": "stdout",
     "output_type": "stream",
     "text": [
      "1544/1544 [==============================] - 2s 1ms/step - loss: 1.1855e-04 - val_loss: 1.4406e-04\n",
      "Epoch 75/100\n",
      "1544/1544 [==============================] - 2s 1ms/step - loss: 1.2213e-04 - val_loss: 4.9495e-05\n",
      "Epoch 76/100\n",
      "1544/1544 [==============================] - 1s 924us/step - loss: 1.3061e-04 - val_loss: 2.5881e-05\n",
      "Epoch 77/100\n",
      "1544/1544 [==============================] - 1s 910us/step - loss: 1.1457e-04 - val_loss: 1.5679e-04\n",
      "Epoch 78/100\n",
      "1544/1544 [==============================] - 1s 951us/step - loss: 1.0779e-04 - val_loss: 0.0010\n",
      "Epoch 79/100\n",
      "1544/1544 [==============================] - 1s 915us/step - loss: 1.3470e-04 - val_loss: 6.0932e-05\n",
      "Epoch 80/100\n",
      "1544/1544 [==============================] - 2s 998us/step - loss: 1.3728e-04 - val_loss: 1.1082e-04\n",
      "Epoch 81/100\n",
      "1544/1544 [==============================] - 2s 992us/step - loss: 9.7219e-05 - val_loss: 1.3982e-04\n",
      "Epoch 82/100\n",
      "1544/1544 [==============================] - 1s 937us/step - loss: 9.8001e-05 - val_loss: 2.3996e-05\n",
      "Epoch 83/100\n",
      "1544/1544 [==============================] - 1s 964us/step - loss: 9.0091e-05 - val_loss: 6.9427e-05\n",
      "Epoch 84/100\n",
      "1544/1544 [==============================] - 1s 935us/step - loss: 8.9840e-05 - val_loss: 2.3849e-04\n",
      "Epoch 85/100\n",
      "1544/1544 [==============================] - 2s 989us/step - loss: 8.4856e-05 - val_loss: 1.0648e-04\n",
      "Epoch 86/100\n",
      "1544/1544 [==============================] - 2s 987us/step - loss: 1.2663e-04 - val_loss: 5.6706e-05\n",
      "Epoch 87/100\n",
      "1544/1544 [==============================] - 2s 1ms/step - loss: 8.8070e-05 - val_loss: 2.3291e-05\n",
      "Epoch 88/100\n",
      "1544/1544 [==============================] - 2s 1ms/step - loss: 1.0900e-04 - val_loss: 1.2829e-04\n",
      "Epoch 89/100\n",
      "1544/1544 [==============================] - 2s 1ms/step - loss: 8.1373e-05 - val_loss: 3.4446e-05\n",
      "Epoch 90/100\n",
      "1544/1544 [==============================] - 1s 913us/step - loss: 1.0510e-04 - val_loss: 3.0494e-05\n",
      "Epoch 91/100\n",
      "1544/1544 [==============================] - 2s 1ms/step - loss: 9.5924e-05 - val_loss: 1.0452e-04\n",
      "Epoch 92/100\n",
      "1544/1544 [==============================] - 1s 883us/step - loss: 9.6945e-05 - val_loss: 1.8888e-04\n",
      "Epoch 93/100\n",
      "1544/1544 [==============================] - 1s 945us/step - loss: 7.4770e-05 - val_loss: 2.3810e-05\n",
      "Epoch 94/100\n",
      "1544/1544 [==============================] - 2s 996us/step - loss: 9.0827e-05 - val_loss: 1.8656e-04\n",
      "Epoch 95/100\n",
      "1544/1544 [==============================] - 1s 885us/step - loss: 8.9769e-05 - val_loss: 2.1102e-05\n",
      "Epoch 96/100\n",
      "1544/1544 [==============================] - 1s 945us/step - loss: 9.8833e-05 - val_loss: 4.6663e-05\n",
      "Epoch 97/100\n",
      "1544/1544 [==============================] - 1s 958us/step - loss: 7.9894e-05 - val_loss: 2.8285e-05\n",
      "Epoch 98/100\n",
      "1544/1544 [==============================] - 1s 966us/step - loss: 9.8791e-05 - val_loss: 3.7347e-04\n",
      "Epoch 99/100\n",
      "1544/1544 [==============================] - 1s 961us/step - loss: 7.8778e-05 - val_loss: 7.6040e-05\n",
      "Epoch 100/100\n",
      "1544/1544 [==============================] - 1s 949us/step - loss: 1.3529e-04 - val_loss: 6.2443e-05\n"
     ]
    },
    {
     "data": {
      "text/plain": [
       "<tensorflow.python.keras.callbacks.History at 0x7fa7fb090640>"
      ]
     },
     "execution_count": 231,
     "metadata": {},
     "output_type": "execute_result"
    }
   ],
   "source": [
    "X_train, X_test, y_train, y_test = train_test_split(X, y, test_size=0.33)\n",
    "\n",
    "# Create a sequential model\n",
    "model = Sequential()\n",
    "model.add(Dense(32, activation='relu', input_dim=4))\n",
    "model.add(Dense(32, activation='relu'))\n",
    "model.add(Dense(32, activation='relu'))\n",
    "model.add(Dense(32, activation='relu'))\n",
    "model.add(Dense(32, activation='relu'))\n",
    "model.add(Dense(1))  # Output layer with no activation function for regression\n",
    "\n",
    "# Compile the model\n",
    "model.compile(optimizer='adam', loss='mean_squared_error')\n",
    "\n",
    "# Train the model\n",
    "model.fit(X_train, y_train, epochs=100, batch_size=32, validation_split=0.1)"
   ]
  },
  {
   "cell_type": "code",
   "execution_count": 234,
   "metadata": {},
   "outputs": [
    {
     "name": "stdout",
     "output_type": "stream",
     "text": [
      "0.003779987048585636 0.16462552672487002\n",
      "87\n"
     ]
    },
    {
     "data": {
      "image/png": "[encoded data removed]",
      "text/plain": [
       "<Figure size 800x600 with 1 Axes>"
      ]
     },
     "metadata": {},
     "output_type": "display_data"
    }
   ],
   "source": [
    "preds = model.predict(X_test)\n",
    "delta = np.abs(preds - y_test.reshape(-1,1))\n",
    "print(np.mean(delta), np.max(delta))\n",
    "print(len([x for x in delta if x > 0.05]))\n",
    "\n",
    "plt.hist(delta, bins=100, color=\"dodgerblue\", edgecolor='k')\n",
    "plt.show()"
   ]
  },
  {
   "cell_type": "code",
   "execution_count": null,
   "metadata": {},
   "outputs": [],
   "source": []
  },
  {
   "cell_type": "code",
   "execution_count": null,
   "metadata": {},
   "outputs": [],
   "source": []
  },
  {
   "cell_type": "code",
   "execution_count": null,
   "metadata": {},
   "outputs": [],
   "source": []
  },
  {
   "cell_type": "code",
   "execution_count": 167,
   "metadata": {},
   "outputs": [
    {
     "name": "stdout",
     "output_type": "stream",
     "text": [
      "0.00602282494988582 0.1155023992061615\n"
     ]
    },
    {
     "data": {
      "image/png": "[encoded data removed]",
      "text/plain": [
       "<Figure size 800x600 with 1 Axes>"
      ]
     },
     "metadata": {},
     "output_type": "display_data"
    }
   ],
   "source": [
    "preds = model.predict(X_test)\n",
    "delta = np.abs(preds - y_test.reshape(-1,1))\n",
    "print(np.mean(delta), np.max(delta))\n",
    "print(len([x for x in delta if x > 0.05]))\n",
    "\n",
    "plt.hist(delta, bins=100, color=\"dodgerblue\", edgecolor='k')\n",
    "plt.show()"
   ]
  },
  {
   "cell_type": "code",
   "execution_count": null,
   "metadata": {},
   "outputs": [],
   "source": []
  },
  {
   "cell_type": "code",
   "execution_count": null,
   "metadata": {},
   "outputs": [],
   "source": []
  },
  {
   "cell_type": "code",
   "execution_count": 216,
   "metadata": {},
   "outputs": [
    {
     "name": "stdout",
     "output_type": "stream",
     "text": [
      "37.6 ms ± 2.18 ms per loop (mean ± std. dev. of 7 runs, 10 loops each)\n"
     ]
    }
   ],
   "source": [
    "%%timeit\n",
    "model.predict(X_test[:1000])"
   ]
  },
  {
   "cell_type": "code",
   "execution_count": 219,
   "metadata": {},
   "outputs": [
    {
     "name": "stdout",
     "output_type": "stream",
     "text": [
      "1.76 s ± 101 ms per loop (mean ± std. dev. of 7 runs, 1 loop each)\n"
     ]
    }
   ],
   "source": [
    "%%timeit\n",
    "for _ in range(1000):\n",
    "    c = minimize(utility, x0=0.5, bounds=[(0.05, 0.95)], args=(row[0], row[1], row[2], row[3])).x[0]"
   ]
  },
  {
   "cell_type": "code",
   "execution_count": null,
   "metadata": {},
   "outputs": [],
   "source": []
  },
  {
   "cell_type": "code",
   "execution_count": 221,
   "metadata": {},
   "outputs": [
    {
     "data": {
      "text/plain": [
       "0.021420454545454548"
      ]
     },
     "execution_count": 221,
     "metadata": {},
     "output_type": "execute_result"
    }
   ],
   "source": [
    "37.7 / 1760"
   ]
  },
  {
   "cell_type": "code",
   "execution_count": 225,
   "metadata": {},
   "outputs": [
    {
     "data": {
      "text/plain": [
       "1885.0000000000002"
      ]
     },
     "execution_count": 225,
     "metadata": {},
     "output_type": "execute_result"
    }
   ],
   "source": [
    "37.7 * 50"
   ]
  },
  {
   "cell_type": "code",
   "execution_count": null,
   "metadata": {},
   "outputs": [],
   "source": []
  }
 ],
 "metadata": {
  "kernelspec": {
   "display_name": "Python 3",
   "language": "python",
   "name": "python3"
  },
  "language_info": {
   "codemirror_mode": {
    "name": "ipython",
    "version": 3
   },
   "file_extension": ".py",
   "mimetype": "text/x-python",
   "name": "python",
   "nbconvert_exporter": "python",
   "pygments_lexer": "ipython3",
   "version": "3.8.6"
  }
 },
 "nbformat": 4,
 "nbformat_minor": 4
}
