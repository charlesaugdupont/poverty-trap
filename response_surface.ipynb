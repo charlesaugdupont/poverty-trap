{
 "cells": [
  {
   "cell_type": "code",
   "execution_count": 8,
   "metadata": {},
   "outputs": [],
   "source": [
    "import matplotlib\n",
    "import matplotlib.pyplot as plt\n",
    "from mpl_toolkits.axes_grid1 import ImageGrid\n",
    "plt.rcParams.update(plt.rcParamsDefault)\n",
    "plt.rcParams.update({\"font.size\" : 15,\n",
    "                     \"figure.dpi\" : 100, \n",
    "                     \"grid.alpha\" : 0.3,\n",
    "                     \"axes.grid\": True,\n",
    "                     \"axes.axisbelow\" : True,\n",
    "                     \"figure.figsize\":(8,6),\n",
    "                     \"mathtext.fontset\":\"cm\",\n",
    "                     \"xtick.labelsize\": 14,\n",
    "                     \"ytick.labelsize\": 14,\n",
    "                     \"axes.labelsize\": 16, \n",
    "                     \"legend.fontsize\": 13.5})\n",
    "\n",
    "USE_TEX = False\n",
    "if USE_TEX:\n",
    "    plt.rc(\"text\", usetex=True)\n",
    "    plt.rc(\"text.latex\", preamble=r\"\"\"\n",
    "     \\usepackage{times}\n",
    "     \\usepackage{mathptmx}\"\"\")\n",
    "else:\n",
    "    plt.rc(\"text\", usetex=False)\n",
    "plt.rc(\"font\", family=\"serif\")"
   ]
  },
  {
   "cell_type": "code",
   "execution_count": 311,
   "metadata": {},
   "outputs": [],
   "source": [
    "from SALib.sample import sobol\n",
    "from tqdm import tqdm\n",
    "\n",
    "from network_model import *\n",
    "import time\n",
    "\n",
    "from sklearn.model_selection import GridSearchCV\n",
    "from sklearn.ensemble import RandomForestRegressor"
   ]
  },
  {
   "cell_type": "code",
   "execution_count": 381,
   "metadata": {},
   "outputs": [],
   "source": [
    "# define problem\n",
    "PROBLEM = {\n",
    "    \"num_vars\" : 4,\n",
    "    \"names\"    : [\"wealth\", \"return\", \"a\", \"gamma\"],\n",
    "    \"bounds\"   : [[0.0, 1000],\n",
    "                  [0.0, 100],\n",
    "                  [0.1, 2.5],\n",
    "                  [0.1, 2.5]]\n",
    "}\n",
    "\n",
    "# generate Saltelli samples\n",
    "NUM_SAMPLES = 8192*2\n",
    "X = sobol.sample(PROBLEM, NUM_SAMPLES)"
   ]
  },
  {
   "cell_type": "code",
   "execution_count": 383,
   "metadata": {},
   "outputs": [
    {
     "name": "stderr",
     "output_type": "stream",
     "text": [
      "100%|██████████| 163840/163840 [02:45<00:00, 989.85it/s] \n"
     ]
    }
   ],
   "source": [
    "# prepare dataset\n",
    "consumption = {}\n",
    "for row in tqdm(X):\n",
    "    c = minimize(utility, x0=0.5, bounds=[(0.05, 0.95)], args=(row[0], row[1], row[2], row[3])).x[0]\n",
    "    consumption[tuple(row)] = c\n",
    "    \n",
    "with open(\"response_surface_data.pickle\", \"wb\") as f:\n",
    "    pickle.dump(consumption, f)\n",
    "\n",
    "X = np.row_stack(list(consumption.keys()))\n",
    "y = np.array(list(consumption.values()))"
   ]
  },
  {
   "cell_type": "markdown",
   "metadata": {},
   "source": [
    "# Grid Search"
   ]
  },
  {
   "cell_type": "code",
   "execution_count": 317,
   "metadata": {},
   "outputs": [],
   "source": [
    "rfr = RandomForestRegressor(n_jobs=4)\n",
    "\n",
    "parameters = {\n",
    "    \"n_estimators\":[5,10,50,100,250],\n",
    "    \"max_depth\":[2,4,8,16,32,None],\n",
    "    \"min_samples_split\":[2,4]\n",
    "}"
   ]
  },
  {
   "cell_type": "code",
   "execution_count": 323,
   "metadata": {
    "scrolled": true
   },
   "outputs": [
    {
     "name": "stdout",
     "output_type": "stream",
     "text": [
      "Fitting 5 folds for each of 60 candidates, totalling 300 fits\n",
      "[CV 1/5] END max_depth=2, min_samples_split=2, n_estimators=5;, score=0.625 total time=   1.4s\n",
      "[CV 2/5] END max_depth=2, min_samples_split=2, n_estimators=5;, score=0.628 total time=   0.1s\n",
      "[CV 3/5] END max_depth=2, min_samples_split=2, n_estimators=5;, score=0.634 total time=   0.1s\n",
      "[CV 4/5] END max_depth=2, min_samples_split=2, n_estimators=5;, score=0.639 total time=   0.1s\n",
      "[CV 5/5] END max_depth=2, min_samples_split=2, n_estimators=5;, score=0.645 total time=   0.1s\n",
      "[CV 1/5] END max_depth=2, min_samples_split=2, n_estimators=10;, score=0.625 total time=   0.2s\n",
      "[CV 2/5] END max_depth=2, min_samples_split=2, n_estimators=10;, score=0.633 total time=   0.2s\n",
      "[CV 3/5] END max_depth=2, min_samples_split=2, n_estimators=10;, score=0.631 total time=   0.2s\n",
      "[CV 4/5] END max_depth=2, min_samples_split=2, n_estimators=10;, score=0.633 total time=   0.2s\n",
      "[CV 5/5] END max_depth=2, min_samples_split=2, n_estimators=10;, score=0.646 total time=   0.2s\n",
      "[CV 1/5] END max_depth=2, min_samples_split=2, n_estimators=50;, score=0.629 total time=   0.8s\n",
      "[CV 2/5] END max_depth=2, min_samples_split=2, n_estimators=50;, score=0.630 total time=   0.7s\n",
      "[CV 3/5] END max_depth=2, min_samples_split=2, n_estimators=50;, score=0.634 total time=   0.7s\n",
      "[CV 4/5] END max_depth=2, min_samples_split=2, n_estimators=50;, score=0.635 total time=   0.7s\n",
      "[CV 5/5] END max_depth=2, min_samples_split=2, n_estimators=50;, score=0.645 total time=   0.7s\n",
      "[CV 1/5] END max_depth=2, min_samples_split=2, n_estimators=100;, score=0.631 total time=   1.3s\n",
      "[CV 2/5] END max_depth=2, min_samples_split=2, n_estimators=100;, score=0.632 total time=   1.5s\n",
      "[CV 3/5] END max_depth=2, min_samples_split=2, n_estimators=100;, score=0.634 total time=   1.6s\n",
      "[CV 4/5] END max_depth=2, min_samples_split=2, n_estimators=100;, score=0.634 total time=   2.1s\n",
      "[CV 5/5] END max_depth=2, min_samples_split=2, n_estimators=100;, score=0.647 total time=   2.6s\n",
      "[CV 1/5] END max_depth=2, min_samples_split=2, n_estimators=250;, score=0.631 total time=   4.1s\n",
      "[CV 2/5] END max_depth=2, min_samples_split=2, n_estimators=250;, score=0.632 total time=   3.3s\n",
      "[CV 3/5] END max_depth=2, min_samples_split=2, n_estimators=250;, score=0.633 total time=   3.4s\n",
      "[CV 4/5] END max_depth=2, min_samples_split=2, n_estimators=250;, score=0.635 total time=   3.4s\n",
      "[CV 5/5] END max_depth=2, min_samples_split=2, n_estimators=250;, score=0.647 total time=   3.3s\n",
      "[CV 1/5] END max_depth=2, min_samples_split=4, n_estimators=5;, score=0.621 total time=   0.1s\n",
      "[CV 2/5] END max_depth=2, min_samples_split=4, n_estimators=5;, score=0.634 total time=   0.1s\n",
      "[CV 3/5] END max_depth=2, min_samples_split=4, n_estimators=5;, score=0.624 total time=   0.1s\n",
      "[CV 4/5] END max_depth=2, min_samples_split=4, n_estimators=5;, score=0.627 total time=   0.1s\n",
      "[CV 5/5] END max_depth=2, min_samples_split=4, n_estimators=5;, score=0.639 total time=   0.1s\n",
      "[CV 1/5] END max_depth=2, min_samples_split=4, n_estimators=10;, score=0.627 total time=   0.2s\n",
      "[CV 2/5] END max_depth=2, min_samples_split=4, n_estimators=10;, score=0.631 total time=   0.2s\n",
      "[CV 3/5] END max_depth=2, min_samples_split=4, n_estimators=10;, score=0.632 total time=   0.2s\n",
      "[CV 4/5] END max_depth=2, min_samples_split=4, n_estimators=10;, score=0.629 total time=   0.2s\n",
      "[CV 5/5] END max_depth=2, min_samples_split=4, n_estimators=10;, score=0.647 total time=   0.2s\n",
      "[CV 1/5] END max_depth=2, min_samples_split=4, n_estimators=50;, score=0.632 total time=   0.7s\n",
      "[CV 2/5] END max_depth=2, min_samples_split=4, n_estimators=50;, score=0.632 total time=   0.7s\n",
      "[CV 3/5] END max_depth=2, min_samples_split=4, n_estimators=50;, score=0.633 total time=   0.7s\n",
      "[CV 4/5] END max_depth=2, min_samples_split=4, n_estimators=50;, score=0.636 total time=   0.7s\n",
      "[CV 5/5] END max_depth=2, min_samples_split=4, n_estimators=50;, score=0.648 total time=   0.7s\n",
      "[CV 1/5] END max_depth=2, min_samples_split=4, n_estimators=100;, score=0.628 total time=   1.4s\n",
      "[CV 2/5] END max_depth=2, min_samples_split=4, n_estimators=100;, score=0.633 total time=   1.5s\n",
      "[CV 3/5] END max_depth=2, min_samples_split=4, n_estimators=100;, score=0.635 total time=   1.4s\n",
      "[CV 4/5] END max_depth=2, min_samples_split=4, n_estimators=100;, score=0.635 total time=   1.4s\n",
      "[CV 5/5] END max_depth=2, min_samples_split=4, n_estimators=100;, score=0.648 total time=   1.4s\n",
      "[CV 1/5] END max_depth=2, min_samples_split=4, n_estimators=250;, score=0.629 total time=   3.4s\n",
      "[CV 2/5] END max_depth=2, min_samples_split=4, n_estimators=250;, score=0.631 total time=   3.3s\n",
      "[CV 3/5] END max_depth=2, min_samples_split=4, n_estimators=250;, score=0.635 total time=   3.5s\n",
      "[CV 4/5] END max_depth=2, min_samples_split=4, n_estimators=250;, score=0.635 total time=   3.4s\n",
      "[CV 5/5] END max_depth=2, min_samples_split=4, n_estimators=250;, score=0.649 total time=   3.5s\n",
      "[CV 1/5] END max_depth=4, min_samples_split=2, n_estimators=5;, score=0.841 total time=   0.2s\n",
      "[CV 2/5] END max_depth=4, min_samples_split=2, n_estimators=5;, score=0.835 total time=   0.2s\n",
      "[CV 3/5] END max_depth=4, min_samples_split=2, n_estimators=5;, score=0.815 total time=   0.2s\n",
      "[CV 4/5] END max_depth=4, min_samples_split=2, n_estimators=5;, score=0.852 total time=   0.2s\n",
      "[CV 5/5] END max_depth=4, min_samples_split=2, n_estimators=5;, score=0.849 total time=   0.2s\n",
      "[CV 1/5] END max_depth=4, min_samples_split=2, n_estimators=10;, score=0.847 total time=   0.3s\n",
      "[CV 2/5] END max_depth=4, min_samples_split=2, n_estimators=10;, score=0.846 total time=   0.3s\n",
      "[CV 3/5] END max_depth=4, min_samples_split=2, n_estimators=10;, score=0.819 total time=   0.3s\n",
      "[CV 4/5] END max_depth=4, min_samples_split=2, n_estimators=10;, score=0.842 total time=   0.3s\n",
      "[CV 5/5] END max_depth=4, min_samples_split=2, n_estimators=10;, score=0.852 total time=   0.3s\n",
      "[CV 1/5] END max_depth=4, min_samples_split=2, n_estimators=50;, score=0.846 total time=   1.3s\n",
      "[CV 2/5] END max_depth=4, min_samples_split=2, n_estimators=50;, score=0.847 total time=   1.3s\n",
      "[CV 3/5] END max_depth=4, min_samples_split=2, n_estimators=50;, score=0.830 total time=   1.3s\n",
      "[CV 4/5] END max_depth=4, min_samples_split=2, n_estimators=50;, score=0.848 total time=   1.3s\n",
      "[CV 5/5] END max_depth=4, min_samples_split=2, n_estimators=50;, score=0.857 total time=   1.4s\n",
      "[CV 1/5] END max_depth=4, min_samples_split=2, n_estimators=100;, score=0.846 total time=   2.6s\n",
      "[CV 2/5] END max_depth=4, min_samples_split=2, n_estimators=100;, score=0.846 total time=   2.6s\n",
      "[CV 3/5] END max_depth=4, min_samples_split=2, n_estimators=100;, score=0.834 total time=   2.5s\n",
      "[CV 4/5] END max_depth=4, min_samples_split=2, n_estimators=100;, score=0.848 total time=   2.6s\n",
      "[CV 5/5] END max_depth=4, min_samples_split=2, n_estimators=100;, score=0.859 total time=   2.6s\n",
      "[CV 1/5] END max_depth=4, min_samples_split=2, n_estimators=250;, score=0.847 total time=   6.4s\n",
      "[CV 2/5] END max_depth=4, min_samples_split=2, n_estimators=250;, score=0.848 total time=   6.3s\n",
      "[CV 3/5] END max_depth=4, min_samples_split=2, n_estimators=250;, score=0.831 total time=   6.5s\n",
      "[CV 4/5] END max_depth=4, min_samples_split=2, n_estimators=250;, score=0.848 total time=   6.3s\n",
      "[CV 5/5] END max_depth=4, min_samples_split=2, n_estimators=250;, score=0.859 total time=   6.4s\n",
      "[CV 1/5] END max_depth=4, min_samples_split=4, n_estimators=5;, score=0.843 total time=   0.2s\n",
      "[CV 2/5] END max_depth=4, min_samples_split=4, n_estimators=5;, score=0.835 total time=   0.2s\n",
      "[CV 3/5] END max_depth=4, min_samples_split=4, n_estimators=5;, score=0.832 total time=   0.2s\n",
      "[CV 4/5] END max_depth=4, min_samples_split=4, n_estimators=5;, score=0.841 total time=   0.2s\n",
      "[CV 5/5] END max_depth=4, min_samples_split=4, n_estimators=5;, score=0.852 total time=   0.2s\n",
      "[CV 1/5] END max_depth=4, min_samples_split=4, n_estimators=10;, score=0.846 total time=   0.3s\n",
      "[CV 2/5] END max_depth=4, min_samples_split=4, n_estimators=10;, score=0.841 total time=   0.3s\n",
      "[CV 3/5] END max_depth=4, min_samples_split=4, n_estimators=10;, score=0.830 total time=   0.3s\n",
      "[CV 4/5] END max_depth=4, min_samples_split=4, n_estimators=10;, score=0.844 total time=   0.3s\n",
      "[CV 5/5] END max_depth=4, min_samples_split=4, n_estimators=10;, score=0.855 total time=   0.3s\n"
     ]
    },
    {
     "name": "stdout",
     "output_type": "stream",
     "text": [
      "[CV 1/5] END max_depth=4, min_samples_split=4, n_estimators=50;, score=0.849 total time=   1.7s\n",
      "[CV 2/5] END max_depth=4, min_samples_split=4, n_estimators=50;, score=0.847 total time=   1.7s\n",
      "[CV 3/5] END max_depth=4, min_samples_split=4, n_estimators=50;, score=0.830 total time=   1.3s\n",
      "[CV 4/5] END max_depth=4, min_samples_split=4, n_estimators=50;, score=0.848 total time=   1.4s\n",
      "[CV 5/5] END max_depth=4, min_samples_split=4, n_estimators=50;, score=0.857 total time=   1.3s\n",
      "[CV 1/5] END max_depth=4, min_samples_split=4, n_estimators=100;, score=0.846 total time=   2.6s\n",
      "[CV 2/5] END max_depth=4, min_samples_split=4, n_estimators=100;, score=0.849 total time=   2.5s\n",
      "[CV 3/5] END max_depth=4, min_samples_split=4, n_estimators=100;, score=0.830 total time=   2.6s\n",
      "[CV 4/5] END max_depth=4, min_samples_split=4, n_estimators=100;, score=0.849 total time=   2.6s\n",
      "[CV 5/5] END max_depth=4, min_samples_split=4, n_estimators=100;, score=0.860 total time=   2.6s\n",
      "[CV 1/5] END max_depth=4, min_samples_split=4, n_estimators=250;, score=0.847 total time=   7.3s\n",
      "[CV 2/5] END max_depth=4, min_samples_split=4, n_estimators=250;, score=0.847 total time=   6.7s\n",
      "[CV 3/5] END max_depth=4, min_samples_split=4, n_estimators=250;, score=0.831 total time=   7.8s\n",
      "[CV 4/5] END max_depth=4, min_samples_split=4, n_estimators=250;, score=0.850 total time=   7.4s\n",
      "[CV 5/5] END max_depth=4, min_samples_split=4, n_estimators=250;, score=0.860 total time=   7.3s\n",
      "[CV 1/5] END max_depth=8, min_samples_split=2, n_estimators=5;, score=0.967 total time=   0.3s\n",
      "[CV 2/5] END max_depth=8, min_samples_split=2, n_estimators=5;, score=0.963 total time=   0.3s\n",
      "[CV 3/5] END max_depth=8, min_samples_split=2, n_estimators=5;, score=0.946 total time=   0.3s\n",
      "[CV 4/5] END max_depth=8, min_samples_split=2, n_estimators=5;, score=0.966 total time=   0.4s\n",
      "[CV 5/5] END max_depth=8, min_samples_split=2, n_estimators=5;, score=0.970 total time=   0.4s\n",
      "[CV 1/5] END max_depth=8, min_samples_split=2, n_estimators=10;, score=0.970 total time=   0.5s\n",
      "[CV 2/5] END max_depth=8, min_samples_split=2, n_estimators=10;, score=0.966 total time=   0.6s\n",
      "[CV 3/5] END max_depth=8, min_samples_split=2, n_estimators=10;, score=0.952 total time=   0.6s\n",
      "[CV 4/5] END max_depth=8, min_samples_split=2, n_estimators=10;, score=0.969 total time=   0.6s\n",
      "[CV 5/5] END max_depth=8, min_samples_split=2, n_estimators=10;, score=0.974 total time=   0.6s\n",
      "[CV 1/5] END max_depth=8, min_samples_split=2, n_estimators=50;, score=0.972 total time=   2.7s\n",
      "[CV 2/5] END max_depth=8, min_samples_split=2, n_estimators=50;, score=0.969 total time=   2.8s\n",
      "[CV 3/5] END max_depth=8, min_samples_split=2, n_estimators=50;, score=0.954 total time=   2.9s\n",
      "[CV 4/5] END max_depth=8, min_samples_split=2, n_estimators=50;, score=0.970 total time=   2.9s\n",
      "[CV 5/5] END max_depth=8, min_samples_split=2, n_estimators=50;, score=0.975 total time=   2.7s\n",
      "[CV 1/5] END max_depth=8, min_samples_split=2, n_estimators=100;, score=0.972 total time=   5.2s\n",
      "[CV 2/5] END max_depth=8, min_samples_split=2, n_estimators=100;, score=0.970 total time=   5.3s\n",
      "[CV 3/5] END max_depth=8, min_samples_split=2, n_estimators=100;, score=0.953 total time=   5.6s\n",
      "[CV 4/5] END max_depth=8, min_samples_split=2, n_estimators=100;, score=0.971 total time=   5.3s\n",
      "[CV 5/5] END max_depth=8, min_samples_split=2, n_estimators=100;, score=0.975 total time=   5.4s\n",
      "[CV 1/5] END max_depth=8, min_samples_split=2, n_estimators=250;, score=0.973 total time=  14.8s\n",
      "[CV 2/5] END max_depth=8, min_samples_split=2, n_estimators=250;, score=0.969 total time=  15.6s\n",
      "[CV 3/5] END max_depth=8, min_samples_split=2, n_estimators=250;, score=0.955 total time=  16.0s\n",
      "[CV 4/5] END max_depth=8, min_samples_split=2, n_estimators=250;, score=0.971 total time=  28.4s\n",
      "[CV 5/5] END max_depth=8, min_samples_split=2, n_estimators=250;, score=0.975 total time=  37.7s\n",
      "[CV 1/5] END max_depth=8, min_samples_split=4, n_estimators=5;, score=0.967 total time=   0.5s\n",
      "[CV 2/5] END max_depth=8, min_samples_split=4, n_estimators=5;, score=0.962 total time=   0.4s\n",
      "[CV 3/5] END max_depth=8, min_samples_split=4, n_estimators=5;, score=0.952 total time=   0.4s\n",
      "[CV 4/5] END max_depth=8, min_samples_split=4, n_estimators=5;, score=0.967 total time=   0.3s\n",
      "[CV 5/5] END max_depth=8, min_samples_split=4, n_estimators=5;, score=0.967 total time=   0.4s\n",
      "[CV 1/5] END max_depth=8, min_samples_split=4, n_estimators=10;, score=0.969 total time=   0.6s\n",
      "[CV 2/5] END max_depth=8, min_samples_split=4, n_estimators=10;, score=0.962 total time=   0.6s\n",
      "[CV 3/5] END max_depth=8, min_samples_split=4, n_estimators=10;, score=0.951 total time=   0.8s\n",
      "[CV 4/5] END max_depth=8, min_samples_split=4, n_estimators=10;, score=0.968 total time=   0.6s\n",
      "[CV 5/5] END max_depth=8, min_samples_split=4, n_estimators=10;, score=0.971 total time=   0.6s\n",
      "[CV 1/5] END max_depth=8, min_samples_split=4, n_estimators=50;, score=0.973 total time=   2.8s\n",
      "[CV 2/5] END max_depth=8, min_samples_split=4, n_estimators=50;, score=0.969 total time=   3.9s\n",
      "[CV 3/5] END max_depth=8, min_samples_split=4, n_estimators=50;, score=0.955 total time=   3.5s\n",
      "[CV 4/5] END max_depth=8, min_samples_split=4, n_estimators=50;, score=0.970 total time=   3.0s\n",
      "[CV 5/5] END max_depth=8, min_samples_split=4, n_estimators=50;, score=0.975 total time=   2.8s\n",
      "[CV 1/5] END max_depth=8, min_samples_split=4, n_estimators=100;, score=0.971 total time=   7.0s\n",
      "[CV 2/5] END max_depth=8, min_samples_split=4, n_estimators=100;, score=0.970 total time=   8.6s\n",
      "[CV 3/5] END max_depth=8, min_samples_split=4, n_estimators=100;, score=0.954 total time=   5.5s\n",
      "[CV 4/5] END max_depth=8, min_samples_split=4, n_estimators=100;, score=0.970 total time=   5.3s\n",
      "[CV 5/5] END max_depth=8, min_samples_split=4, n_estimators=100;, score=0.976 total time=   5.9s\n",
      "[CV 1/5] END max_depth=8, min_samples_split=4, n_estimators=250;, score=0.973 total time=  15.1s\n",
      "[CV 2/5] END max_depth=8, min_samples_split=4, n_estimators=250;, score=0.969 total time=  17.6s\n",
      "[CV 3/5] END max_depth=8, min_samples_split=4, n_estimators=250;, score=0.955 total time=  14.3s\n",
      "[CV 4/5] END max_depth=8, min_samples_split=4, n_estimators=250;, score=0.971 total time=  14.0s\n",
      "[CV 5/5] END max_depth=8, min_samples_split=4, n_estimators=250;, score=0.976 total time=  16.0s\n",
      "[CV 1/5] END max_depth=16, min_samples_split=2, n_estimators=5;, score=0.988 total time=   0.7s\n",
      "[CV 2/5] END max_depth=16, min_samples_split=2, n_estimators=5;, score=0.985 total time=   0.6s\n",
      "[CV 3/5] END max_depth=16, min_samples_split=2, n_estimators=5;, score=0.968 total time=   0.6s\n",
      "[CV 4/5] END max_depth=16, min_samples_split=2, n_estimators=5;, score=0.985 total time=   0.6s\n",
      "[CV 5/5] END max_depth=16, min_samples_split=2, n_estimators=5;, score=0.990 total time=   0.6s\n",
      "[CV 1/5] END max_depth=16, min_samples_split=2, n_estimators=10;, score=0.989 total time=   1.0s\n",
      "[CV 2/5] END max_depth=16, min_samples_split=2, n_estimators=10;, score=0.986 total time=   1.0s\n",
      "[CV 3/5] END max_depth=16, min_samples_split=2, n_estimators=10;, score=0.971 total time=   1.0s\n",
      "[CV 4/5] END max_depth=16, min_samples_split=2, n_estimators=10;, score=0.987 total time=   1.0s\n",
      "[CV 5/5] END max_depth=16, min_samples_split=2, n_estimators=10;, score=0.992 total time=   1.0s\n",
      "[CV 1/5] END max_depth=16, min_samples_split=2, n_estimators=50;, score=0.992 total time=   5.0s\n",
      "[CV 2/5] END max_depth=16, min_samples_split=2, n_estimators=50;, score=0.987 total time=   5.1s\n",
      "[CV 3/5] END max_depth=16, min_samples_split=2, n_estimators=50;, score=0.973 total time=   5.2s\n",
      "[CV 4/5] END max_depth=16, min_samples_split=2, n_estimators=50;, score=0.988 total time=   4.8s\n",
      "[CV 5/5] END max_depth=16, min_samples_split=2, n_estimators=50;, score=0.993 total time=   5.0s\n",
      "[CV 1/5] END max_depth=16, min_samples_split=2, n_estimators=100;, score=0.992 total time=  10.3s\n",
      "[CV 2/5] END max_depth=16, min_samples_split=2, n_estimators=100;, score=0.988 total time=  10.1s\n",
      "[CV 3/5] END max_depth=16, min_samples_split=2, n_estimators=100;, score=0.974 total time=  10.6s\n",
      "[CV 4/5] END max_depth=16, min_samples_split=2, n_estimators=100;, score=0.989 total time=  10.3s\n",
      "[CV 5/5] END max_depth=16, min_samples_split=2, n_estimators=100;, score=0.994 total time=  11.2s\n"
     ]
    },
    {
     "name": "stdout",
     "output_type": "stream",
     "text": [
      "[CV 1/5] END max_depth=16, min_samples_split=2, n_estimators=250;, score=0.992 total time=  31.1s\n",
      "[CV 2/5] END max_depth=16, min_samples_split=2, n_estimators=250;, score=0.988 total time=  31.4s\n",
      "[CV 3/5] END max_depth=16, min_samples_split=2, n_estimators=250;, score=0.974 total time=  28.5s\n",
      "[CV 4/5] END max_depth=16, min_samples_split=2, n_estimators=250;, score=0.989 total time=  26.8s\n",
      "[CV 5/5] END max_depth=16, min_samples_split=2, n_estimators=250;, score=0.994 total time=  24.1s\n",
      "[CV 1/5] END max_depth=16, min_samples_split=4, n_estimators=5;, score=0.986 total time=   0.6s\n",
      "[CV 2/5] END max_depth=16, min_samples_split=4, n_estimators=5;, score=0.983 total time=   0.6s\n",
      "[CV 3/5] END max_depth=16, min_samples_split=4, n_estimators=5;, score=0.971 total time=   0.6s\n",
      "[CV 4/5] END max_depth=16, min_samples_split=4, n_estimators=5;, score=0.984 total time=   0.6s\n",
      "[CV 5/5] END max_depth=16, min_samples_split=4, n_estimators=5;, score=0.989 total time=   0.6s\n",
      "[CV 1/5] END max_depth=16, min_samples_split=4, n_estimators=10;, score=0.990 total time=   1.0s\n",
      "[CV 2/5] END max_depth=16, min_samples_split=4, n_estimators=10;, score=0.985 total time=   1.0s\n",
      "[CV 3/5] END max_depth=16, min_samples_split=4, n_estimators=10;, score=0.972 total time=   1.0s\n",
      "[CV 4/5] END max_depth=16, min_samples_split=4, n_estimators=10;, score=0.987 total time=   1.0s\n",
      "[CV 5/5] END max_depth=16, min_samples_split=4, n_estimators=10;, score=0.991 total time=   1.0s\n",
      "[CV 1/5] END max_depth=16, min_samples_split=4, n_estimators=50;, score=0.991 total time=   5.0s\n",
      "[CV 2/5] END max_depth=16, min_samples_split=4, n_estimators=50;, score=0.988 total time=   8.8s\n",
      "[CV 3/5] END max_depth=16, min_samples_split=4, n_estimators=50;, score=0.974 total time=   6.8s\n",
      "[CV 4/5] END max_depth=16, min_samples_split=4, n_estimators=50;, score=0.988 total time=   5.8s\n",
      "[CV 5/5] END max_depth=16, min_samples_split=4, n_estimators=50;, score=0.993 total time=   5.1s\n",
      "[CV 1/5] END max_depth=16, min_samples_split=4, n_estimators=100;, score=0.992 total time=  10.1s\n",
      "[CV 2/5] END max_depth=16, min_samples_split=4, n_estimators=100;, score=0.988 total time=  10.7s\n",
      "[CV 3/5] END max_depth=16, min_samples_split=4, n_estimators=100;, score=0.973 total time=  10.9s\n",
      "[CV 4/5] END max_depth=16, min_samples_split=4, n_estimators=100;, score=0.988 total time=  11.4s\n",
      "[CV 5/5] END max_depth=16, min_samples_split=4, n_estimators=100;, score=0.993 total time=   9.9s\n",
      "[CV 1/5] END max_depth=16, min_samples_split=4, n_estimators=250;, score=0.992 total time=  31.2s\n",
      "[CV 2/5] END max_depth=16, min_samples_split=4, n_estimators=250;, score=0.988 total time=  30.5s\n",
      "[CV 3/5] END max_depth=16, min_samples_split=4, n_estimators=250;, score=0.974 total time=  24.9s\n",
      "[CV 4/5] END max_depth=16, min_samples_split=4, n_estimators=250;, score=0.989 total time=  28.7s\n",
      "[CV 5/5] END max_depth=16, min_samples_split=4, n_estimators=250;, score=0.994 total time=  32.8s\n",
      "[CV 1/5] END max_depth=32, min_samples_split=2, n_estimators=5;, score=0.987 total time=   0.8s\n",
      "[CV 2/5] END max_depth=32, min_samples_split=2, n_estimators=5;, score=0.985 total time=   0.8s\n",
      "[CV 3/5] END max_depth=32, min_samples_split=2, n_estimators=5;, score=0.969 total time=   0.8s\n",
      "[CV 4/5] END max_depth=32, min_samples_split=2, n_estimators=5;, score=0.986 total time=   0.8s\n",
      "[CV 5/5] END max_depth=32, min_samples_split=2, n_estimators=5;, score=0.988 total time=   0.8s\n",
      "[CV 1/5] END max_depth=32, min_samples_split=2, n_estimators=10;, score=0.990 total time=   1.3s\n",
      "[CV 2/5] END max_depth=32, min_samples_split=2, n_estimators=10;, score=0.985 total time=   1.7s\n",
      "[CV 3/5] END max_depth=32, min_samples_split=2, n_estimators=10;, score=0.973 total time=   1.6s\n",
      "[CV 4/5] END max_depth=32, min_samples_split=2, n_estimators=10;, score=0.987 total time=   1.5s\n",
      "[CV 5/5] END max_depth=32, min_samples_split=2, n_estimators=10;, score=0.992 total time=   1.6s\n",
      "[CV 1/5] END max_depth=32, min_samples_split=2, n_estimators=50;, score=0.992 total time=   7.1s\n",
      "[CV 2/5] END max_depth=32, min_samples_split=2, n_estimators=50;, score=0.988 total time=   7.0s\n",
      "[CV 3/5] END max_depth=32, min_samples_split=2, n_estimators=50;, score=0.972 total time=   6.6s\n",
      "[CV 4/5] END max_depth=32, min_samples_split=2, n_estimators=50;, score=0.988 total time=   8.4s\n",
      "[CV 5/5] END max_depth=32, min_samples_split=2, n_estimators=50;, score=0.993 total time=   8.0s\n",
      "[CV 1/5] END max_depth=32, min_samples_split=2, n_estimators=100;, score=0.992 total time=  13.7s\n",
      "[CV 2/5] END max_depth=32, min_samples_split=2, n_estimators=100;, score=0.988 total time=  12.7s\n",
      "[CV 3/5] END max_depth=32, min_samples_split=2, n_estimators=100;, score=0.973 total time=  12.3s\n",
      "[CV 4/5] END max_depth=32, min_samples_split=2, n_estimators=100;, score=0.989 total time=  12.0s\n",
      "[CV 5/5] END max_depth=32, min_samples_split=2, n_estimators=100;, score=0.994 total time=  11.9s\n",
      "[CV 1/5] END max_depth=32, min_samples_split=2, n_estimators=250;, score=0.992 total time=  38.1s\n",
      "[CV 2/5] END max_depth=32, min_samples_split=2, n_estimators=250;, score=0.988 total time=  28.6s\n",
      "[CV 3/5] END max_depth=32, min_samples_split=2, n_estimators=250;, score=0.974 total time=  27.4s\n",
      "[CV 4/5] END max_depth=32, min_samples_split=2, n_estimators=250;, score=0.989 total time=  27.3s\n",
      "[CV 5/5] END max_depth=32, min_samples_split=2, n_estimators=250;, score=0.994 total time=  30.7s\n",
      "[CV 1/5] END max_depth=32, min_samples_split=4, n_estimators=5;, score=0.987 total time=   0.6s\n",
      "[CV 2/5] END max_depth=32, min_samples_split=4, n_estimators=5;, score=0.985 total time=   0.7s\n",
      "[CV 3/5] END max_depth=32, min_samples_split=4, n_estimators=5;, score=0.969 total time=   0.6s\n",
      "[CV 4/5] END max_depth=32, min_samples_split=4, n_estimators=5;, score=0.983 total time=   0.6s\n",
      "[CV 5/5] END max_depth=32, min_samples_split=4, n_estimators=5;, score=0.989 total time=   0.6s\n",
      "[CV 1/5] END max_depth=32, min_samples_split=4, n_estimators=10;, score=0.990 total time=   1.0s\n",
      "[CV 2/5] END max_depth=32, min_samples_split=4, n_estimators=10;, score=0.987 total time=   1.0s\n",
      "[CV 3/5] END max_depth=32, min_samples_split=4, n_estimators=10;, score=0.972 total time=   1.0s\n",
      "[CV 4/5] END max_depth=32, min_samples_split=4, n_estimators=10;, score=0.987 total time=   1.0s\n",
      "[CV 5/5] END max_depth=32, min_samples_split=4, n_estimators=10;, score=0.991 total time=   1.2s\n",
      "[CV 1/5] END max_depth=32, min_samples_split=4, n_estimators=50;, score=0.991 total time=   5.5s\n",
      "[CV 2/5] END max_depth=32, min_samples_split=4, n_estimators=50;, score=0.988 total time=   6.2s\n",
      "[CV 3/5] END max_depth=32, min_samples_split=4, n_estimators=50;, score=0.973 total time=   4.9s\n",
      "[CV 4/5] END max_depth=32, min_samples_split=4, n_estimators=50;, score=0.987 total time=   4.9s\n",
      "[CV 5/5] END max_depth=32, min_samples_split=4, n_estimators=50;, score=0.993 total time=   5.1s\n",
      "[CV 1/5] END max_depth=32, min_samples_split=4, n_estimators=100;, score=0.992 total time=   9.7s\n",
      "[CV 2/5] END max_depth=32, min_samples_split=4, n_estimators=100;, score=0.988 total time=   9.8s\n",
      "[CV 3/5] END max_depth=32, min_samples_split=4, n_estimators=100;, score=0.973 total time=   9.8s\n",
      "[CV 4/5] END max_depth=32, min_samples_split=4, n_estimators=100;, score=0.988 total time=   9.7s\n",
      "[CV 5/5] END max_depth=32, min_samples_split=4, n_estimators=100;, score=0.994 total time=  10.3s\n",
      "[CV 1/5] END max_depth=32, min_samples_split=4, n_estimators=250;, score=0.992 total time=  27.1s\n",
      "[CV 2/5] END max_depth=32, min_samples_split=4, n_estimators=250;, score=0.988 total time=  25.7s\n",
      "[CV 3/5] END max_depth=32, min_samples_split=4, n_estimators=250;, score=0.974 total time=  28.4s\n",
      "[CV 4/5] END max_depth=32, min_samples_split=4, n_estimators=250;, score=0.989 total time=  28.1s\n",
      "[CV 5/5] END max_depth=32, min_samples_split=4, n_estimators=250;, score=0.994 total time=  26.2s\n",
      "[CV 1/5] END max_depth=None, min_samples_split=2, n_estimators=5;, score=0.988 total time=   0.6s\n",
      "[CV 2/5] END max_depth=None, min_samples_split=2, n_estimators=5;, score=0.984 total time=   0.6s\n",
      "[CV 3/5] END max_depth=None, min_samples_split=2, n_estimators=5;, score=0.970 total time=   0.6s\n",
      "[CV 4/5] END max_depth=None, min_samples_split=2, n_estimators=5;, score=0.986 total time=   0.6s\n",
      "[CV 5/5] END max_depth=None, min_samples_split=2, n_estimators=5;, score=0.990 total time=   0.6s\n"
     ]
    },
    {
     "name": "stdout",
     "output_type": "stream",
     "text": [
      "[CV 1/5] END max_depth=None, min_samples_split=2, n_estimators=10;, score=0.989 total time=   1.0s\n",
      "[CV 2/5] END max_depth=None, min_samples_split=2, n_estimators=10;, score=0.987 total time=   1.0s\n",
      "[CV 3/5] END max_depth=None, min_samples_split=2, n_estimators=10;, score=0.972 total time=   1.1s\n",
      "[CV 4/5] END max_depth=None, min_samples_split=2, n_estimators=10;, score=0.988 total time=   1.1s\n",
      "[CV 5/5] END max_depth=None, min_samples_split=2, n_estimators=10;, score=0.992 total time=   1.1s\n",
      "[CV 1/5] END max_depth=None, min_samples_split=2, n_estimators=50;, score=0.991 total time=   5.6s\n",
      "[CV 2/5] END max_depth=None, min_samples_split=2, n_estimators=50;, score=0.987 total time=   5.4s\n",
      "[CV 3/5] END max_depth=None, min_samples_split=2, n_estimators=50;, score=0.973 total time=   5.1s\n",
      "[CV 4/5] END max_depth=None, min_samples_split=2, n_estimators=50;, score=0.988 total time=   5.3s\n",
      "[CV 5/5] END max_depth=None, min_samples_split=2, n_estimators=50;, score=0.994 total time=   6.0s\n",
      "[CV 1/5] END max_depth=None, min_samples_split=2, n_estimators=100;, score=0.992 total time=  10.8s\n",
      "[CV 2/5] END max_depth=None, min_samples_split=2, n_estimators=100;, score=0.988 total time=  10.3s\n",
      "[CV 3/5] END max_depth=None, min_samples_split=2, n_estimators=100;, score=0.974 total time=  11.1s\n",
      "[CV 4/5] END max_depth=None, min_samples_split=2, n_estimators=100;, score=0.989 total time=  11.6s\n",
      "[CV 5/5] END max_depth=None, min_samples_split=2, n_estimators=100;, score=0.994 total time=  11.4s\n",
      "[CV 1/5] END max_depth=None, min_samples_split=2, n_estimators=250;, score=0.992 total time=  32.8s\n",
      "[CV 2/5] END max_depth=None, min_samples_split=2, n_estimators=250;, score=0.989 total time=  28.6s\n",
      "[CV 3/5] END max_depth=None, min_samples_split=2, n_estimators=250;, score=0.974 total time=  31.6s\n",
      "[CV 4/5] END max_depth=None, min_samples_split=2, n_estimators=250;, score=0.989 total time=  26.0s\n",
      "[CV 5/5] END max_depth=None, min_samples_split=2, n_estimators=250;, score=0.994 total time=  27.3s\n",
      "[CV 1/5] END max_depth=None, min_samples_split=4, n_estimators=5;, score=0.987 total time=   0.7s\n",
      "[CV 2/5] END max_depth=None, min_samples_split=4, n_estimators=5;, score=0.982 total time=   0.7s\n",
      "[CV 3/5] END max_depth=None, min_samples_split=4, n_estimators=5;, score=0.968 total time=   0.7s\n",
      "[CV 4/5] END max_depth=None, min_samples_split=4, n_estimators=5;, score=0.984 total time=   0.6s\n",
      "[CV 5/5] END max_depth=None, min_samples_split=4, n_estimators=5;, score=0.989 total time=   0.7s\n",
      "[CV 1/5] END max_depth=None, min_samples_split=4, n_estimators=10;, score=0.990 total time=   1.0s\n",
      "[CV 2/5] END max_depth=None, min_samples_split=4, n_estimators=10;, score=0.985 total time=   1.1s\n",
      "[CV 3/5] END max_depth=None, min_samples_split=4, n_estimators=10;, score=0.970 total time=   1.0s\n",
      "[CV 4/5] END max_depth=None, min_samples_split=4, n_estimators=10;, score=0.988 total time=   1.1s\n",
      "[CV 5/5] END max_depth=None, min_samples_split=4, n_estimators=10;, score=0.991 total time=   1.1s\n",
      "[CV 1/5] END max_depth=None, min_samples_split=4, n_estimators=50;, score=0.991 total time=   5.0s\n",
      "[CV 2/5] END max_depth=None, min_samples_split=4, n_estimators=50;, score=0.987 total time=   5.4s\n",
      "[CV 3/5] END max_depth=None, min_samples_split=4, n_estimators=50;, score=0.974 total time=   5.1s\n",
      "[CV 4/5] END max_depth=None, min_samples_split=4, n_estimators=50;, score=0.989 total time=   5.4s\n",
      "[CV 5/5] END max_depth=None, min_samples_split=4, n_estimators=50;, score=0.993 total time=   5.5s\n",
      "[CV 1/5] END max_depth=None, min_samples_split=4, n_estimators=100;, score=0.992 total time=   9.9s\n",
      "[CV 2/5] END max_depth=None, min_samples_split=4, n_estimators=100;, score=0.988 total time=  14.3s\n",
      "[CV 3/5] END max_depth=None, min_samples_split=4, n_estimators=100;, score=0.974 total time=  11.1s\n",
      "[CV 4/5] END max_depth=None, min_samples_split=4, n_estimators=100;, score=0.989 total time=  11.2s\n",
      "[CV 5/5] END max_depth=None, min_samples_split=4, n_estimators=100;, score=0.994 total time=  10.3s\n",
      "[CV 1/5] END max_depth=None, min_samples_split=4, n_estimators=250;, score=0.992 total time=  24.7s\n",
      "[CV 2/5] END max_depth=None, min_samples_split=4, n_estimators=250;, score=0.988 total time=  24.3s\n",
      "[CV 3/5] END max_depth=None, min_samples_split=4, n_estimators=250;, score=0.974 total time=  25.0s\n",
      "[CV 4/5] END max_depth=None, min_samples_split=4, n_estimators=250;, score=0.989 total time=  25.8s\n",
      "[CV 5/5] END max_depth=None, min_samples_split=4, n_estimators=250;, score=0.994 total time=  25.9s\n"
     ]
    },
    {
     "data": {
      "text/plain": [
       "GridSearchCV(cv=5, estimator=RandomForestRegressor(n_jobs=4),\n",
       "             param_grid={'max_depth': [2, 4, 8, 16, 32, None],\n",
       "                         'min_samples_split': [2, 4],\n",
       "                         'n_estimators': [5, 10, 50, 100, 250]},\n",
       "             verbose=3)"
      ]
     },
     "execution_count": 323,
     "metadata": {},
     "output_type": "execute_result"
    }
   ],
   "source": [
    "cv = GridSearchCV(rfr,parameters, cv=5, verbose=3)\n",
    "cv.fit(X, y)"
   ]
  },
  {
   "cell_type": "code",
   "execution_count": 324,
   "metadata": {},
   "outputs": [
    {
     "data": {
      "text/plain": [
       "{'max_depth': None, 'min_samples_split': 2, 'n_estimators': 250}"
      ]
     },
     "execution_count": 324,
     "metadata": {},
     "output_type": "execute_result"
    }
   ],
   "source": [
    "cv.best_params_"
   ]
  },
  {
   "cell_type": "code",
   "execution_count": 325,
   "metadata": {},
   "outputs": [
    {
     "data": {
      "text/plain": [
       "0.9875289978603783"
      ]
     },
     "execution_count": 325,
     "metadata": {},
     "output_type": "execute_result"
    }
   ],
   "source": [
    "cv.best_score_"
   ]
  },
  {
   "cell_type": "code",
   "execution_count": 335,
   "metadata": {},
   "outputs": [
    {
     "name": "stdout",
     "output_type": "stream",
     "text": [
      "0.0005991085039093547 0.1349575019240818\n",
      "17\n"
     ]
    },
    {
     "data": {
      "image/png": "[encoded data removed]",
      "text/plain": [
       "<Figure size 800x600 with 1 Axes>"
      ]
     },
     "metadata": {},
     "output_type": "display_data"
    }
   ],
   "source": [
    "preds = cv.best_estimator_.predict(X)\n",
    "delta = np.abs(preds - y)\n",
    "print(np.mean(delta), np.max(delta))\n",
    "print(len([x for x in delta if x > 0.05]))\n",
    "\n",
    "plt.hist(delta, bins=100, color=\"dodgerblue\", edgecolor='k')\n",
    "plt.show()"
   ]
  },
  {
   "cell_type": "code",
   "execution_count": null,
   "metadata": {},
   "outputs": [],
   "source": []
  },
  {
   "cell_type": "code",
   "execution_count": null,
   "metadata": {},
   "outputs": [],
   "source": []
  },
  {
   "cell_type": "code",
   "execution_count": null,
   "metadata": {},
   "outputs": [],
   "source": []
  },
  {
   "cell_type": "code",
   "execution_count": null,
   "metadata": {},
   "outputs": [],
   "source": []
  },
  {
   "cell_type": "code",
   "execution_count": 392,
   "metadata": {},
   "outputs": [
    {
     "data": {
      "text/plain": [
       "['wealth', 'return', 'a', 'gamma']"
      ]
     },
     "execution_count": 392,
     "metadata": {},
     "output_type": "execute_result"
    }
   ],
   "source": [
    "[\"wealth\", \"return\", \"a\", \"gamma\"]"
   ]
  },
  {
   "cell_type": "code",
   "execution_count": 380,
   "metadata": {},
   "outputs": [
    {
     "name": "stdout",
     "output_type": "stream",
     "text": [
      "Actual    : 0.54892\n",
      "Predicted : 0.74808\n"
     ]
    }
   ],
   "source": [
    "x = (0.1, 20, 0.1, 1.9)\n",
    "\n",
    "print(f\"Actual    : {minimize(utility, x0=0.5, bounds=[(0.05, 0.95)], args=(x)).x[0]:.5f}\")\n",
    "print(f\"Predicted : {cv.best_estimator_.predict(np.array(x).reshape(1,4))[0]:.5f}\")"
   ]
  },
  {
   "cell_type": "code",
   "execution_count": null,
   "metadata": {},
   "outputs": [],
   "source": []
  },
  {
   "cell_type": "code",
   "execution_count": 391,
   "metadata": {},
   "outputs": [
    {
     "name": "stdout",
     "output_type": "stream",
     "text": [
      "Actual    : 0.54892\n",
      "Predicted : 0.71897\n"
     ]
    },
    {
     "name": "stderr",
     "output_type": "stream",
     "text": [
      "[Parallel(n_jobs=2)]: Using backend ThreadingBackend with 2 concurrent workers.\n",
      "[Parallel(n_jobs=2)]: Done  46 tasks      | elapsed:    0.0s\n",
      "[Parallel(n_jobs=2)]: Done 196 tasks      | elapsed:    0.1s\n",
      "[Parallel(n_jobs=2)]: Done 250 out of 250 | elapsed:    0.1s finished\n"
     ]
    }
   ],
   "source": [
    "x = (0.1, 20, 0.1, 1.9)\n",
    "\n",
    "print(f\"Actual    : {minimize(utility, x0=0.5, bounds=[(0.05, 0.95)], args=(x)).x[0]:.5f}\")\n",
    "print(f\"Predicted : {rfr.predict(np.array(x).reshape(1,4))[0]:.5f}\")"
   ]
  },
  {
   "cell_type": "code",
   "execution_count": null,
   "metadata": {},
   "outputs": [],
   "source": []
  },
  {
   "cell_type": "code",
   "execution_count": null,
   "metadata": {},
   "outputs": [],
   "source": []
  }
 ],
 "metadata": {
  "kernelspec": {
   "display_name": "Python 3",
   "language": "python",
   "name": "python3"
  },
  "language_info": {
   "codemirror_mode": {
    "name": "ipython",
    "version": 3
   },
   "file_extension": ".py",
   "mimetype": "text/x-python",
   "name": "python",
   "nbconvert_exporter": "python",
   "pygments_lexer": "ipython3",
   "version": "3.8.6"
  }
 },
 "nbformat": 4,
 "nbformat_minor": 4
}
